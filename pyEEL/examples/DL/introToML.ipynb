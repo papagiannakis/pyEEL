{
 "cells": [
  {
   "cell_type": "markdown",
   "metadata": {},
   "source": [
    "# This is an introductory ML Jupyter *notebook*\n"
   ]
  },
  {
   "cell_type": "markdown",
   "metadata": {},
   "source": [
    "## Copyright 2021-2022 Dr. George Papagiannakis, papagian@csd.uoc.gr\n",
    "### All Rights Reserved\n",
    "\n",
    "### University of Crete & Foundation for Research & Technology - Hellas (FORTH)\n"
   ]
  },
  {
   "cell_type": "code",
   "execution_count": 1,
   "metadata": {},
   "outputs": [],
   "source": [
    "import pandas as pd\n",
    "import numpy as np\n",
    "import matplotlib.pyplot as plt\n",
    "import seaborn as sns\n",
    "%matplotlib inline"
   ]
  },
  {
   "cell_type": "code",
   "execution_count": 2,
   "metadata": {},
   "outputs": [
    {
     "data": {
      "image/png": "[encoded data removed]",
      "text/plain": [
       "<Figure size 432x288 with 1 Axes>"
      ]
     },
     "metadata": {
      "needs_background": "dark"
     },
     "output_type": "display_data"
    }
   ],
   "source": [
    "\n",
    "N = 50\n",
    "x = np.random.rand(N)\n",
    "y = np.random.rand(N)\n",
    "\n",
    "colors = np.random.rand(N)\n",
    "area = np.pi * (15 * np.random.rand(N)) **2  # 0 to 15 points radiuses\n",
    "\n",
    "plt.scatter(x ,y, area, colors, alpha=0.5)\n",
    "plt.show()"
   ]
  },
  {
   "cell_type": "code",
   "execution_count": 3,
   "metadata": {},
   "outputs": [],
   "source": [
    "import numpy as np"
   ]
  },
  {
   "cell_type": "code",
   "execution_count": 4,
   "metadata": {
    "tags": []
   },
   "outputs": [
    {
     "name": "stdout",
     "output_type": "stream",
     "text": [
      "[[1. 0. 0. 0.]\n",
      " [0. 1. 0. 0.]\n",
      " [0. 0. 1. 0.]\n",
      " [0. 0. 0. 1.]]\n",
      "[[1.]\n",
      " [0.]\n",
      " [0.]]\n"
     ]
    }
   ],
   "source": [
    "arr = np.eye(4)\n",
    "print(arr)\n",
    "a = np.array([[1.0],[0.0],[0.0]])\n",
    "print(a)"
   ]
  },
  {
   "cell_type": "code",
   "execution_count": 5,
   "metadata": {},
   "outputs": [
    {
     "data": {
      "text/plain": [
       "(3, 1)"
      ]
     },
     "execution_count": 5,
     "metadata": {},
     "output_type": "execute_result"
    }
   ],
   "source": [
    "\n",
    "a.shape"
   ]
  },
  {
   "cell_type": "code",
   "execution_count": 6,
   "metadata": {},
   "outputs": [],
   "source": [
    "vec = np.arange(3,7,1)"
   ]
  },
  {
   "cell_type": "code",
   "execution_count": 7,
   "metadata": {},
   "outputs": [
    {
     "data": {
      "text/plain": [
       "array([3, 4, 5, 6])"
      ]
     },
     "execution_count": 7,
     "metadata": {},
     "output_type": "execute_result"
    }
   ],
   "source": [
    "vec"
   ]
  },
  {
   "cell_type": "code",
   "execution_count": 8,
   "metadata": {},
   "outputs": [],
   "source": [
    "newArr= vec * arr"
   ]
  },
  {
   "cell_type": "code",
   "execution_count": 9,
   "metadata": {},
   "outputs": [
    {
     "data": {
      "text/plain": [
       "array([[3., 0., 0., 0.],\n",
       "       [0., 4., 0., 0.],\n",
       "       [0., 0., 5., 0.],\n",
       "       [0., 0., 0., 6.]])"
      ]
     },
     "execution_count": 9,
     "metadata": {},
     "output_type": "execute_result"
    }
   ],
   "source": [
    "newArr"
   ]
  },
  {
   "cell_type": "code",
   "execution_count": 10,
   "metadata": {},
   "outputs": [
    {
     "data": {
      "text/plain": [
       "array([[3],\n",
       "       [4],\n",
       "       [5],\n",
       "       [6]])"
      ]
     },
     "execution_count": 10,
     "metadata": {},
     "output_type": "execute_result"
    }
   ],
   "source": [
    "np.reshape(vec,(4,1))"
   ]
  },
  {
   "cell_type": "code",
   "execution_count": 11,
   "metadata": {},
   "outputs": [],
   "source": [
    "newArr= arr * vec"
   ]
  },
  {
   "cell_type": "code",
   "execution_count": 12,
   "metadata": {},
   "outputs": [
    {
     "data": {
      "text/plain": [
       "array([[3., 0., 0., 0.],\n",
       "       [0., 4., 0., 0.],\n",
       "       [0., 0., 5., 0.],\n",
       "       [0., 0., 0., 6.]])"
      ]
     },
     "execution_count": 12,
     "metadata": {},
     "output_type": "execute_result"
    }
   ],
   "source": [
    "newArr"
   ]
  },
  {
   "cell_type": "code",
   "execution_count": 13,
   "metadata": {},
   "outputs": [
    {
     "data": {
      "text/plain": [
       "array([[3., 0., 0., 0.],\n",
       "       [0., 4., 0., 0.],\n",
       "       [0., 0., 5., 0.],\n",
       "       [0., 0., 0., 6.]])"
      ]
     },
     "execution_count": 13,
     "metadata": {},
     "output_type": "execute_result"
    }
   ],
   "source": [
    "newArr=  vec * arr\n",
    "newArr"
   ]
  },
  {
   "cell_type": "code",
   "execution_count": 14,
   "metadata": {},
   "outputs": [],
   "source": [
    "import pandas as pd"
   ]
  },
  {
   "cell_type": "code",
   "execution_count": 15,
   "metadata": {},
   "outputs": [
    {
     "data": {
      "text/plain": [
       "array([0, 1, 2, 3, 4, 5, 6, 7, 8, 9])"
      ]
     },
     "execution_count": 15,
     "metadata": {},
     "output_type": "execute_result"
    }
   ],
   "source": [
    "np.arange(10)"
   ]
  },
  {
   "cell_type": "code",
   "execution_count": 16,
   "metadata": {},
   "outputs": [],
   "source": [
    "labels=['a','b','c']\n",
    "my_list=[10,20,30]\n",
    "arr=np.array(my_list)\n",
    "d={'a':10,'b':20,'c':30}"
   ]
  },
  {
   "cell_type": "code",
   "execution_count": 17,
   "metadata": {},
   "outputs": [
    {
     "data": {
      "text/plain": [
       "{'a': 10, 'b': 20, 'c': 30}"
      ]
     },
     "execution_count": 17,
     "metadata": {},
     "output_type": "execute_result"
    }
   ],
   "source": [
    "d"
   ]
  },
  {
   "cell_type": "code",
   "execution_count": 18,
   "metadata": {},
   "outputs": [
    {
     "data": {
      "text/plain": [
       "a    10\n",
       "b    20\n",
       "c    30\n",
       "dtype: int64"
      ]
     },
     "execution_count": 18,
     "metadata": {},
     "output_type": "execute_result"
    }
   ],
   "source": [
    "pd.Series(my_list,labels)"
   ]
  },
  {
   "cell_type": "code",
   "execution_count": 19,
   "metadata": {},
   "outputs": [],
   "source": [
    "ser1 = pd.Series([1,2,3,4],['Greece','USA','Germany','Japan'])"
   ]
  },
  {
   "cell_type": "code",
   "execution_count": 20,
   "metadata": {},
   "outputs": [
    {
     "data": {
      "text/plain": [
       "Greece     1\n",
       "USA        2\n",
       "Germany    3\n",
       "Japan      4\n",
       "dtype: int64"
      ]
     },
     "execution_count": 20,
     "metadata": {},
     "output_type": "execute_result"
    }
   ],
   "source": [
    "ser1"
   ]
  },
  {
   "cell_type": "code",
   "execution_count": 21,
   "metadata": {},
   "outputs": [],
   "source": [
    "from numpy.random import randn\n",
    "np.random.seed(101)"
   ]
  },
  {
   "cell_type": "code",
   "execution_count": 22,
   "metadata": {},
   "outputs": [],
   "source": [
    "df = pd.DataFrame(randn(5,4),index='A B C D E'.split(),columns='W X Y Z'.split())"
   ]
  },
  {
   "cell_type": "code",
   "execution_count": 23,
   "metadata": {},
   "outputs": [
    {
     "data": {
      "text/html": [
       "<div>\n",
       "<style scoped>\n",
       "    .dataframe tbody tr th:only-of-type {\n",
       "        vertical-align: middle;\n",
       "    }\n",
       "\n",
       "    .dataframe tbody tr th {\n",
       "        vertical-align: top;\n",
       "    }\n",
       "\n",
       "    .dataframe thead th {\n",
       "        text-align: right;\n",
       "    }\n",
       "</style>\n",
       "<table border=\"1\" class=\"dataframe\">\n",
       "  <thead>\n",
       "    <tr style=\"text-align: right;\">\n",
       "      <th></th>\n",
       "      <th>W</th>\n",
       "      <th>X</th>\n",
       "      <th>Y</th>\n",
       "      <th>Z</th>\n",
       "    </tr>\n",
       "  </thead>\n",
       "  <tbody>\n",
       "    <tr>\n",
       "      <th>A</th>\n",
       "      <td>2.706850</td>\n",
       "      <td>0.628133</td>\n",
       "      <td>0.907969</td>\n",
       "      <td>0.503826</td>\n",
       "    </tr>\n",
       "    <tr>\n",
       "      <th>B</th>\n",
       "      <td>0.651118</td>\n",
       "      <td>-0.319318</td>\n",
       "      <td>-0.848077</td>\n",
       "      <td>0.605965</td>\n",
       "    </tr>\n",
       "    <tr>\n",
       "      <th>C</th>\n",
       "      <td>-2.018168</td>\n",
       "      <td>0.740122</td>\n",
       "      <td>0.528813</td>\n",
       "      <td>-0.589001</td>\n",
       "    </tr>\n",
       "    <tr>\n",
       "      <th>D</th>\n",
       "      <td>0.188695</td>\n",
       "      <td>-0.758872</td>\n",
       "      <td>-0.933237</td>\n",
       "      <td>0.955057</td>\n",
       "    </tr>\n",
       "    <tr>\n",
       "      <th>E</th>\n",
       "      <td>0.190794</td>\n",
       "      <td>1.978757</td>\n",
       "      <td>2.605967</td>\n",
       "      <td>0.683509</td>\n",
       "    </tr>\n",
       "  </tbody>\n",
       "</table>\n",
       "</div>"
      ],
      "text/plain": [
       "          W         X         Y         Z\n",
       "A  2.706850  0.628133  0.907969  0.503826\n",
       "B  0.651118 -0.319318 -0.848077  0.605965\n",
       "C -2.018168  0.740122  0.528813 -0.589001\n",
       "D  0.188695 -0.758872 -0.933237  0.955057\n",
       "E  0.190794  1.978757  2.605967  0.683509"
      ]
     },
     "execution_count": 23,
     "metadata": {},
     "output_type": "execute_result"
    }
   ],
   "source": [
    "df"
   ]
  },
  {
   "cell_type": "code",
   "execution_count": 24,
   "metadata": {},
   "outputs": [],
   "source": [
    "table = df[['W','Y']]\n",
    "%matplotlib inline"
   ]
  },
  {
   "cell_type": "code",
   "execution_count": 25,
   "metadata": {},
   "outputs": [
    {
     "data": {
      "text/plain": [
       "array([[<AxesSubplot:title={'center':'W'}>,\n",
       "        <AxesSubplot:title={'center':'Y'}>]], dtype=object)"
      ]
     },
     "execution_count": 25,
     "metadata": {},
     "output_type": "execute_result"
    },
    {
     "data": {
      "image/png": "[encoded data removed]",
      "text/plain": [
       "<Figure size 432x288 with 2 Axes>"
      ]
     },
     "metadata": {
      "needs_background": "dark"
     },
     "output_type": "display_data"
    }
   ],
   "source": [
    "table.hist()"
   ]
  },
  {
   "cell_type": "code",
   "execution_count": 26,
   "metadata": {
    "scrolled": true,
    "tags": []
   },
   "outputs": [
    {
     "name": "stdout",
     "output_type": "stream",
     "text": [
      "5.10.0\n"
     ]
    },
    {
     "data": {
      "text/html": [
       "        <script type=\"text/javascript\">\n",
       "        window.PlotlyConfig = {MathJaxConfig: 'local'};\n",
       "        if (window.MathJax && window.MathJax.Hub && window.MathJax.Hub.Config) {window.MathJax.Hub.Config({SVG: {font: \"STIX-Web\"}});}\n",
       "        if (typeof require !== 'undefined') {\n",
       "        require.undef(\"plotly\");\n",
       "        requirejs.config({\n",
       "            paths: {\n",
       "                'plotly': ['https://cdn.plot.ly/plotly-2.14.0.min']\n",
       "            }\n",
       "        });\n",
       "        require(['plotly'], function(Plotly) {\n",
       "            window._Plotly = Plotly;\n",
       "        });\n",
       "        }\n",
       "        </script>\n",
       "        "
      ]
     },
     "metadata": {},
     "output_type": "display_data"
    },
    {
     "data": {
      "text/html": [
       "        <script type=\"text/javascript\">\n",
       "        window.PlotlyConfig = {MathJaxConfig: 'local'};\n",
       "        if (window.MathJax && window.MathJax.Hub && window.MathJax.Hub.Config) {window.MathJax.Hub.Config({SVG: {font: \"STIX-Web\"}});}\n",
       "        if (typeof require !== 'undefined') {\n",
       "        require.undef(\"plotly\");\n",
       "        requirejs.config({\n",
       "            paths: {\n",
       "                'plotly': ['https://cdn.plot.ly/plotly-2.14.0.min']\n",
       "            }\n",
       "        });\n",
       "        require(['plotly'], function(Plotly) {\n",
       "            window._Plotly = Plotly;\n",
       "        });\n",
       "        }\n",
       "        </script>\n",
       "        "
      ]
     },
     "metadata": {},
     "output_type": "display_data"
    },
    {
     "data": {
      "application/vnd.plotly.v1+json": {
       "config": {
        "linkText": "Export to plot.ly",
        "plotlyServerURL": "https://plot.ly",
        "showLink": true
       },
       "data": [
        {
         "colorscale": [
          [
           0,
           "rgb(165,0,38)"
          ],
          [
           0.1,
           "rgb(215,48,39)"
          ],
          [
           0.2,
           "rgb(244,109,67)"
          ],
          [
           0.3,
           "rgb(253,174,97)"
          ],
          [
           0.4,
           "rgb(254,224,144)"
          ],
          [
           0.5,
           "rgb(255,255,191)"
          ],
          [
           0.6,
           "rgb(224,243,248)"
          ],
          [
           0.7,
           "rgb(171,217,233)"
          ],
          [
           0.8,
           "rgb(116,173,209)"
          ],
          [
           0.9,
           "rgb(69,117,180)"
          ],
          [
           1,
           "rgb(49,54,149)"
          ]
         ],
         "type": "surface",
         "x": [
          0,
          1,
          2,
          3,
          4
         ],
         "y": [
          "x",
          "y",
          "z"
         ],
         "z": [
          [
           1,
           2,
           3,
           4,
           5
          ],
          [
           10,
           20,
           30,
           20,
           10
          ],
          [
           5,
           4,
           3,
           2,
           1
          ]
         ]
        }
       ],
       "layout": {
        "legend": {
         "bgcolor": "#F5F6F9",
         "font": {
          "color": "#4D5663"
         }
        },
        "paper_bgcolor": "#F5F6F9",
        "plot_bgcolor": "#F5F6F9",
        "template": {
         "data": {
          "bar": [
           {
            "error_x": {
             "color": "#2a3f5f"
            },
            "error_y": {
             "color": "#2a3f5f"
            },
            "marker": {
             "line": {
              "color": "#E5ECF6",
              "width": 0.5
             },
             "pattern": {
              "fillmode": "overlay",
              "size": 10,
              "solidity": 0.2
             }
            },
            "type": "bar"
           }
          ],
          "barpolar": [
           {
            "marker": {
             "line": {
              "color": "#E5ECF6",
              "width": 0.5
             },
             "pattern": {
              "fillmode": "overlay",
              "size": 10,
              "solidity": 0.2
             }
            },
            "type": "barpolar"
           }
          ],
          "carpet": [
           {
            "aaxis": {
             "endlinecolor": "#2a3f5f",
             "gridcolor": "white",
             "linecolor": "white",
             "minorgridcolor": "white",
             "startlinecolor": "#2a3f5f"
            },
            "baxis": {
             "endlinecolor": "#2a3f5f",
             "gridcolor": "white",
             "linecolor": "white",
             "minorgridcolor": "white",
             "startlinecolor": "#2a3f5f"
            },
            "type": "carpet"
           }
          ],
          "choropleth": [
           {
            "colorbar": {
             "outlinewidth": 0,
             "ticks": ""
            },
            "type": "choropleth"
           }
          ],
          "contour": [
           {
            "colorbar": {
             "outlinewidth": 0,
             "ticks": ""
            },
            "colorscale": [
             [
              0,
              "#0d0887"
             ],
             [
              0.1111111111111111,
              "#46039f"
             ],
             [
              0.2222222222222222,
              "#7201a8"
             ],
             [
              0.3333333333333333,
              "#9c179e"
             ],
             [
              0.4444444444444444,
              "#bd3786"
             ],
             [
              0.5555555555555556,
              "#d8576b"
             ],
             [
              0.6666666666666666,
              "#ed7953"
             ],
             [
              0.7777777777777778,
              "#fb9f3a"
             ],
             [
              0.8888888888888888,
              "#fdca26"
             ],
             [
              1,
              "#f0f921"
             ]
            ],
            "type": "contour"
           }
          ],
          "contourcarpet": [
           {
            "colorbar": {
             "outlinewidth": 0,
             "ticks": ""
            },
            "type": "contourcarpet"
           }
          ],
          "heatmap": [
           {
            "colorbar": {
             "outlinewidth": 0,
             "ticks": ""
            },
            "colorscale": [
             [
              0,
              "#0d0887"
             ],
             [
              0.1111111111111111,
              "#46039f"
             ],
             [
              0.2222222222222222,
              "#7201a8"
             ],
             [
              0.3333333333333333,
              "#9c179e"
             ],
             [
              0.4444444444444444,
              "#bd3786"
             ],
             [
              0.5555555555555556,
              "#d8576b"
             ],
             [
              0.6666666666666666,
              "#ed7953"
             ],
             [
              0.7777777777777778,
              "#fb9f3a"
             ],
             [
              0.8888888888888888,
              "#fdca26"
             ],
             [
              1,
              "#f0f921"
             ]
            ],
            "type": "heatmap"
           }
          ],
          "heatmapgl": [
           {
            "colorbar": {
             "outlinewidth": 0,
             "ticks": ""
            },
            "colorscale": [
             [
              0,
              "#0d0887"
             ],
             [
              0.1111111111111111,
              "#46039f"
             ],
             [
              0.2222222222222222,
              "#7201a8"
             ],
             [
              0.3333333333333333,
              "#9c179e"
             ],
             [
              0.4444444444444444,
              "#bd3786"
             ],
             [
              0.5555555555555556,
              "#d8576b"
             ],
             [
              0.6666666666666666,
              "#ed7953"
             ],
             [
              0.7777777777777778,
              "#fb9f3a"
             ],
             [
              0.8888888888888888,
              "#fdca26"
             ],
             [
              1,
              "#f0f921"
             ]
            ],
            "type": "heatmapgl"
           }
          ],
          "histogram": [
           {
            "marker": {
             "pattern": {
              "fillmode": "overlay",
              "size": 10,
              "solidity": 0.2
             }
            },
            "type": "histogram"
           }
          ],
          "histogram2d": [
           {
            "colorbar": {
             "outlinewidth": 0,
             "ticks": ""
            },
            "colorscale": [
             [
              0,
              "#0d0887"
             ],
             [
              0.1111111111111111,
              "#46039f"
             ],
             [
              0.2222222222222222,
              "#7201a8"
             ],
             [
              0.3333333333333333,
              "#9c179e"
             ],
             [
              0.4444444444444444,
              "#bd3786"
             ],
             [
              0.5555555555555556,
              "#d8576b"
             ],
             [
              0.6666666666666666,
              "#ed7953"
             ],
             [
              0.7777777777777778,
              "#fb9f3a"
             ],
             [
              0.8888888888888888,
              "#fdca26"
             ],
             [
              1,
              "#f0f921"
             ]
            ],
            "type": "histogram2d"
           }
          ],
          "histogram2dcontour": [
           {
            "colorbar": {
             "outlinewidth": 0,
             "ticks": ""
            },
            "colorscale": [
             [
              0,
              "#0d0887"
             ],
             [
              0.1111111111111111,
              "#46039f"
             ],
             [
              0.2222222222222222,
              "#7201a8"
             ],
             [
              0.3333333333333333,
              "#9c179e"
             ],
             [
              0.4444444444444444,
              "#bd3786"
             ],
             [
              0.5555555555555556,
              "#d8576b"
             ],
             [
              0.6666666666666666,
              "#ed7953"
             ],
             [
              0.7777777777777778,
              "#fb9f3a"
             ],
             [
              0.8888888888888888,
              "#fdca26"
             ],
             [
              1,
              "#f0f921"
             ]
            ],
            "type": "histogram2dcontour"
           }
          ],
          "mesh3d": [
           {
            "colorbar": {
             "outlinewidth": 0,
             "ticks": ""
            },
            "type": "mesh3d"
           }
          ],
          "parcoords": [
           {
            "line": {
             "colorbar": {
              "outlinewidth": 0,
              "ticks": ""
             }
            },
            "type": "parcoords"
           }
          ],
          "pie": [
           {
            "automargin": true,
            "type": "pie"
           }
          ],
          "scatter": [
           {
            "fillpattern": {
             "fillmode": "overlay",
             "size": 10,
             "solidity": 0.2
            },
            "type": "scatter"
           }
          ],
          "scatter3d": [
           {
            "line": {
             "colorbar": {
              "outlinewidth": 0,
              "ticks": ""
             }
            },
            "marker": {
             "colorbar": {
              "outlinewidth": 0,
              "ticks": ""
             }
            },
            "type": "scatter3d"
           }
          ],
          "scattercarpet": [
           {
            "marker": {
             "colorbar": {
              "outlinewidth": 0,
              "ticks": ""
             }
            },
            "type": "scattercarpet"
           }
          ],
          "scattergeo": [
           {
            "marker": {
             "colorbar": {
              "outlinewidth": 0,
              "ticks": ""
             }
            },
            "type": "scattergeo"
           }
          ],
          "scattergl": [
           {
            "marker": {
             "colorbar": {
              "outlinewidth": 0,
              "ticks": ""
             }
            },
            "type": "scattergl"
           }
          ],
          "scattermapbox": [
           {
            "marker": {
             "colorbar": {
              "outlinewidth": 0,
              "ticks": ""
             }
            },
            "type": "scattermapbox"
           }
          ],
          "scatterpolar": [
           {
            "marker": {
             "colorbar": {
              "outlinewidth": 0,
              "ticks": ""
             }
            },
            "type": "scatterpolar"
           }
          ],
          "scatterpolargl": [
           {
            "marker": {
             "colorbar": {
              "outlinewidth": 0,
              "ticks": ""
             }
            },
            "type": "scatterpolargl"
           }
          ],
          "scatterternary": [
           {
            "marker": {
             "colorbar": {
              "outlinewidth": 0,
              "ticks": ""
             }
            },
            "type": "scatterternary"
           }
          ],
          "surface": [
           {
            "colorbar": {
             "outlinewidth": 0,
             "ticks": ""
            },
            "colorscale": [
             [
              0,
              "#0d0887"
             ],
             [
              0.1111111111111111,
              "#46039f"
             ],
             [
              0.2222222222222222,
              "#7201a8"
             ],
             [
              0.3333333333333333,
              "#9c179e"
             ],
             [
              0.4444444444444444,
              "#bd3786"
             ],
             [
              0.5555555555555556,
              "#d8576b"
             ],
             [
              0.6666666666666666,
              "#ed7953"
             ],
             [
              0.7777777777777778,
              "#fb9f3a"
             ],
             [
              0.8888888888888888,
              "#fdca26"
             ],
             [
              1,
              "#f0f921"
             ]
            ],
            "type": "surface"
           }
          ],
          "table": [
           {
            "cells": {
             "fill": {
              "color": "#EBF0F8"
             },
             "line": {
              "color": "white"
             }
            },
            "header": {
             "fill": {
              "color": "#C8D4E3"
             },
             "line": {
              "color": "white"
             }
            },
            "type": "table"
           }
          ]
         },
         "layout": {
          "annotationdefaults": {
           "arrowcolor": "#2a3f5f",
           "arrowhead": 0,
           "arrowwidth": 1
          },
          "autotypenumbers": "strict",
          "coloraxis": {
           "colorbar": {
            "outlinewidth": 0,
            "ticks": ""
           }
          },
          "colorscale": {
           "diverging": [
            [
             0,
             "#8e0152"
            ],
            [
             0.1,
             "#c51b7d"
            ],
            [
             0.2,
             "#de77ae"
            ],
            [
             0.3,
             "#f1b6da"
            ],
            [
             0.4,
             "#fde0ef"
            ],
            [
             0.5,
             "#f7f7f7"
            ],
            [
             0.6,
             "#e6f5d0"
            ],
            [
             0.7,
             "#b8e186"
            ],
            [
             0.8,
             "#7fbc41"
            ],
            [
             0.9,
             "#4d9221"
            ],
            [
             1,
             "#276419"
            ]
           ],
           "sequential": [
            [
             0,
             "#0d0887"
            ],
            [
             0.1111111111111111,
             "#46039f"
            ],
            [
             0.2222222222222222,
             "#7201a8"
            ],
            [
             0.3333333333333333,
             "#9c179e"
            ],
            [
             0.4444444444444444,
             "#bd3786"
            ],
            [
             0.5555555555555556,
             "#d8576b"
            ],
            [
             0.6666666666666666,
             "#ed7953"
            ],
            [
             0.7777777777777778,
             "#fb9f3a"
            ],
            [
             0.8888888888888888,
             "#fdca26"
            ],
            [
             1,
             "#f0f921"
            ]
           ],
           "sequentialminus": [
            [
             0,
             "#0d0887"
            ],
            [
             0.1111111111111111,
             "#46039f"
            ],
            [
             0.2222222222222222,
             "#7201a8"
            ],
            [
             0.3333333333333333,
             "#9c179e"
            ],
            [
             0.4444444444444444,
             "#bd3786"
            ],
            [
             0.5555555555555556,
             "#d8576b"
            ],
            [
             0.6666666666666666,
             "#ed7953"
            ],
            [
             0.7777777777777778,
             "#fb9f3a"
            ],
            [
             0.8888888888888888,
             "#fdca26"
            ],
            [
             1,
             "#f0f921"
            ]
           ]
          },
          "colorway": [
           "#636efa",
           "#EF553B",
           "#00cc96",
           "#ab63fa",
           "#FFA15A",
           "#19d3f3",
           "#FF6692",
           "#B6E880",
           "#FF97FF",
           "#FECB52"
          ],
          "font": {
           "color": "#2a3f5f"
          },
          "geo": {
           "bgcolor": "white",
           "lakecolor": "white",
           "landcolor": "#E5ECF6",
           "showlakes": true,
           "showland": true,
           "subunitcolor": "white"
          },
          "hoverlabel": {
           "align": "left"
          },
          "hovermode": "closest",
          "mapbox": {
           "style": "light"
          },
          "paper_bgcolor": "white",
          "plot_bgcolor": "#E5ECF6",
          "polar": {
           "angularaxis": {
            "gridcolor": "white",
            "linecolor": "white",
            "ticks": ""
           },
           "bgcolor": "#E5ECF6",
           "radialaxis": {
            "gridcolor": "white",
            "linecolor": "white",
            "ticks": ""
           }
          },
          "scene": {
           "xaxis": {
            "backgroundcolor": "#E5ECF6",
            "gridcolor": "white",
            "gridwidth": 2,
            "linecolor": "white",
            "showbackground": true,
            "ticks": "",
            "zerolinecolor": "white"
           },
           "yaxis": {
            "backgroundcolor": "#E5ECF6",
            "gridcolor": "white",
            "gridwidth": 2,
            "linecolor": "white",
            "showbackground": true,
            "ticks": "",
            "zerolinecolor": "white"
           },
           "zaxis": {
            "backgroundcolor": "#E5ECF6",
            "gridcolor": "white",
            "gridwidth": 2,
            "linecolor": "white",
            "showbackground": true,
            "ticks": "",
            "zerolinecolor": "white"
           }
          },
          "shapedefaults": {
           "line": {
            "color": "#2a3f5f"
           }
          },
          "ternary": {
           "aaxis": {
            "gridcolor": "white",
            "linecolor": "white",
            "ticks": ""
           },
           "baxis": {
            "gridcolor": "white",
            "linecolor": "white",
            "ticks": ""
           },
           "bgcolor": "#E5ECF6",
           "caxis": {
            "gridcolor": "white",
            "linecolor": "white",
            "ticks": ""
           }
          },
          "title": {
           "x": 0.05
          },
          "xaxis": {
           "automargin": true,
           "gridcolor": "white",
           "linecolor": "white",
           "ticks": "",
           "title": {
            "standoff": 15
           },
           "zerolinecolor": "white",
           "zerolinewidth": 2
          },
          "yaxis": {
           "automargin": true,
           "gridcolor": "white",
           "linecolor": "white",
           "ticks": "",
           "title": {
            "standoff": 15
           },
           "zerolinecolor": "white",
           "zerolinewidth": 2
          }
         }
        },
        "title": {
         "font": {
          "color": "#4D5663"
         }
        },
        "xaxis": {
         "gridcolor": "#E1E5ED",
         "showgrid": true,
         "tickfont": {
          "color": "#4D5663"
         },
         "title": {
          "font": {
           "color": "#4D5663"
          },
          "text": ""
         },
         "zerolinecolor": "#E1E5ED"
        },
        "yaxis": {
         "gridcolor": "#E1E5ED",
         "showgrid": true,
         "tickfont": {
          "color": "#4D5663"
         },
         "title": {
          "font": {
           "color": "#4D5663"
          },
          "text": ""
         },
         "zerolinecolor": "#E1E5ED"
        }
       }
      },
      "text/html": [
       "<div>                            <div id=\"ad792aec-cbeb-43b3-99df-228ba1c061bb\" class=\"plotly-graph-div\" style=\"height:525px; width:100%;\"></div>            <script type=\"text/javascript\">                require([\"plotly\"], function(Plotly) {                    window.PLOTLYENV=window.PLOTLYENV || {};\n",
       "                    window.PLOTLYENV.BASE_URL='https://plot.ly';                                    if (document.getElementById(\"ad792aec-cbeb-43b3-99df-228ba1c061bb\")) {                    Plotly.newPlot(                        \"ad792aec-cbeb-43b3-99df-228ba1c061bb\",                        [{\"colorscale\":[[0.0,\"rgb(165,0,38)\"],[0.1,\"rgb(215,48,39)\"],[0.2,\"rgb(244,109,67)\"],[0.3,\"rgb(253,174,97)\"],[0.4,\"rgb(254,224,144)\"],[0.5,\"rgb(255,255,191)\"],[0.6,\"rgb(224,243,248)\"],[0.7,\"rgb(171,217,233)\"],[0.8,\"rgb(116,173,209)\"],[0.9,\"rgb(69,117,180)\"],[1.0,\"rgb(49,54,149)\"]],\"x\":[0,1,2,3,4],\"y\":[\"x\",\"y\",\"z\"],\"z\":[[1,2,3,4,5],[10,20,30,20,10],[5,4,3,2,1]],\"type\":\"surface\"}],                        {\"legend\":{\"bgcolor\":\"#F5F6F9\",\"font\":{\"color\":\"#4D5663\"}},\"paper_bgcolor\":\"#F5F6F9\",\"plot_bgcolor\":\"#F5F6F9\",\"template\":{\"data\":{\"barpolar\":[{\"marker\":{\"line\":{\"color\":\"#E5ECF6\",\"width\":0.5},\"pattern\":{\"fillmode\":\"overlay\",\"size\":10,\"solidity\":0.2}},\"type\":\"barpolar\"}],\"bar\":[{\"error_x\":{\"color\":\"#2a3f5f\"},\"error_y\":{\"color\":\"#2a3f5f\"},\"marker\":{\"line\":{\"color\":\"#E5ECF6\",\"width\":0.5},\"pattern\":{\"fillmode\":\"overlay\",\"size\":10,\"solidity\":0.2}},\"type\":\"bar\"}],\"carpet\":[{\"aaxis\":{\"endlinecolor\":\"#2a3f5f\",\"gridcolor\":\"white\",\"linecolor\":\"white\",\"minorgridcolor\":\"white\",\"startlinecolor\":\"#2a3f5f\"},\"baxis\":{\"endlinecolor\":\"#2a3f5f\",\"gridcolor\":\"white\",\"linecolor\":\"white\",\"minorgridcolor\":\"white\",\"startlinecolor\":\"#2a3f5f\"},\"type\":\"carpet\"}],\"choropleth\":[{\"colorbar\":{\"outlinewidth\":0,\"ticks\":\"\"},\"type\":\"choropleth\"}],\"contourcarpet\":[{\"colorbar\":{\"outlinewidth\":0,\"ticks\":\"\"},\"type\":\"contourcarpet\"}],\"contour\":[{\"colorbar\":{\"outlinewidth\":0,\"ticks\":\"\"},\"colorscale\":[[0.0,\"#0d0887\"],[0.1111111111111111,\"#46039f\"],[0.2222222222222222,\"#7201a8\"],[0.3333333333333333,\"#9c179e\"],[0.4444444444444444,\"#bd3786\"],[0.5555555555555556,\"#d8576b\"],[0.6666666666666666,\"#ed7953\"],[0.7777777777777778,\"#fb9f3a\"],[0.8888888888888888,\"#fdca26\"],[1.0,\"#f0f921\"]],\"type\":\"contour\"}],\"heatmapgl\":[{\"colorbar\":{\"outlinewidth\":0,\"ticks\":\"\"},\"colorscale\":[[0.0,\"#0d0887\"],[0.1111111111111111,\"#46039f\"],[0.2222222222222222,\"#7201a8\"],[0.3333333333333333,\"#9c179e\"],[0.4444444444444444,\"#bd3786\"],[0.5555555555555556,\"#d8576b\"],[0.6666666666666666,\"#ed7953\"],[0.7777777777777778,\"#fb9f3a\"],[0.8888888888888888,\"#fdca26\"],[1.0,\"#f0f921\"]],\"type\":\"heatmapgl\"}],\"heatmap\":[{\"colorbar\":{\"outlinewidth\":0,\"ticks\":\"\"},\"colorscale\":[[0.0,\"#0d0887\"],[0.1111111111111111,\"#46039f\"],[0.2222222222222222,\"#7201a8\"],[0.3333333333333333,\"#9c179e\"],[0.4444444444444444,\"#bd3786\"],[0.5555555555555556,\"#d8576b\"],[0.6666666666666666,\"#ed7953\"],[0.7777777777777778,\"#fb9f3a\"],[0.8888888888888888,\"#fdca26\"],[1.0,\"#f0f921\"]],\"type\":\"heatmap\"}],\"histogram2dcontour\":[{\"colorbar\":{\"outlinewidth\":0,\"ticks\":\"\"},\"colorscale\":[[0.0,\"#0d0887\"],[0.1111111111111111,\"#46039f\"],[0.2222222222222222,\"#7201a8\"],[0.3333333333333333,\"#9c179e\"],[0.4444444444444444,\"#bd3786\"],[0.5555555555555556,\"#d8576b\"],[0.6666666666666666,\"#ed7953\"],[0.7777777777777778,\"#fb9f3a\"],[0.8888888888888888,\"#fdca26\"],[1.0,\"#f0f921\"]],\"type\":\"histogram2dcontour\"}],\"histogram2d\":[{\"colorbar\":{\"outlinewidth\":0,\"ticks\":\"\"},\"colorscale\":[[0.0,\"#0d0887\"],[0.1111111111111111,\"#46039f\"],[0.2222222222222222,\"#7201a8\"],[0.3333333333333333,\"#9c179e\"],[0.4444444444444444,\"#bd3786\"],[0.5555555555555556,\"#d8576b\"],[0.6666666666666666,\"#ed7953\"],[0.7777777777777778,\"#fb9f3a\"],[0.8888888888888888,\"#fdca26\"],[1.0,\"#f0f921\"]],\"type\":\"histogram2d\"}],\"histogram\":[{\"marker\":{\"pattern\":{\"fillmode\":\"overlay\",\"size\":10,\"solidity\":0.2}},\"type\":\"histogram\"}],\"mesh3d\":[{\"colorbar\":{\"outlinewidth\":0,\"ticks\":\"\"},\"type\":\"mesh3d\"}],\"parcoords\":[{\"line\":{\"colorbar\":{\"outlinewidth\":0,\"ticks\":\"\"}},\"type\":\"parcoords\"}],\"pie\":[{\"automargin\":true,\"type\":\"pie\"}],\"scatter3d\":[{\"line\":{\"colorbar\":{\"outlinewidth\":0,\"ticks\":\"\"}},\"marker\":{\"colorbar\":{\"outlinewidth\":0,\"ticks\":\"\"}},\"type\":\"scatter3d\"}],\"scattercarpet\":[{\"marker\":{\"colorbar\":{\"outlinewidth\":0,\"ticks\":\"\"}},\"type\":\"scattercarpet\"}],\"scattergeo\":[{\"marker\":{\"colorbar\":{\"outlinewidth\":0,\"ticks\":\"\"}},\"type\":\"scattergeo\"}],\"scattergl\":[{\"marker\":{\"colorbar\":{\"outlinewidth\":0,\"ticks\":\"\"}},\"type\":\"scattergl\"}],\"scattermapbox\":[{\"marker\":{\"colorbar\":{\"outlinewidth\":0,\"ticks\":\"\"}},\"type\":\"scattermapbox\"}],\"scatterpolargl\":[{\"marker\":{\"colorbar\":{\"outlinewidth\":0,\"ticks\":\"\"}},\"type\":\"scatterpolargl\"}],\"scatterpolar\":[{\"marker\":{\"colorbar\":{\"outlinewidth\":0,\"ticks\":\"\"}},\"type\":\"scatterpolar\"}],\"scatter\":[{\"fillpattern\":{\"fillmode\":\"overlay\",\"size\":10,\"solidity\":0.2},\"type\":\"scatter\"}],\"scatterternary\":[{\"marker\":{\"colorbar\":{\"outlinewidth\":0,\"ticks\":\"\"}},\"type\":\"scatterternary\"}],\"surface\":[{\"colorbar\":{\"outlinewidth\":0,\"ticks\":\"\"},\"colorscale\":[[0.0,\"#0d0887\"],[0.1111111111111111,\"#46039f\"],[0.2222222222222222,\"#7201a8\"],[0.3333333333333333,\"#9c179e\"],[0.4444444444444444,\"#bd3786\"],[0.5555555555555556,\"#d8576b\"],[0.6666666666666666,\"#ed7953\"],[0.7777777777777778,\"#fb9f3a\"],[0.8888888888888888,\"#fdca26\"],[1.0,\"#f0f921\"]],\"type\":\"surface\"}],\"table\":[{\"cells\":{\"fill\":{\"color\":\"#EBF0F8\"},\"line\":{\"color\":\"white\"}},\"header\":{\"fill\":{\"color\":\"#C8D4E3\"},\"line\":{\"color\":\"white\"}},\"type\":\"table\"}]},\"layout\":{\"annotationdefaults\":{\"arrowcolor\":\"#2a3f5f\",\"arrowhead\":0,\"arrowwidth\":1},\"autotypenumbers\":\"strict\",\"coloraxis\":{\"colorbar\":{\"outlinewidth\":0,\"ticks\":\"\"}},\"colorscale\":{\"diverging\":[[0,\"#8e0152\"],[0.1,\"#c51b7d\"],[0.2,\"#de77ae\"],[0.3,\"#f1b6da\"],[0.4,\"#fde0ef\"],[0.5,\"#f7f7f7\"],[0.6,\"#e6f5d0\"],[0.7,\"#b8e186\"],[0.8,\"#7fbc41\"],[0.9,\"#4d9221\"],[1,\"#276419\"]],\"sequential\":[[0.0,\"#0d0887\"],[0.1111111111111111,\"#46039f\"],[0.2222222222222222,\"#7201a8\"],[0.3333333333333333,\"#9c179e\"],[0.4444444444444444,\"#bd3786\"],[0.5555555555555556,\"#d8576b\"],[0.6666666666666666,\"#ed7953\"],[0.7777777777777778,\"#fb9f3a\"],[0.8888888888888888,\"#fdca26\"],[1.0,\"#f0f921\"]],\"sequentialminus\":[[0.0,\"#0d0887\"],[0.1111111111111111,\"#46039f\"],[0.2222222222222222,\"#7201a8\"],[0.3333333333333333,\"#9c179e\"],[0.4444444444444444,\"#bd3786\"],[0.5555555555555556,\"#d8576b\"],[0.6666666666666666,\"#ed7953\"],[0.7777777777777778,\"#fb9f3a\"],[0.8888888888888888,\"#fdca26\"],[1.0,\"#f0f921\"]]},\"colorway\":[\"#636efa\",\"#EF553B\",\"#00cc96\",\"#ab63fa\",\"#FFA15A\",\"#19d3f3\",\"#FF6692\",\"#B6E880\",\"#FF97FF\",\"#FECB52\"],\"font\":{\"color\":\"#2a3f5f\"},\"geo\":{\"bgcolor\":\"white\",\"lakecolor\":\"white\",\"landcolor\":\"#E5ECF6\",\"showlakes\":true,\"showland\":true,\"subunitcolor\":\"white\"},\"hoverlabel\":{\"align\":\"left\"},\"hovermode\":\"closest\",\"mapbox\":{\"style\":\"light\"},\"paper_bgcolor\":\"white\",\"plot_bgcolor\":\"#E5ECF6\",\"polar\":{\"angularaxis\":{\"gridcolor\":\"white\",\"linecolor\":\"white\",\"ticks\":\"\"},\"bgcolor\":\"#E5ECF6\",\"radialaxis\":{\"gridcolor\":\"white\",\"linecolor\":\"white\",\"ticks\":\"\"}},\"scene\":{\"xaxis\":{\"backgroundcolor\":\"#E5ECF6\",\"gridcolor\":\"white\",\"gridwidth\":2,\"linecolor\":\"white\",\"showbackground\":true,\"ticks\":\"\",\"zerolinecolor\":\"white\"},\"yaxis\":{\"backgroundcolor\":\"#E5ECF6\",\"gridcolor\":\"white\",\"gridwidth\":2,\"linecolor\":\"white\",\"showbackground\":true,\"ticks\":\"\",\"zerolinecolor\":\"white\"},\"zaxis\":{\"backgroundcolor\":\"#E5ECF6\",\"gridcolor\":\"white\",\"gridwidth\":2,\"linecolor\":\"white\",\"showbackground\":true,\"ticks\":\"\",\"zerolinecolor\":\"white\"}},\"shapedefaults\":{\"line\":{\"color\":\"#2a3f5f\"}},\"ternary\":{\"aaxis\":{\"gridcolor\":\"white\",\"linecolor\":\"white\",\"ticks\":\"\"},\"baxis\":{\"gridcolor\":\"white\",\"linecolor\":\"white\",\"ticks\":\"\"},\"bgcolor\":\"#E5ECF6\",\"caxis\":{\"gridcolor\":\"white\",\"linecolor\":\"white\",\"ticks\":\"\"}},\"title\":{\"x\":0.05},\"xaxis\":{\"automargin\":true,\"gridcolor\":\"white\",\"linecolor\":\"white\",\"ticks\":\"\",\"title\":{\"standoff\":15},\"zerolinecolor\":\"white\",\"zerolinewidth\":2},\"yaxis\":{\"automargin\":true,\"gridcolor\":\"white\",\"linecolor\":\"white\",\"ticks\":\"\",\"title\":{\"standoff\":15},\"zerolinecolor\":\"white\",\"zerolinewidth\":2}}},\"title\":{\"font\":{\"color\":\"#4D5663\"}},\"xaxis\":{\"gridcolor\":\"#E1E5ED\",\"showgrid\":true,\"tickfont\":{\"color\":\"#4D5663\"},\"title\":{\"font\":{\"color\":\"#4D5663\"},\"text\":\"\"},\"zerolinecolor\":\"#E1E5ED\"},\"yaxis\":{\"gridcolor\":\"#E1E5ED\",\"showgrid\":true,\"tickfont\":{\"color\":\"#4D5663\"},\"title\":{\"font\":{\"color\":\"#4D5663\"},\"text\":\"\"},\"zerolinecolor\":\"#E1E5ED\"}},                        {\"showLink\": true, \"linkText\": \"Export to plot.ly\", \"plotlyServerURL\": \"https://plot.ly\", \"responsive\": true}                    ).then(function(){\n",
       "                            \n",
       "var gd = document.getElementById('ad792aec-cbeb-43b3-99df-228ba1c061bb');\n",
       "var x = new MutationObserver(function (mutations, observer) {{\n",
       "        var display = window.getComputedStyle(gd).display;\n",
       "        if (!display || display === 'none') {{\n",
       "            console.log([gd, 'removed!']);\n",
       "            Plotly.purge(gd);\n",
       "            observer.disconnect();\n",
       "        }}\n",
       "}});\n",
       "\n",
       "// Listen for the removal of the full notebook cells\n",
       "var notebookContainer = gd.closest('#notebook-container');\n",
       "if (notebookContainer) {{\n",
       "    x.observe(notebookContainer, {childList: true});\n",
       "}}\n",
       "\n",
       "// Listen for the clearing of the current output cell\n",
       "var outputEl = gd.closest('.output');\n",
       "if (outputEl) {{\n",
       "    x.observe(outputEl, {childList: true});\n",
       "}}\n",
       "\n",
       "                        })                };                });            </script>        </div>"
      ]
     },
     "metadata": {},
     "output_type": "display_data"
    }
   ],
   "source": [
    "import pandas as pd\n",
    "import numpy as np\n",
    "import cufflinks as cf\n",
    "from plotly import __version__\n",
    "from plotly.offline import download_plotlyjs, init_notebook_mode, plot, iplot\n",
    "\n",
    "print(__version__) # requires version >= 1.9.0\n",
    "\n",
    "init_notebook_mode(connected=True)\n",
    "cf.go_offline()\n",
    "\n",
    "df3 = pd.DataFrame({'x':[1,2,3,4,5],'y':[10,20,30,20,10],'z':[5,4,3,2,1]})\n",
    "df3.iplot(kind='surface',colorscale='rdylbu')"
   ]
  },
  {
   "cell_type": "code",
   "execution_count": null,
   "metadata": {},
   "outputs": [],
   "source": []
  },
  {
   "cell_type": "markdown",
   "metadata": {},
   "source": [
    "# Machine learning with Python"
   ]
  },
  {
   "cell_type": "markdown",
   "metadata": {},
   "source": [
    "## with the scikit-learn toolkit"
   ]
  },
  {
   "cell_type": "markdown",
   "metadata": {},
   "source": [
    "we can use the following **general rules**:\n",
    "- \tEvery algorithm is *exposed via* an `estimator`\n",
    "> ```from sklearn.family import model e.g.``` \n",
    "- ```from sklearn.linear_model import LinearRegression```"
   ]
  },
  {
   "cell_type": "code",
   "execution_count": 27,
   "metadata": {},
   "outputs": [],
   "source": [
    "from sklearn.linear_model import LinearRegression"
   ]
  },
  {
   "cell_type": "code",
   "execution_count": null,
   "metadata": {},
   "outputs": [],
   "source": []
  },
  {
   "cell_type": "markdown",
   "metadata": {},
   "source": [
    "# Machine learning with Tensorflow and Keras"
   ]
  },
  {
   "cell_type": "code",
   "execution_count": 28,
   "metadata": {},
   "outputs": [
    {
     "name": "stderr",
     "output_type": "stream",
     "text": [
      "2022-09-25 21:06:02.700643: I tensorflow/core/platform/cpu_feature_guard.cc:193] This TensorFlow binary is optimized with oneAPI Deep Neural Network Library (oneDNN) to use the following CPU instructions in performance-critical operations:  AVX2 FMA\n",
      "To enable them in other operations, rebuild TensorFlow with the appropriate compiler flags.\n"
     ]
    }
   ],
   "source": [
    "import tensorflow as tf\n",
    "from tensorflow.keras import layers"
   ]
  },
  {
   "cell_type": "code",
   "execution_count": 30,
   "metadata": {
    "tags": []
   },
   "outputs": [
    {
     "name": "stdout",
     "output_type": "stream",
     "text": [
      "2.10.0\n",
      "2.10.0\n"
     ]
    }
   ],
   "source": [
    "print(tf.__version__)\n",
    "print(tf.keras.__version__)"
   ]
  },
  {
   "cell_type": "code",
   "execution_count": null,
   "metadata": {
    "tags": []
   },
   "outputs": [
    {
     "name": "stdout",
     "output_type": "stream",
     "text": [
      "[[22. 28.]\n",
      " [49. 64.]]\n"
     ]
    }
   ],
   "source": [
    "# Creates a graph.\n",
    "a = tf.constant([1.0, 2.0, 3.0, 4.0, 5.0, 6.0], shape=[2, 3], name='a')\n",
    "b = tf.constant([1.0, 2.0, 3.0, 4.0, 5.0, 6.0], shape=[3, 2], name='b')\n",
    "c = tf.matmul(a, b)\n",
    "# Creates a session with log_device_placement set to True.\n",
    "sess = tf.Session(config=tf.ConfigProto(log_device_placement=True))\n",
    "# Runs the op.\n",
    "print(sess.run(c))"
   ]
  },
  {
   "cell_type": "code",
   "execution_count": null,
   "metadata": {},
   "outputs": [],
   "source": [
    "import numpy as np\n",
    "# Make sure to use floats here, int64 will cause an error.\n",
    "a = np.array([[5.0,5.0]])\n",
    "b = np.array([[2.0],[2.0]])"
   ]
  },
  {
   "cell_type": "code",
   "execution_count": null,
   "metadata": {},
   "outputs": [],
   "source": [
    "mat1 = tf.constant(a)\n",
    "mat2 = tf.constant(b)"
   ]
  },
  {
   "cell_type": "code",
   "execution_count": null,
   "metadata": {},
   "outputs": [],
   "source": [
    "matrix_multi = tf.matmul(mat1,mat2)"
   ]
  },
  {
   "cell_type": "code",
   "execution_count": null,
   "metadata": {},
   "outputs": [
    {
     "data": {
      "text/plain": [
       "<tf.Tensor 'MatMul_2:0' shape=(1, 1) dtype=float64>"
      ]
     },
     "execution_count": 47,
     "metadata": {},
     "output_type": "execute_result"
    }
   ],
   "source": [
    "matrix_multi"
   ]
  },
  {
   "cell_type": "code",
   "execution_count": null,
   "metadata": {
    "tags": []
   },
   "outputs": [
    {
     "name": "stdout",
     "output_type": "stream",
     "text": [
      "[[20.]]\n"
     ]
    }
   ],
   "source": [
    "with tf.Session() as sess:\n",
    "    result = sess.run(matrix_multi)\n",
    "    print(result)"
   ]
  },
  {
   "cell_type": "markdown",
   "metadata": {},
   "source": [
    "we can use Tensorflow (*tf*) and the **MNIST** digit database to classify:\n",
    "- what number is written, based on the *training* on array values from the MNIST database\n",
    "- either by the manual **session** tf mode\n",
    "- or by the **estimator** tf mode"
   ]
  },
  {
   "cell_type": "markdown",
   "metadata": {},
   "source": [
    "# Logistic regression"
   ]
  },
  {
   "cell_type": "markdown",
   "metadata": {},
   "source": [
    "\n",
    "\t○ Sigmoid function takes in any input and outputs it to be between 0 and 1\n",
    "   \n"
   ]
  },
  {
   "cell_type": "markdown",
   "metadata": {},
   "source": [
    " ![Image title](./_images/sigmoid.png)"
   ]
  },
  {
   "cell_type": "code",
   "execution_count": null,
   "metadata": {
    "tags": []
   },
   "outputs": [
    {
     "name": "stdout",
     "output_type": "stream",
     "text": [
      "Help on module math:\n",
      "\n",
      "NAME\n",
      "    math\n",
      "\n",
      "MODULE REFERENCE\n",
      "    https://docs.python.org/3.7/library/math\n",
      "    \n",
      "    The following documentation is automatically generated from the Python\n",
      "    source files.  It may be incomplete, incorrect or include features that\n",
      "    are considered implementation detail and may vary between Python\n",
      "    implementations.  When in doubt, consult the module reference at the\n",
      "    location listed above.\n",
      "\n",
      "DESCRIPTION\n",
      "    This module provides access to the mathematical functions\n",
      "    defined by the C standard.\n",
      "\n",
      "FUNCTIONS\n",
      "    acos(x, /)\n",
      "        Return the arc cosine (measured in radians) of x.\n",
      "    \n",
      "    acosh(x, /)\n",
      "        Return the inverse hyperbolic cosine of x.\n",
      "    \n",
      "    asin(x, /)\n",
      "        Return the arc sine (measured in radians) of x.\n",
      "    \n",
      "    asinh(x, /)\n",
      "        Return the inverse hyperbolic sine of x.\n",
      "    \n",
      "    atan(x, /)\n",
      "        Return the arc tangent (measured in radians) of x.\n",
      "    \n",
      "    atan2(y, x, /)\n",
      "        Return the arc tangent (measured in radians) of y/x.\n",
      "        \n",
      "        Unlike atan(y/x), the signs of both x and y are considered.\n",
      "    \n",
      "    atanh(x, /)\n",
      "        Return the inverse hyperbolic tangent of x.\n",
      "    \n",
      "    ceil(x, /)\n",
      "        Return the ceiling of x as an Integral.\n",
      "        \n",
      "        This is the smallest integer >= x.\n",
      "    \n",
      "    copysign(x, y, /)\n",
      "        Return a float with the magnitude (absolute value) of x but the sign of y.\n",
      "        \n",
      "        On platforms that support signed zeros, copysign(1.0, -0.0)\n",
      "        returns -1.0.\n",
      "    \n",
      "    cos(x, /)\n",
      "        Return the cosine of x (measured in radians).\n",
      "    \n",
      "    cosh(x, /)\n",
      "        Return the hyperbolic cosine of x.\n",
      "    \n",
      "    degrees(x, /)\n",
      "        Convert angle x from radians to degrees.\n",
      "    \n",
      "    erf(x, /)\n",
      "        Error function at x.\n",
      "    \n",
      "    erfc(x, /)\n",
      "        Complementary error function at x.\n",
      "    \n",
      "    exp(x, /)\n",
      "        Return e raised to the power of x.\n",
      "    \n",
      "    expm1(x, /)\n",
      "        Return exp(x)-1.\n",
      "        \n",
      "        This function avoids the loss of precision involved in the direct evaluation of exp(x)-1 for small x.\n",
      "    \n",
      "    fabs(x, /)\n",
      "        Return the absolute value of the float x.\n",
      "    \n",
      "    factorial(x, /)\n",
      "        Find x!.\n",
      "        \n",
      "        Raise a ValueError if x is negative or non-integral.\n",
      "    \n",
      "    floor(x, /)\n",
      "        Return the floor of x as an Integral.\n",
      "        \n",
      "        This is the largest integer <= x.\n",
      "    \n",
      "    fmod(x, y, /)\n",
      "        Return fmod(x, y), according to platform C.\n",
      "        \n",
      "        x % y may differ.\n",
      "    \n",
      "    frexp(x, /)\n",
      "        Return the mantissa and exponent of x, as pair (m, e).\n",
      "        \n",
      "        m is a float and e is an int, such that x = m * 2.**e.\n",
      "        If x is 0, m and e are both 0.  Else 0.5 <= abs(m) < 1.0.\n",
      "    \n",
      "    fsum(seq, /)\n",
      "        Return an accurate floating point sum of values in the iterable seq.\n",
      "        \n",
      "        Assumes IEEE-754 floating point arithmetic.\n",
      "    \n",
      "    gamma(x, /)\n",
      "        Gamma function at x.\n",
      "    \n",
      "    gcd(x, y, /)\n",
      "        greatest common divisor of x and y\n",
      "    \n",
      "    hypot(x, y, /)\n",
      "        Return the Euclidean distance, sqrt(x*x + y*y).\n",
      "    \n",
      "    isclose(a, b, *, rel_tol=1e-09, abs_tol=0.0)\n",
      "        Determine whether two floating point numbers are close in value.\n",
      "        \n",
      "          rel_tol\n",
      "            maximum difference for being considered \"close\", relative to the\n",
      "            magnitude of the input values\n",
      "          abs_tol\n",
      "            maximum difference for being considered \"close\", regardless of the\n",
      "            magnitude of the input values\n",
      "        \n",
      "        Return True if a is close in value to b, and False otherwise.\n",
      "        \n",
      "        For the values to be considered close, the difference between them\n",
      "        must be smaller than at least one of the tolerances.\n",
      "        \n",
      "        -inf, inf and NaN behave similarly to the IEEE 754 Standard.  That\n",
      "        is, NaN is not close to anything, even itself.  inf and -inf are\n",
      "        only close to themselves.\n",
      "    \n",
      "    isfinite(x, /)\n",
      "        Return True if x is neither an infinity nor a NaN, and False otherwise.\n",
      "    \n",
      "    isinf(x, /)\n",
      "        Return True if x is a positive or negative infinity, and False otherwise.\n",
      "    \n",
      "    isnan(x, /)\n",
      "        Return True if x is a NaN (not a number), and False otherwise.\n",
      "    \n",
      "    ldexp(x, i, /)\n",
      "        Return x * (2**i).\n",
      "        \n",
      "        This is essentially the inverse of frexp().\n",
      "    \n",
      "    lgamma(x, /)\n",
      "        Natural logarithm of absolute value of Gamma function at x.\n",
      "    \n",
      "    log(...)\n",
      "        log(x, [base=math.e])\n",
      "        Return the logarithm of x to the given base.\n",
      "        \n",
      "        If the base not specified, returns the natural logarithm (base e) of x.\n",
      "    \n",
      "    log10(x, /)\n",
      "        Return the base 10 logarithm of x.\n",
      "    \n",
      "    log1p(x, /)\n",
      "        Return the natural logarithm of 1+x (base e).\n",
      "        \n",
      "        The result is computed in a way which is accurate for x near zero.\n",
      "    \n",
      "    log2(x, /)\n",
      "        Return the base 2 logarithm of x.\n",
      "    \n",
      "    modf(x, /)\n",
      "        Return the fractional and integer parts of x.\n",
      "        \n",
      "        Both results carry the sign of x and are floats.\n",
      "    \n",
      "    pow(x, y, /)\n",
      "        Return x**y (x to the power of y).\n",
      "    \n",
      "    radians(x, /)\n",
      "        Convert angle x from degrees to radians.\n",
      "    \n",
      "    remainder(x, y, /)\n",
      "        Difference between x and the closest integer multiple of y.\n",
      "        \n",
      "        Return x - n*y where n*y is the closest integer multiple of y.\n",
      "        In the case where x is exactly halfway between two multiples of\n",
      "        y, the nearest even value of n is used. The result is always exact.\n",
      "    \n",
      "    sin(x, /)\n",
      "        Return the sine of x (measured in radians).\n",
      "    \n",
      "    sinh(x, /)\n",
      "        Return the hyperbolic sine of x.\n",
      "    \n",
      "    sqrt(x, /)\n",
      "        Return the square root of x.\n",
      "    \n",
      "    tan(x, /)\n",
      "        Return the tangent of x (measured in radians).\n",
      "    \n",
      "    tanh(x, /)\n",
      "        Return the hyperbolic tangent of x.\n",
      "    \n",
      "    trunc(x, /)\n",
      "        Truncates the Real x to the nearest Integral toward 0.\n",
      "        \n",
      "        Uses the __trunc__ magic method.\n",
      "\n",
      "DATA\n",
      "    e = 2.718281828459045\n",
      "    inf = inf\n",
      "    nan = nan\n",
      "    pi = 3.141592653589793\n",
      "    tau = 6.283185307179586\n",
      "\n",
      "FILE\n",
      "    /Users/Giwrgakis/opt/anaconda3/envs/glGA37/lib/python3.7/lib-dynload/math.cpython-37m-darwin.so\n",
      "\n",
      "\n"
     ]
    }
   ],
   "source": [
    "from math import e\n",
    "import math\n",
    "help(math)\n"
   ]
  },
  {
   "cell_type": "code",
   "execution_count": null,
   "metadata": {},
   "outputs": [],
   "source": [
    "def sig(z):\n",
    "    x = 1 / (1+e**-z)\n",
    "    return x"
   ]
  },
  {
   "cell_type": "code",
   "execution_count": null,
   "metadata": {},
   "outputs": [
    {
     "data": {
      "text/plain": [
       "0.5841905229354073"
      ]
     },
     "execution_count": 94,
     "metadata": {},
     "output_type": "execute_result"
    }
   ],
   "source": [
    "sigma = sig(0.34)\n",
    "sigma"
   ]
  },
  {
   "cell_type": "markdown",
   "metadata": {},
   "source": [
    "### start training for logistic regression on the *titanic* dataset"
   ]
  },
  {
   "cell_type": "code",
   "execution_count": null,
   "metadata": {},
   "outputs": [],
   "source": [
    "train = pd.read_csv('_data/titanic_train.csv')"
   ]
  },
  {
   "cell_type": "code",
   "execution_count": null,
   "metadata": {},
   "outputs": [
    {
     "data": {
      "text/html": [
       "<div>\n",
       "<style scoped>\n",
       "    .dataframe tbody tr th:only-of-type {\n",
       "        vertical-align: middle;\n",
       "    }\n",
       "\n",
       "    .dataframe tbody tr th {\n",
       "        vertical-align: top;\n",
       "    }\n",
       "\n",
       "    .dataframe thead th {\n",
       "        text-align: right;\n",
       "    }\n",
       "</style>\n",
       "<table border=\"1\" class=\"dataframe\">\n",
       "  <thead>\n",
       "    <tr style=\"text-align: right;\">\n",
       "      <th></th>\n",
       "      <th>PassengerId</th>\n",
       "      <th>Survived</th>\n",
       "      <th>Pclass</th>\n",
       "      <th>Name</th>\n",
       "      <th>Sex</th>\n",
       "      <th>Age</th>\n",
       "      <th>SibSp</th>\n",
       "      <th>Parch</th>\n",
       "      <th>Ticket</th>\n",
       "      <th>Fare</th>\n",
       "      <th>Cabin</th>\n",
       "      <th>Embarked</th>\n",
       "    </tr>\n",
       "  </thead>\n",
       "  <tbody>\n",
       "    <tr>\n",
       "      <th>0</th>\n",
       "      <td>1</td>\n",
       "      <td>0</td>\n",
       "      <td>3</td>\n",
       "      <td>Braund, Mr. Owen Harris</td>\n",
       "      <td>male</td>\n",
       "      <td>22.0</td>\n",
       "      <td>1</td>\n",
       "      <td>0</td>\n",
       "      <td>A/5 21171</td>\n",
       "      <td>7.2500</td>\n",
       "      <td>NaN</td>\n",
       "      <td>S</td>\n",
       "    </tr>\n",
       "    <tr>\n",
       "      <th>1</th>\n",
       "      <td>2</td>\n",
       "      <td>1</td>\n",
       "      <td>1</td>\n",
       "      <td>Cumings, Mrs. John Bradley (Florence Briggs Th...</td>\n",
       "      <td>female</td>\n",
       "      <td>38.0</td>\n",
       "      <td>1</td>\n",
       "      <td>0</td>\n",
       "      <td>PC 17599</td>\n",
       "      <td>71.2833</td>\n",
       "      <td>C85</td>\n",
       "      <td>C</td>\n",
       "    </tr>\n",
       "    <tr>\n",
       "      <th>2</th>\n",
       "      <td>3</td>\n",
       "      <td>1</td>\n",
       "      <td>3</td>\n",
       "      <td>Heikkinen, Miss. Laina</td>\n",
       "      <td>female</td>\n",
       "      <td>26.0</td>\n",
       "      <td>0</td>\n",
       "      <td>0</td>\n",
       "      <td>STON/O2. 3101282</td>\n",
       "      <td>7.9250</td>\n",
       "      <td>NaN</td>\n",
       "      <td>S</td>\n",
       "    </tr>\n",
       "    <tr>\n",
       "      <th>3</th>\n",
       "      <td>4</td>\n",
       "      <td>1</td>\n",
       "      <td>1</td>\n",
       "      <td>Futrelle, Mrs. Jacques Heath (Lily May Peel)</td>\n",
       "      <td>female</td>\n",
       "      <td>35.0</td>\n",
       "      <td>1</td>\n",
       "      <td>0</td>\n",
       "      <td>113803</td>\n",
       "      <td>53.1000</td>\n",
       "      <td>C123</td>\n",
       "      <td>S</td>\n",
       "    </tr>\n",
       "    <tr>\n",
       "      <th>4</th>\n",
       "      <td>5</td>\n",
       "      <td>0</td>\n",
       "      <td>3</td>\n",
       "      <td>Allen, Mr. William Henry</td>\n",
       "      <td>male</td>\n",
       "      <td>35.0</td>\n",
       "      <td>0</td>\n",
       "      <td>0</td>\n",
       "      <td>373450</td>\n",
       "      <td>8.0500</td>\n",
       "      <td>NaN</td>\n",
       "      <td>S</td>\n",
       "    </tr>\n",
       "  </tbody>\n",
       "</table>\n",
       "</div>"
      ],
      "text/plain": [
       "   PassengerId  Survived  Pclass  \\\n",
       "0            1         0       3   \n",
       "1            2         1       1   \n",
       "2            3         1       3   \n",
       "3            4         1       1   \n",
       "4            5         0       3   \n",
       "\n",
       "                                                Name     Sex   Age  SibSp  \\\n",
       "0                            Braund, Mr. Owen Harris    male  22.0      1   \n",
       "1  Cumings, Mrs. John Bradley (Florence Briggs Th...  female  38.0      1   \n",
       "2                             Heikkinen, Miss. Laina  female  26.0      0   \n",
       "3       Futrelle, Mrs. Jacques Heath (Lily May Peel)  female  35.0      1   \n",
       "4                           Allen, Mr. William Henry    male  35.0      0   \n",
       "\n",
       "   Parch            Ticket     Fare Cabin Embarked  \n",
       "0      0         A/5 21171   7.2500   NaN        S  \n",
       "1      0          PC 17599  71.2833   C85        C  \n",
       "2      0  STON/O2. 3101282   7.9250   NaN        S  \n",
       "3      0            113803  53.1000  C123        S  \n",
       "4      0            373450   8.0500   NaN        S  "
      ]
     },
     "execution_count": 53,
     "metadata": {},
     "output_type": "execute_result"
    }
   ],
   "source": [
    "train.head()"
   ]
  },
  {
   "cell_type": "code",
   "execution_count": null,
   "metadata": {},
   "outputs": [],
   "source": [
    "from sklearn.model_selection import train_test_split\n",
    "from sklearn.linear_model import LogisticRegression"
   ]
  },
  {
   "cell_type": "code",
   "execution_count": null,
   "metadata": {},
   "outputs": [],
   "source": [
    "#logmodel = LogisticRegression()\n",
    "#logmodel.fit(X_train,y_train)\n",
    "#predictions = logmodel.predict(X_test)"
   ]
  },
  {
   "cell_type": "code",
   "execution_count": null,
   "metadata": {},
   "outputs": [],
   "source": [
    "#evaluation\n",
    "#from sklearn.metrics import classification_report\n",
    "#print(classification_report(y_test,predictions))"
   ]
  },
  {
   "cell_type": "markdown",
   "metadata": {},
   "source": [
    "### start training for k-nn classification"
   ]
  },
  {
   "cell_type": "code",
   "execution_count": null,
   "metadata": {},
   "outputs": [],
   "source": [
    "from sklearn.model_selection import train_test_split\n",
    "from sklearn.neighbors import KNeighborsClassifier"
   ]
  },
  {
   "cell_type": "code",
   "execution_count": null,
   "metadata": {},
   "outputs": [],
   "source": [
    "# X_train, X_test, y_train, y_test = train_test_split(scaled_features,df['TARGET CLASS'],test_size=0.30)"
   ]
  },
  {
   "cell_type": "code",
   "execution_count": null,
   "metadata": {},
   "outputs": [],
   "source": [
    "# knn = KNeighborsClassifier(n_neighbors=1)\n",
    "# knn.fit(X_train,y_train)\n",
    "# pred = knn.predict(X_test)"
   ]
  },
  {
   "cell_type": "code",
   "execution_count": null,
   "metadata": {},
   "outputs": [],
   "source": [
    "from sklearn.metrics import classification_report,confusion_matrix"
   ]
  },
  {
   "cell_type": "code",
   "execution_count": null,
   "metadata": {},
   "outputs": [],
   "source": [
    "# print(confusion_matrix(y_test,pred))\n",
    "# print(classification_report(y_test,pred))"
   ]
  },
  {
   "cell_type": "markdown",
   "metadata": {},
   "source": [
    "### Decision Trees and Random forests"
   ]
  },
  {
   "cell_type": "code",
   "execution_count": null,
   "metadata": {},
   "outputs": [],
   "source": [
    "df = pd.read_csv('./_data/kyphosis.csv')"
   ]
  },
  {
   "cell_type": "code",
   "execution_count": null,
   "metadata": {},
   "outputs": [
    {
     "data": {
      "text/html": [
       "<div>\n",
       "<style scoped>\n",
       "    .dataframe tbody tr th:only-of-type {\n",
       "        vertical-align: middle;\n",
       "    }\n",
       "\n",
       "    .dataframe tbody tr th {\n",
       "        vertical-align: top;\n",
       "    }\n",
       "\n",
       "    .dataframe thead th {\n",
       "        text-align: right;\n",
       "    }\n",
       "</style>\n",
       "<table border=\"1\" class=\"dataframe\">\n",
       "  <thead>\n",
       "    <tr style=\"text-align: right;\">\n",
       "      <th></th>\n",
       "      <th>Kyphosis</th>\n",
       "      <th>Age</th>\n",
       "      <th>Number</th>\n",
       "      <th>Start</th>\n",
       "    </tr>\n",
       "  </thead>\n",
       "  <tbody>\n",
       "    <tr>\n",
       "      <th>0</th>\n",
       "      <td>absent</td>\n",
       "      <td>71</td>\n",
       "      <td>3</td>\n",
       "      <td>5</td>\n",
       "    </tr>\n",
       "    <tr>\n",
       "      <th>1</th>\n",
       "      <td>absent</td>\n",
       "      <td>158</td>\n",
       "      <td>3</td>\n",
       "      <td>14</td>\n",
       "    </tr>\n",
       "    <tr>\n",
       "      <th>2</th>\n",
       "      <td>present</td>\n",
       "      <td>128</td>\n",
       "      <td>4</td>\n",
       "      <td>5</td>\n",
       "    </tr>\n",
       "    <tr>\n",
       "      <th>3</th>\n",
       "      <td>absent</td>\n",
       "      <td>2</td>\n",
       "      <td>5</td>\n",
       "      <td>1</td>\n",
       "    </tr>\n",
       "    <tr>\n",
       "      <th>4</th>\n",
       "      <td>absent</td>\n",
       "      <td>1</td>\n",
       "      <td>4</td>\n",
       "      <td>15</td>\n",
       "    </tr>\n",
       "  </tbody>\n",
       "</table>\n",
       "</div>"
      ],
      "text/plain": [
       "  Kyphosis  Age  Number  Start\n",
       "0   absent   71       3      5\n",
       "1   absent  158       3     14\n",
       "2  present  128       4      5\n",
       "3   absent    2       5      1\n",
       "4   absent    1       4     15"
      ]
     },
     "execution_count": 63,
     "metadata": {},
     "output_type": "execute_result"
    }
   ],
   "source": [
    "df.head()\n",
    "#df.info()"
   ]
  },
  {
   "cell_type": "code",
   "execution_count": null,
   "metadata": {},
   "outputs": [
    {
     "data": {
      "text/plain": [
       "<seaborn.axisgrid.PairGrid at 0x7fe759268b90>"
      ]
     },
     "execution_count": 64,
     "metadata": {},
     "output_type": "execute_result"
    },
    {
     "data": {
      "image/png": "[encoded data removed]",
      "image/svg+xml": "<?xml version=\"1.0\" encoding=\"utf-8\" standalone=\"no\"?>\n<!DOCTYPE svg PUBLIC \"-//W3C//DTD SVG 1.1//EN\"\n  \"http://www.w3.org/Graphics/SVG/1.1/DTD/svg11.dtd\">\n<!-- Created with matplotlib (https://matplotlib.org/) -->\n<svg height=\"549.75625pt\" version=\"1.1\" viewBox=\"0 0 624.156944 549.75625\" width=\"624.156944pt\" xmlns=\"http://www.w3.org/2000/svg\" xmlns:xlink=\"http://www.w3.org/1999/xlink\">\n <metadata>\n  <rdf:RDF xmlns:cc=\"http://creativecommons.org/ns#\" xmlns:dc=\"http://purl.org/dc/elements/1.1/\" xmlns:rdf=\"http://www.w3.org/1999/02/22-rdf-syntax-ns#\">\n   <cc:Work>\n    <dc:type rdf:resource=\"http://purl.org/dc/dcmitype/StillImage\"/>\n    <dc:date>2020-08-02T14:32:43.021486</dc:date>\n    <dc:format>image/svg+xml</dc:format>\n    <dc:creator>\n     <cc:Agent>\n      <dc:title>Matplotlib v3.3.0, https://matplotlib.org/</dc:title>\n     </cc:Agent>\n    </dc:creator>\n   </cc:Work>\n  </rdf:RDF>\n </metadata>\n <defs>\n  <style type=\"text/css\">*{stroke-linecap:butt;stroke-linejoin:round;}</style>\n </defs>\n <g id=\"figure_1\">\n  <g id=\"patch_1\">\n   <path d=\"M 0 549.75625 \nL 624.156944 549.75625 \nL 624.156944 0 \nL 0 0 \nz\n\" style=\"fill:none;\"/>\n  </g>\n  <g id=\"axes_1\">\n   <g id=\"patch_2\">\n    <path d=\"M 50.14375 168.866667 \nL 199.160627 168.866667 \nL 199.160627 7.2 \nL 50.14375 7.2 \nz\n\" style=\"fill:#ffffff;\"/>\n   </g>\n   <g id=\"matplotlib.axis_1\">\n    <g id=\"xtick_1\">\n     <g id=\"line2d_1\">\n      <defs>\n       <path d=\"M 0 0 \nL 0 3.5 \n\" id=\"m273c21cbb6\" style=\"stroke:#000000;stroke-width:0.8;\"/>\n      </defs>\n      <g>\n       <use style=\"stroke:#000000;stroke-width:0.8;\" x=\"87.371033\" xlink:href=\"#m273c21cbb6\" y=\"168.866667\"/>\n      </g>\n     </g>\n    </g>\n    <g id=\"xtick_2\">\n     <g id=\"line2d_2\">\n      <g>\n       <use style=\"stroke:#000000;stroke-width:0.8;\" x=\"159.411914\" xlink:href=\"#m273c21cbb6\" y=\"168.866667\"/>\n      </g>\n     </g>\n    </g>\n   </g>\n   <g id=\"matplotlib.axis_2\">\n    <g id=\"ytick_1\">\n     <g id=\"line2d_3\">\n      <defs>\n       <path d=\"M 0 0 \nL -3.5 0 \n\" id=\"m5bd31e76d0\" style=\"stroke:#000000;stroke-width:0.8;\"/>\n      </defs>\n      <g>\n       <use style=\"stroke:#000000;stroke-width:0.8;\" x=\"50.14375\" xlink:href=\"#m5bd31e76d0\" y=\"162.235107\"/>\n      </g>\n     </g>\n     <g id=\"text_1\">\n      <!-- 0 -->\n      <g transform=\"translate(36.78125 166.034326)scale(0.1 -0.1)\">\n       <defs>\n        <path d=\"M 31.78125 66.40625 \nQ 24.171875 66.40625 20.328125 58.90625 \nQ 16.5 51.421875 16.5 36.375 \nQ 16.5 21.390625 20.328125 13.890625 \nQ 24.171875 6.390625 31.78125 6.390625 \nQ 39.453125 6.390625 43.28125 13.890625 \nQ 47.125 21.390625 47.125 36.375 \nQ 47.125 51.421875 43.28125 58.90625 \nQ 39.453125 66.40625 31.78125 66.40625 \nz\nM 31.78125 74.21875 \nQ 44.046875 74.21875 50.515625 64.515625 \nQ 56.984375 54.828125 56.984375 36.375 \nQ 56.984375 17.96875 50.515625 8.265625 \nQ 44.046875 -1.421875 31.78125 -1.421875 \nQ 19.53125 -1.421875 13.0625 8.265625 \nQ 6.59375 17.96875 6.59375 36.375 \nQ 6.59375 54.828125 13.0625 64.515625 \nQ 19.53125 74.21875 31.78125 74.21875 \nz\n\" id=\"DejaVuSans-48\"/>\n       </defs>\n       <use xlink:href=\"#DejaVuSans-48\"/>\n      </g>\n     </g>\n    </g>\n    <g id=\"ytick_2\">\n     <g id=\"line2d_4\">\n      <g>\n       <use style=\"stroke:#000000;stroke-width:0.8;\" x=\"50.14375\" xlink:href=\"#m5bd31e76d0\" y=\"126.38884\"/>\n      </g>\n     </g>\n     <g id=\"text_2\">\n      <!-- 50 -->\n      <g transform=\"translate(30.41875 130.188058)scale(0.1 -0.1)\">\n       <defs>\n        <path d=\"M 10.796875 72.90625 \nL 49.515625 72.90625 \nL 49.515625 64.59375 \nL 19.828125 64.59375 \nL 19.828125 46.734375 \nQ 21.96875 47.46875 24.109375 47.828125 \nQ 26.265625 48.1875 28.421875 48.1875 \nQ 40.625 48.1875 47.75 41.5 \nQ 54.890625 34.8125 54.890625 23.390625 \nQ 54.890625 11.625 47.5625 5.09375 \nQ 40.234375 -1.421875 26.90625 -1.421875 \nQ 22.3125 -1.421875 17.546875 -0.640625 \nQ 12.796875 0.140625 7.71875 1.703125 \nL 7.71875 11.625 \nQ 12.109375 9.234375 16.796875 8.0625 \nQ 21.484375 6.890625 26.703125 6.890625 \nQ 35.15625 6.890625 40.078125 11.328125 \nQ 45.015625 15.765625 45.015625 23.390625 \nQ 45.015625 31 40.078125 35.4375 \nQ 35.15625 39.890625 26.703125 39.890625 \nQ 22.75 39.890625 18.8125 39.015625 \nQ 14.890625 38.140625 10.796875 36.28125 \nz\n\" id=\"DejaVuSans-53\"/>\n       </defs>\n       <use xlink:href=\"#DejaVuSans-53\"/>\n       <use x=\"63.623047\" xlink:href=\"#DejaVuSans-48\"/>\n      </g>\n     </g>\n    </g>\n    <g id=\"ytick_3\">\n     <g id=\"line2d_5\">\n      <g>\n       <use style=\"stroke:#000000;stroke-width:0.8;\" x=\"50.14375\" xlink:href=\"#m5bd31e76d0\" y=\"90.542572\"/>\n      </g>\n     </g>\n     <g id=\"text_3\">\n      <!-- 100 -->\n      <g transform=\"translate(24.05625 94.341791)scale(0.1 -0.1)\">\n       <defs>\n        <path d=\"M 12.40625 8.296875 \nL 28.515625 8.296875 \nL 28.515625 63.921875 \nL 10.984375 60.40625 \nL 10.984375 69.390625 \nL 28.421875 72.90625 \nL 38.28125 72.90625 \nL 38.28125 8.296875 \nL 54.390625 8.296875 \nL 54.390625 0 \nL 12.40625 0 \nz\n\" id=\"DejaVuSans-49\"/>\n       </defs>\n       <use xlink:href=\"#DejaVuSans-49\"/>\n       <use x=\"63.623047\" xlink:href=\"#DejaVuSans-48\"/>\n       <use x=\"127.246094\" xlink:href=\"#DejaVuSans-48\"/>\n      </g>\n     </g>\n    </g>\n    <g id=\"ytick_4\">\n     <g id=\"line2d_6\">\n      <g>\n       <use style=\"stroke:#000000;stroke-width:0.8;\" x=\"50.14375\" xlink:href=\"#m5bd31e76d0\" y=\"54.696305\"/>\n      </g>\n     </g>\n     <g id=\"text_4\">\n      <!-- 150 -->\n      <g transform=\"translate(24.05625 58.495523)scale(0.1 -0.1)\">\n       <use xlink:href=\"#DejaVuSans-49\"/>\n       <use x=\"63.623047\" xlink:href=\"#DejaVuSans-53\"/>\n       <use x=\"127.246094\" xlink:href=\"#DejaVuSans-48\"/>\n      </g>\n     </g>\n    </g>\n    <g id=\"ytick_5\">\n     <g id=\"line2d_7\">\n      <g>\n       <use style=\"stroke:#000000;stroke-width:0.8;\" x=\"50.14375\" xlink:href=\"#m5bd31e76d0\" y=\"18.850037\"/>\n      </g>\n     </g>\n     <g id=\"text_5\">\n      <!-- 200 -->\n      <g transform=\"translate(24.05625 22.649256)scale(0.1 -0.1)\">\n       <defs>\n        <path d=\"M 19.1875 8.296875 \nL 53.609375 8.296875 \nL 53.609375 0 \nL 7.328125 0 \nL 7.328125 8.296875 \nQ 12.9375 14.109375 22.625 23.890625 \nQ 32.328125 33.6875 34.8125 36.53125 \nQ 39.546875 41.84375 41.421875 45.53125 \nQ 43.3125 49.21875 43.3125 52.78125 \nQ 43.3125 58.59375 39.234375 62.25 \nQ 35.15625 65.921875 28.609375 65.921875 \nQ 23.96875 65.921875 18.8125 64.3125 \nQ 13.671875 62.703125 7.8125 59.421875 \nL 7.8125 69.390625 \nQ 13.765625 71.78125 18.9375 73 \nQ 24.125 74.21875 28.421875 74.21875 \nQ 39.75 74.21875 46.484375 68.546875 \nQ 53.21875 62.890625 53.21875 53.421875 \nQ 53.21875 48.921875 51.53125 44.890625 \nQ 49.859375 40.875 45.40625 35.40625 \nQ 44.1875 33.984375 37.640625 27.21875 \nQ 31.109375 20.453125 19.1875 8.296875 \nz\n\" id=\"DejaVuSans-50\"/>\n       </defs>\n       <use xlink:href=\"#DejaVuSans-50\"/>\n       <use x=\"63.623047\" xlink:href=\"#DejaVuSans-48\"/>\n       <use x=\"127.246094\" xlink:href=\"#DejaVuSans-48\"/>\n      </g>\n     </g>\n    </g>\n    <g id=\"text_6\">\n     <!-- Age -->\n     <g transform=\"translate(17.976562 97.704427)rotate(-90)scale(0.1 -0.1)\">\n      <defs>\n       <path d=\"M 34.1875 63.1875 \nL 20.796875 26.90625 \nL 47.609375 26.90625 \nz\nM 28.609375 72.90625 \nL 39.796875 72.90625 \nL 67.578125 0 \nL 57.328125 0 \nL 50.6875 18.703125 \nL 17.828125 18.703125 \nL 11.1875 0 \nL 0.78125 0 \nz\n\" id=\"DejaVuSans-65\"/>\n       <path d=\"M 45.40625 27.984375 \nQ 45.40625 37.75 41.375 43.109375 \nQ 37.359375 48.484375 30.078125 48.484375 \nQ 22.859375 48.484375 18.828125 43.109375 \nQ 14.796875 37.75 14.796875 27.984375 \nQ 14.796875 18.265625 18.828125 12.890625 \nQ 22.859375 7.515625 30.078125 7.515625 \nQ 37.359375 7.515625 41.375 12.890625 \nQ 45.40625 18.265625 45.40625 27.984375 \nz\nM 54.390625 6.78125 \nQ 54.390625 -7.171875 48.1875 -13.984375 \nQ 42 -20.796875 29.203125 -20.796875 \nQ 24.46875 -20.796875 20.265625 -20.09375 \nQ 16.0625 -19.390625 12.109375 -17.921875 \nL 12.109375 -9.1875 \nQ 16.0625 -11.328125 19.921875 -12.34375 \nQ 23.78125 -13.375 27.78125 -13.375 \nQ 36.625 -13.375 41.015625 -8.765625 \nQ 45.40625 -4.15625 45.40625 5.171875 \nL 45.40625 9.625 \nQ 42.625 4.78125 38.28125 2.390625 \nQ 33.9375 0 27.875 0 \nQ 17.828125 0 11.671875 7.65625 \nQ 5.515625 15.328125 5.515625 27.984375 \nQ 5.515625 40.671875 11.671875 48.328125 \nQ 17.828125 56 27.875 56 \nQ 33.9375 56 38.28125 53.609375 \nQ 42.625 51.21875 45.40625 46.390625 \nL 45.40625 54.6875 \nL 54.390625 54.6875 \nz\n\" id=\"DejaVuSans-103\"/>\n       <path d=\"M 56.203125 29.59375 \nL 56.203125 25.203125 \nL 14.890625 25.203125 \nQ 15.484375 15.921875 20.484375 11.0625 \nQ 25.484375 6.203125 34.421875 6.203125 \nQ 39.59375 6.203125 44.453125 7.46875 \nQ 49.3125 8.734375 54.109375 11.28125 \nL 54.109375 2.78125 \nQ 49.265625 0.734375 44.1875 -0.34375 \nQ 39.109375 -1.421875 33.890625 -1.421875 \nQ 20.796875 -1.421875 13.15625 6.1875 \nQ 5.515625 13.8125 5.515625 26.8125 \nQ 5.515625 40.234375 12.765625 48.109375 \nQ 20.015625 56 32.328125 56 \nQ 43.359375 56 49.78125 48.890625 \nQ 56.203125 41.796875 56.203125 29.59375 \nz\nM 47.21875 32.234375 \nQ 47.125 39.59375 43.09375 43.984375 \nQ 39.0625 48.390625 32.421875 48.390625 \nQ 24.90625 48.390625 20.390625 44.140625 \nQ 15.875 39.890625 15.1875 32.171875 \nz\n\" id=\"DejaVuSans-101\"/>\n      </defs>\n      <use xlink:href=\"#DejaVuSans-65\"/>\n      <use x=\"68.408203\" xlink:href=\"#DejaVuSans-103\"/>\n      <use x=\"131.884766\" xlink:href=\"#DejaVuSans-101\"/>\n     </g>\n    </g>\n   </g>\n   <g id=\"patch_3\">\n    <path d=\"M 50.14375 168.866667 \nL 50.14375 7.2 \n\" style=\"fill:none;stroke:#000000;stroke-linecap:square;stroke-linejoin:miter;stroke-width:0.8;\"/>\n   </g>\n   <g id=\"patch_4\">\n    <path d=\"M 50.14375 168.866667 \nL 199.160627 168.866667 \n\" style=\"fill:none;stroke:#000000;stroke-linecap:square;stroke-linejoin:miter;stroke-width:0.8;\"/>\n   </g>\n  </g>\n  <g id=\"axes_2\">\n   <g id=\"patch_5\">\n    <path d=\"M 221.535033 168.866667 \nL 370.551911 168.866667 \nL 370.551911 7.2 \nL 221.535033 7.2 \nz\n\" style=\"fill:#ffffff;\"/>\n   </g>\n   <g id=\"PathCollection_1\">\n    <defs>\n     <path d=\"M 0 3 \nC 0.795609 3 1.55874 2.683901 2.12132 2.12132 \nC 2.683901 1.55874 3 0.795609 3 0 \nC 3 -0.795609 2.683901 -1.55874 2.12132 -2.12132 \nC 1.55874 -2.683901 0.795609 -3 0 -3 \nC -0.795609 -3 -1.55874 -2.683901 -2.12132 -2.12132 \nC -2.683901 -1.55874 -3 -0.795609 -3 0 \nC -3 0.795609 -2.683901 1.55874 -2.12132 2.12132 \nC -1.55874 2.683901 -0.795609 3 0 3 \nz\n\" id=\"m00482ed16f\" style=\"stroke:#ffffff;stroke-width:0.75;\"/>\n    </defs>\n    <g clip-path=\"url(#p7e9962daeb)\">\n     <use style=\"fill:#e41a1c;stroke:#ffffff;stroke-width:0.75;\" x=\"260.015352\" xlink:href=\"#m00482ed16f\" y=\"111.333407\"/>\n     <use style=\"fill:#e41a1c;stroke:#ffffff;stroke-width:0.75;\" x=\"260.015352\" xlink:href=\"#m00482ed16f\" y=\"48.960902\"/>\n     <use style=\"fill:#e41a1c;stroke:#ffffff;stroke-width:0.75;\" x=\"281.470246\" xlink:href=\"#m00482ed16f\" y=\"160.801256\"/>\n     <use style=\"fill:#e41a1c;stroke:#ffffff;stroke-width:0.75;\" x=\"270.742799\" xlink:href=\"#m00482ed16f\" y=\"161.518182\"/>\n     <use style=\"fill:#e41a1c;stroke:#ffffff;stroke-width:0.75;\" x=\"249.287905\" xlink:href=\"#m00482ed16f\" y=\"161.518182\"/>\n     <use style=\"fill:#e41a1c;stroke:#ffffff;stroke-width:0.75;\" x=\"249.287905\" xlink:href=\"#m00482ed16f\" y=\"118.502661\"/>\n     <use style=\"fill:#e41a1c;stroke:#ffffff;stroke-width:0.75;\" x=\"260.015352\" xlink:href=\"#m00482ed16f\" y=\"135.708869\"/>\n     <use style=\"fill:#e41a1c;stroke:#ffffff;stroke-width:0.75;\" x=\"249.287905\" xlink:href=\"#m00482ed16f\" y=\"81.222542\"/>\n     <use style=\"fill:#e41a1c;stroke:#ffffff;stroke-width:0.75;\" x=\"260.015352\" xlink:href=\"#m00482ed16f\" y=\"56.130155\"/>\n     <use style=\"fill:#e41a1c;stroke:#ffffff;stroke-width:0.75;\" x=\"281.470246\" xlink:href=\"#m00482ed16f\" y=\"149.330451\"/>\n     <use style=\"fill:#e41a1c;stroke:#ffffff;stroke-width:0.75;\" x=\"270.742799\" xlink:href=\"#m00482ed16f\" y=\"161.518182\"/>\n     <use style=\"fill:#e41a1c;stroke:#ffffff;stroke-width:0.75;\" x=\"260.015352\" xlink:href=\"#m00482ed16f\" y=\"41.791648\"/>\n     <use style=\"fill:#e41a1c;stroke:#ffffff;stroke-width:0.75;\" x=\"260.015352\" xlink:href=\"#m00482ed16f\" y=\"161.518182\"/>\n     <use style=\"fill:#e41a1c;stroke:#ffffff;stroke-width:0.75;\" x=\"292.197693\" xlink:href=\"#m00482ed16f\" y=\"106.31493\"/>\n     <use style=\"fill:#e41a1c;stroke:#ffffff;stroke-width:0.75;\" x=\"281.470246\" xlink:href=\"#m00482ed16f\" y=\"36.773171\"/>\n     <use style=\"fill:#e41a1c;stroke:#ffffff;stroke-width:0.75;\" x=\"281.470246\" xlink:href=\"#m00482ed16f\" y=\"104.881079\"/>\n     <use style=\"fill:#e41a1c;stroke:#ffffff;stroke-width:0.75;\" x=\"270.742799\" xlink:href=\"#m00482ed16f\" y=\"142.878123\"/>\n     <use style=\"fill:#e41a1c;stroke:#ffffff;stroke-width:0.75;\" x=\"249.287905\" xlink:href=\"#m00482ed16f\" y=\"146.462749\"/>\n     <use style=\"fill:#e41a1c;stroke:#ffffff;stroke-width:0.75;\" x=\"249.287905\" xlink:href=\"#m00482ed16f\" y=\"68.317886\"/>\n     <use style=\"fill:#e41a1c;stroke:#ffffff;stroke-width:0.75;\" x=\"281.470246\" xlink:href=\"#m00482ed16f\" y=\"155.782779\"/>\n     <use style=\"fill:#e41a1c;stroke:#ffffff;stroke-width:0.75;\" x=\"260.015352\" xlink:href=\"#m00482ed16f\" y=\"156.499704\"/>\n     <use style=\"fill:#e41a1c;stroke:#ffffff;stroke-width:0.75;\" x=\"260.015352\" xlink:href=\"#m00482ed16f\" y=\"90.542572\"/>\n     <use style=\"fill:#e41a1c;stroke:#ffffff;stroke-width:0.75;\" x=\"260.015352\" xlink:href=\"#m00482ed16f\" y=\"159.367406\"/>\n     <use style=\"fill:#e41a1c;stroke:#ffffff;stroke-width:0.75;\" x=\"249.287905\" xlink:href=\"#m00482ed16f\" y=\"53.979379\"/>\n     <use style=\"fill:#e41a1c;stroke:#ffffff;stroke-width:0.75;\" x=\"260.015352\" xlink:href=\"#m00482ed16f\" y=\"140.010421\"/>\n     <use style=\"fill:#e41a1c;stroke:#ffffff;stroke-width:0.75;\" x=\"249.287905\" xlink:href=\"#m00482ed16f\" y=\"72.619438\"/>\n     <use style=\"fill:#e41a1c;stroke:#ffffff;stroke-width:0.75;\" x=\"281.470246\" xlink:href=\"#m00482ed16f\" y=\"69.034812\"/>\n     <use style=\"fill:#e41a1c;stroke:#ffffff;stroke-width:0.75;\" x=\"260.015352\" xlink:href=\"#m00482ed16f\" y=\"81.939468\"/>\n     <use style=\"fill:#e41a1c;stroke:#ffffff;stroke-width:0.75;\" x=\"281.470246\" xlink:href=\"#m00482ed16f\" y=\"61.865558\"/>\n     <use style=\"fill:#e41a1c;stroke:#ffffff;stroke-width:0.75;\" x=\"260.015352\" xlink:href=\"#m00482ed16f\" y=\"95.56105\"/>\n     <use style=\"fill:#e41a1c;stroke:#ffffff;stroke-width:0.75;\" x=\"260.015352\" xlink:href=\"#m00482ed16f\" y=\"161.518182\"/>\n     <use style=\"fill:#e41a1c;stroke:#ffffff;stroke-width:0.75;\" x=\"292.197693\" xlink:href=\"#m00482ed16f\" y=\"147.8966\"/>\n     <use style=\"fill:#e41a1c;stroke:#ffffff;stroke-width:0.75;\" x=\"260.015352\" xlink:href=\"#m00482ed16f\" y=\"137.14272\"/>\n     <use style=\"fill:#e41a1c;stroke:#ffffff;stroke-width:0.75;\" x=\"324.380035\" xlink:href=\"#m00482ed16f\" y=\"59.714782\"/>\n     <use style=\"fill:#e41a1c;stroke:#ffffff;stroke-width:0.75;\" x=\"270.742799\" xlink:href=\"#m00482ed16f\" y=\"118.502661\"/>\n     <use style=\"fill:#e41a1c;stroke:#ffffff;stroke-width:0.75;\" x=\"260.015352\" xlink:href=\"#m00482ed16f\" y=\"92.693348\"/>\n     <use style=\"fill:#e41a1c;stroke:#ffffff;stroke-width:0.75;\" x=\"270.742799\" xlink:href=\"#m00482ed16f\" y=\"64.733259\"/>\n     <use style=\"fill:#e41a1c;stroke:#ffffff;stroke-width:0.75;\" x=\"281.470246\" xlink:href=\"#m00482ed16f\" y=\"68.317886\"/>\n     <use style=\"fill:#e41a1c;stroke:#ffffff;stroke-width:0.75;\" x=\"249.287905\" xlink:href=\"#m00482ed16f\" y=\"35.33932\"/>\n     <use style=\"fill:#e41a1c;stroke:#ffffff;stroke-width:0.75;\" x=\"281.470246\" xlink:href=\"#m00482ed16f\" y=\"113.484183\"/>\n     <use style=\"fill:#e41a1c;stroke:#ffffff;stroke-width:0.75;\" x=\"249.287905\" xlink:href=\"#m00482ed16f\" y=\"155.782779\"/>\n     <use style=\"fill:#e41a1c;stroke:#ffffff;stroke-width:0.75;\" x=\"249.287905\" xlink:href=\"#m00482ed16f\" y=\"160.801256\"/>\n     <use style=\"fill:#e41a1c;stroke:#ffffff;stroke-width:0.75;\" x=\"270.742799\" xlink:href=\"#m00482ed16f\" y=\"61.865558\"/>\n     <use style=\"fill:#e41a1c;stroke:#ffffff;stroke-width:0.75;\" x=\"281.470246\" xlink:href=\"#m00482ed16f\" y=\"110.616482\"/>\n     <use style=\"fill:#e41a1c;stroke:#ffffff;stroke-width:0.75;\" x=\"260.015352\" xlink:href=\"#m00482ed16f\" y=\"160.801256\"/>\n     <use style=\"fill:#e41a1c;stroke:#ffffff;stroke-width:0.75;\" x=\"302.925141\" xlink:href=\"#m00482ed16f\" y=\"125.671914\"/>\n     <use style=\"fill:#e41a1c;stroke:#ffffff;stroke-width:0.75;\" x=\"260.015352\" xlink:href=\"#m00482ed16f\" y=\"89.108721\"/>\n     <use style=\"fill:#e41a1c;stroke:#ffffff;stroke-width:0.75;\" x=\"270.742799\" xlink:href=\"#m00482ed16f\" y=\"104.164154\"/>\n     <use style=\"fill:#e41a1c;stroke:#ffffff;stroke-width:0.75;\" x=\"260.015352\" xlink:href=\"#m00482ed16f\" y=\"77.637916\"/>\n     <use style=\"fill:#e41a1c;stroke:#ffffff;stroke-width:0.75;\" x=\"270.742799\" xlink:href=\"#m00482ed16f\" y=\"77.637916\"/>\n     <use style=\"fill:#e41a1c;stroke:#ffffff;stroke-width:0.75;\" x=\"270.742799\" xlink:href=\"#m00482ed16f\" y=\"150.047376\"/>\n     <use style=\"fill:#e41a1c;stroke:#ffffff;stroke-width:0.75;\" x=\"249.287905\" xlink:href=\"#m00482ed16f\" y=\"22.434664\"/>\n     <use style=\"fill:#e41a1c;stroke:#ffffff;stroke-width:0.75;\" x=\"270.742799\" xlink:href=\"#m00482ed16f\" y=\"48.243976\"/>\n     <use style=\"fill:#e41a1c;stroke:#ffffff;stroke-width:0.75;\" x=\"270.742799\" xlink:href=\"#m00482ed16f\" y=\"149.330451\"/>\n     <use style=\"fill:#e41a1c;stroke:#ffffff;stroke-width:0.75;\" x=\"281.470246\" xlink:href=\"#m00482ed16f\" y=\"151.481227\"/>\n     <use style=\"fill:#e41a1c;stroke:#ffffff;stroke-width:0.75;\" x=\"281.470246\" xlink:href=\"#m00482ed16f\" y=\"48.960902\"/>\n     <use style=\"fill:#e41a1c;stroke:#ffffff;stroke-width:0.75;\" x=\"270.742799\" xlink:href=\"#m00482ed16f\" y=\"71.185588\"/>\n     <use style=\"fill:#e41a1c;stroke:#ffffff;stroke-width:0.75;\" x=\"270.742799\" xlink:href=\"#m00482ed16f\" y=\"99.862602\"/>\n     <use style=\"fill:#e41a1c;stroke:#ffffff;stroke-width:0.75;\" x=\"270.742799\" xlink:href=\"#m00482ed16f\" y=\"14.548485\"/>\n     <use style=\"fill:#e41a1c;stroke:#ffffff;stroke-width:0.75;\" x=\"260.015352\" xlink:href=\"#m00482ed16f\" y=\"154.348928\"/>\n     <use style=\"fill:#e41a1c;stroke:#ffffff;stroke-width:0.75;\" x=\"270.742799\" xlink:href=\"#m00482ed16f\" y=\"34.622395\"/>\n     <use style=\"fill:#e41a1c;stroke:#ffffff;stroke-width:0.75;\" x=\"302.925141\" xlink:href=\"#m00482ed16f\" y=\"143.595048\"/>\n     <use style=\"fill:#e41a1c;stroke:#ffffff;stroke-width:0.75;\" x=\"249.287905\" xlink:href=\"#m00482ed16f\" y=\"76.204065\"/>\n     <use style=\"fill:#e41a1c;stroke:#ffffff;stroke-width:0.75;\" x=\"270.742799\" xlink:href=\"#m00482ed16f\" y=\"136.425795\"/>\n    </g>\n   </g>\n   <g id=\"PathCollection_2\">\n    <defs>\n     <path d=\"M 0 3 \nC 0.795609 3 1.55874 2.683901 2.12132 2.12132 \nC 2.683901 1.55874 3 0.795609 3 0 \nC 3 -0.795609 2.683901 -1.55874 2.12132 -2.12132 \nC 1.55874 -2.683901 0.795609 -3 0 -3 \nC -0.795609 -3 -1.55874 -2.683901 -2.12132 -2.12132 \nC -2.683901 -1.55874 -3 -0.795609 -3 0 \nC -3 0.795609 -2.683901 1.55874 -2.12132 2.12132 \nC -1.55874 2.683901 -0.795609 3 0 3 \nz\n\" id=\"mdf1c74b52f\" style=\"stroke:#ffffff;stroke-width:0.75;\"/>\n    </defs>\n    <g clip-path=\"url(#p7e9962daeb)\">\n     <use style=\"fill:#377eb8;stroke:#ffffff;stroke-width:0.75;\" x=\"270.742799\" xlink:href=\"#mdf1c74b52f\" y=\"70.468662\"/>\n     <use style=\"fill:#377eb8;stroke:#ffffff;stroke-width:0.75;\" x=\"292.197693\" xlink:href=\"#mdf1c74b52f\" y=\"119.936511\"/>\n     <use style=\"fill:#377eb8;stroke:#ffffff;stroke-width:0.75;\" x=\"281.470246\" xlink:href=\"#mdf1c74b52f\" y=\"103.447228\"/>\n     <use style=\"fill:#377eb8;stroke:#ffffff;stroke-width:0.75;\" x=\"292.197693\" xlink:href=\"#mdf1c74b52f\" y=\"86.957945\"/>\n     <use style=\"fill:#377eb8;stroke:#ffffff;stroke-width:0.75;\" x=\"260.015352\" xlink:href=\"#mdf1c74b52f\" y=\"93.410273\"/>\n     <use style=\"fill:#377eb8;stroke:#ffffff;stroke-width:0.75;\" x=\"302.925141\" xlink:href=\"#mdf1c74b52f\" y=\"151.481227\"/>\n     <use style=\"fill:#377eb8;stroke:#ffffff;stroke-width:0.75;\" x=\"281.470246\" xlink:href=\"#mdf1c74b52f\" y=\"124.954989\"/>\n     <use style=\"fill:#377eb8;stroke:#ffffff;stroke-width:0.75;\" x=\"281.470246\" xlink:href=\"#mdf1c74b52f\" y=\"96.9949\"/>\n     <use style=\"fill:#377eb8;stroke:#ffffff;stroke-width:0.75;\" x=\"281.470246\" xlink:href=\"#mdf1c74b52f\" y=\"109.899557\"/>\n     <use style=\"fill:#377eb8;stroke:#ffffff;stroke-width:0.75;\" x=\"260.015352\" xlink:href=\"#mdf1c74b52f\" y=\"62.582483\"/>\n     <use style=\"fill:#377eb8;stroke:#ffffff;stroke-width:0.75;\" x=\"260.015352\" xlink:href=\"#mdf1c74b52f\" y=\"75.48714\"/>\n     <use style=\"fill:#377eb8;stroke:#ffffff;stroke-width:0.75;\" x=\"335.107482\" xlink:href=\"#mdf1c74b52f\" y=\"62.582483\"/>\n     <use style=\"fill:#377eb8;stroke:#ffffff;stroke-width:0.75;\" x=\"281.470246\" xlink:href=\"#mdf1c74b52f\" y=\"76.204065\"/>\n     <use style=\"fill:#377eb8;stroke:#ffffff;stroke-width:0.75;\" x=\"270.742799\" xlink:href=\"#mdf1c74b52f\" y=\"69.034812\"/>\n     <use style=\"fill:#377eb8;stroke:#ffffff;stroke-width:0.75;\" x=\"302.925141\" xlink:href=\"#mdf1c74b52f\" y=\"80.505617\"/>\n     <use style=\"fill:#377eb8;stroke:#ffffff;stroke-width:0.75;\" x=\"260.015352\" xlink:href=\"#mdf1c74b52f\" y=\"49.677827\"/>\n     <use style=\"fill:#377eb8;stroke:#ffffff;stroke-width:0.75;\" x=\"302.925141\" xlink:href=\"#mdf1c74b52f\" y=\"132.124242\"/>\n    </g>\n   </g>\n   <g id=\"matplotlib.axis_3\">\n    <g id=\"xtick_3\">\n     <g id=\"line2d_8\">\n      <g>\n       <use style=\"stroke:#000000;stroke-width:0.8;\" x=\"227.833011\" xlink:href=\"#m273c21cbb6\" y=\"168.866667\"/>\n      </g>\n     </g>\n    </g>\n    <g id=\"xtick_4\">\n     <g id=\"line2d_9\">\n      <g>\n       <use style=\"stroke:#000000;stroke-width:0.8;\" x=\"281.470246\" xlink:href=\"#m273c21cbb6\" y=\"168.866667\"/>\n      </g>\n     </g>\n    </g>\n    <g id=\"xtick_5\">\n     <g id=\"line2d_10\">\n      <g>\n       <use style=\"stroke:#000000;stroke-width:0.8;\" x=\"335.107482\" xlink:href=\"#m273c21cbb6\" y=\"168.866667\"/>\n      </g>\n     </g>\n    </g>\n   </g>\n   <g id=\"matplotlib.axis_4\">\n    <g id=\"ytick_6\">\n     <g id=\"line2d_11\">\n      <g>\n       <use style=\"stroke:#000000;stroke-width:0.8;\" x=\"221.535033\" xlink:href=\"#m5bd31e76d0\" y=\"162.235107\"/>\n      </g>\n     </g>\n    </g>\n    <g id=\"ytick_7\">\n     <g id=\"line2d_12\">\n      <g>\n       <use style=\"stroke:#000000;stroke-width:0.8;\" x=\"221.535033\" xlink:href=\"#m5bd31e76d0\" y=\"126.38884\"/>\n      </g>\n     </g>\n    </g>\n    <g id=\"ytick_8\">\n     <g id=\"line2d_13\">\n      <g>\n       <use style=\"stroke:#000000;stroke-width:0.8;\" x=\"221.535033\" xlink:href=\"#m5bd31e76d0\" y=\"90.542572\"/>\n      </g>\n     </g>\n    </g>\n    <g id=\"ytick_9\">\n     <g id=\"line2d_14\">\n      <g>\n       <use style=\"stroke:#000000;stroke-width:0.8;\" x=\"221.535033\" xlink:href=\"#m5bd31e76d0\" y=\"54.696305\"/>\n      </g>\n     </g>\n    </g>\n    <g id=\"ytick_10\">\n     <g id=\"line2d_15\">\n      <g>\n       <use style=\"stroke:#000000;stroke-width:0.8;\" x=\"221.535033\" xlink:href=\"#m5bd31e76d0\" y=\"18.850037\"/>\n      </g>\n     </g>\n    </g>\n   </g>\n   <g id=\"patch_6\">\n    <path d=\"M 221.535033 168.866667 \nL 221.535033 7.2 \n\" style=\"fill:none;stroke:#000000;stroke-linecap:square;stroke-linejoin:miter;stroke-width:0.8;\"/>\n   </g>\n   <g id=\"patch_7\">\n    <path d=\"M 221.535033 168.866667 \nL 370.551911 168.866667 \n\" style=\"fill:none;stroke:#000000;stroke-linecap:square;stroke-linejoin:miter;stroke-width:0.8;\"/>\n   </g>\n  </g>\n  <g id=\"axes_3\">\n   <g id=\"patch_8\">\n    <path d=\"M 392.926317 168.866667 \nL 541.943194 168.866667 \nL 541.943194 7.2 \nL 392.926317 7.2 \nz\n\" style=\"fill:#ffffff;\"/>\n   </g>\n   <g id=\"PathCollection_3\">\n    <g clip-path=\"url(#p3557abbed9)\">\n     <use style=\"fill:#e41a1c;stroke:#ffffff;stroke-width:0.75;\" x=\"452.901007\" xlink:href=\"#m00482ed16f\" y=\"111.333407\"/>\n     <use style=\"fill:#e41a1c;stroke:#ffffff;stroke-width:0.75;\" x=\"493.75046\" xlink:href=\"#m00482ed16f\" y=\"48.960902\"/>\n     <use style=\"fill:#e41a1c;stroke:#ffffff;stroke-width:0.75;\" x=\"434.745694\" xlink:href=\"#m00482ed16f\" y=\"160.801256\"/>\n     <use style=\"fill:#e41a1c;stroke:#ffffff;stroke-width:0.75;\" x=\"498.289289\" xlink:href=\"#m00482ed16f\" y=\"161.518182\"/>\n     <use style=\"fill:#e41a1c;stroke:#ffffff;stroke-width:0.75;\" x=\"502.828117\" xlink:href=\"#m00482ed16f\" y=\"161.518182\"/>\n     <use style=\"fill:#e41a1c;stroke:#ffffff;stroke-width:0.75;\" x=\"507.366945\" xlink:href=\"#m00482ed16f\" y=\"118.502661\"/>\n     <use style=\"fill:#e41a1c;stroke:#ffffff;stroke-width:0.75;\" x=\"502.828117\" xlink:href=\"#m00482ed16f\" y=\"135.708869\"/>\n     <use style=\"fill:#e41a1c;stroke:#ffffff;stroke-width:0.75;\" x=\"502.828117\" xlink:href=\"#m00482ed16f\" y=\"81.222542\"/>\n     <use style=\"fill:#e41a1c;stroke:#ffffff;stroke-width:0.75;\" x=\"502.828117\" xlink:href=\"#m00482ed16f\" y=\"56.130155\"/>\n     <use style=\"fill:#e41a1c;stroke:#ffffff;stroke-width:0.75;\" x=\"439.284522\" xlink:href=\"#m00482ed16f\" y=\"149.330451\"/>\n     <use style=\"fill:#e41a1c;stroke:#ffffff;stroke-width:0.75;\" x=\"484.672804\" xlink:href=\"#m00482ed16f\" y=\"161.518182\"/>\n     <use style=\"fill:#e41a1c;stroke:#ffffff;stroke-width:0.75;\" x=\"511.905773\" xlink:href=\"#m00482ed16f\" y=\"41.791648\"/>\n     <use style=\"fill:#e41a1c;stroke:#ffffff;stroke-width:0.75;\" x=\"502.828117\" xlink:href=\"#m00482ed16f\" y=\"161.518182\"/>\n     <use style=\"fill:#e41a1c;stroke:#ffffff;stroke-width:0.75;\" x=\"498.289289\" xlink:href=\"#m00482ed16f\" y=\"106.31493\"/>\n     <use style=\"fill:#e41a1c;stroke:#ffffff;stroke-width:0.75;\" x=\"489.211632\" xlink:href=\"#m00482ed16f\" y=\"36.773171\"/>\n     <use style=\"fill:#e41a1c;stroke:#ffffff;stroke-width:0.75;\" x=\"502.828117\" xlink:href=\"#m00482ed16f\" y=\"104.881079\"/>\n     <use style=\"fill:#e41a1c;stroke:#ffffff;stroke-width:0.75;\" x=\"471.056319\" xlink:href=\"#m00482ed16f\" y=\"142.878123\"/>\n     <use style=\"fill:#e41a1c;stroke:#ffffff;stroke-width:0.75;\" x=\"502.828117\" xlink:href=\"#m00482ed16f\" y=\"146.462749\"/>\n     <use style=\"fill:#e41a1c;stroke:#ffffff;stroke-width:0.75;\" x=\"443.82335\" xlink:href=\"#m00482ed16f\" y=\"68.317886\"/>\n     <use style=\"fill:#e41a1c;stroke:#ffffff;stroke-width:0.75;\" x=\"489.211632\" xlink:href=\"#m00482ed16f\" y=\"155.782779\"/>\n     <use style=\"fill:#e41a1c;stroke:#ffffff;stroke-width:0.75;\" x=\"457.439835\" xlink:href=\"#m00482ed16f\" y=\"156.499704\"/>\n     <use style=\"fill:#e41a1c;stroke:#ffffff;stroke-width:0.75;\" x=\"493.75046\" xlink:href=\"#m00482ed16f\" y=\"90.542572\"/>\n     <use style=\"fill:#e41a1c;stroke:#ffffff;stroke-width:0.75;\" x=\"502.828117\" xlink:href=\"#m00482ed16f\" y=\"159.367406\"/>\n     <use style=\"fill:#e41a1c;stroke:#ffffff;stroke-width:0.75;\" x=\"502.828117\" xlink:href=\"#m00482ed16f\" y=\"53.979379\"/>\n     <use style=\"fill:#e41a1c;stroke:#ffffff;stroke-width:0.75;\" x=\"502.828117\" xlink:href=\"#m00482ed16f\" y=\"140.010421\"/>\n     <use style=\"fill:#e41a1c;stroke:#ffffff;stroke-width:0.75;\" x=\"480.133976\" xlink:href=\"#m00482ed16f\" y=\"72.619438\"/>\n     <use style=\"fill:#e41a1c;stroke:#ffffff;stroke-width:0.75;\" x=\"489.211632\" xlink:href=\"#m00482ed16f\" y=\"69.034812\"/>\n     <use style=\"fill:#e41a1c;stroke:#ffffff;stroke-width:0.75;\" x=\"502.828117\" xlink:href=\"#m00482ed16f\" y=\"81.939468\"/>\n     <use style=\"fill:#e41a1c;stroke:#ffffff;stroke-width:0.75;\" x=\"480.133976\" xlink:href=\"#m00482ed16f\" y=\"61.865558\"/>\n     <use style=\"fill:#e41a1c;stroke:#ffffff;stroke-width:0.75;\" x=\"502.828117\" xlink:href=\"#m00482ed16f\" y=\"95.56105\"/>\n     <use style=\"fill:#e41a1c;stroke:#ffffff;stroke-width:0.75;\" x=\"471.056319\" xlink:href=\"#m00482ed16f\" y=\"161.518182\"/>\n     <use style=\"fill:#e41a1c;stroke:#ffffff;stroke-width:0.75;\" x=\"471.056319\" xlink:href=\"#m00482ed16f\" y=\"147.8966\"/>\n     <use style=\"fill:#e41a1c;stroke:#ffffff;stroke-width:0.75;\" x=\"489.211632\" xlink:href=\"#m00482ed16f\" y=\"137.14272\"/>\n     <use style=\"fill:#e41a1c;stroke:#ffffff;stroke-width:0.75;\" x=\"443.82335\" xlink:href=\"#m00482ed16f\" y=\"59.714782\"/>\n     <use style=\"fill:#e41a1c;stroke:#ffffff;stroke-width:0.75;\" x=\"434.745694\" xlink:href=\"#m00482ed16f\" y=\"118.502661\"/>\n     <use style=\"fill:#e41a1c;stroke:#ffffff;stroke-width:0.75;\" x=\"502.828117\" xlink:href=\"#m00482ed16f\" y=\"92.693348\"/>\n     <use style=\"fill:#e41a1c;stroke:#ffffff;stroke-width:0.75;\" x=\"498.289289\" xlink:href=\"#m00482ed16f\" y=\"64.733259\"/>\n     <use style=\"fill:#e41a1c;stroke:#ffffff;stroke-width:0.75;\" x=\"489.211632\" xlink:href=\"#m00482ed16f\" y=\"68.317886\"/>\n     <use style=\"fill:#e41a1c;stroke:#ffffff;stroke-width:0.75;\" x=\"493.75046\" xlink:href=\"#m00482ed16f\" y=\"35.33932\"/>\n     <use style=\"fill:#e41a1c;stroke:#ffffff;stroke-width:0.75;\" x=\"475.595148\" xlink:href=\"#m00482ed16f\" y=\"113.484183\"/>\n     <use style=\"fill:#e41a1c;stroke:#ffffff;stroke-width:0.75;\" x=\"507.366945\" xlink:href=\"#m00482ed16f\" y=\"155.782779\"/>\n     <use style=\"fill:#e41a1c;stroke:#ffffff;stroke-width:0.75;\" x=\"507.366945\" xlink:href=\"#m00482ed16f\" y=\"160.801256\"/>\n     <use style=\"fill:#e41a1c;stroke:#ffffff;stroke-width:0.75;\" x=\"498.289289\" xlink:href=\"#m00482ed16f\" y=\"61.865558\"/>\n     <use style=\"fill:#e41a1c;stroke:#ffffff;stroke-width:0.75;\" x=\"498.289289\" xlink:href=\"#m00482ed16f\" y=\"110.616482\"/>\n     <use style=\"fill:#e41a1c;stroke:#ffffff;stroke-width:0.75;\" x=\"489.211632\" xlink:href=\"#m00482ed16f\" y=\"160.801256\"/>\n     <use style=\"fill:#e41a1c;stroke:#ffffff;stroke-width:0.75;\" x=\"471.056319\" xlink:href=\"#m00482ed16f\" y=\"125.671914\"/>\n     <use style=\"fill:#e41a1c;stroke:#ffffff;stroke-width:0.75;\" x=\"489.211632\" xlink:href=\"#m00482ed16f\" y=\"89.108721\"/>\n     <use style=\"fill:#e41a1c;stroke:#ffffff;stroke-width:0.75;\" x=\"434.745694\" xlink:href=\"#m00482ed16f\" y=\"104.164154\"/>\n     <use style=\"fill:#e41a1c;stroke:#ffffff;stroke-width:0.75;\" x=\"502.828117\" xlink:href=\"#m00482ed16f\" y=\"77.637916\"/>\n     <use style=\"fill:#e41a1c;stroke:#ffffff;stroke-width:0.75;\" x=\"502.828117\" xlink:href=\"#m00482ed16f\" y=\"77.637916\"/>\n     <use style=\"fill:#e41a1c;stroke:#ffffff;stroke-width:0.75;\" x=\"475.595148\" xlink:href=\"#m00482ed16f\" y=\"150.047376\"/>\n     <use style=\"fill:#e41a1c;stroke:#ffffff;stroke-width:0.75;\" x=\"507.366945\" xlink:href=\"#m00482ed16f\" y=\"22.434664\"/>\n     <use style=\"fill:#e41a1c;stroke:#ffffff;stroke-width:0.75;\" x=\"489.211632\" xlink:href=\"#m00482ed16f\" y=\"48.243976\"/>\n     <use style=\"fill:#e41a1c;stroke:#ffffff;stroke-width:0.75;\" x=\"480.133976\" xlink:href=\"#m00482ed16f\" y=\"149.330451\"/>\n     <use style=\"fill:#e41a1c;stroke:#ffffff;stroke-width:0.75;\" x=\"502.828117\" xlink:href=\"#m00482ed16f\" y=\"151.481227\"/>\n     <use style=\"fill:#e41a1c;stroke:#ffffff;stroke-width:0.75;\" x=\"493.75046\" xlink:href=\"#m00482ed16f\" y=\"48.960902\"/>\n     <use style=\"fill:#e41a1c;stroke:#ffffff;stroke-width:0.75;\" x=\"484.672804\" xlink:href=\"#m00482ed16f\" y=\"71.185588\"/>\n     <use style=\"fill:#e41a1c;stroke:#ffffff;stroke-width:0.75;\" x=\"502.828117\" xlink:href=\"#m00482ed16f\" y=\"99.862602\"/>\n     <use style=\"fill:#e41a1c;stroke:#ffffff;stroke-width:0.75;\" x=\"475.595148\" xlink:href=\"#m00482ed16f\" y=\"14.548485\"/>\n     <use style=\"fill:#e41a1c;stroke:#ffffff;stroke-width:0.75;\" x=\"498.289289\" xlink:href=\"#m00482ed16f\" y=\"154.348928\"/>\n     <use style=\"fill:#e41a1c;stroke:#ffffff;stroke-width:0.75;\" x=\"498.289289\" xlink:href=\"#m00482ed16f\" y=\"34.622395\"/>\n     <use style=\"fill:#e41a1c;stroke:#ffffff;stroke-width:0.75;\" x=\"489.211632\" xlink:href=\"#m00482ed16f\" y=\"143.595048\"/>\n     <use style=\"fill:#e41a1c;stroke:#ffffff;stroke-width:0.75;\" x=\"489.211632\" xlink:href=\"#m00482ed16f\" y=\"76.204065\"/>\n     <use style=\"fill:#e41a1c;stroke:#ffffff;stroke-width:0.75;\" x=\"489.211632\" xlink:href=\"#m00482ed16f\" y=\"136.425795\"/>\n    </g>\n   </g>\n   <g id=\"PathCollection_4\">\n    <g clip-path=\"url(#p3557abbed9)\">\n     <use style=\"fill:#377eb8;stroke:#ffffff;stroke-width:0.75;\" x=\"452.901007\" xlink:href=\"#mdf1c74b52f\" y=\"70.468662\"/>\n     <use style=\"fill:#377eb8;stroke:#ffffff;stroke-width:0.75;\" x=\"484.672804\" xlink:href=\"#mdf1c74b52f\" y=\"119.936511\"/>\n     <use style=\"fill:#377eb8;stroke:#ffffff;stroke-width:0.75;\" x=\"493.75046\" xlink:href=\"#mdf1c74b52f\" y=\"103.447228\"/>\n     <use style=\"fill:#377eb8;stroke:#ffffff;stroke-width:0.75;\" x=\"452.901007\" xlink:href=\"#mdf1c74b52f\" y=\"86.957945\"/>\n     <use style=\"fill:#377eb8;stroke:#ffffff;stroke-width:0.75;\" x=\"484.672804\" xlink:href=\"#mdf1c74b52f\" y=\"93.410273\"/>\n     <use style=\"fill:#377eb8;stroke:#ffffff;stroke-width:0.75;\" x=\"439.284522\" xlink:href=\"#mdf1c74b52f\" y=\"151.481227\"/>\n     <use style=\"fill:#377eb8;stroke:#ffffff;stroke-width:0.75;\" x=\"457.439835\" xlink:href=\"#mdf1c74b52f\" y=\"124.954989\"/>\n     <use style=\"fill:#377eb8;stroke:#ffffff;stroke-width:0.75;\" x=\"484.672804\" xlink:href=\"#mdf1c74b52f\" y=\"96.9949\"/>\n     <use style=\"fill:#377eb8;stroke:#ffffff;stroke-width:0.75;\" x=\"434.745694\" xlink:href=\"#mdf1c74b52f\" y=\"109.899557\"/>\n     <use style=\"fill:#377eb8;stroke:#ffffff;stroke-width:0.75;\" x=\"475.595148\" xlink:href=\"#mdf1c74b52f\" y=\"62.582483\"/>\n     <use style=\"fill:#377eb8;stroke:#ffffff;stroke-width:0.75;\" x=\"443.82335\" xlink:href=\"#mdf1c74b52f\" y=\"75.48714\"/>\n     <use style=\"fill:#377eb8;stroke:#ffffff;stroke-width:0.75;\" x=\"457.439835\" xlink:href=\"#mdf1c74b52f\" y=\"62.582483\"/>\n     <use style=\"fill:#377eb8;stroke:#ffffff;stroke-width:0.75;\" x=\"466.517491\" xlink:href=\"#mdf1c74b52f\" y=\"76.204065\"/>\n     <use style=\"fill:#377eb8;stroke:#ffffff;stroke-width:0.75;\" x=\"434.745694\" xlink:href=\"#mdf1c74b52f\" y=\"69.034812\"/>\n     <use style=\"fill:#377eb8;stroke:#ffffff;stroke-width:0.75;\" x=\"466.517491\" xlink:href=\"#mdf1c74b52f\" y=\"80.505617\"/>\n     <use style=\"fill:#377eb8;stroke:#ffffff;stroke-width:0.75;\" x=\"489.211632\" xlink:href=\"#mdf1c74b52f\" y=\"49.677827\"/>\n     <use style=\"fill:#377eb8;stroke:#ffffff;stroke-width:0.75;\" x=\"457.439835\" xlink:href=\"#mdf1c74b52f\" y=\"132.124242\"/>\n    </g>\n   </g>\n   <g id=\"matplotlib.axis_5\">\n    <g id=\"xtick_6\">\n     <g id=\"line2d_16\">\n      <g>\n       <use style=\"stroke:#000000;stroke-width:0.8;\" x=\"430.206865\" xlink:href=\"#m273c21cbb6\" y=\"168.866667\"/>\n      </g>\n     </g>\n    </g>\n    <g id=\"xtick_7\">\n     <g id=\"line2d_17\">\n      <g>\n       <use style=\"stroke:#000000;stroke-width:0.8;\" x=\"475.595148\" xlink:href=\"#m273c21cbb6\" y=\"168.866667\"/>\n      </g>\n     </g>\n    </g>\n    <g id=\"xtick_8\">\n     <g id=\"line2d_18\">\n      <g>\n       <use style=\"stroke:#000000;stroke-width:0.8;\" x=\"520.98343\" xlink:href=\"#m273c21cbb6\" y=\"168.866667\"/>\n      </g>\n     </g>\n    </g>\n   </g>\n   <g id=\"matplotlib.axis_6\">\n    <g id=\"ytick_11\">\n     <g id=\"line2d_19\">\n      <g>\n       <use style=\"stroke:#000000;stroke-width:0.8;\" x=\"392.926317\" xlink:href=\"#m5bd31e76d0\" y=\"162.235107\"/>\n      </g>\n     </g>\n    </g>\n    <g id=\"ytick_12\">\n     <g id=\"line2d_20\">\n      <g>\n       <use style=\"stroke:#000000;stroke-width:0.8;\" x=\"392.926317\" xlink:href=\"#m5bd31e76d0\" y=\"126.38884\"/>\n      </g>\n     </g>\n    </g>\n    <g id=\"ytick_13\">\n     <g id=\"line2d_21\">\n      <g>\n       <use style=\"stroke:#000000;stroke-width:0.8;\" x=\"392.926317\" xlink:href=\"#m5bd31e76d0\" y=\"90.542572\"/>\n      </g>\n     </g>\n    </g>\n    <g id=\"ytick_14\">\n     <g id=\"line2d_22\">\n      <g>\n       <use style=\"stroke:#000000;stroke-width:0.8;\" x=\"392.926317\" xlink:href=\"#m5bd31e76d0\" y=\"54.696305\"/>\n      </g>\n     </g>\n    </g>\n    <g id=\"ytick_15\">\n     <g id=\"line2d_23\">\n      <g>\n       <use style=\"stroke:#000000;stroke-width:0.8;\" x=\"392.926317\" xlink:href=\"#m5bd31e76d0\" y=\"18.850037\"/>\n      </g>\n     </g>\n    </g>\n   </g>\n   <g id=\"patch_9\">\n    <path d=\"M 392.926317 168.866667 \nL 392.926317 7.2 \n\" style=\"fill:none;stroke:#000000;stroke-linecap:square;stroke-linejoin:miter;stroke-width:0.8;\"/>\n   </g>\n   <g id=\"patch_10\">\n    <path d=\"M 392.926317 168.866667 \nL 541.943194 168.866667 \n\" style=\"fill:none;stroke:#000000;stroke-linecap:square;stroke-linejoin:miter;stroke-width:0.8;\"/>\n   </g>\n  </g>\n  <g id=\"axes_4\">\n   <g id=\"patch_11\">\n    <path d=\"M 50.14375 340.533333 \nL 199.160627 340.533333 \nL 199.160627 178.866667 \nL 50.14375 178.866667 \nz\n\" style=\"fill:#ffffff;\"/>\n   </g>\n   <g id=\"PathCollection_5\">\n    <g clip-path=\"url(#p72e4f04091)\">\n     <use style=\"fill:#e41a1c;stroke:#ffffff;stroke-width:0.75;\" x=\"112.945546\" xlink:href=\"#m00482ed16f\" y=\"314.813636\"/>\n     <use style=\"fill:#e41a1c;stroke:#ffffff;stroke-width:0.75;\" x=\"144.283329\" xlink:href=\"#m00482ed16f\" y=\"314.813636\"/>\n     <use style=\"fill:#e41a1c;stroke:#ffffff;stroke-width:0.75;\" x=\"88.091441\" xlink:href=\"#m00482ed16f\" y=\"278.071212\"/>\n     <use style=\"fill:#e41a1c;stroke:#ffffff;stroke-width:0.75;\" x=\"87.731237\" xlink:href=\"#m00482ed16f\" y=\"296.442424\"/>\n     <use style=\"fill:#e41a1c;stroke:#ffffff;stroke-width:0.75;\" x=\"87.731237\" xlink:href=\"#m00482ed16f\" y=\"333.184848\"/>\n     <use style=\"fill:#e41a1c;stroke:#ffffff;stroke-width:0.75;\" x=\"109.343501\" xlink:href=\"#m00482ed16f\" y=\"333.184848\"/>\n     <use style=\"fill:#e41a1c;stroke:#ffffff;stroke-width:0.75;\" x=\"100.698596\" xlink:href=\"#m00482ed16f\" y=\"314.813636\"/>\n     <use style=\"fill:#e41a1c;stroke:#ffffff;stroke-width:0.75;\" x=\"128.074131\" xlink:href=\"#m00482ed16f\" y=\"333.184848\"/>\n     <use style=\"fill:#e41a1c;stroke:#ffffff;stroke-width:0.75;\" x=\"140.681285\" xlink:href=\"#m00482ed16f\" y=\"314.813636\"/>\n     <use style=\"fill:#e41a1c;stroke:#ffffff;stroke-width:0.75;\" x=\"93.854712\" xlink:href=\"#m00482ed16f\" y=\"278.071212\"/>\n     <use style=\"fill:#e41a1c;stroke:#ffffff;stroke-width:0.75;\" x=\"87.731237\" xlink:href=\"#m00482ed16f\" y=\"296.442424\"/>\n     <use style=\"fill:#e41a1c;stroke:#ffffff;stroke-width:0.75;\" x=\"147.885373\" xlink:href=\"#m00482ed16f\" y=\"314.813636\"/>\n     <use style=\"fill:#e41a1c;stroke:#ffffff;stroke-width:0.75;\" x=\"87.731237\" xlink:href=\"#m00482ed16f\" y=\"314.813636\"/>\n     <use style=\"fill:#e41a1c;stroke:#ffffff;stroke-width:0.75;\" x=\"115.466976\" xlink:href=\"#m00482ed16f\" y=\"259.7\"/>\n     <use style=\"fill:#e41a1c;stroke:#ffffff;stroke-width:0.75;\" x=\"150.406804\" xlink:href=\"#m00482ed16f\" y=\"278.071212\"/>\n     <use style=\"fill:#e41a1c;stroke:#ffffff;stroke-width:0.75;\" x=\"116.187385\" xlink:href=\"#m00482ed16f\" y=\"278.071212\"/>\n     <use style=\"fill:#e41a1c;stroke:#ffffff;stroke-width:0.75;\" x=\"97.096552\" xlink:href=\"#m00482ed16f\" y=\"296.442424\"/>\n     <use style=\"fill:#e41a1c;stroke:#ffffff;stroke-width:0.75;\" x=\"95.29553\" xlink:href=\"#m00482ed16f\" y=\"333.184848\"/>\n     <use style=\"fill:#e41a1c;stroke:#ffffff;stroke-width:0.75;\" x=\"134.55781\" xlink:href=\"#m00482ed16f\" y=\"333.184848\"/>\n     <use style=\"fill:#e41a1c;stroke:#ffffff;stroke-width:0.75;\" x=\"90.612872\" xlink:href=\"#m00482ed16f\" y=\"278.071212\"/>\n     <use style=\"fill:#e41a1c;stroke:#ffffff;stroke-width:0.75;\" x=\"90.252668\" xlink:href=\"#m00482ed16f\" y=\"314.813636\"/>\n     <use style=\"fill:#e41a1c;stroke:#ffffff;stroke-width:0.75;\" x=\"123.391473\" xlink:href=\"#m00482ed16f\" y=\"314.813636\"/>\n     <use style=\"fill:#e41a1c;stroke:#ffffff;stroke-width:0.75;\" x=\"88.81185\" xlink:href=\"#m00482ed16f\" y=\"314.813636\"/>\n     <use style=\"fill:#e41a1c;stroke:#ffffff;stroke-width:0.75;\" x=\"141.761898\" xlink:href=\"#m00482ed16f\" y=\"333.184848\"/>\n     <use style=\"fill:#e41a1c;stroke:#ffffff;stroke-width:0.75;\" x=\"98.537369\" xlink:href=\"#m00482ed16f\" y=\"314.813636\"/>\n     <use style=\"fill:#e41a1c;stroke:#ffffff;stroke-width:0.75;\" x=\"132.396583\" xlink:href=\"#m00482ed16f\" y=\"333.184848\"/>\n     <use style=\"fill:#e41a1c;stroke:#ffffff;stroke-width:0.75;\" x=\"134.197605\" xlink:href=\"#m00482ed16f\" y=\"278.071212\"/>\n     <use style=\"fill:#e41a1c;stroke:#ffffff;stroke-width:0.75;\" x=\"127.713926\" xlink:href=\"#m00482ed16f\" y=\"314.813636\"/>\n     <use style=\"fill:#e41a1c;stroke:#ffffff;stroke-width:0.75;\" x=\"137.79965\" xlink:href=\"#m00482ed16f\" y=\"278.071212\"/>\n     <use style=\"fill:#e41a1c;stroke:#ffffff;stroke-width:0.75;\" x=\"120.870042\" xlink:href=\"#m00482ed16f\" y=\"314.813636\"/>\n     <use style=\"fill:#e41a1c;stroke:#ffffff;stroke-width:0.75;\" x=\"87.731237\" xlink:href=\"#m00482ed16f\" y=\"314.813636\"/>\n     <use style=\"fill:#e41a1c;stroke:#ffffff;stroke-width:0.75;\" x=\"94.575121\" xlink:href=\"#m00482ed16f\" y=\"259.7\"/>\n     <use style=\"fill:#e41a1c;stroke:#ffffff;stroke-width:0.75;\" x=\"99.978187\" xlink:href=\"#m00482ed16f\" y=\"314.813636\"/>\n     <use style=\"fill:#e41a1c;stroke:#ffffff;stroke-width:0.75;\" x=\"138.880263\" xlink:href=\"#m00482ed16f\" y=\"204.586364\"/>\n     <use style=\"fill:#e41a1c;stroke:#ffffff;stroke-width:0.75;\" x=\"109.343501\" xlink:href=\"#m00482ed16f\" y=\"296.442424\"/>\n     <use style=\"fill:#e41a1c;stroke:#ffffff;stroke-width:0.75;\" x=\"122.31086\" xlink:href=\"#m00482ed16f\" y=\"314.813636\"/>\n     <use style=\"fill:#e41a1c;stroke:#ffffff;stroke-width:0.75;\" x=\"136.358832\" xlink:href=\"#m00482ed16f\" y=\"296.442424\"/>\n     <use style=\"fill:#e41a1c;stroke:#ffffff;stroke-width:0.75;\" x=\"134.55781\" xlink:href=\"#m00482ed16f\" y=\"278.071212\"/>\n     <use style=\"fill:#e41a1c;stroke:#ffffff;stroke-width:0.75;\" x=\"151.127213\" xlink:href=\"#m00482ed16f\" y=\"333.184848\"/>\n     <use style=\"fill:#e41a1c;stroke:#ffffff;stroke-width:0.75;\" x=\"111.864932\" xlink:href=\"#m00482ed16f\" y=\"278.071212\"/>\n     <use style=\"fill:#e41a1c;stroke:#ffffff;stroke-width:0.75;\" x=\"90.612872\" xlink:href=\"#m00482ed16f\" y=\"333.184848\"/>\n     <use style=\"fill:#e41a1c;stroke:#ffffff;stroke-width:0.75;\" x=\"88.091441\" xlink:href=\"#m00482ed16f\" y=\"333.184848\"/>\n     <use style=\"fill:#e41a1c;stroke:#ffffff;stroke-width:0.75;\" x=\"137.79965\" xlink:href=\"#m00482ed16f\" y=\"296.442424\"/>\n     <use style=\"fill:#e41a1c;stroke:#ffffff;stroke-width:0.75;\" x=\"113.30575\" xlink:href=\"#m00482ed16f\" y=\"278.071212\"/>\n     <use style=\"fill:#e41a1c;stroke:#ffffff;stroke-width:0.75;\" x=\"88.091441\" xlink:href=\"#m00482ed16f\" y=\"314.813636\"/>\n     <use style=\"fill:#e41a1c;stroke:#ffffff;stroke-width:0.75;\" x=\"105.741457\" xlink:href=\"#m00482ed16f\" y=\"241.328788\"/>\n     <use style=\"fill:#e41a1c;stroke:#ffffff;stroke-width:0.75;\" x=\"124.111882\" xlink:href=\"#m00482ed16f\" y=\"314.813636\"/>\n     <use style=\"fill:#e41a1c;stroke:#ffffff;stroke-width:0.75;\" x=\"116.54759\" xlink:href=\"#m00482ed16f\" y=\"296.442424\"/>\n     <use style=\"fill:#e41a1c;stroke:#ffffff;stroke-width:0.75;\" x=\"129.875153\" xlink:href=\"#m00482ed16f\" y=\"314.813636\"/>\n     <use style=\"fill:#e41a1c;stroke:#ffffff;stroke-width:0.75;\" x=\"129.875153\" xlink:href=\"#m00482ed16f\" y=\"296.442424\"/>\n     <use style=\"fill:#e41a1c;stroke:#ffffff;stroke-width:0.75;\" x=\"93.494508\" xlink:href=\"#m00482ed16f\" y=\"296.442424\"/>\n     <use style=\"fill:#e41a1c;stroke:#ffffff;stroke-width:0.75;\" x=\"157.610892\" xlink:href=\"#m00482ed16f\" y=\"333.184848\"/>\n     <use style=\"fill:#e41a1c;stroke:#ffffff;stroke-width:0.75;\" x=\"144.643533\" xlink:href=\"#m00482ed16f\" y=\"296.442424\"/>\n     <use style=\"fill:#e41a1c;stroke:#ffffff;stroke-width:0.75;\" x=\"93.854712\" xlink:href=\"#m00482ed16f\" y=\"296.442424\"/>\n     <use style=\"fill:#e41a1c;stroke:#ffffff;stroke-width:0.75;\" x=\"92.774099\" xlink:href=\"#m00482ed16f\" y=\"278.071212\"/>\n     <use style=\"fill:#e41a1c;stroke:#ffffff;stroke-width:0.75;\" x=\"144.283329\" xlink:href=\"#m00482ed16f\" y=\"278.071212\"/>\n     <use style=\"fill:#e41a1c;stroke:#ffffff;stroke-width:0.75;\" x=\"133.116992\" xlink:href=\"#m00482ed16f\" y=\"296.442424\"/>\n     <use style=\"fill:#e41a1c;stroke:#ffffff;stroke-width:0.75;\" x=\"118.708816\" xlink:href=\"#m00482ed16f\" y=\"296.442424\"/>\n     <use style=\"fill:#e41a1c;stroke:#ffffff;stroke-width:0.75;\" x=\"161.57314\" xlink:href=\"#m00482ed16f\" y=\"296.442424\"/>\n     <use style=\"fill:#e41a1c;stroke:#ffffff;stroke-width:0.75;\" x=\"91.333281\" xlink:href=\"#m00482ed16f\" y=\"314.813636\"/>\n     <use style=\"fill:#e41a1c;stroke:#ffffff;stroke-width:0.75;\" x=\"151.487417\" xlink:href=\"#m00482ed16f\" y=\"296.442424\"/>\n     <use style=\"fill:#e41a1c;stroke:#ffffff;stroke-width:0.75;\" x=\"96.736347\" xlink:href=\"#m00482ed16f\" y=\"241.328788\"/>\n     <use style=\"fill:#e41a1c;stroke:#ffffff;stroke-width:0.75;\" x=\"130.595561\" xlink:href=\"#m00482ed16f\" y=\"333.184848\"/>\n     <use style=\"fill:#e41a1c;stroke:#ffffff;stroke-width:0.75;\" x=\"100.338391\" xlink:href=\"#m00482ed16f\" y=\"296.442424\"/>\n    </g>\n   </g>\n   <g id=\"PathCollection_6\">\n    <g clip-path=\"url(#p72e4f04091)\">\n     <use style=\"fill:#377eb8;stroke:#ffffff;stroke-width:0.75;\" x=\"133.477197\" xlink:href=\"#mdf1c74b52f\" y=\"296.442424\"/>\n     <use style=\"fill:#377eb8;stroke:#ffffff;stroke-width:0.75;\" x=\"108.623093\" xlink:href=\"#mdf1c74b52f\" y=\"259.7\"/>\n     <use style=\"fill:#377eb8;stroke:#ffffff;stroke-width:0.75;\" x=\"116.907794\" xlink:href=\"#mdf1c74b52f\" y=\"278.071212\"/>\n     <use style=\"fill:#377eb8;stroke:#ffffff;stroke-width:0.75;\" x=\"125.192495\" xlink:href=\"#mdf1c74b52f\" y=\"259.7\"/>\n     <use style=\"fill:#377eb8;stroke:#ffffff;stroke-width:0.75;\" x=\"121.950656\" xlink:href=\"#mdf1c74b52f\" y=\"314.813636\"/>\n     <use style=\"fill:#377eb8;stroke:#ffffff;stroke-width:0.75;\" x=\"92.774099\" xlink:href=\"#mdf1c74b52f\" y=\"241.328788\"/>\n     <use style=\"fill:#377eb8;stroke:#ffffff;stroke-width:0.75;\" x=\"106.101662\" xlink:href=\"#mdf1c74b52f\" y=\"278.071212\"/>\n     <use style=\"fill:#377eb8;stroke:#ffffff;stroke-width:0.75;\" x=\"120.149634\" xlink:href=\"#mdf1c74b52f\" y=\"278.071212\"/>\n     <use style=\"fill:#377eb8;stroke:#ffffff;stroke-width:0.75;\" x=\"113.665954\" xlink:href=\"#mdf1c74b52f\" y=\"278.071212\"/>\n     <use style=\"fill:#377eb8;stroke:#ffffff;stroke-width:0.75;\" x=\"137.439445\" xlink:href=\"#mdf1c74b52f\" y=\"314.813636\"/>\n     <use style=\"fill:#377eb8;stroke:#ffffff;stroke-width:0.75;\" x=\"130.955766\" xlink:href=\"#mdf1c74b52f\" y=\"314.813636\"/>\n     <use style=\"fill:#377eb8;stroke:#ffffff;stroke-width:0.75;\" x=\"137.439445\" xlink:href=\"#mdf1c74b52f\" y=\"186.215152\"/>\n     <use style=\"fill:#377eb8;stroke:#ffffff;stroke-width:0.75;\" x=\"130.595561\" xlink:href=\"#mdf1c74b52f\" y=\"278.071212\"/>\n     <use style=\"fill:#377eb8;stroke:#ffffff;stroke-width:0.75;\" x=\"134.197605\" xlink:href=\"#mdf1c74b52f\" y=\"296.442424\"/>\n     <use style=\"fill:#377eb8;stroke:#ffffff;stroke-width:0.75;\" x=\"128.434335\" xlink:href=\"#mdf1c74b52f\" y=\"241.328788\"/>\n     <use style=\"fill:#377eb8;stroke:#ffffff;stroke-width:0.75;\" x=\"143.923124\" xlink:href=\"#mdf1c74b52f\" y=\"314.813636\"/>\n     <use style=\"fill:#377eb8;stroke:#ffffff;stroke-width:0.75;\" x=\"102.499618\" xlink:href=\"#mdf1c74b52f\" y=\"241.328788\"/>\n    </g>\n   </g>\n   <g id=\"matplotlib.axis_7\">\n    <g id=\"xtick_9\">\n     <g id=\"line2d_24\">\n      <g>\n       <use style=\"stroke:#000000;stroke-width:0.8;\" x=\"87.371033\" xlink:href=\"#m273c21cbb6\" y=\"340.533333\"/>\n      </g>\n     </g>\n    </g>\n    <g id=\"xtick_10\">\n     <g id=\"line2d_25\">\n      <g>\n       <use style=\"stroke:#000000;stroke-width:0.8;\" x=\"159.411914\" xlink:href=\"#m273c21cbb6\" y=\"340.533333\"/>\n      </g>\n     </g>\n    </g>\n   </g>\n   <g id=\"matplotlib.axis_8\">\n    <g id=\"ytick_16\">\n     <g id=\"line2d_26\">\n      <g>\n       <use style=\"stroke:#000000;stroke-width:0.8;\" x=\"50.14375\" xlink:href=\"#m5bd31e76d0\" y=\"333.184848\"/>\n      </g>\n     </g>\n     <g id=\"text_7\">\n      <!-- 2 -->\n      <g transform=\"translate(36.78125 336.984067)scale(0.1 -0.1)\">\n       <use xlink:href=\"#DejaVuSans-50\"/>\n      </g>\n     </g>\n    </g>\n    <g id=\"ytick_17\">\n     <g id=\"line2d_27\">\n      <g>\n       <use style=\"stroke:#000000;stroke-width:0.8;\" x=\"50.14375\" xlink:href=\"#m5bd31e76d0\" y=\"296.442424\"/>\n      </g>\n     </g>\n     <g id=\"text_8\">\n      <!-- 4 -->\n      <g transform=\"translate(36.78125 300.241643)scale(0.1 -0.1)\">\n       <defs>\n        <path d=\"M 37.796875 64.3125 \nL 12.890625 25.390625 \nL 37.796875 25.390625 \nz\nM 35.203125 72.90625 \nL 47.609375 72.90625 \nL 47.609375 25.390625 \nL 58.015625 25.390625 \nL 58.015625 17.1875 \nL 47.609375 17.1875 \nL 47.609375 0 \nL 37.796875 0 \nL 37.796875 17.1875 \nL 4.890625 17.1875 \nL 4.890625 26.703125 \nz\n\" id=\"DejaVuSans-52\"/>\n       </defs>\n       <use xlink:href=\"#DejaVuSans-52\"/>\n      </g>\n     </g>\n    </g>\n    <g id=\"ytick_18\">\n     <g id=\"line2d_28\">\n      <g>\n       <use style=\"stroke:#000000;stroke-width:0.8;\" x=\"50.14375\" xlink:href=\"#m5bd31e76d0\" y=\"259.7\"/>\n      </g>\n     </g>\n     <g id=\"text_9\">\n      <!-- 6 -->\n      <g transform=\"translate(36.78125 263.499219)scale(0.1 -0.1)\">\n       <defs>\n        <path d=\"M 33.015625 40.375 \nQ 26.375 40.375 22.484375 35.828125 \nQ 18.609375 31.296875 18.609375 23.390625 \nQ 18.609375 15.53125 22.484375 10.953125 \nQ 26.375 6.390625 33.015625 6.390625 \nQ 39.65625 6.390625 43.53125 10.953125 \nQ 47.40625 15.53125 47.40625 23.390625 \nQ 47.40625 31.296875 43.53125 35.828125 \nQ 39.65625 40.375 33.015625 40.375 \nz\nM 52.59375 71.296875 \nL 52.59375 62.3125 \nQ 48.875 64.0625 45.09375 64.984375 \nQ 41.3125 65.921875 37.59375 65.921875 \nQ 27.828125 65.921875 22.671875 59.328125 \nQ 17.53125 52.734375 16.796875 39.40625 \nQ 19.671875 43.65625 24.015625 45.921875 \nQ 28.375 48.1875 33.59375 48.1875 \nQ 44.578125 48.1875 50.953125 41.515625 \nQ 57.328125 34.859375 57.328125 23.390625 \nQ 57.328125 12.15625 50.6875 5.359375 \nQ 44.046875 -1.421875 33.015625 -1.421875 \nQ 20.359375 -1.421875 13.671875 8.265625 \nQ 6.984375 17.96875 6.984375 36.375 \nQ 6.984375 53.65625 15.1875 63.9375 \nQ 23.390625 74.21875 37.203125 74.21875 \nQ 40.921875 74.21875 44.703125 73.484375 \nQ 48.484375 72.75 52.59375 71.296875 \nz\n\" id=\"DejaVuSans-54\"/>\n       </defs>\n       <use xlink:href=\"#DejaVuSans-54\"/>\n      </g>\n     </g>\n    </g>\n    <g id=\"ytick_19\">\n     <g id=\"line2d_29\">\n      <g>\n       <use style=\"stroke:#000000;stroke-width:0.8;\" x=\"50.14375\" xlink:href=\"#m5bd31e76d0\" y=\"222.957576\"/>\n      </g>\n     </g>\n     <g id=\"text_10\">\n      <!-- 8 -->\n      <g transform=\"translate(36.78125 226.756795)scale(0.1 -0.1)\">\n       <defs>\n        <path d=\"M 31.78125 34.625 \nQ 24.75 34.625 20.71875 30.859375 \nQ 16.703125 27.09375 16.703125 20.515625 \nQ 16.703125 13.921875 20.71875 10.15625 \nQ 24.75 6.390625 31.78125 6.390625 \nQ 38.8125 6.390625 42.859375 10.171875 \nQ 46.921875 13.96875 46.921875 20.515625 \nQ 46.921875 27.09375 42.890625 30.859375 \nQ 38.875 34.625 31.78125 34.625 \nz\nM 21.921875 38.8125 \nQ 15.578125 40.375 12.03125 44.71875 \nQ 8.5 49.078125 8.5 55.328125 \nQ 8.5 64.0625 14.71875 69.140625 \nQ 20.953125 74.21875 31.78125 74.21875 \nQ 42.671875 74.21875 48.875 69.140625 \nQ 55.078125 64.0625 55.078125 55.328125 \nQ 55.078125 49.078125 51.53125 44.71875 \nQ 48 40.375 41.703125 38.8125 \nQ 48.828125 37.15625 52.796875 32.3125 \nQ 56.78125 27.484375 56.78125 20.515625 \nQ 56.78125 9.90625 50.3125 4.234375 \nQ 43.84375 -1.421875 31.78125 -1.421875 \nQ 19.734375 -1.421875 13.25 4.234375 \nQ 6.78125 9.90625 6.78125 20.515625 \nQ 6.78125 27.484375 10.78125 32.3125 \nQ 14.796875 37.15625 21.921875 38.8125 \nz\nM 18.3125 54.390625 \nQ 18.3125 48.734375 21.84375 45.5625 \nQ 25.390625 42.390625 31.78125 42.390625 \nQ 38.140625 42.390625 41.71875 45.5625 \nQ 45.3125 48.734375 45.3125 54.390625 \nQ 45.3125 60.0625 41.71875 63.234375 \nQ 38.140625 66.40625 31.78125 66.40625 \nQ 25.390625 66.40625 21.84375 63.234375 \nQ 18.3125 60.0625 18.3125 54.390625 \nz\n\" id=\"DejaVuSans-56\"/>\n       </defs>\n       <use xlink:href=\"#DejaVuSans-56\"/>\n      </g>\n     </g>\n    </g>\n    <g id=\"ytick_20\">\n     <g id=\"line2d_30\">\n      <g>\n       <use style=\"stroke:#000000;stroke-width:0.8;\" x=\"50.14375\" xlink:href=\"#m5bd31e76d0\" y=\"186.215152\"/>\n      </g>\n     </g>\n     <g id=\"text_11\">\n      <!-- 10 -->\n      <g transform=\"translate(30.41875 190.01437)scale(0.1 -0.1)\">\n       <use xlink:href=\"#DejaVuSans-49\"/>\n       <use x=\"63.623047\" xlink:href=\"#DejaVuSans-48\"/>\n      </g>\n     </g>\n    </g>\n    <g id=\"text_12\">\n     <!-- Number -->\n     <g transform=\"translate(24.339063 279.785937)rotate(-90)scale(0.1 -0.1)\">\n      <defs>\n       <path d=\"M 9.8125 72.90625 \nL 23.09375 72.90625 \nL 55.421875 11.921875 \nL 55.421875 72.90625 \nL 64.984375 72.90625 \nL 64.984375 0 \nL 51.703125 0 \nL 19.390625 60.984375 \nL 19.390625 0 \nL 9.8125 0 \nz\n\" id=\"DejaVuSans-78\"/>\n       <path d=\"M 8.5 21.578125 \nL 8.5 54.6875 \nL 17.484375 54.6875 \nL 17.484375 21.921875 \nQ 17.484375 14.15625 20.5 10.265625 \nQ 23.53125 6.390625 29.59375 6.390625 \nQ 36.859375 6.390625 41.078125 11.03125 \nQ 45.3125 15.671875 45.3125 23.6875 \nL 45.3125 54.6875 \nL 54.296875 54.6875 \nL 54.296875 0 \nL 45.3125 0 \nL 45.3125 8.40625 \nQ 42.046875 3.421875 37.71875 1 \nQ 33.40625 -1.421875 27.6875 -1.421875 \nQ 18.265625 -1.421875 13.375 4.4375 \nQ 8.5 10.296875 8.5 21.578125 \nz\nM 31.109375 56 \nz\n\" id=\"DejaVuSans-117\"/>\n       <path d=\"M 52 44.1875 \nQ 55.375 50.25 60.0625 53.125 \nQ 64.75 56 71.09375 56 \nQ 79.640625 56 84.28125 50.015625 \nQ 88.921875 44.046875 88.921875 33.015625 \nL 88.921875 0 \nL 79.890625 0 \nL 79.890625 32.71875 \nQ 79.890625 40.578125 77.09375 44.375 \nQ 74.3125 48.1875 68.609375 48.1875 \nQ 61.625 48.1875 57.5625 43.546875 \nQ 53.515625 38.921875 53.515625 30.90625 \nL 53.515625 0 \nL 44.484375 0 \nL 44.484375 32.71875 \nQ 44.484375 40.625 41.703125 44.40625 \nQ 38.921875 48.1875 33.109375 48.1875 \nQ 26.21875 48.1875 22.15625 43.53125 \nQ 18.109375 38.875 18.109375 30.90625 \nL 18.109375 0 \nL 9.078125 0 \nL 9.078125 54.6875 \nL 18.109375 54.6875 \nL 18.109375 46.1875 \nQ 21.1875 51.21875 25.484375 53.609375 \nQ 29.78125 56 35.6875 56 \nQ 41.65625 56 45.828125 52.96875 \nQ 50 49.953125 52 44.1875 \nz\n\" id=\"DejaVuSans-109\"/>\n       <path d=\"M 48.6875 27.296875 \nQ 48.6875 37.203125 44.609375 42.84375 \nQ 40.53125 48.484375 33.40625 48.484375 \nQ 26.265625 48.484375 22.1875 42.84375 \nQ 18.109375 37.203125 18.109375 27.296875 \nQ 18.109375 17.390625 22.1875 11.75 \nQ 26.265625 6.109375 33.40625 6.109375 \nQ 40.53125 6.109375 44.609375 11.75 \nQ 48.6875 17.390625 48.6875 27.296875 \nz\nM 18.109375 46.390625 \nQ 20.953125 51.265625 25.265625 53.625 \nQ 29.59375 56 35.59375 56 \nQ 45.5625 56 51.78125 48.09375 \nQ 58.015625 40.1875 58.015625 27.296875 \nQ 58.015625 14.40625 51.78125 6.484375 \nQ 45.5625 -1.421875 35.59375 -1.421875 \nQ 29.59375 -1.421875 25.265625 0.953125 \nQ 20.953125 3.328125 18.109375 8.203125 \nL 18.109375 0 \nL 9.078125 0 \nL 9.078125 75.984375 \nL 18.109375 75.984375 \nz\n\" id=\"DejaVuSans-98\"/>\n       <path d=\"M 41.109375 46.296875 \nQ 39.59375 47.171875 37.8125 47.578125 \nQ 36.03125 48 33.890625 48 \nQ 26.265625 48 22.1875 43.046875 \nQ 18.109375 38.09375 18.109375 28.8125 \nL 18.109375 0 \nL 9.078125 0 \nL 9.078125 54.6875 \nL 18.109375 54.6875 \nL 18.109375 46.1875 \nQ 20.953125 51.171875 25.484375 53.578125 \nQ 30.03125 56 36.53125 56 \nQ 37.453125 56 38.578125 55.875 \nQ 39.703125 55.765625 41.0625 55.515625 \nz\n\" id=\"DejaVuSans-114\"/>\n      </defs>\n      <use xlink:href=\"#DejaVuSans-78\"/>\n      <use x=\"74.804688\" xlink:href=\"#DejaVuSans-117\"/>\n      <use x=\"138.183594\" xlink:href=\"#DejaVuSans-109\"/>\n      <use x=\"235.595703\" xlink:href=\"#DejaVuSans-98\"/>\n      <use x=\"299.072266\" xlink:href=\"#DejaVuSans-101\"/>\n      <use x=\"360.595703\" xlink:href=\"#DejaVuSans-114\"/>\n     </g>\n    </g>\n   </g>\n   <g id=\"patch_12\">\n    <path d=\"M 50.14375 340.533333 \nL 50.14375 178.866667 \n\" style=\"fill:none;stroke:#000000;stroke-linecap:square;stroke-linejoin:miter;stroke-width:0.8;\"/>\n   </g>\n   <g id=\"patch_13\">\n    <path d=\"M 50.14375 340.533333 \nL 199.160627 340.533333 \n\" style=\"fill:none;stroke:#000000;stroke-linecap:square;stroke-linejoin:miter;stroke-width:0.8;\"/>\n   </g>\n  </g>\n  <g id=\"axes_5\">\n   <g id=\"patch_14\">\n    <path d=\"M 221.535033 340.533333 \nL 370.551911 340.533333 \nL 370.551911 178.866667 \nL 221.535033 178.866667 \nz\n\" style=\"fill:#ffffff;\"/>\n   </g>\n   <g id=\"matplotlib.axis_9\">\n    <g id=\"xtick_11\">\n     <g id=\"line2d_31\">\n      <g>\n       <use style=\"stroke:#000000;stroke-width:0.8;\" x=\"227.833011\" xlink:href=\"#m273c21cbb6\" y=\"340.533333\"/>\n      </g>\n     </g>\n    </g>\n    <g id=\"xtick_12\">\n     <g id=\"line2d_32\">\n      <g>\n       <use style=\"stroke:#000000;stroke-width:0.8;\" x=\"281.470246\" xlink:href=\"#m273c21cbb6\" y=\"340.533333\"/>\n      </g>\n     </g>\n    </g>\n    <g id=\"xtick_13\">\n     <g id=\"line2d_33\">\n      <g>\n       <use style=\"stroke:#000000;stroke-width:0.8;\" x=\"335.107482\" xlink:href=\"#m273c21cbb6\" y=\"340.533333\"/>\n      </g>\n     </g>\n    </g>\n   </g>\n   <g id=\"matplotlib.axis_10\">\n    <g id=\"ytick_21\">\n     <g id=\"line2d_34\">\n      <g>\n       <use style=\"stroke:#000000;stroke-width:0.8;\" x=\"221.535033\" xlink:href=\"#m5bd31e76d0\" y=\"333.184848\"/>\n      </g>\n     </g>\n    </g>\n    <g id=\"ytick_22\">\n     <g id=\"line2d_35\">\n      <g>\n       <use style=\"stroke:#000000;stroke-width:0.8;\" x=\"221.535033\" xlink:href=\"#m5bd31e76d0\" y=\"296.442424\"/>\n      </g>\n     </g>\n    </g>\n    <g id=\"ytick_23\">\n     <g id=\"line2d_36\">\n      <g>\n       <use style=\"stroke:#000000;stroke-width:0.8;\" x=\"221.535033\" xlink:href=\"#m5bd31e76d0\" y=\"259.7\"/>\n      </g>\n     </g>\n    </g>\n    <g id=\"ytick_24\">\n     <g id=\"line2d_37\">\n      <g>\n       <use style=\"stroke:#000000;stroke-width:0.8;\" x=\"221.535033\" xlink:href=\"#m5bd31e76d0\" y=\"222.957576\"/>\n      </g>\n     </g>\n    </g>\n    <g id=\"ytick_25\">\n     <g id=\"line2d_38\">\n      <g>\n       <use style=\"stroke:#000000;stroke-width:0.8;\" x=\"221.535033\" xlink:href=\"#m5bd31e76d0\" y=\"186.215152\"/>\n      </g>\n     </g>\n    </g>\n   </g>\n   <g id=\"patch_15\">\n    <path d=\"M 221.535033 340.533333 \nL 221.535033 178.866667 \n\" style=\"fill:none;stroke:#000000;stroke-linecap:square;stroke-linejoin:miter;stroke-width:0.8;\"/>\n   </g>\n   <g id=\"patch_16\">\n    <path d=\"M 221.535033 340.533333 \nL 370.551911 340.533333 \n\" style=\"fill:none;stroke:#000000;stroke-linecap:square;stroke-linejoin:miter;stroke-width:0.8;\"/>\n   </g>\n  </g>\n  <g id=\"axes_6\">\n   <g id=\"patch_17\">\n    <path d=\"M 392.926317 340.533333 \nL 541.943194 340.533333 \nL 541.943194 178.866667 \nL 392.926317 178.866667 \nz\n\" style=\"fill:#ffffff;\"/>\n   </g>\n   <g id=\"PathCollection_7\">\n    <g clip-path=\"url(#p34263be150)\">\n     <use style=\"fill:#e41a1c;stroke:#ffffff;stroke-width:0.75;\" x=\"452.901007\" xlink:href=\"#m00482ed16f\" y=\"314.813636\"/>\n     <use style=\"fill:#e41a1c;stroke:#ffffff;stroke-width:0.75;\" x=\"493.75046\" xlink:href=\"#m00482ed16f\" y=\"314.813636\"/>\n     <use style=\"fill:#e41a1c;stroke:#ffffff;stroke-width:0.75;\" x=\"434.745694\" xlink:href=\"#m00482ed16f\" y=\"278.071212\"/>\n     <use style=\"fill:#e41a1c;stroke:#ffffff;stroke-width:0.75;\" x=\"498.289289\" xlink:href=\"#m00482ed16f\" y=\"296.442424\"/>\n     <use style=\"fill:#e41a1c;stroke:#ffffff;stroke-width:0.75;\" x=\"502.828117\" xlink:href=\"#m00482ed16f\" y=\"333.184848\"/>\n     <use style=\"fill:#e41a1c;stroke:#ffffff;stroke-width:0.75;\" x=\"507.366945\" xlink:href=\"#m00482ed16f\" y=\"333.184848\"/>\n     <use style=\"fill:#e41a1c;stroke:#ffffff;stroke-width:0.75;\" x=\"502.828117\" xlink:href=\"#m00482ed16f\" y=\"314.813636\"/>\n     <use style=\"fill:#e41a1c;stroke:#ffffff;stroke-width:0.75;\" x=\"502.828117\" xlink:href=\"#m00482ed16f\" y=\"333.184848\"/>\n     <use style=\"fill:#e41a1c;stroke:#ffffff;stroke-width:0.75;\" x=\"502.828117\" xlink:href=\"#m00482ed16f\" y=\"314.813636\"/>\n     <use style=\"fill:#e41a1c;stroke:#ffffff;stroke-width:0.75;\" x=\"439.284522\" xlink:href=\"#m00482ed16f\" y=\"278.071212\"/>\n     <use style=\"fill:#e41a1c;stroke:#ffffff;stroke-width:0.75;\" x=\"484.672804\" xlink:href=\"#m00482ed16f\" y=\"296.442424\"/>\n     <use style=\"fill:#e41a1c;stroke:#ffffff;stroke-width:0.75;\" x=\"511.905773\" xlink:href=\"#m00482ed16f\" y=\"314.813636\"/>\n     <use style=\"fill:#e41a1c;stroke:#ffffff;stroke-width:0.75;\" x=\"502.828117\" xlink:href=\"#m00482ed16f\" y=\"314.813636\"/>\n     <use style=\"fill:#e41a1c;stroke:#ffffff;stroke-width:0.75;\" x=\"498.289289\" xlink:href=\"#m00482ed16f\" y=\"259.7\"/>\n     <use style=\"fill:#e41a1c;stroke:#ffffff;stroke-width:0.75;\" x=\"489.211632\" xlink:href=\"#m00482ed16f\" y=\"278.071212\"/>\n     <use style=\"fill:#e41a1c;stroke:#ffffff;stroke-width:0.75;\" x=\"502.828117\" xlink:href=\"#m00482ed16f\" y=\"278.071212\"/>\n     <use style=\"fill:#e41a1c;stroke:#ffffff;stroke-width:0.75;\" x=\"471.056319\" xlink:href=\"#m00482ed16f\" y=\"296.442424\"/>\n     <use style=\"fill:#e41a1c;stroke:#ffffff;stroke-width:0.75;\" x=\"502.828117\" xlink:href=\"#m00482ed16f\" y=\"333.184848\"/>\n     <use style=\"fill:#e41a1c;stroke:#ffffff;stroke-width:0.75;\" x=\"443.82335\" xlink:href=\"#m00482ed16f\" y=\"333.184848\"/>\n     <use style=\"fill:#e41a1c;stroke:#ffffff;stroke-width:0.75;\" x=\"489.211632\" xlink:href=\"#m00482ed16f\" y=\"278.071212\"/>\n     <use style=\"fill:#e41a1c;stroke:#ffffff;stroke-width:0.75;\" x=\"457.439835\" xlink:href=\"#m00482ed16f\" y=\"314.813636\"/>\n     <use style=\"fill:#e41a1c;stroke:#ffffff;stroke-width:0.75;\" x=\"493.75046\" xlink:href=\"#m00482ed16f\" y=\"314.813636\"/>\n     <use style=\"fill:#e41a1c;stroke:#ffffff;stroke-width:0.75;\" x=\"502.828117\" xlink:href=\"#m00482ed16f\" y=\"314.813636\"/>\n     <use style=\"fill:#e41a1c;stroke:#ffffff;stroke-width:0.75;\" x=\"502.828117\" xlink:href=\"#m00482ed16f\" y=\"333.184848\"/>\n     <use style=\"fill:#e41a1c;stroke:#ffffff;stroke-width:0.75;\" x=\"502.828117\" xlink:href=\"#m00482ed16f\" y=\"314.813636\"/>\n     <use style=\"fill:#e41a1c;stroke:#ffffff;stroke-width:0.75;\" x=\"480.133976\" xlink:href=\"#m00482ed16f\" y=\"333.184848\"/>\n     <use style=\"fill:#e41a1c;stroke:#ffffff;stroke-width:0.75;\" x=\"489.211632\" xlink:href=\"#m00482ed16f\" y=\"278.071212\"/>\n     <use style=\"fill:#e41a1c;stroke:#ffffff;stroke-width:0.75;\" x=\"502.828117\" xlink:href=\"#m00482ed16f\" y=\"314.813636\"/>\n     <use style=\"fill:#e41a1c;stroke:#ffffff;stroke-width:0.75;\" x=\"480.133976\" xlink:href=\"#m00482ed16f\" y=\"278.071212\"/>\n     <use style=\"fill:#e41a1c;stroke:#ffffff;stroke-width:0.75;\" x=\"502.828117\" xlink:href=\"#m00482ed16f\" y=\"314.813636\"/>\n     <use style=\"fill:#e41a1c;stroke:#ffffff;stroke-width:0.75;\" x=\"471.056319\" xlink:href=\"#m00482ed16f\" y=\"314.813636\"/>\n     <use style=\"fill:#e41a1c;stroke:#ffffff;stroke-width:0.75;\" x=\"471.056319\" xlink:href=\"#m00482ed16f\" y=\"259.7\"/>\n     <use style=\"fill:#e41a1c;stroke:#ffffff;stroke-width:0.75;\" x=\"489.211632\" xlink:href=\"#m00482ed16f\" y=\"314.813636\"/>\n     <use style=\"fill:#e41a1c;stroke:#ffffff;stroke-width:0.75;\" x=\"443.82335\" xlink:href=\"#m00482ed16f\" y=\"204.586364\"/>\n     <use style=\"fill:#e41a1c;stroke:#ffffff;stroke-width:0.75;\" x=\"434.745694\" xlink:href=\"#m00482ed16f\" y=\"296.442424\"/>\n     <use style=\"fill:#e41a1c;stroke:#ffffff;stroke-width:0.75;\" x=\"502.828117\" xlink:href=\"#m00482ed16f\" y=\"314.813636\"/>\n     <use style=\"fill:#e41a1c;stroke:#ffffff;stroke-width:0.75;\" x=\"498.289289\" xlink:href=\"#m00482ed16f\" y=\"296.442424\"/>\n     <use style=\"fill:#e41a1c;stroke:#ffffff;stroke-width:0.75;\" x=\"489.211632\" xlink:href=\"#m00482ed16f\" y=\"278.071212\"/>\n     <use style=\"fill:#e41a1c;stroke:#ffffff;stroke-width:0.75;\" x=\"493.75046\" xlink:href=\"#m00482ed16f\" y=\"333.184848\"/>\n     <use style=\"fill:#e41a1c;stroke:#ffffff;stroke-width:0.75;\" x=\"475.595148\" xlink:href=\"#m00482ed16f\" y=\"278.071212\"/>\n     <use style=\"fill:#e41a1c;stroke:#ffffff;stroke-width:0.75;\" x=\"507.366945\" xlink:href=\"#m00482ed16f\" y=\"333.184848\"/>\n     <use style=\"fill:#e41a1c;stroke:#ffffff;stroke-width:0.75;\" x=\"507.366945\" xlink:href=\"#m00482ed16f\" y=\"333.184848\"/>\n     <use style=\"fill:#e41a1c;stroke:#ffffff;stroke-width:0.75;\" x=\"498.289289\" xlink:href=\"#m00482ed16f\" y=\"296.442424\"/>\n     <use style=\"fill:#e41a1c;stroke:#ffffff;stroke-width:0.75;\" x=\"498.289289\" xlink:href=\"#m00482ed16f\" y=\"278.071212\"/>\n     <use style=\"fill:#e41a1c;stroke:#ffffff;stroke-width:0.75;\" x=\"489.211632\" xlink:href=\"#m00482ed16f\" y=\"314.813636\"/>\n     <use style=\"fill:#e41a1c;stroke:#ffffff;stroke-width:0.75;\" x=\"471.056319\" xlink:href=\"#m00482ed16f\" y=\"241.328788\"/>\n     <use style=\"fill:#e41a1c;stroke:#ffffff;stroke-width:0.75;\" x=\"489.211632\" xlink:href=\"#m00482ed16f\" y=\"314.813636\"/>\n     <use style=\"fill:#e41a1c;stroke:#ffffff;stroke-width:0.75;\" x=\"434.745694\" xlink:href=\"#m00482ed16f\" y=\"296.442424\"/>\n     <use style=\"fill:#e41a1c;stroke:#ffffff;stroke-width:0.75;\" x=\"502.828117\" xlink:href=\"#m00482ed16f\" y=\"314.813636\"/>\n     <use style=\"fill:#e41a1c;stroke:#ffffff;stroke-width:0.75;\" x=\"502.828117\" xlink:href=\"#m00482ed16f\" y=\"296.442424\"/>\n     <use style=\"fill:#e41a1c;stroke:#ffffff;stroke-width:0.75;\" x=\"475.595148\" xlink:href=\"#m00482ed16f\" y=\"296.442424\"/>\n     <use style=\"fill:#e41a1c;stroke:#ffffff;stroke-width:0.75;\" x=\"507.366945\" xlink:href=\"#m00482ed16f\" y=\"333.184848\"/>\n     <use style=\"fill:#e41a1c;stroke:#ffffff;stroke-width:0.75;\" x=\"489.211632\" xlink:href=\"#m00482ed16f\" y=\"296.442424\"/>\n     <use style=\"fill:#e41a1c;stroke:#ffffff;stroke-width:0.75;\" x=\"480.133976\" xlink:href=\"#m00482ed16f\" y=\"296.442424\"/>\n     <use style=\"fill:#e41a1c;stroke:#ffffff;stroke-width:0.75;\" x=\"502.828117\" xlink:href=\"#m00482ed16f\" y=\"278.071212\"/>\n     <use style=\"fill:#e41a1c;stroke:#ffffff;stroke-width:0.75;\" x=\"493.75046\" xlink:href=\"#m00482ed16f\" y=\"278.071212\"/>\n     <use style=\"fill:#e41a1c;stroke:#ffffff;stroke-width:0.75;\" x=\"484.672804\" xlink:href=\"#m00482ed16f\" y=\"296.442424\"/>\n     <use style=\"fill:#e41a1c;stroke:#ffffff;stroke-width:0.75;\" x=\"502.828117\" xlink:href=\"#m00482ed16f\" y=\"296.442424\"/>\n     <use style=\"fill:#e41a1c;stroke:#ffffff;stroke-width:0.75;\" x=\"475.595148\" xlink:href=\"#m00482ed16f\" y=\"296.442424\"/>\n     <use style=\"fill:#e41a1c;stroke:#ffffff;stroke-width:0.75;\" x=\"498.289289\" xlink:href=\"#m00482ed16f\" y=\"314.813636\"/>\n     <use style=\"fill:#e41a1c;stroke:#ffffff;stroke-width:0.75;\" x=\"498.289289\" xlink:href=\"#m00482ed16f\" y=\"296.442424\"/>\n     <use style=\"fill:#e41a1c;stroke:#ffffff;stroke-width:0.75;\" x=\"489.211632\" xlink:href=\"#m00482ed16f\" y=\"241.328788\"/>\n     <use style=\"fill:#e41a1c;stroke:#ffffff;stroke-width:0.75;\" x=\"489.211632\" xlink:href=\"#m00482ed16f\" y=\"333.184848\"/>\n     <use style=\"fill:#e41a1c;stroke:#ffffff;stroke-width:0.75;\" x=\"489.211632\" xlink:href=\"#m00482ed16f\" y=\"296.442424\"/>\n    </g>\n   </g>\n   <g id=\"PathCollection_8\">\n    <g clip-path=\"url(#p34263be150)\">\n     <use style=\"fill:#377eb8;stroke:#ffffff;stroke-width:0.75;\" x=\"452.901007\" xlink:href=\"#mdf1c74b52f\" y=\"296.442424\"/>\n     <use style=\"fill:#377eb8;stroke:#ffffff;stroke-width:0.75;\" x=\"484.672804\" xlink:href=\"#mdf1c74b52f\" y=\"259.7\"/>\n     <use style=\"fill:#377eb8;stroke:#ffffff;stroke-width:0.75;\" x=\"493.75046\" xlink:href=\"#mdf1c74b52f\" y=\"278.071212\"/>\n     <use style=\"fill:#377eb8;stroke:#ffffff;stroke-width:0.75;\" x=\"452.901007\" xlink:href=\"#mdf1c74b52f\" y=\"259.7\"/>\n     <use style=\"fill:#377eb8;stroke:#ffffff;stroke-width:0.75;\" x=\"484.672804\" xlink:href=\"#mdf1c74b52f\" y=\"314.813636\"/>\n     <use style=\"fill:#377eb8;stroke:#ffffff;stroke-width:0.75;\" x=\"439.284522\" xlink:href=\"#mdf1c74b52f\" y=\"241.328788\"/>\n     <use style=\"fill:#377eb8;stroke:#ffffff;stroke-width:0.75;\" x=\"457.439835\" xlink:href=\"#mdf1c74b52f\" y=\"278.071212\"/>\n     <use style=\"fill:#377eb8;stroke:#ffffff;stroke-width:0.75;\" x=\"484.672804\" xlink:href=\"#mdf1c74b52f\" y=\"278.071212\"/>\n     <use style=\"fill:#377eb8;stroke:#ffffff;stroke-width:0.75;\" x=\"434.745694\" xlink:href=\"#mdf1c74b52f\" y=\"278.071212\"/>\n     <use style=\"fill:#377eb8;stroke:#ffffff;stroke-width:0.75;\" x=\"475.595148\" xlink:href=\"#mdf1c74b52f\" y=\"314.813636\"/>\n     <use style=\"fill:#377eb8;stroke:#ffffff;stroke-width:0.75;\" x=\"443.82335\" xlink:href=\"#mdf1c74b52f\" y=\"314.813636\"/>\n     <use style=\"fill:#377eb8;stroke:#ffffff;stroke-width:0.75;\" x=\"457.439835\" xlink:href=\"#mdf1c74b52f\" y=\"186.215152\"/>\n     <use style=\"fill:#377eb8;stroke:#ffffff;stroke-width:0.75;\" x=\"466.517491\" xlink:href=\"#mdf1c74b52f\" y=\"278.071212\"/>\n     <use style=\"fill:#377eb8;stroke:#ffffff;stroke-width:0.75;\" x=\"434.745694\" xlink:href=\"#mdf1c74b52f\" y=\"296.442424\"/>\n     <use style=\"fill:#377eb8;stroke:#ffffff;stroke-width:0.75;\" x=\"466.517491\" xlink:href=\"#mdf1c74b52f\" y=\"241.328788\"/>\n     <use style=\"fill:#377eb8;stroke:#ffffff;stroke-width:0.75;\" x=\"489.211632\" xlink:href=\"#mdf1c74b52f\" y=\"314.813636\"/>\n     <use style=\"fill:#377eb8;stroke:#ffffff;stroke-width:0.75;\" x=\"457.439835\" xlink:href=\"#mdf1c74b52f\" y=\"241.328788\"/>\n    </g>\n   </g>\n   <g id=\"matplotlib.axis_11\">\n    <g id=\"xtick_14\">\n     <g id=\"line2d_39\">\n      <g>\n       <use style=\"stroke:#000000;stroke-width:0.8;\" x=\"430.206865\" xlink:href=\"#m273c21cbb6\" y=\"340.533333\"/>\n      </g>\n     </g>\n    </g>\n    <g id=\"xtick_15\">\n     <g id=\"line2d_40\">\n      <g>\n       <use style=\"stroke:#000000;stroke-width:0.8;\" x=\"475.595148\" xlink:href=\"#m273c21cbb6\" y=\"340.533333\"/>\n      </g>\n     </g>\n    </g>\n    <g id=\"xtick_16\">\n     <g id=\"line2d_41\">\n      <g>\n       <use style=\"stroke:#000000;stroke-width:0.8;\" x=\"520.98343\" xlink:href=\"#m273c21cbb6\" y=\"340.533333\"/>\n      </g>\n     </g>\n    </g>\n   </g>\n   <g id=\"matplotlib.axis_12\">\n    <g id=\"ytick_26\">\n     <g id=\"line2d_42\">\n      <g>\n       <use style=\"stroke:#000000;stroke-width:0.8;\" x=\"392.926317\" xlink:href=\"#m5bd31e76d0\" y=\"333.184848\"/>\n      </g>\n     </g>\n    </g>\n    <g id=\"ytick_27\">\n     <g id=\"line2d_43\">\n      <g>\n       <use style=\"stroke:#000000;stroke-width:0.8;\" x=\"392.926317\" xlink:href=\"#m5bd31e76d0\" y=\"296.442424\"/>\n      </g>\n     </g>\n    </g>\n    <g id=\"ytick_28\">\n     <g id=\"line2d_44\">\n      <g>\n       <use style=\"stroke:#000000;stroke-width:0.8;\" x=\"392.926317\" xlink:href=\"#m5bd31e76d0\" y=\"259.7\"/>\n      </g>\n     </g>\n    </g>\n    <g id=\"ytick_29\">\n     <g id=\"line2d_45\">\n      <g>\n       <use style=\"stroke:#000000;stroke-width:0.8;\" x=\"392.926317\" xlink:href=\"#m5bd31e76d0\" y=\"222.957576\"/>\n      </g>\n     </g>\n    </g>\n    <g id=\"ytick_30\">\n     <g id=\"line2d_46\">\n      <g>\n       <use style=\"stroke:#000000;stroke-width:0.8;\" x=\"392.926317\" xlink:href=\"#m5bd31e76d0\" y=\"186.215152\"/>\n      </g>\n     </g>\n    </g>\n   </g>\n   <g id=\"patch_18\">\n    <path d=\"M 392.926317 340.533333 \nL 392.926317 178.866667 \n\" style=\"fill:none;stroke:#000000;stroke-linecap:square;stroke-linejoin:miter;stroke-width:0.8;\"/>\n   </g>\n   <g id=\"patch_19\">\n    <path d=\"M 392.926317 340.533333 \nL 541.943194 340.533333 \n\" style=\"fill:none;stroke:#000000;stroke-linecap:square;stroke-linejoin:miter;stroke-width:0.8;\"/>\n   </g>\n  </g>\n  <g id=\"axes_7\">\n   <g id=\"patch_20\">\n    <path d=\"M 50.14375 512.2 \nL 199.160627 512.2 \nL 199.160627 350.533333 \nL 50.14375 350.533333 \nz\n\" style=\"fill:#ffffff;\"/>\n   </g>\n   <g id=\"PathCollection_9\">\n    <g clip-path=\"url(#pbd61b0ea15)\">\n     <use style=\"fill:#e41a1c;stroke:#ffffff;stroke-width:0.75;\" x=\"112.945546\" xlink:href=\"#m00482ed16f\" y=\"470.27041\"/>\n     <use style=\"fill:#e41a1c;stroke:#ffffff;stroke-width:0.75;\" x=\"144.283329\" xlink:href=\"#m00482ed16f\" y=\"392.462923\"/>\n     <use style=\"fill:#e41a1c;stroke:#ffffff;stroke-width:0.75;\" x=\"88.091441\" xlink:href=\"#m00482ed16f\" y=\"504.851515\"/>\n     <use style=\"fill:#e41a1c;stroke:#ffffff;stroke-width:0.75;\" x=\"87.731237\" xlink:href=\"#m00482ed16f\" y=\"383.817647\"/>\n     <use style=\"fill:#e41a1c;stroke:#ffffff;stroke-width:0.75;\" x=\"87.731237\" xlink:href=\"#m00482ed16f\" y=\"375.172371\"/>\n     <use style=\"fill:#e41a1c;stroke:#ffffff;stroke-width:0.75;\" x=\"109.343501\" xlink:href=\"#m00482ed16f\" y=\"366.527094\"/>\n     <use style=\"fill:#e41a1c;stroke:#ffffff;stroke-width:0.75;\" x=\"100.698596\" xlink:href=\"#m00482ed16f\" y=\"375.172371\"/>\n     <use style=\"fill:#e41a1c;stroke:#ffffff;stroke-width:0.75;\" x=\"128.074131\" xlink:href=\"#m00482ed16f\" y=\"375.172371\"/>\n     <use style=\"fill:#e41a1c;stroke:#ffffff;stroke-width:0.75;\" x=\"140.681285\" xlink:href=\"#m00482ed16f\" y=\"375.172371\"/>\n     <use style=\"fill:#e41a1c;stroke:#ffffff;stroke-width:0.75;\" x=\"93.854712\" xlink:href=\"#m00482ed16f\" y=\"496.206239\"/>\n     <use style=\"fill:#e41a1c;stroke:#ffffff;stroke-width:0.75;\" x=\"87.731237\" xlink:href=\"#m00482ed16f\" y=\"409.753476\"/>\n     <use style=\"fill:#e41a1c;stroke:#ffffff;stroke-width:0.75;\" x=\"147.885373\" xlink:href=\"#m00482ed16f\" y=\"357.881818\"/>\n     <use style=\"fill:#e41a1c;stroke:#ffffff;stroke-width:0.75;\" x=\"87.731237\" xlink:href=\"#m00482ed16f\" y=\"375.172371\"/>\n     <use style=\"fill:#e41a1c;stroke:#ffffff;stroke-width:0.75;\" x=\"115.466976\" xlink:href=\"#m00482ed16f\" y=\"383.817647\"/>\n     <use style=\"fill:#e41a1c;stroke:#ffffff;stroke-width:0.75;\" x=\"150.406804\" xlink:href=\"#m00482ed16f\" y=\"401.1082\"/>\n     <use style=\"fill:#e41a1c;stroke:#ffffff;stroke-width:0.75;\" x=\"116.187385\" xlink:href=\"#m00482ed16f\" y=\"375.172371\"/>\n     <use style=\"fill:#e41a1c;stroke:#ffffff;stroke-width:0.75;\" x=\"97.096552\" xlink:href=\"#m00482ed16f\" y=\"435.689305\"/>\n     <use style=\"fill:#e41a1c;stroke:#ffffff;stroke-width:0.75;\" x=\"95.29553\" xlink:href=\"#m00482ed16f\" y=\"375.172371\"/>\n     <use style=\"fill:#e41a1c;stroke:#ffffff;stroke-width:0.75;\" x=\"134.55781\" xlink:href=\"#m00482ed16f\" y=\"487.560963\"/>\n     <use style=\"fill:#e41a1c;stroke:#ffffff;stroke-width:0.75;\" x=\"90.612872\" xlink:href=\"#m00482ed16f\" y=\"401.1082\"/>\n     <use style=\"fill:#e41a1c;stroke:#ffffff;stroke-width:0.75;\" x=\"90.252668\" xlink:href=\"#m00482ed16f\" y=\"461.625134\"/>\n     <use style=\"fill:#e41a1c;stroke:#ffffff;stroke-width:0.75;\" x=\"123.391473\" xlink:href=\"#m00482ed16f\" y=\"392.462923\"/>\n     <use style=\"fill:#e41a1c;stroke:#ffffff;stroke-width:0.75;\" x=\"88.81185\" xlink:href=\"#m00482ed16f\" y=\"375.172371\"/>\n     <use style=\"fill:#e41a1c;stroke:#ffffff;stroke-width:0.75;\" x=\"141.761898\" xlink:href=\"#m00482ed16f\" y=\"375.172371\"/>\n     <use style=\"fill:#e41a1c;stroke:#ffffff;stroke-width:0.75;\" x=\"98.537369\" xlink:href=\"#m00482ed16f\" y=\"375.172371\"/>\n     <use style=\"fill:#e41a1c;stroke:#ffffff;stroke-width:0.75;\" x=\"132.396583\" xlink:href=\"#m00482ed16f\" y=\"418.398752\"/>\n     <use style=\"fill:#e41a1c;stroke:#ffffff;stroke-width:0.75;\" x=\"134.197605\" xlink:href=\"#m00482ed16f\" y=\"401.1082\"/>\n     <use style=\"fill:#e41a1c;stroke:#ffffff;stroke-width:0.75;\" x=\"127.713926\" xlink:href=\"#m00482ed16f\" y=\"375.172371\"/>\n     <use style=\"fill:#e41a1c;stroke:#ffffff;stroke-width:0.75;\" x=\"137.79965\" xlink:href=\"#m00482ed16f\" y=\"418.398752\"/>\n     <use style=\"fill:#e41a1c;stroke:#ffffff;stroke-width:0.75;\" x=\"120.870042\" xlink:href=\"#m00482ed16f\" y=\"375.172371\"/>\n     <use style=\"fill:#e41a1c;stroke:#ffffff;stroke-width:0.75;\" x=\"87.731237\" xlink:href=\"#m00482ed16f\" y=\"435.689305\"/>\n     <use style=\"fill:#e41a1c;stroke:#ffffff;stroke-width:0.75;\" x=\"94.575121\" xlink:href=\"#m00482ed16f\" y=\"435.689305\"/>\n     <use style=\"fill:#e41a1c;stroke:#ffffff;stroke-width:0.75;\" x=\"99.978187\" xlink:href=\"#m00482ed16f\" y=\"401.1082\"/>\n     <use style=\"fill:#e41a1c;stroke:#ffffff;stroke-width:0.75;\" x=\"138.880263\" xlink:href=\"#m00482ed16f\" y=\"487.560963\"/>\n     <use style=\"fill:#e41a1c;stroke:#ffffff;stroke-width:0.75;\" x=\"109.343501\" xlink:href=\"#m00482ed16f\" y=\"504.851515\"/>\n     <use style=\"fill:#e41a1c;stroke:#ffffff;stroke-width:0.75;\" x=\"122.31086\" xlink:href=\"#m00482ed16f\" y=\"375.172371\"/>\n     <use style=\"fill:#e41a1c;stroke:#ffffff;stroke-width:0.75;\" x=\"136.358832\" xlink:href=\"#m00482ed16f\" y=\"383.817647\"/>\n     <use style=\"fill:#e41a1c;stroke:#ffffff;stroke-width:0.75;\" x=\"134.55781\" xlink:href=\"#m00482ed16f\" y=\"401.1082\"/>\n     <use style=\"fill:#e41a1c;stroke:#ffffff;stroke-width:0.75;\" x=\"151.127213\" xlink:href=\"#m00482ed16f\" y=\"392.462923\"/>\n     <use style=\"fill:#e41a1c;stroke:#ffffff;stroke-width:0.75;\" x=\"111.864932\" xlink:href=\"#m00482ed16f\" y=\"427.044029\"/>\n     <use style=\"fill:#e41a1c;stroke:#ffffff;stroke-width:0.75;\" x=\"90.612872\" xlink:href=\"#m00482ed16f\" y=\"366.527094\"/>\n     <use style=\"fill:#e41a1c;stroke:#ffffff;stroke-width:0.75;\" x=\"88.091441\" xlink:href=\"#m00482ed16f\" y=\"366.527094\"/>\n     <use style=\"fill:#e41a1c;stroke:#ffffff;stroke-width:0.75;\" x=\"137.79965\" xlink:href=\"#m00482ed16f\" y=\"383.817647\"/>\n     <use style=\"fill:#e41a1c;stroke:#ffffff;stroke-width:0.75;\" x=\"113.30575\" xlink:href=\"#m00482ed16f\" y=\"383.817647\"/>\n     <use style=\"fill:#e41a1c;stroke:#ffffff;stroke-width:0.75;\" x=\"88.091441\" xlink:href=\"#m00482ed16f\" y=\"401.1082\"/>\n     <use style=\"fill:#e41a1c;stroke:#ffffff;stroke-width:0.75;\" x=\"105.741457\" xlink:href=\"#m00482ed16f\" y=\"435.689305\"/>\n     <use style=\"fill:#e41a1c;stroke:#ffffff;stroke-width:0.75;\" x=\"124.111882\" xlink:href=\"#m00482ed16f\" y=\"401.1082\"/>\n     <use style=\"fill:#e41a1c;stroke:#ffffff;stroke-width:0.75;\" x=\"116.54759\" xlink:href=\"#m00482ed16f\" y=\"504.851515\"/>\n     <use style=\"fill:#e41a1c;stroke:#ffffff;stroke-width:0.75;\" x=\"129.875153\" xlink:href=\"#m00482ed16f\" y=\"375.172371\"/>\n     <use style=\"fill:#e41a1c;stroke:#ffffff;stroke-width:0.75;\" x=\"129.875153\" xlink:href=\"#m00482ed16f\" y=\"375.172371\"/>\n     <use style=\"fill:#e41a1c;stroke:#ffffff;stroke-width:0.75;\" x=\"93.494508\" xlink:href=\"#m00482ed16f\" y=\"427.044029\"/>\n     <use style=\"fill:#e41a1c;stroke:#ffffff;stroke-width:0.75;\" x=\"157.610892\" xlink:href=\"#m00482ed16f\" y=\"366.527094\"/>\n     <use style=\"fill:#e41a1c;stroke:#ffffff;stroke-width:0.75;\" x=\"144.643533\" xlink:href=\"#m00482ed16f\" y=\"401.1082\"/>\n     <use style=\"fill:#e41a1c;stroke:#ffffff;stroke-width:0.75;\" x=\"93.854712\" xlink:href=\"#m00482ed16f\" y=\"418.398752\"/>\n     <use style=\"fill:#e41a1c;stroke:#ffffff;stroke-width:0.75;\" x=\"92.774099\" xlink:href=\"#m00482ed16f\" y=\"375.172371\"/>\n     <use style=\"fill:#e41a1c;stroke:#ffffff;stroke-width:0.75;\" x=\"144.283329\" xlink:href=\"#m00482ed16f\" y=\"392.462923\"/>\n     <use style=\"fill:#e41a1c;stroke:#ffffff;stroke-width:0.75;\" x=\"133.116992\" xlink:href=\"#m00482ed16f\" y=\"409.753476\"/>\n     <use style=\"fill:#e41a1c;stroke:#ffffff;stroke-width:0.75;\" x=\"118.708816\" xlink:href=\"#m00482ed16f\" y=\"375.172371\"/>\n     <use style=\"fill:#e41a1c;stroke:#ffffff;stroke-width:0.75;\" x=\"161.57314\" xlink:href=\"#m00482ed16f\" y=\"427.044029\"/>\n     <use style=\"fill:#e41a1c;stroke:#ffffff;stroke-width:0.75;\" x=\"91.333281\" xlink:href=\"#m00482ed16f\" y=\"383.817647\"/>\n     <use style=\"fill:#e41a1c;stroke:#ffffff;stroke-width:0.75;\" x=\"151.487417\" xlink:href=\"#m00482ed16f\" y=\"383.817647\"/>\n     <use style=\"fill:#e41a1c;stroke:#ffffff;stroke-width:0.75;\" x=\"96.736347\" xlink:href=\"#m00482ed16f\" y=\"401.1082\"/>\n     <use style=\"fill:#e41a1c;stroke:#ffffff;stroke-width:0.75;\" x=\"130.595561\" xlink:href=\"#m00482ed16f\" y=\"401.1082\"/>\n     <use style=\"fill:#e41a1c;stroke:#ffffff;stroke-width:0.75;\" x=\"100.338391\" xlink:href=\"#m00482ed16f\" y=\"401.1082\"/>\n    </g>\n   </g>\n   <g id=\"PathCollection_10\">\n    <g clip-path=\"url(#pbd61b0ea15)\">\n     <use style=\"fill:#377eb8;stroke:#ffffff;stroke-width:0.75;\" x=\"133.477197\" xlink:href=\"#mdf1c74b52f\" y=\"470.27041\"/>\n     <use style=\"fill:#377eb8;stroke:#ffffff;stroke-width:0.75;\" x=\"108.623093\" xlink:href=\"#mdf1c74b52f\" y=\"409.753476\"/>\n     <use style=\"fill:#377eb8;stroke:#ffffff;stroke-width:0.75;\" x=\"116.907794\" xlink:href=\"#mdf1c74b52f\" y=\"392.462923\"/>\n     <use style=\"fill:#377eb8;stroke:#ffffff;stroke-width:0.75;\" x=\"125.192495\" xlink:href=\"#mdf1c74b52f\" y=\"470.27041\"/>\n     <use style=\"fill:#377eb8;stroke:#ffffff;stroke-width:0.75;\" x=\"121.950656\" xlink:href=\"#mdf1c74b52f\" y=\"409.753476\"/>\n     <use style=\"fill:#377eb8;stroke:#ffffff;stroke-width:0.75;\" x=\"92.774099\" xlink:href=\"#mdf1c74b52f\" y=\"496.206239\"/>\n     <use style=\"fill:#377eb8;stroke:#ffffff;stroke-width:0.75;\" x=\"106.101662\" xlink:href=\"#mdf1c74b52f\" y=\"461.625134\"/>\n     <use style=\"fill:#377eb8;stroke:#ffffff;stroke-width:0.75;\" x=\"120.149634\" xlink:href=\"#mdf1c74b52f\" y=\"409.753476\"/>\n     <use style=\"fill:#377eb8;stroke:#ffffff;stroke-width:0.75;\" x=\"113.665954\" xlink:href=\"#mdf1c74b52f\" y=\"504.851515\"/>\n     <use style=\"fill:#377eb8;stroke:#ffffff;stroke-width:0.75;\" x=\"137.439445\" xlink:href=\"#mdf1c74b52f\" y=\"427.044029\"/>\n     <use style=\"fill:#377eb8;stroke:#ffffff;stroke-width:0.75;\" x=\"130.955766\" xlink:href=\"#mdf1c74b52f\" y=\"487.560963\"/>\n     <use style=\"fill:#377eb8;stroke:#ffffff;stroke-width:0.75;\" x=\"137.439445\" xlink:href=\"#mdf1c74b52f\" y=\"461.625134\"/>\n     <use style=\"fill:#377eb8;stroke:#ffffff;stroke-width:0.75;\" x=\"130.595561\" xlink:href=\"#mdf1c74b52f\" y=\"444.334581\"/>\n     <use style=\"fill:#377eb8;stroke:#ffffff;stroke-width:0.75;\" x=\"134.197605\" xlink:href=\"#mdf1c74b52f\" y=\"504.851515\"/>\n     <use style=\"fill:#377eb8;stroke:#ffffff;stroke-width:0.75;\" x=\"128.434335\" xlink:href=\"#mdf1c74b52f\" y=\"444.334581\"/>\n     <use style=\"fill:#377eb8;stroke:#ffffff;stroke-width:0.75;\" x=\"143.923124\" xlink:href=\"#mdf1c74b52f\" y=\"401.1082\"/>\n     <use style=\"fill:#377eb8;stroke:#ffffff;stroke-width:0.75;\" x=\"102.499618\" xlink:href=\"#mdf1c74b52f\" y=\"461.625134\"/>\n    </g>\n   </g>\n   <g id=\"matplotlib.axis_13\">\n    <g id=\"xtick_17\">\n     <g id=\"line2d_47\">\n      <g>\n       <use style=\"stroke:#000000;stroke-width:0.8;\" x=\"87.371033\" xlink:href=\"#m273c21cbb6\" y=\"512.2\"/>\n      </g>\n     </g>\n     <g id=\"text_13\">\n      <!-- 0 -->\n      <g transform=\"translate(84.189783 526.798437)scale(0.1 -0.1)\">\n       <use xlink:href=\"#DejaVuSans-48\"/>\n      </g>\n     </g>\n    </g>\n    <g id=\"xtick_18\">\n     <g id=\"line2d_48\">\n      <g>\n       <use style=\"stroke:#000000;stroke-width:0.8;\" x=\"159.411914\" xlink:href=\"#m273c21cbb6\" y=\"512.2\"/>\n      </g>\n     </g>\n     <g id=\"text_14\">\n      <!-- 200 -->\n      <g transform=\"translate(149.868164 526.798437)scale(0.1 -0.1)\">\n       <use xlink:href=\"#DejaVuSans-50\"/>\n       <use x=\"63.623047\" xlink:href=\"#DejaVuSans-48\"/>\n       <use x=\"127.246094\" xlink:href=\"#DejaVuSans-48\"/>\n      </g>\n     </g>\n    </g>\n    <g id=\"text_15\">\n     <!-- Age -->\n     <g transform=\"translate(114.981095 540.476562)scale(0.1 -0.1)\">\n      <use xlink:href=\"#DejaVuSans-65\"/>\n      <use x=\"68.408203\" xlink:href=\"#DejaVuSans-103\"/>\n      <use x=\"131.884766\" xlink:href=\"#DejaVuSans-101\"/>\n     </g>\n    </g>\n   </g>\n   <g id=\"matplotlib.axis_14\">\n    <g id=\"ytick_31\">\n     <g id=\"line2d_49\">\n      <g>\n       <use style=\"stroke:#000000;stroke-width:0.8;\" x=\"50.14375\" xlink:href=\"#m5bd31e76d0\" y=\"491.883601\"/>\n      </g>\n     </g>\n     <g id=\"text_16\">\n      <!-- 2.5 -->\n      <g transform=\"translate(27.240625 495.682819)scale(0.1 -0.1)\">\n       <defs>\n        <path d=\"M 10.6875 12.40625 \nL 21 12.40625 \nL 21 0 \nL 10.6875 0 \nz\n\" id=\"DejaVuSans-46\"/>\n       </defs>\n       <use xlink:href=\"#DejaVuSans-50\"/>\n       <use x=\"63.623047\" xlink:href=\"#DejaVuSans-46\"/>\n       <use x=\"95.410156\" xlink:href=\"#DejaVuSans-53\"/>\n      </g>\n     </g>\n    </g>\n    <g id=\"ytick_32\">\n     <g id=\"line2d_50\">\n      <g>\n       <use style=\"stroke:#000000;stroke-width:0.8;\" x=\"50.14375\" xlink:href=\"#m5bd31e76d0\" y=\"470.27041\"/>\n      </g>\n     </g>\n     <g id=\"text_17\">\n      <!-- 5.0 -->\n      <g transform=\"translate(27.240625 474.069629)scale(0.1 -0.1)\">\n       <use xlink:href=\"#DejaVuSans-53\"/>\n       <use x=\"63.623047\" xlink:href=\"#DejaVuSans-46\"/>\n       <use x=\"95.410156\" xlink:href=\"#DejaVuSans-48\"/>\n      </g>\n     </g>\n    </g>\n    <g id=\"ytick_33\">\n     <g id=\"line2d_51\">\n      <g>\n       <use style=\"stroke:#000000;stroke-width:0.8;\" x=\"50.14375\" xlink:href=\"#m5bd31e76d0\" y=\"448.657219\"/>\n      </g>\n     </g>\n     <g id=\"text_18\">\n      <!-- 7.5 -->\n      <g transform=\"translate(27.240625 452.456438)scale(0.1 -0.1)\">\n       <defs>\n        <path d=\"M 8.203125 72.90625 \nL 55.078125 72.90625 \nL 55.078125 68.703125 \nL 28.609375 0 \nL 18.3125 0 \nL 43.21875 64.59375 \nL 8.203125 64.59375 \nz\n\" id=\"DejaVuSans-55\"/>\n       </defs>\n       <use xlink:href=\"#DejaVuSans-55\"/>\n       <use x=\"63.623047\" xlink:href=\"#DejaVuSans-46\"/>\n       <use x=\"95.410156\" xlink:href=\"#DejaVuSans-53\"/>\n      </g>\n     </g>\n    </g>\n    <g id=\"ytick_34\">\n     <g id=\"line2d_52\">\n      <g>\n       <use style=\"stroke:#000000;stroke-width:0.8;\" x=\"50.14375\" xlink:href=\"#m5bd31e76d0\" y=\"427.044029\"/>\n      </g>\n     </g>\n     <g id=\"text_19\">\n      <!-- 10.0 -->\n      <g transform=\"translate(20.878125 430.843247)scale(0.1 -0.1)\">\n       <use xlink:href=\"#DejaVuSans-49\"/>\n       <use x=\"63.623047\" xlink:href=\"#DejaVuSans-48\"/>\n       <use x=\"127.246094\" xlink:href=\"#DejaVuSans-46\"/>\n       <use x=\"159.033203\" xlink:href=\"#DejaVuSans-48\"/>\n      </g>\n     </g>\n    </g>\n    <g id=\"ytick_35\">\n     <g id=\"line2d_53\">\n      <g>\n       <use style=\"stroke:#000000;stroke-width:0.8;\" x=\"50.14375\" xlink:href=\"#m5bd31e76d0\" y=\"405.430838\"/>\n      </g>\n     </g>\n     <g id=\"text_20\">\n      <!-- 12.5 -->\n      <g transform=\"translate(20.878125 409.230057)scale(0.1 -0.1)\">\n       <use xlink:href=\"#DejaVuSans-49\"/>\n       <use x=\"63.623047\" xlink:href=\"#DejaVuSans-50\"/>\n       <use x=\"127.246094\" xlink:href=\"#DejaVuSans-46\"/>\n       <use x=\"159.033203\" xlink:href=\"#DejaVuSans-53\"/>\n      </g>\n     </g>\n    </g>\n    <g id=\"ytick_36\">\n     <g id=\"line2d_54\">\n      <g>\n       <use style=\"stroke:#000000;stroke-width:0.8;\" x=\"50.14375\" xlink:href=\"#m5bd31e76d0\" y=\"383.817647\"/>\n      </g>\n     </g>\n     <g id=\"text_21\">\n      <!-- 15.0 -->\n      <g transform=\"translate(20.878125 387.616866)scale(0.1 -0.1)\">\n       <use xlink:href=\"#DejaVuSans-49\"/>\n       <use x=\"63.623047\" xlink:href=\"#DejaVuSans-53\"/>\n       <use x=\"127.246094\" xlink:href=\"#DejaVuSans-46\"/>\n       <use x=\"159.033203\" xlink:href=\"#DejaVuSans-48\"/>\n      </g>\n     </g>\n    </g>\n    <g id=\"ytick_37\">\n     <g id=\"line2d_55\">\n      <g>\n       <use style=\"stroke:#000000;stroke-width:0.8;\" x=\"50.14375\" xlink:href=\"#m5bd31e76d0\" y=\"362.204456\"/>\n      </g>\n     </g>\n     <g id=\"text_22\">\n      <!-- 17.5 -->\n      <g transform=\"translate(20.878125 366.003675)scale(0.1 -0.1)\">\n       <use xlink:href=\"#DejaVuSans-49\"/>\n       <use x=\"63.623047\" xlink:href=\"#DejaVuSans-55\"/>\n       <use x=\"127.246094\" xlink:href=\"#DejaVuSans-46\"/>\n       <use x=\"159.033203\" xlink:href=\"#DejaVuSans-53\"/>\n      </g>\n     </g>\n    </g>\n    <g id=\"text_23\">\n     <!-- Start -->\n     <g transform=\"translate(14.798438 443.580729)rotate(-90)scale(0.1 -0.1)\">\n      <defs>\n       <path d=\"M 53.515625 70.515625 \nL 53.515625 60.890625 \nQ 47.90625 63.578125 42.921875 64.890625 \nQ 37.9375 66.21875 33.296875 66.21875 \nQ 25.25 66.21875 20.875 63.09375 \nQ 16.5 59.96875 16.5 54.203125 \nQ 16.5 49.359375 19.40625 46.890625 \nQ 22.3125 44.4375 30.421875 42.921875 \nL 36.375 41.703125 \nQ 47.40625 39.59375 52.65625 34.296875 \nQ 57.90625 29 57.90625 20.125 \nQ 57.90625 9.515625 50.796875 4.046875 \nQ 43.703125 -1.421875 29.984375 -1.421875 \nQ 24.8125 -1.421875 18.96875 -0.25 \nQ 13.140625 0.921875 6.890625 3.21875 \nL 6.890625 13.375 \nQ 12.890625 10.015625 18.65625 8.296875 \nQ 24.421875 6.59375 29.984375 6.59375 \nQ 38.421875 6.59375 43.015625 9.90625 \nQ 47.609375 13.234375 47.609375 19.390625 \nQ 47.609375 24.75 44.3125 27.78125 \nQ 41.015625 30.8125 33.5 32.328125 \nL 27.484375 33.5 \nQ 16.453125 35.6875 11.515625 40.375 \nQ 6.59375 45.0625 6.59375 53.421875 \nQ 6.59375 63.09375 13.40625 68.65625 \nQ 20.21875 74.21875 32.171875 74.21875 \nQ 37.3125 74.21875 42.625 73.28125 \nQ 47.953125 72.359375 53.515625 70.515625 \nz\n\" id=\"DejaVuSans-83\"/>\n       <path d=\"M 18.3125 70.21875 \nL 18.3125 54.6875 \nL 36.8125 54.6875 \nL 36.8125 47.703125 \nL 18.3125 47.703125 \nL 18.3125 18.015625 \nQ 18.3125 11.328125 20.140625 9.421875 \nQ 21.96875 7.515625 27.59375 7.515625 \nL 36.8125 7.515625 \nL 36.8125 0 \nL 27.59375 0 \nQ 17.1875 0 13.234375 3.875 \nQ 9.28125 7.765625 9.28125 18.015625 \nL 9.28125 47.703125 \nL 2.6875 47.703125 \nL 2.6875 54.6875 \nL 9.28125 54.6875 \nL 9.28125 70.21875 \nz\n\" id=\"DejaVuSans-116\"/>\n       <path d=\"M 34.28125 27.484375 \nQ 23.390625 27.484375 19.1875 25 \nQ 14.984375 22.515625 14.984375 16.5 \nQ 14.984375 11.71875 18.140625 8.90625 \nQ 21.296875 6.109375 26.703125 6.109375 \nQ 34.1875 6.109375 38.703125 11.40625 \nQ 43.21875 16.703125 43.21875 25.484375 \nL 43.21875 27.484375 \nz\nM 52.203125 31.203125 \nL 52.203125 0 \nL 43.21875 0 \nL 43.21875 8.296875 \nQ 40.140625 3.328125 35.546875 0.953125 \nQ 30.953125 -1.421875 24.3125 -1.421875 \nQ 15.921875 -1.421875 10.953125 3.296875 \nQ 6 8.015625 6 15.921875 \nQ 6 25.140625 12.171875 29.828125 \nQ 18.359375 34.515625 30.609375 34.515625 \nL 43.21875 34.515625 \nL 43.21875 35.40625 \nQ 43.21875 41.609375 39.140625 45 \nQ 35.0625 48.390625 27.6875 48.390625 \nQ 23 48.390625 18.546875 47.265625 \nQ 14.109375 46.140625 10.015625 43.890625 \nL 10.015625 52.203125 \nQ 14.9375 54.109375 19.578125 55.046875 \nQ 24.21875 56 28.609375 56 \nQ 40.484375 56 46.34375 49.84375 \nQ 52.203125 43.703125 52.203125 31.203125 \nz\n\" id=\"DejaVuSans-97\"/>\n      </defs>\n      <use xlink:href=\"#DejaVuSans-83\"/>\n      <use x=\"63.476562\" xlink:href=\"#DejaVuSans-116\"/>\n      <use x=\"102.685547\" xlink:href=\"#DejaVuSans-97\"/>\n      <use x=\"163.964844\" xlink:href=\"#DejaVuSans-114\"/>\n      <use x=\"205.078125\" xlink:href=\"#DejaVuSans-116\"/>\n     </g>\n    </g>\n   </g>\n   <g id=\"patch_21\">\n    <path d=\"M 50.14375 512.2 \nL 50.14375 350.533333 \n\" style=\"fill:none;stroke:#000000;stroke-linecap:square;stroke-linejoin:miter;stroke-width:0.8;\"/>\n   </g>\n   <g id=\"patch_22\">\n    <path d=\"M 50.14375 512.2 \nL 199.160627 512.2 \n\" style=\"fill:none;stroke:#000000;stroke-linecap:square;stroke-linejoin:miter;stroke-width:0.8;\"/>\n   </g>\n  </g>\n  <g id=\"axes_8\">\n   <g id=\"patch_23\">\n    <path d=\"M 221.535033 512.2 \nL 370.551911 512.2 \nL 370.551911 350.533333 \nL 221.535033 350.533333 \nz\n\" style=\"fill:#ffffff;\"/>\n   </g>\n   <g id=\"PathCollection_11\">\n    <g clip-path=\"url(#p77e16e9677)\">\n     <use style=\"fill:#e41a1c;stroke:#ffffff;stroke-width:0.75;\" x=\"260.015352\" xlink:href=\"#m00482ed16f\" y=\"470.27041\"/>\n     <use style=\"fill:#e41a1c;stroke:#ffffff;stroke-width:0.75;\" x=\"260.015352\" xlink:href=\"#m00482ed16f\" y=\"392.462923\"/>\n     <use style=\"fill:#e41a1c;stroke:#ffffff;stroke-width:0.75;\" x=\"281.470246\" xlink:href=\"#m00482ed16f\" y=\"504.851515\"/>\n     <use style=\"fill:#e41a1c;stroke:#ffffff;stroke-width:0.75;\" x=\"270.742799\" xlink:href=\"#m00482ed16f\" y=\"383.817647\"/>\n     <use style=\"fill:#e41a1c;stroke:#ffffff;stroke-width:0.75;\" x=\"249.287905\" xlink:href=\"#m00482ed16f\" y=\"375.172371\"/>\n     <use style=\"fill:#e41a1c;stroke:#ffffff;stroke-width:0.75;\" x=\"249.287905\" xlink:href=\"#m00482ed16f\" y=\"366.527094\"/>\n     <use style=\"fill:#e41a1c;stroke:#ffffff;stroke-width:0.75;\" x=\"260.015352\" xlink:href=\"#m00482ed16f\" y=\"375.172371\"/>\n     <use style=\"fill:#e41a1c;stroke:#ffffff;stroke-width:0.75;\" x=\"249.287905\" xlink:href=\"#m00482ed16f\" y=\"375.172371\"/>\n     <use style=\"fill:#e41a1c;stroke:#ffffff;stroke-width:0.75;\" x=\"260.015352\" xlink:href=\"#m00482ed16f\" y=\"375.172371\"/>\n     <use style=\"fill:#e41a1c;stroke:#ffffff;stroke-width:0.75;\" x=\"281.470246\" xlink:href=\"#m00482ed16f\" y=\"496.206239\"/>\n     <use style=\"fill:#e41a1c;stroke:#ffffff;stroke-width:0.75;\" x=\"270.742799\" xlink:href=\"#m00482ed16f\" y=\"409.753476\"/>\n     <use style=\"fill:#e41a1c;stroke:#ffffff;stroke-width:0.75;\" x=\"260.015352\" xlink:href=\"#m00482ed16f\" y=\"357.881818\"/>\n     <use style=\"fill:#e41a1c;stroke:#ffffff;stroke-width:0.75;\" x=\"260.015352\" xlink:href=\"#m00482ed16f\" y=\"375.172371\"/>\n     <use style=\"fill:#e41a1c;stroke:#ffffff;stroke-width:0.75;\" x=\"292.197693\" xlink:href=\"#m00482ed16f\" y=\"383.817647\"/>\n     <use style=\"fill:#e41a1c;stroke:#ffffff;stroke-width:0.75;\" x=\"281.470246\" xlink:href=\"#m00482ed16f\" y=\"401.1082\"/>\n     <use style=\"fill:#e41a1c;stroke:#ffffff;stroke-width:0.75;\" x=\"281.470246\" xlink:href=\"#m00482ed16f\" y=\"375.172371\"/>\n     <use style=\"fill:#e41a1c;stroke:#ffffff;stroke-width:0.75;\" x=\"270.742799\" xlink:href=\"#m00482ed16f\" y=\"435.689305\"/>\n     <use style=\"fill:#e41a1c;stroke:#ffffff;stroke-width:0.75;\" x=\"249.287905\" xlink:href=\"#m00482ed16f\" y=\"375.172371\"/>\n     <use style=\"fill:#e41a1c;stroke:#ffffff;stroke-width:0.75;\" x=\"249.287905\" xlink:href=\"#m00482ed16f\" y=\"487.560963\"/>\n     <use style=\"fill:#e41a1c;stroke:#ffffff;stroke-width:0.75;\" x=\"281.470246\" xlink:href=\"#m00482ed16f\" y=\"401.1082\"/>\n     <use style=\"fill:#e41a1c;stroke:#ffffff;stroke-width:0.75;\" x=\"260.015352\" xlink:href=\"#m00482ed16f\" y=\"461.625134\"/>\n     <use style=\"fill:#e41a1c;stroke:#ffffff;stroke-width:0.75;\" x=\"260.015352\" xlink:href=\"#m00482ed16f\" y=\"392.462923\"/>\n     <use style=\"fill:#e41a1c;stroke:#ffffff;stroke-width:0.75;\" x=\"260.015352\" xlink:href=\"#m00482ed16f\" y=\"375.172371\"/>\n     <use style=\"fill:#e41a1c;stroke:#ffffff;stroke-width:0.75;\" x=\"249.287905\" xlink:href=\"#m00482ed16f\" y=\"375.172371\"/>\n     <use style=\"fill:#e41a1c;stroke:#ffffff;stroke-width:0.75;\" x=\"260.015352\" xlink:href=\"#m00482ed16f\" y=\"375.172371\"/>\n     <use style=\"fill:#e41a1c;stroke:#ffffff;stroke-width:0.75;\" x=\"249.287905\" xlink:href=\"#m00482ed16f\" y=\"418.398752\"/>\n     <use style=\"fill:#e41a1c;stroke:#ffffff;stroke-width:0.75;\" x=\"281.470246\" xlink:href=\"#m00482ed16f\" y=\"401.1082\"/>\n     <use style=\"fill:#e41a1c;stroke:#ffffff;stroke-width:0.75;\" x=\"260.015352\" xlink:href=\"#m00482ed16f\" y=\"375.172371\"/>\n     <use style=\"fill:#e41a1c;stroke:#ffffff;stroke-width:0.75;\" x=\"281.470246\" xlink:href=\"#m00482ed16f\" y=\"418.398752\"/>\n     <use style=\"fill:#e41a1c;stroke:#ffffff;stroke-width:0.75;\" x=\"260.015352\" xlink:href=\"#m00482ed16f\" y=\"375.172371\"/>\n     <use style=\"fill:#e41a1c;stroke:#ffffff;stroke-width:0.75;\" x=\"260.015352\" xlink:href=\"#m00482ed16f\" y=\"435.689305\"/>\n     <use style=\"fill:#e41a1c;stroke:#ffffff;stroke-width:0.75;\" x=\"292.197693\" xlink:href=\"#m00482ed16f\" y=\"435.689305\"/>\n     <use style=\"fill:#e41a1c;stroke:#ffffff;stroke-width:0.75;\" x=\"260.015352\" xlink:href=\"#m00482ed16f\" y=\"401.1082\"/>\n     <use style=\"fill:#e41a1c;stroke:#ffffff;stroke-width:0.75;\" x=\"324.380035\" xlink:href=\"#m00482ed16f\" y=\"487.560963\"/>\n     <use style=\"fill:#e41a1c;stroke:#ffffff;stroke-width:0.75;\" x=\"270.742799\" xlink:href=\"#m00482ed16f\" y=\"504.851515\"/>\n     <use style=\"fill:#e41a1c;stroke:#ffffff;stroke-width:0.75;\" x=\"260.015352\" xlink:href=\"#m00482ed16f\" y=\"375.172371\"/>\n     <use style=\"fill:#e41a1c;stroke:#ffffff;stroke-width:0.75;\" x=\"270.742799\" xlink:href=\"#m00482ed16f\" y=\"383.817647\"/>\n     <use style=\"fill:#e41a1c;stroke:#ffffff;stroke-width:0.75;\" x=\"281.470246\" xlink:href=\"#m00482ed16f\" y=\"401.1082\"/>\n     <use style=\"fill:#e41a1c;stroke:#ffffff;stroke-width:0.75;\" x=\"249.287905\" xlink:href=\"#m00482ed16f\" y=\"392.462923\"/>\n     <use style=\"fill:#e41a1c;stroke:#ffffff;stroke-width:0.75;\" x=\"281.470246\" xlink:href=\"#m00482ed16f\" y=\"427.044029\"/>\n     <use style=\"fill:#e41a1c;stroke:#ffffff;stroke-width:0.75;\" x=\"249.287905\" xlink:href=\"#m00482ed16f\" y=\"366.527094\"/>\n     <use style=\"fill:#e41a1c;stroke:#ffffff;stroke-width:0.75;\" x=\"249.287905\" xlink:href=\"#m00482ed16f\" y=\"366.527094\"/>\n     <use style=\"fill:#e41a1c;stroke:#ffffff;stroke-width:0.75;\" x=\"270.742799\" xlink:href=\"#m00482ed16f\" y=\"383.817647\"/>\n     <use style=\"fill:#e41a1c;stroke:#ffffff;stroke-width:0.75;\" x=\"281.470246\" xlink:href=\"#m00482ed16f\" y=\"383.817647\"/>\n     <use style=\"fill:#e41a1c;stroke:#ffffff;stroke-width:0.75;\" x=\"260.015352\" xlink:href=\"#m00482ed16f\" y=\"401.1082\"/>\n     <use style=\"fill:#e41a1c;stroke:#ffffff;stroke-width:0.75;\" x=\"302.925141\" xlink:href=\"#m00482ed16f\" y=\"435.689305\"/>\n     <use style=\"fill:#e41a1c;stroke:#ffffff;stroke-width:0.75;\" x=\"260.015352\" xlink:href=\"#m00482ed16f\" y=\"401.1082\"/>\n     <use style=\"fill:#e41a1c;stroke:#ffffff;stroke-width:0.75;\" x=\"270.742799\" xlink:href=\"#m00482ed16f\" y=\"504.851515\"/>\n     <use style=\"fill:#e41a1c;stroke:#ffffff;stroke-width:0.75;\" x=\"260.015352\" xlink:href=\"#m00482ed16f\" y=\"375.172371\"/>\n     <use style=\"fill:#e41a1c;stroke:#ffffff;stroke-width:0.75;\" x=\"270.742799\" xlink:href=\"#m00482ed16f\" y=\"375.172371\"/>\n     <use style=\"fill:#e41a1c;stroke:#ffffff;stroke-width:0.75;\" x=\"270.742799\" xlink:href=\"#m00482ed16f\" y=\"427.044029\"/>\n     <use style=\"fill:#e41a1c;stroke:#ffffff;stroke-width:0.75;\" x=\"249.287905\" xlink:href=\"#m00482ed16f\" y=\"366.527094\"/>\n     <use style=\"fill:#e41a1c;stroke:#ffffff;stroke-width:0.75;\" x=\"270.742799\" xlink:href=\"#m00482ed16f\" y=\"401.1082\"/>\n     <use style=\"fill:#e41a1c;stroke:#ffffff;stroke-width:0.75;\" x=\"270.742799\" xlink:href=\"#m00482ed16f\" y=\"418.398752\"/>\n     <use style=\"fill:#e41a1c;stroke:#ffffff;stroke-width:0.75;\" x=\"281.470246\" xlink:href=\"#m00482ed16f\" y=\"375.172371\"/>\n     <use style=\"fill:#e41a1c;stroke:#ffffff;stroke-width:0.75;\" x=\"281.470246\" xlink:href=\"#m00482ed16f\" y=\"392.462923\"/>\n     <use style=\"fill:#e41a1c;stroke:#ffffff;stroke-width:0.75;\" x=\"270.742799\" xlink:href=\"#m00482ed16f\" y=\"409.753476\"/>\n     <use style=\"fill:#e41a1c;stroke:#ffffff;stroke-width:0.75;\" x=\"270.742799\" xlink:href=\"#m00482ed16f\" y=\"375.172371\"/>\n     <use style=\"fill:#e41a1c;stroke:#ffffff;stroke-width:0.75;\" x=\"270.742799\" xlink:href=\"#m00482ed16f\" y=\"427.044029\"/>\n     <use style=\"fill:#e41a1c;stroke:#ffffff;stroke-width:0.75;\" x=\"260.015352\" xlink:href=\"#m00482ed16f\" y=\"383.817647\"/>\n     <use style=\"fill:#e41a1c;stroke:#ffffff;stroke-width:0.75;\" x=\"270.742799\" xlink:href=\"#m00482ed16f\" y=\"383.817647\"/>\n     <use style=\"fill:#e41a1c;stroke:#ffffff;stroke-width:0.75;\" x=\"302.925141\" xlink:href=\"#m00482ed16f\" y=\"401.1082\"/>\n     <use style=\"fill:#e41a1c;stroke:#ffffff;stroke-width:0.75;\" x=\"249.287905\" xlink:href=\"#m00482ed16f\" y=\"401.1082\"/>\n     <use style=\"fill:#e41a1c;stroke:#ffffff;stroke-width:0.75;\" x=\"270.742799\" xlink:href=\"#m00482ed16f\" y=\"401.1082\"/>\n    </g>\n   </g>\n   <g id=\"PathCollection_12\">\n    <g clip-path=\"url(#p77e16e9677)\">\n     <use style=\"fill:#377eb8;stroke:#ffffff;stroke-width:0.75;\" x=\"270.742799\" xlink:href=\"#mdf1c74b52f\" y=\"470.27041\"/>\n     <use style=\"fill:#377eb8;stroke:#ffffff;stroke-width:0.75;\" x=\"292.197693\" xlink:href=\"#mdf1c74b52f\" y=\"409.753476\"/>\n     <use style=\"fill:#377eb8;stroke:#ffffff;stroke-width:0.75;\" x=\"281.470246\" xlink:href=\"#mdf1c74b52f\" y=\"392.462923\"/>\n     <use style=\"fill:#377eb8;stroke:#ffffff;stroke-width:0.75;\" x=\"292.197693\" xlink:href=\"#mdf1c74b52f\" y=\"470.27041\"/>\n     <use style=\"fill:#377eb8;stroke:#ffffff;stroke-width:0.75;\" x=\"260.015352\" xlink:href=\"#mdf1c74b52f\" y=\"409.753476\"/>\n     <use style=\"fill:#377eb8;stroke:#ffffff;stroke-width:0.75;\" x=\"302.925141\" xlink:href=\"#mdf1c74b52f\" y=\"496.206239\"/>\n     <use style=\"fill:#377eb8;stroke:#ffffff;stroke-width:0.75;\" x=\"281.470246\" xlink:href=\"#mdf1c74b52f\" y=\"461.625134\"/>\n     <use style=\"fill:#377eb8;stroke:#ffffff;stroke-width:0.75;\" x=\"281.470246\" xlink:href=\"#mdf1c74b52f\" y=\"409.753476\"/>\n     <use style=\"fill:#377eb8;stroke:#ffffff;stroke-width:0.75;\" x=\"281.470246\" xlink:href=\"#mdf1c74b52f\" y=\"504.851515\"/>\n     <use style=\"fill:#377eb8;stroke:#ffffff;stroke-width:0.75;\" x=\"260.015352\" xlink:href=\"#mdf1c74b52f\" y=\"427.044029\"/>\n     <use style=\"fill:#377eb8;stroke:#ffffff;stroke-width:0.75;\" x=\"260.015352\" xlink:href=\"#mdf1c74b52f\" y=\"487.560963\"/>\n     <use style=\"fill:#377eb8;stroke:#ffffff;stroke-width:0.75;\" x=\"335.107482\" xlink:href=\"#mdf1c74b52f\" y=\"461.625134\"/>\n     <use style=\"fill:#377eb8;stroke:#ffffff;stroke-width:0.75;\" x=\"281.470246\" xlink:href=\"#mdf1c74b52f\" y=\"444.334581\"/>\n     <use style=\"fill:#377eb8;stroke:#ffffff;stroke-width:0.75;\" x=\"270.742799\" xlink:href=\"#mdf1c74b52f\" y=\"504.851515\"/>\n     <use style=\"fill:#377eb8;stroke:#ffffff;stroke-width:0.75;\" x=\"302.925141\" xlink:href=\"#mdf1c74b52f\" y=\"444.334581\"/>\n     <use style=\"fill:#377eb8;stroke:#ffffff;stroke-width:0.75;\" x=\"260.015352\" xlink:href=\"#mdf1c74b52f\" y=\"401.1082\"/>\n     <use style=\"fill:#377eb8;stroke:#ffffff;stroke-width:0.75;\" x=\"302.925141\" xlink:href=\"#mdf1c74b52f\" y=\"461.625134\"/>\n    </g>\n   </g>\n   <g id=\"matplotlib.axis_15\">\n    <g id=\"xtick_19\">\n     <g id=\"line2d_56\">\n      <g>\n       <use style=\"stroke:#000000;stroke-width:0.8;\" x=\"227.833011\" xlink:href=\"#m273c21cbb6\" y=\"512.2\"/>\n      </g>\n     </g>\n     <g id=\"text_24\">\n      <!-- 0 -->\n      <g transform=\"translate(224.651761 526.798437)scale(0.1 -0.1)\">\n       <use xlink:href=\"#DejaVuSans-48\"/>\n      </g>\n     </g>\n    </g>\n    <g id=\"xtick_20\">\n     <g id=\"line2d_57\">\n      <g>\n       <use style=\"stroke:#000000;stroke-width:0.8;\" x=\"281.470246\" xlink:href=\"#m273c21cbb6\" y=\"512.2\"/>\n      </g>\n     </g>\n     <g id=\"text_25\">\n      <!-- 5 -->\n      <g transform=\"translate(278.288996 526.798437)scale(0.1 -0.1)\">\n       <use xlink:href=\"#DejaVuSans-53\"/>\n      </g>\n     </g>\n    </g>\n    <g id=\"xtick_21\">\n     <g id=\"line2d_58\">\n      <g>\n       <use style=\"stroke:#000000;stroke-width:0.8;\" x=\"335.107482\" xlink:href=\"#m273c21cbb6\" y=\"512.2\"/>\n      </g>\n     </g>\n     <g id=\"text_26\">\n      <!-- 10 -->\n      <g transform=\"translate(328.744982 526.798437)scale(0.1 -0.1)\">\n       <use xlink:href=\"#DejaVuSans-49\"/>\n       <use x=\"63.623047\" xlink:href=\"#DejaVuSans-48\"/>\n      </g>\n     </g>\n    </g>\n    <g id=\"text_27\">\n     <!-- Number -->\n     <g transform=\"translate(275.957535 540.476562)scale(0.1 -0.1)\">\n      <use xlink:href=\"#DejaVuSans-78\"/>\n      <use x=\"74.804688\" xlink:href=\"#DejaVuSans-117\"/>\n      <use x=\"138.183594\" xlink:href=\"#DejaVuSans-109\"/>\n      <use x=\"235.595703\" xlink:href=\"#DejaVuSans-98\"/>\n      <use x=\"299.072266\" xlink:href=\"#DejaVuSans-101\"/>\n      <use x=\"360.595703\" xlink:href=\"#DejaVuSans-114\"/>\n     </g>\n    </g>\n   </g>\n   <g id=\"matplotlib.axis_16\">\n    <g id=\"ytick_38\">\n     <g id=\"line2d_59\">\n      <g>\n       <use style=\"stroke:#000000;stroke-width:0.8;\" x=\"221.535033\" xlink:href=\"#m5bd31e76d0\" y=\"491.883601\"/>\n      </g>\n     </g>\n    </g>\n    <g id=\"ytick_39\">\n     <g id=\"line2d_60\">\n      <g>\n       <use style=\"stroke:#000000;stroke-width:0.8;\" x=\"221.535033\" xlink:href=\"#m5bd31e76d0\" y=\"470.27041\"/>\n      </g>\n     </g>\n    </g>\n    <g id=\"ytick_40\">\n     <g id=\"line2d_61\">\n      <g>\n       <use style=\"stroke:#000000;stroke-width:0.8;\" x=\"221.535033\" xlink:href=\"#m5bd31e76d0\" y=\"448.657219\"/>\n      </g>\n     </g>\n    </g>\n    <g id=\"ytick_41\">\n     <g id=\"line2d_62\">\n      <g>\n       <use style=\"stroke:#000000;stroke-width:0.8;\" x=\"221.535033\" xlink:href=\"#m5bd31e76d0\" y=\"427.044029\"/>\n      </g>\n     </g>\n    </g>\n    <g id=\"ytick_42\">\n     <g id=\"line2d_63\">\n      <g>\n       <use style=\"stroke:#000000;stroke-width:0.8;\" x=\"221.535033\" xlink:href=\"#m5bd31e76d0\" y=\"405.430838\"/>\n      </g>\n     </g>\n    </g>\n    <g id=\"ytick_43\">\n     <g id=\"line2d_64\">\n      <g>\n       <use style=\"stroke:#000000;stroke-width:0.8;\" x=\"221.535033\" xlink:href=\"#m5bd31e76d0\" y=\"383.817647\"/>\n      </g>\n     </g>\n    </g>\n    <g id=\"ytick_44\">\n     <g id=\"line2d_65\">\n      <g>\n       <use style=\"stroke:#000000;stroke-width:0.8;\" x=\"221.535033\" xlink:href=\"#m5bd31e76d0\" y=\"362.204456\"/>\n      </g>\n     </g>\n    </g>\n   </g>\n   <g id=\"patch_24\">\n    <path d=\"M 221.535033 512.2 \nL 221.535033 350.533333 \n\" style=\"fill:none;stroke:#000000;stroke-linecap:square;stroke-linejoin:miter;stroke-width:0.8;\"/>\n   </g>\n   <g id=\"patch_25\">\n    <path d=\"M 221.535033 512.2 \nL 370.551911 512.2 \n\" style=\"fill:none;stroke:#000000;stroke-linecap:square;stroke-linejoin:miter;stroke-width:0.8;\"/>\n   </g>\n  </g>\n  <g id=\"axes_9\">\n   <g id=\"patch_26\">\n    <path d=\"M 392.926317 512.2 \nL 541.943194 512.2 \nL 541.943194 350.533333 \nL 392.926317 350.533333 \nz\n\" style=\"fill:#ffffff;\"/>\n   </g>\n   <g id=\"matplotlib.axis_17\">\n    <g id=\"xtick_22\">\n     <g id=\"line2d_66\">\n      <g>\n       <use style=\"stroke:#000000;stroke-width:0.8;\" x=\"430.206865\" xlink:href=\"#m273c21cbb6\" y=\"512.2\"/>\n      </g>\n     </g>\n     <g id=\"text_28\">\n      <!-- 0 -->\n      <g transform=\"translate(427.025615 526.798437)scale(0.1 -0.1)\">\n       <use xlink:href=\"#DejaVuSans-48\"/>\n      </g>\n     </g>\n    </g>\n    <g id=\"xtick_23\">\n     <g id=\"line2d_67\">\n      <g>\n       <use style=\"stroke:#000000;stroke-width:0.8;\" x=\"475.595148\" xlink:href=\"#m273c21cbb6\" y=\"512.2\"/>\n      </g>\n     </g>\n     <g id=\"text_29\">\n      <!-- 10 -->\n      <g transform=\"translate(469.232648 526.798437)scale(0.1 -0.1)\">\n       <use xlink:href=\"#DejaVuSans-49\"/>\n       <use x=\"63.623047\" xlink:href=\"#DejaVuSans-48\"/>\n      </g>\n     </g>\n    </g>\n    <g id=\"xtick_24\">\n     <g id=\"line2d_68\">\n      <g>\n       <use style=\"stroke:#000000;stroke-width:0.8;\" x=\"520.98343\" xlink:href=\"#m273c21cbb6\" y=\"512.2\"/>\n      </g>\n     </g>\n     <g id=\"text_30\">\n      <!-- 20 -->\n      <g transform=\"translate(514.62093 526.798437)scale(0.1 -0.1)\">\n       <use xlink:href=\"#DejaVuSans-50\"/>\n       <use x=\"63.623047\" xlink:href=\"#DejaVuSans-48\"/>\n      </g>\n     </g>\n    </g>\n    <g id=\"text_31\">\n     <!-- Start -->\n     <g transform=\"translate(455.220693 540.476562)scale(0.1 -0.1)\">\n      <use xlink:href=\"#DejaVuSans-83\"/>\n      <use x=\"63.476562\" xlink:href=\"#DejaVuSans-116\"/>\n      <use x=\"102.685547\" xlink:href=\"#DejaVuSans-97\"/>\n      <use x=\"163.964844\" xlink:href=\"#DejaVuSans-114\"/>\n      <use x=\"205.078125\" xlink:href=\"#DejaVuSans-116\"/>\n     </g>\n    </g>\n   </g>\n   <g id=\"matplotlib.axis_18\">\n    <g id=\"ytick_45\">\n     <g id=\"line2d_69\">\n      <g>\n       <use style=\"stroke:#000000;stroke-width:0.8;\" x=\"392.926317\" xlink:href=\"#m5bd31e76d0\" y=\"491.883601\"/>\n      </g>\n     </g>\n    </g>\n    <g id=\"ytick_46\">\n     <g id=\"line2d_70\">\n      <g>\n       <use style=\"stroke:#000000;stroke-width:0.8;\" x=\"392.926317\" xlink:href=\"#m5bd31e76d0\" y=\"470.27041\"/>\n      </g>\n     </g>\n    </g>\n    <g id=\"ytick_47\">\n     <g id=\"line2d_71\">\n      <g>\n       <use style=\"stroke:#000000;stroke-width:0.8;\" x=\"392.926317\" xlink:href=\"#m5bd31e76d0\" y=\"448.657219\"/>\n      </g>\n     </g>\n    </g>\n    <g id=\"ytick_48\">\n     <g id=\"line2d_72\">\n      <g>\n       <use style=\"stroke:#000000;stroke-width:0.8;\" x=\"392.926317\" xlink:href=\"#m5bd31e76d0\" y=\"427.044029\"/>\n      </g>\n     </g>\n    </g>\n    <g id=\"ytick_49\">\n     <g id=\"line2d_73\">\n      <g>\n       <use style=\"stroke:#000000;stroke-width:0.8;\" x=\"392.926317\" xlink:href=\"#m5bd31e76d0\" y=\"405.430838\"/>\n      </g>\n     </g>\n    </g>\n    <g id=\"ytick_50\">\n     <g id=\"line2d_74\">\n      <g>\n       <use style=\"stroke:#000000;stroke-width:0.8;\" x=\"392.926317\" xlink:href=\"#m5bd31e76d0\" y=\"383.817647\"/>\n      </g>\n     </g>\n    </g>\n    <g id=\"ytick_51\">\n     <g id=\"line2d_75\">\n      <g>\n       <use style=\"stroke:#000000;stroke-width:0.8;\" x=\"392.926317\" xlink:href=\"#m5bd31e76d0\" y=\"362.204456\"/>\n      </g>\n     </g>\n    </g>\n   </g>\n   <g id=\"patch_27\">\n    <path d=\"M 392.926317 512.2 \nL 392.926317 350.533333 \n\" style=\"fill:none;stroke:#000000;stroke-linecap:square;stroke-linejoin:miter;stroke-width:0.8;\"/>\n   </g>\n   <g id=\"patch_28\">\n    <path d=\"M 392.926317 512.2 \nL 541.943194 512.2 \n\" style=\"fill:none;stroke:#000000;stroke-linecap:square;stroke-linejoin:miter;stroke-width:0.8;\"/>\n   </g>\n  </g>\n  <g id=\"axes_10\">\n   <g id=\"PolyCollection_1\">\n    <path clip-path=\"url(#p14e585f320)\" d=\"M 56.917244 168.323781 \nL 56.917244 168.866667 \nL 57.983936 168.866667 \nL 59.050629 168.866667 \nL 60.117321 168.866667 \nL 61.184013 168.866667 \nL 62.250705 168.866667 \nL 63.317397 168.866667 \nL 64.384089 168.866667 \nL 65.450781 168.866667 \nL 66.517473 168.866667 \nL 67.584165 168.866667 \nL 68.650857 168.866667 \nL 69.717549 168.866667 \nL 70.784241 168.866667 \nL 71.850933 168.866667 \nL 72.917625 168.866667 \nL 73.984317 168.866667 \nL 75.051009 168.866667 \nL 76.117701 168.866667 \nL 77.184393 168.866667 \nL 78.251085 168.866667 \nL 79.317777 168.866667 \nL 80.384469 168.866667 \nL 81.451161 168.866667 \nL 82.517853 168.866667 \nL 83.584545 168.866667 \nL 84.651237 168.866667 \nL 85.717929 168.866667 \nL 86.784621 168.866667 \nL 87.851313 168.866667 \nL 88.918006 168.866667 \nL 89.984698 168.866667 \nL 91.05139 168.866667 \nL 92.118082 168.866667 \nL 93.184774 168.866667 \nL 94.251466 168.866667 \nL 95.318158 168.866667 \nL 96.38485 168.866667 \nL 97.451542 168.866667 \nL 98.518234 168.866667 \nL 99.584926 168.866667 \nL 100.651618 168.866667 \nL 101.71831 168.866667 \nL 102.785002 168.866667 \nL 103.851694 168.866667 \nL 104.918386 168.866667 \nL 105.985078 168.866667 \nL 107.05177 168.866667 \nL 108.118462 168.866667 \nL 109.185154 168.866667 \nL 110.251846 168.866667 \nL 111.318538 168.866667 \nL 112.38523 168.866667 \nL 113.451922 168.866667 \nL 114.518614 168.866667 \nL 115.585306 168.866667 \nL 116.651998 168.866667 \nL 117.71869 168.866667 \nL 118.785383 168.866667 \nL 119.852075 168.866667 \nL 120.918767 168.866667 \nL 121.985459 168.866667 \nL 123.052151 168.866667 \nL 124.118843 168.866667 \nL 125.185535 168.866667 \nL 126.252227 168.866667 \nL 127.318919 168.866667 \nL 128.385611 168.866667 \nL 129.452303 168.866667 \nL 130.518995 168.866667 \nL 131.585687 168.866667 \nL 132.652379 168.866667 \nL 133.719071 168.866667 \nL 134.785763 168.866667 \nL 135.852455 168.866667 \nL 136.919147 168.866667 \nL 137.985839 168.866667 \nL 139.052531 168.866667 \nL 140.119223 168.866667 \nL 141.185915 168.866667 \nL 142.252607 168.866667 \nL 143.319299 168.866667 \nL 144.385991 168.866667 \nL 145.452683 168.866667 \nL 146.519375 168.866667 \nL 147.586068 168.866667 \nL 148.65276 168.866667 \nL 149.719452 168.866667 \nL 150.786144 168.866667 \nL 151.852836 168.866667 \nL 152.919528 168.866667 \nL 153.98622 168.866667 \nL 155.052912 168.866667 \nL 156.119604 168.866667 \nL 157.186296 168.866667 \nL 158.252988 168.866667 \nL 159.31968 168.866667 \nL 160.386372 168.866667 \nL 161.453064 168.866667 \nL 162.519756 168.866667 \nL 163.586448 168.866667 \nL 164.65314 168.866667 \nL 165.719832 168.866667 \nL 166.786524 168.866667 \nL 167.853216 168.866667 \nL 168.919908 168.866667 \nL 169.9866 168.866667 \nL 171.053292 168.866667 \nL 172.119984 168.866667 \nL 173.186676 168.866667 \nL 174.253368 168.866667 \nL 175.32006 168.866667 \nL 176.386752 168.866667 \nL 177.453445 168.866667 \nL 178.520137 168.866667 \nL 179.586829 168.866667 \nL 180.653521 168.866667 \nL 181.720213 168.866667 \nL 182.786905 168.866667 \nL 183.853597 168.866667 \nL 184.920289 168.866667 \nL 185.986981 168.866667 \nL 187.053673 168.866667 \nL 188.120365 168.866667 \nL 189.187057 168.866667 \nL 190.253749 168.866667 \nL 191.320441 168.866667 \nL 192.387133 168.866667 \nL 192.387133 168.443947 \nL 192.387133 168.443947 \nL 191.320441 168.522666 \nL 190.253749 168.566518 \nL 189.187057 168.580015 \nL 188.120365 168.565818 \nL 187.053673 168.524934 \nL 185.986981 168.456895 \nL 184.920289 168.359918 \nL 183.853597 168.231042 \nL 182.786905 168.066263 \nL 181.720213 167.860653 \nL 180.653521 167.608478 \nL 179.586829 167.303322 \nL 178.520137 166.938212 \nL 177.453445 166.505755 \nL 176.386752 165.998282 \nL 175.32006 165.408 \nL 174.253368 164.727147 \nL 173.186676 163.948152 \nL 172.119984 163.063794 \nL 171.053292 162.067349 \nL 169.9866 160.952732 \nL 168.919908 159.714628 \nL 167.853216 158.348604 \nL 166.786524 156.851211 \nL 165.719832 155.220066 \nL 164.65314 153.453931 \nL 163.586448 151.552778 \nL 162.519756 149.517844 \nL 161.453064 147.351693 \nL 160.386372 145.058269 \nL 159.31968 142.642959 \nL 158.252988 140.11265 \nL 157.186296 137.475798 \nL 156.119604 134.742489 \nL 155.052912 131.924497 \nL 153.98622 129.035339 \nL 152.919528 126.090298 \nL 151.852836 123.106435 \nL 150.786144 120.102547 \nL 149.719452 117.09909 \nL 148.65276 114.118032 \nL 147.586068 111.182639 \nL 146.519375 108.31718 \nL 145.452683 105.546552 \nL 144.385991 102.895812 \nL 143.319299 100.389641 \nL 142.252607 98.051732 \nL 141.185915 95.904137 \nL 140.119223 93.966591 \nL 139.052531 92.255854 \nL 137.985839 90.785097 \nL 136.919147 89.563377 \nL 135.852455 88.595241 \nL 134.785763 87.880478 \nL 133.719071 87.414055 \nL 132.652379 87.186231 \nL 131.585687 87.182865 \nL 130.518995 87.385882 \nL 129.452303 87.77387 \nL 128.385611 88.322776 \nL 127.318919 89.00663 \nL 126.252227 89.798256 \nL 125.185535 90.669916 \nL 124.118843 91.593841 \nL 123.052151 92.542621 \nL 121.985459 93.489445 \nL 120.918767 94.408192 \nL 119.852075 95.273404 \nL 118.785383 96.060202 \nL 117.71869 96.744172 \nL 116.651998 97.30133 \nL 115.585306 97.708203 \nL 114.518614 97.942101 \nL 113.451922 97.981628 \nL 112.38523 97.807446 \nL 111.318538 97.403292 \nL 110.251846 96.757213 \nL 109.185154 95.862949 \nL 108.118462 94.721373 \nL 107.05177 93.341866 \nL 105.985078 91.743512 \nL 104.918386 89.955961 \nL 103.851694 88.019856 \nL 102.785002 85.986714 \nL 101.71831 83.918181 \nL 100.651618 81.88465 \nL 99.584926 79.963237 \nL 98.518234 78.235183 \nL 97.451542 76.782799 \nL 96.38485 75.686093 \nL 95.318158 75.019266 \nL 94.251466 74.847286 \nL 93.184774 75.22273 \nL 92.118082 76.183121 \nL 91.05139 77.748902 \nL 89.984698 79.922208 \nL 88.918006 82.686502 \nL 87.851313 86.007125 \nL 86.784621 89.832704 \nL 85.717929 94.097353 \nL 84.651237 98.723522 \nL 83.584545 103.625314 \nL 82.517853 108.712073 \nL 81.451161 113.892034 \nL 80.384469 119.075818 \nL 79.317777 124.179606 \nL 78.251085 129.127817 \nL 77.184393 133.855198 \nL 76.117701 138.308253 \nL 75.051009 142.446002 \nL 73.984317 146.240082 \nL 72.917625 149.674279 \nL 71.850933 152.74357 \nL 70.784241 155.452784 \nL 69.717549 157.815025 \nL 68.650857 159.849956 \nL 67.584165 161.582065 \nL 66.517473 163.039006 \nL 65.450781 164.250087 \nL 64.384089 165.244958 \nL 63.317397 166.052527 \nL 62.250705 166.700119 \nL 61.184013 167.212864 \nL 60.117321 167.613301 \nL 59.050629 167.921161 \nL 57.983936 168.153306 \nL 56.917244 168.323781 \nz\n\" style=\"fill:#e41a1c;fill-opacity:0.25;\"/>\n   </g>\n   <g id=\"PolyCollection_2\">\n    <path clip-path=\"url(#p14e585f320)\" d=\"M 67.270987 168.475988 \nL 67.270987 168.866667 \nL 68.075359 168.866667 \nL 68.879731 168.866667 \nL 69.684103 168.866667 \nL 70.488475 168.866667 \nL 71.292847 168.866667 \nL 72.097219 168.866667 \nL 72.901591 168.866667 \nL 73.705963 168.866667 \nL 74.510335 168.866667 \nL 75.314707 168.866667 \nL 76.119079 168.866667 \nL 76.923451 168.866667 \nL 77.727823 168.866667 \nL 78.532195 168.866667 \nL 79.336567 168.866667 \nL 80.140939 168.866667 \nL 80.945312 168.866667 \nL 81.749684 168.866667 \nL 82.554056 168.866667 \nL 83.358428 168.866667 \nL 84.1628 168.866667 \nL 84.967172 168.866667 \nL 85.771544 168.866667 \nL 86.575916 168.866667 \nL 87.380288 168.866667 \nL 88.18466 168.866667 \nL 88.989032 168.866667 \nL 89.793404 168.866667 \nL 90.597776 168.866667 \nL 91.402148 168.866667 \nL 92.20652 168.866667 \nL 93.010892 168.866667 \nL 93.815264 168.866667 \nL 94.619636 168.866667 \nL 95.424008 168.866667 \nL 96.22838 168.866667 \nL 97.032752 168.866667 \nL 97.837124 168.866667 \nL 98.641497 168.866667 \nL 99.445869 168.866667 \nL 100.250241 168.866667 \nL 101.054613 168.866667 \nL 101.858985 168.866667 \nL 102.663357 168.866667 \nL 103.467729 168.866667 \nL 104.272101 168.866667 \nL 105.076473 168.866667 \nL 105.880845 168.866667 \nL 106.685217 168.866667 \nL 107.489589 168.866667 \nL 108.293961 168.866667 \nL 109.098333 168.866667 \nL 109.902705 168.866667 \nL 110.707077 168.866667 \nL 111.511449 168.866667 \nL 112.315821 168.866667 \nL 113.120193 168.866667 \nL 113.924565 168.866667 \nL 114.728937 168.866667 \nL 115.533309 168.866667 \nL 116.337682 168.866667 \nL 117.142054 168.866667 \nL 117.946426 168.866667 \nL 118.750798 168.866667 \nL 119.55517 168.866667 \nL 120.359542 168.866667 \nL 121.163914 168.866667 \nL 121.968286 168.866667 \nL 122.772658 168.866667 \nL 123.57703 168.866667 \nL 124.381402 168.866667 \nL 125.185774 168.866667 \nL 125.990146 168.866667 \nL 126.794518 168.866667 \nL 127.59889 168.866667 \nL 128.403262 168.866667 \nL 129.207634 168.866667 \nL 130.012006 168.866667 \nL 130.816378 168.866667 \nL 131.62075 168.866667 \nL 132.425122 168.866667 \nL 133.229494 168.866667 \nL 134.033866 168.866667 \nL 134.838239 168.866667 \nL 135.642611 168.866667 \nL 136.446983 168.866667 \nL 137.251355 168.866667 \nL 138.055727 168.866667 \nL 138.860099 168.866667 \nL 139.664471 168.866667 \nL 140.468843 168.866667 \nL 141.273215 168.866667 \nL 142.077587 168.866667 \nL 142.881959 168.866667 \nL 143.686331 168.866667 \nL 144.490703 168.866667 \nL 145.295075 168.866667 \nL 146.099447 168.866667 \nL 146.903819 168.866667 \nL 147.708191 168.866667 \nL 148.512563 168.866667 \nL 149.316935 168.866667 \nL 150.121307 168.866667 \nL 150.925679 168.866667 \nL 151.730051 168.866667 \nL 152.534424 168.866667 \nL 153.338796 168.866667 \nL 154.143168 168.866667 \nL 154.94754 168.866667 \nL 155.751912 168.866667 \nL 156.556284 168.866667 \nL 157.360656 168.866667 \nL 158.165028 168.866667 \nL 158.9694 168.866667 \nL 159.773772 168.866667 \nL 160.578144 168.866667 \nL 161.382516 168.866667 \nL 162.186888 168.866667 \nL 162.99126 168.866667 \nL 163.795632 168.866667 \nL 164.600004 168.866667 \nL 165.404376 168.866667 \nL 166.208748 168.866667 \nL 167.01312 168.866667 \nL 167.817492 168.866667 \nL 168.621864 168.866667 \nL 169.426236 168.866667 \nL 169.426236 168.465228 \nL 169.426236 168.465228 \nL 168.621864 168.423491 \nL 167.817492 168.348318 \nL 167.01312 168.235839 \nL 166.208748 168.080698 \nL 165.404376 167.875987 \nL 164.600004 167.613184 \nL 163.795632 167.282103 \nL 162.99126 166.87086 \nL 162.186888 166.365868 \nL 161.382516 165.751865 \nL 160.578144 165.01198 \nL 159.773772 164.127847 \nL 158.9694 163.079786 \nL 158.165028 161.847031 \nL 157.360656 160.408036 \nL 156.556284 158.740846 \nL 155.751912 156.823543 \nL 154.94754 154.634757 \nL 154.143168 152.154238 \nL 153.338796 149.363499 \nL 152.534424 146.246489 \nL 151.730051 142.790308 \nL 150.925679 138.985936 \nL 150.121307 134.828953 \nL 149.316935 130.320235 \nL 148.512563 125.466582 \nL 147.708191 120.281271 \nL 146.903819 114.784477 \nL 146.099447 109.003552 \nL 145.295075 102.97312 \nL 144.490703 96.734962 \nL 143.686331 90.33767 \nL 142.881959 83.836057 \nL 142.077587 77.290318 \nL 141.273215 70.764948 \nL 140.468843 64.327434 \nL 139.664471 58.046759 \nL 138.860099 51.991765 \nL 138.055727 46.229425 \nL 137.251355 40.823093 \nL 136.446983 35.830816 \nL 135.642611 31.303763 \nL 134.838239 27.28486 \nL 134.033866 23.80768 \nL 133.229494 20.895656 \nL 132.425122 18.561636 \nL 131.62075 16.807818 \nL 130.816378 15.626044 \nL 130.012006 14.998448 \nL 129.207634 14.898413 \nL 128.403262 15.291781 \nL 127.59889 16.138262 \nL 126.794518 17.392955 \nL 125.990146 19.00792 \nL 125.185774 20.933737 \nL 124.381402 23.120971 \nL 123.57703 25.521507 \nL 122.772658 28.089715 \nL 121.968286 30.783415 \nL 121.163914 33.56463 \nL 120.359542 36.400134 \nL 119.55517 39.261792 \nL 118.750798 42.126717 \nL 117.946426 44.977261 \nL 117.142054 47.800858 \nL 116.337682 50.589744 \nL 115.533309 53.340561 \nL 114.728937 56.053886 \nL 113.924565 58.733667 \nL 113.120193 61.386612 \nL 112.315821 64.021521 \nL 111.511449 66.648596 \nL 110.707077 69.278734 \nL 109.902705 71.922827 \nL 109.098333 74.591108 \nL 108.293961 77.292542 \nL 107.489589 80.034313 \nL 106.685217 82.821421 \nL 105.880845 85.656401 \nL 105.076473 88.539197 \nL 104.272101 91.467173 \nL 103.467729 94.435276 \nL 102.663357 97.436318 \nL 101.858985 100.461373 \nL 101.054613 103.50024 \nL 100.250241 106.541948 \nL 99.445869 109.575255 \nL 98.641497 112.589119 \nL 97.837124 115.573088 \nL 97.032752 118.517602 \nL 96.22838 121.414192 \nL 95.424008 124.255556 \nL 94.619636 127.035529 \nL 93.815264 129.748971 \nL 93.010892 132.391575 \nL 92.20652 134.959638 \nL 91.402148 137.449823 \nL 90.597776 139.858937 \nL 89.793404 142.183749 \nL 88.989032 144.420867 \nL 88.18466 146.566691 \nL 87.380288 148.617436 \nL 86.575916 150.569224 \nL 85.771544 152.418235 \nL 84.967172 154.160895 \nL 84.1628 155.794091 \nL 83.358428 157.315379 \nL 82.554056 158.723177 \nL 81.749684 160.016921 \nL 80.945312 161.197174 \nL 80.140939 162.265675 \nL 79.336567 163.225331 \nL 78.532195 164.080151 \nL 77.727823 164.835135 \nL 76.923451 165.496108 \nL 76.119079 166.069536 \nL 75.314707 166.562319 \nL 74.510335 166.98157 \nL 73.705963 167.334405 \nL 72.901591 167.627737 \nL 72.097219 167.86809 \nL 71.292847 168.061433 \nL 70.488475 168.213029 \nL 69.684103 168.327312 \nL 68.879731 168.407778 \nL 68.075359 168.456888 \nL 67.270987 168.475988 \nz\n\" style=\"fill:#377eb8;fill-opacity:0.25;\"/>\n   </g>\n   <g id=\"line2d_76\">\n    <path clip-path=\"url(#p14e585f320)\" d=\"M 56.917244 168.323781 \nL 59.050629 167.921161 \nL 61.184013 167.212864 \nL 62.250705 166.700119 \nL 63.317397 166.052527 \nL 64.384089 165.244958 \nL 65.450781 164.250087 \nL 66.517473 163.039006 \nL 67.584165 161.582065 \nL 68.650857 159.849956 \nL 69.717549 157.815025 \nL 70.784241 155.452784 \nL 71.850933 152.74357 \nL 72.917625 149.674279 \nL 75.051009 142.446002 \nL 77.184393 133.855198 \nL 79.317777 124.179606 \nL 85.717929 94.097353 \nL 87.851313 86.007125 \nL 88.918006 82.686502 \nL 89.984698 79.922208 \nL 91.05139 77.748902 \nL 92.118082 76.183121 \nL 93.184774 75.22273 \nL 94.251466 74.847286 \nL 95.318158 75.019266 \nL 96.38485 75.686093 \nL 97.451542 76.782799 \nL 98.518234 78.235183 \nL 100.651618 81.88465 \nL 104.918386 89.955961 \nL 107.05177 93.341866 \nL 108.118462 94.721373 \nL 109.185154 95.862949 \nL 110.251846 96.757213 \nL 111.318538 97.403292 \nL 112.38523 97.807446 \nL 113.451922 97.981628 \nL 114.518614 97.942101 \nL 115.585306 97.708203 \nL 116.651998 97.30133 \nL 117.71869 96.744172 \nL 119.852075 95.273404 \nL 123.052151 92.542621 \nL 126.252227 89.798256 \nL 128.385611 88.322776 \nL 129.452303 87.77387 \nL 130.518995 87.385882 \nL 131.585687 87.182865 \nL 132.652379 87.186231 \nL 133.719071 87.414055 \nL 134.785763 87.880478 \nL 135.852455 88.595241 \nL 136.919147 89.563377 \nL 137.985839 90.785097 \nL 139.052531 92.255854 \nL 140.119223 93.966591 \nL 142.252607 98.051732 \nL 144.385991 102.895812 \nL 146.519375 108.31718 \nL 149.719452 117.09909 \nL 155.052912 131.924497 \nL 158.252988 140.11265 \nL 160.386372 145.058269 \nL 162.519756 149.517844 \nL 164.65314 153.453931 \nL 166.786524 156.851211 \nL 168.919908 159.714628 \nL 171.053292 162.067349 \nL 173.186676 163.948152 \nL 175.32006 165.408 \nL 177.453445 166.505755 \nL 179.586829 167.303322 \nL 181.720213 167.860653 \nL 183.853597 168.231042 \nL 187.053673 168.524934 \nL 190.253749 168.566518 \nL 192.387133 168.443947 \nL 192.387133 168.443947 \n\" style=\"fill:none;stroke:#e41a1c;stroke-linecap:square;stroke-width:1.5;\"/>\n   </g>\n   <g id=\"line2d_77\">\n    <path clip-path=\"url(#p14e585f320)\" d=\"M 67.270987 168.475988 \nL 69.684103 168.327312 \nL 71.292847 168.061433 \nL 72.901591 167.627737 \nL 74.510335 166.98157 \nL 76.119079 166.069536 \nL 77.727823 164.835135 \nL 79.336567 163.225331 \nL 80.945312 161.197174 \nL 82.554056 158.723177 \nL 84.1628 155.794091 \nL 85.771544 152.418235 \nL 87.380288 148.617436 \nL 89.793404 142.183749 \nL 92.20652 134.959638 \nL 94.619636 127.035529 \nL 97.837124 115.573088 \nL 107.489589 80.034313 \nL 111.511449 66.648596 \nL 116.337682 50.589744 \nL 123.57703 25.521507 \nL 125.185774 20.933737 \nL 125.990146 19.00792 \nL 126.794518 17.392955 \nL 127.59889 16.138262 \nL 128.403262 15.291781 \nL 129.207634 14.898413 \nL 130.012006 14.998448 \nL 130.816378 15.626044 \nL 131.62075 16.807818 \nL 132.425122 18.561636 \nL 133.229494 20.895656 \nL 134.033866 23.80768 \nL 134.838239 27.28486 \nL 136.446983 35.830816 \nL 138.055727 46.229425 \nL 139.664471 58.046759 \nL 142.881959 83.836057 \nL 146.099447 109.003552 \nL 147.708191 120.281271 \nL 149.316935 130.320235 \nL 150.925679 138.985936 \nL 152.534424 146.246489 \nL 154.143168 152.154238 \nL 155.751912 156.823543 \nL 157.360656 160.408036 \nL 158.9694 163.079786 \nL 160.578144 165.01198 \nL 162.186888 166.365868 \nL 163.795632 167.282103 \nL 165.404376 167.875987 \nL 167.01312 168.235839 \nL 169.426236 168.465228 \nL 169.426236 168.465228 \n\" style=\"fill:none;stroke:#377eb8;stroke-linecap:square;stroke-width:1.5;\"/>\n   </g>\n  </g>\n  <g id=\"axes_11\">\n   <g id=\"PolyCollection_3\">\n    <path clip-path=\"url(#pf36e7f356b)\" d=\"M 228.308528 339.706574 \nL 228.308528 340.533333 \nL 229.230188 340.533333 \nL 230.151849 340.533333 \nL 231.073509 340.533333 \nL 231.99517 340.533333 \nL 232.91683 340.533333 \nL 233.838491 340.533333 \nL 234.760151 340.533333 \nL 235.681812 340.533333 \nL 236.603472 340.533333 \nL 237.525133 340.533333 \nL 238.446793 340.533333 \nL 239.368454 340.533333 \nL 240.290114 340.533333 \nL 241.211775 340.533333 \nL 242.133435 340.533333 \nL 243.055096 340.533333 \nL 243.976757 340.533333 \nL 244.898417 340.533333 \nL 245.820078 340.533333 \nL 246.741738 340.533333 \nL 247.663399 340.533333 \nL 248.585059 340.533333 \nL 249.50672 340.533333 \nL 250.42838 340.533333 \nL 251.350041 340.533333 \nL 252.271701 340.533333 \nL 253.193362 340.533333 \nL 254.115022 340.533333 \nL 255.036683 340.533333 \nL 255.958343 340.533333 \nL 256.880004 340.533333 \nL 257.801664 340.533333 \nL 258.723325 340.533333 \nL 259.644985 340.533333 \nL 260.566646 340.533333 \nL 261.488306 340.533333 \nL 262.409967 340.533333 \nL 263.331627 340.533333 \nL 264.253288 340.533333 \nL 265.174948 340.533333 \nL 266.096609 340.533333 \nL 267.018269 340.533333 \nL 267.93993 340.533333 \nL 268.86159 340.533333 \nL 269.783251 340.533333 \nL 270.704911 340.533333 \nL 271.626572 340.533333 \nL 272.548232 340.533333 \nL 273.469893 340.533333 \nL 274.391553 340.533333 \nL 275.313214 340.533333 \nL 276.234874 340.533333 \nL 277.156535 340.533333 \nL 278.078195 340.533333 \nL 278.999856 340.533333 \nL 279.921516 340.533333 \nL 280.843177 340.533333 \nL 281.764837 340.533333 \nL 282.686498 340.533333 \nL 283.608158 340.533333 \nL 284.529819 340.533333 \nL 285.451479 340.533333 \nL 286.37314 340.533333 \nL 287.2948 340.533333 \nL 288.216461 340.533333 \nL 289.138121 340.533333 \nL 290.059782 340.533333 \nL 290.981442 340.533333 \nL 291.903103 340.533333 \nL 292.824763 340.533333 \nL 293.746424 340.533333 \nL 294.668084 340.533333 \nL 295.589745 340.533333 \nL 296.511405 340.533333 \nL 297.433066 340.533333 \nL 298.354726 340.533333 \nL 299.276387 340.533333 \nL 300.198047 340.533333 \nL 301.119708 340.533333 \nL 302.041368 340.533333 \nL 302.963029 340.533333 \nL 303.884689 340.533333 \nL 304.80635 340.533333 \nL 305.72801 340.533333 \nL 306.649671 340.533333 \nL 307.571331 340.533333 \nL 308.492992 340.533333 \nL 309.414652 340.533333 \nL 310.336313 340.533333 \nL 311.257973 340.533333 \nL 312.179634 340.533333 \nL 313.101294 340.533333 \nL 314.022955 340.533333 \nL 314.944615 340.533333 \nL 315.866276 340.533333 \nL 316.787936 340.533333 \nL 317.709597 340.533333 \nL 318.631257 340.533333 \nL 319.552918 340.533333 \nL 320.474578 340.533333 \nL 321.396239 340.533333 \nL 322.317899 340.533333 \nL 323.23956 340.533333 \nL 324.16122 340.533333 \nL 325.082881 340.533333 \nL 326.004541 340.533333 \nL 326.926202 340.533333 \nL 327.847862 340.533333 \nL 328.769523 340.533333 \nL 329.691183 340.533333 \nL 330.612844 340.533333 \nL 331.534504 340.533333 \nL 332.456165 340.533333 \nL 333.377825 340.533333 \nL 334.299486 340.533333 \nL 335.221146 340.533333 \nL 336.142807 340.533333 \nL 337.064467 340.533333 \nL 337.986128 340.533333 \nL 338.907788 340.533333 \nL 339.829449 340.533333 \nL 340.751109 340.533333 \nL 341.67277 340.533333 \nL 342.59443 340.533333 \nL 343.516091 340.533333 \nL 344.437751 340.533333 \nL 345.359412 340.533333 \nL 345.359412 339.942695 \nL 345.359412 339.942695 \nL 344.437751 340.091364 \nL 343.516091 340.171562 \nL 342.59443 340.19655 \nL 341.67277 340.174813 \nL 340.751109 340.111035 \nL 339.829449 340.007061 \nL 338.907788 339.862827 \nL 337.986128 339.677261 \nL 337.064467 339.449132 \nL 336.142807 339.177865 \nL 335.221146 338.864272 \nL 334.299486 338.51117 \nL 333.377825 338.123851 \nL 332.456165 337.710327 \nL 331.534504 337.281317 \nL 330.612844 336.849949 \nL 329.691183 336.43114 \nL 328.769523 336.040706 \nL 327.847862 335.694241 \nL 326.926202 335.405857 \nL 326.004541 335.186901 \nL 325.082881 335.044766 \nL 324.16122 334.981936 \nL 323.23956 334.995349 \nL 322.317899 335.076172 \nL 321.396239 335.210021 \nL 320.474578 335.377614 \nL 319.552918 335.555833 \nL 318.631257 335.719095 \nL 317.709597 335.84095 \nL 316.787936 335.895788 \nL 315.866276 335.860534 \nL 314.944615 335.716206 \nL 314.022955 335.449239 \nL 313.101294 335.052463 \nL 312.179634 334.525648 \nL 311.257973 333.875546 \nL 310.336313 333.11539 \nL 309.414652 332.263841 \nL 308.492992 331.343413 \nL 307.571331 330.378466 \nL 306.649671 329.392887 \nL 305.72801 328.407632 \nL 304.80635 327.438313 \nL 303.884689 326.49305 \nL 302.963029 325.570731 \nL 302.041368 324.65986 \nL 301.119708 323.738073 \nL 300.198047 322.772361 \nL 299.276387 321.720024 \nL 298.354726 320.530297 \nL 297.433066 319.146621 \nL 296.511405 317.509481 \nL 295.589745 315.559746 \nL 294.668084 313.242403 \nL 293.746424 310.510535 \nL 292.824763 307.329328 \nL 291.903103 303.67979 \nL 290.981442 299.561805 \nL 290.059782 294.996099 \nL 289.138121 290.0247 \nL 288.216461 284.709584 \nL 287.2948 279.129408 \nL 286.37314 273.374447 \nL 285.451479 267.540183 \nL 284.529819 261.720229 \nL 283.608158 255.99947 \nL 282.686498 250.44832 \nL 281.764837 245.118878 \nL 280.843177 240.043496 \nL 279.921516 235.235855 \nL 278.999856 230.694221 \nL 278.078195 226.406192 \nL 277.156535 222.353996 \nL 276.234874 218.519362 \nL 275.313214 214.88717 \nL 274.391553 211.447433 \nL 273.469893 208.195569 \nL 272.548232 205.131399 \nL 271.626572 202.257547 \nL 270.704911 199.578067 \nL 269.783251 197.09797 \nL 268.86159 194.824004 \nL 267.93993 192.766626 \nL 267.018269 190.942656 \nL 266.096609 189.377788 \nL 265.174948 188.108091 \nL 264.253288 187.179704 \nL 263.331627 186.646394 \nL 262.409967 186.565079 \nL 261.488306 186.989982 \nL 260.566646 187.966432 \nL 259.644985 189.52551 \nL 258.723325 191.680612 \nL 257.801664 194.426616 \nL 256.880004 197.7418 \nL 255.958343 201.592072 \nL 255.036683 205.936555 \nL 254.115022 210.733298 \nL 253.193362 215.943866 \nL 252.271701 221.535827 \nL 251.350041 227.48262 \nL 250.42838 233.760889 \nL 249.50672 240.345914 \nL 248.585059 247.206146 \nL 247.663399 254.298102 \nL 246.741738 261.56272 \nL 245.820078 268.924053 \nL 244.898417 276.290668 \nL 243.976757 283.559664 \nL 243.055096 290.622735 \nL 242.133435 297.3734 \nL 241.211775 303.714375 \nL 240.290114 309.564117 \nL 239.368454 314.861735 \nL 238.446793 319.569806 \nL 237.525133 323.674956 \nL 236.603472 327.186352 \nL 235.681812 330.132556 \nL 234.760151 332.557257 \nL 233.838491 334.514501 \nL 232.91683 336.063959 \nL 231.99517 337.266657 \nL 231.073509 338.181471 \nL 230.151849 338.862514 \nL 229.230188 339.357442 \nL 228.308528 339.706574 \nz\n\" style=\"fill:#e41a1c;fill-opacity:0.25;\"/>\n   </g>\n   <g id=\"PolyCollection_4\">\n    <path clip-path=\"url(#pf36e7f356b)\" d=\"M 231.344417 339.680292 \nL 231.344417 340.533333 \nL 232.387205 340.533333 \nL 233.429992 340.533333 \nL 234.47278 340.533333 \nL 235.515567 340.533333 \nL 236.558354 340.533333 \nL 237.601142 340.533333 \nL 238.643929 340.533333 \nL 239.686717 340.533333 \nL 240.729504 340.533333 \nL 241.772291 340.533333 \nL 242.815079 340.533333 \nL 243.857866 340.533333 \nL 244.900654 340.533333 \nL 245.943441 340.533333 \nL 246.986228 340.533333 \nL 248.029016 340.533333 \nL 249.071803 340.533333 \nL 250.114591 340.533333 \nL 251.157378 340.533333 \nL 252.200165 340.533333 \nL 253.242953 340.533333 \nL 254.28574 340.533333 \nL 255.328528 340.533333 \nL 256.371315 340.533333 \nL 257.414102 340.533333 \nL 258.45689 340.533333 \nL 259.499677 340.533333 \nL 260.542464 340.533333 \nL 261.585252 340.533333 \nL 262.628039 340.533333 \nL 263.670827 340.533333 \nL 264.713614 340.533333 \nL 265.756401 340.533333 \nL 266.799189 340.533333 \nL 267.841976 340.533333 \nL 268.884764 340.533333 \nL 269.927551 340.533333 \nL 270.970338 340.533333 \nL 272.013126 340.533333 \nL 273.055913 340.533333 \nL 274.098701 340.533333 \nL 275.141488 340.533333 \nL 276.184275 340.533333 \nL 277.227063 340.533333 \nL 278.26985 340.533333 \nL 279.312638 340.533333 \nL 280.355425 340.533333 \nL 281.398212 340.533333 \nL 282.441 340.533333 \nL 283.483787 340.533333 \nL 284.526575 340.533333 \nL 285.569362 340.533333 \nL 286.612149 340.533333 \nL 287.654937 340.533333 \nL 288.697724 340.533333 \nL 289.740512 340.533333 \nL 290.783299 340.533333 \nL 291.826086 340.533333 \nL 292.868874 340.533333 \nL 293.911661 340.533333 \nL 294.954449 340.533333 \nL 295.997236 340.533333 \nL 297.040023 340.533333 \nL 298.082811 340.533333 \nL 299.125598 340.533333 \nL 300.168385 340.533333 \nL 301.211173 340.533333 \nL 302.25396 340.533333 \nL 303.296748 340.533333 \nL 304.339535 340.533333 \nL 305.382322 340.533333 \nL 306.42511 340.533333 \nL 307.467897 340.533333 \nL 308.510685 340.533333 \nL 309.553472 340.533333 \nL 310.596259 340.533333 \nL 311.639047 340.533333 \nL 312.681834 340.533333 \nL 313.724622 340.533333 \nL 314.767409 340.533333 \nL 315.810196 340.533333 \nL 316.852984 340.533333 \nL 317.895771 340.533333 \nL 318.938559 340.533333 \nL 319.981346 340.533333 \nL 321.024133 340.533333 \nL 322.066921 340.533333 \nL 323.109708 340.533333 \nL 324.152496 340.533333 \nL 325.195283 340.533333 \nL 326.23807 340.533333 \nL 327.280858 340.533333 \nL 328.323645 340.533333 \nL 329.366433 340.533333 \nL 330.40922 340.533333 \nL 331.452007 340.533333 \nL 332.494795 340.533333 \nL 333.537582 340.533333 \nL 334.580369 340.533333 \nL 335.623157 340.533333 \nL 336.665944 340.533333 \nL 337.708732 340.533333 \nL 338.751519 340.533333 \nL 339.794306 340.533333 \nL 340.837094 340.533333 \nL 341.879881 340.533333 \nL 342.922669 340.533333 \nL 343.965456 340.533333 \nL 345.008243 340.533333 \nL 346.051031 340.533333 \nL 347.093818 340.533333 \nL 348.136606 340.533333 \nL 349.179393 340.533333 \nL 350.22218 340.533333 \nL 351.264968 340.533333 \nL 352.307755 340.533333 \nL 353.350543 340.533333 \nL 354.39333 340.533333 \nL 355.436117 340.533333 \nL 356.478905 340.533333 \nL 357.521692 340.533333 \nL 358.56448 340.533333 \nL 359.607267 340.533333 \nL 360.650054 340.533333 \nL 361.692842 340.533333 \nL 362.735629 340.533333 \nL 363.778417 340.533333 \nL 363.778417 339.833117 \nL 363.778417 339.833117 \nL 362.735629 339.916852 \nL 361.692842 339.939398 \nL 360.650054 339.905557 \nL 359.607267 339.817383 \nL 358.56448 339.674579 \nL 357.521692 339.474956 \nL 356.478905 339.214923 \nL 355.436117 338.890029 \nL 354.39333 338.495549 \nL 353.350543 338.027104 \nL 352.307755 337.48131 \nL 351.264968 336.856429 \nL 350.22218 336.152994 \nL 349.179393 335.374368 \nL 348.136606 334.5272 \nL 347.093818 333.621722 \nL 346.051031 332.671854 \nL 345.008243 331.69507 \nL 343.965456 330.712015 \nL 342.922669 329.745853 \nL 341.879881 328.821365 \nL 340.837094 327.963841 \nL 339.794306 327.197796 \nL 338.751519 326.545605 \nL 337.708732 326.026135 \nL 336.665944 325.653448 \nL 335.623157 325.435678 \nL 334.580369 325.374142 \nL 333.537582 325.462757 \nL 332.494795 325.687786 \nL 331.452007 326.027936 \nL 330.40922 326.454798 \nL 329.366433 326.933597 \nL 328.323645 327.424212 \nL 327.280858 327.882417 \nL 326.23807 328.261281 \nL 325.195283 328.512683 \nL 324.152496 328.588888 \nL 323.109708 328.444154 \nL 322.066921 328.036321 \nL 321.024133 327.328354 \nL 319.981346 326.289812 \nL 318.938559 324.898177 \nL 317.895771 323.140015 \nL 316.852984 321.011877 \nL 315.810196 318.520894 \nL 314.767409 315.684963 \nL 313.724622 312.532473 \nL 312.681834 309.101511 \nL 311.639047 305.438515 \nL 310.596259 301.596411 \nL 309.553472 297.632264 \nL 308.510685 293.60458 \nL 307.467897 289.570396 \nL 306.42511 285.582364 \nL 305.382322 281.686036 \nL 304.339535 277.917584 \nL 303.296748 274.302138 \nL 302.25396 270.852931 \nL 301.211173 267.571344 \nL 300.168385 264.44789 \nL 299.125598 261.464091 \nL 298.082811 258.595119 \nL 297.040023 255.813008 \nL 295.997236 253.090163 \nL 294.954449 250.402881 \nL 293.911661 247.734565 \nL 292.868874 245.078334 \nL 291.826086 242.438786 \nL 290.783299 239.832721 \nL 289.740512 237.288732 \nL 288.697724 234.845661 \nL 287.654937 232.550034 \nL 286.612149 230.452668 \nL 285.569362 228.604743 \nL 284.526575 227.053679 \nL 283.483787 225.839179 \nL 282.441 224.989827 \nL 281.398212 224.520536 \nL 280.355425 224.431118 \nL 279.312638 224.706131 \nL 278.26985 225.31603 \nL 277.227063 226.219562 \nL 276.184275 227.367196 \nL 275.141488 228.7053 \nL 274.098701 230.180708 \nL 273.055913 231.74527 \nL 272.013126 233.359976 \nL 270.970338 234.998298 \nL 269.927551 236.648433 \nL 268.884764 238.314258 \nL 267.841976 240.014903 \nL 266.799189 241.782961 \nL 265.756401 243.66151 \nL 264.713614 245.700181 \nL 263.670827 247.950607 \nL 262.628039 250.461662 \nL 261.585252 253.274859 \nL 260.542464 256.420306 \nL 259.499677 259.913538 \nL 258.45689 263.753469 \nL 257.414102 267.921604 \nL 256.371315 272.38253 \nL 255.328528 277.085622 \nL 254.28574 281.96777 \nL 253.242953 286.95688 \nL 252.200165 291.975832 \nL 251.157378 296.946583 \nL 250.114591 301.794102 \nL 249.071803 306.44985 \nL 248.029016 310.854609 \nL 246.986228 314.960513 \nL 245.943441 318.732218 \nL 244.900654 322.147226 \nL 243.857866 325.195454 \nL 242.815079 327.87815 \nL 241.772291 330.206342 \nL 240.729504 332.198973 \nL 239.686717 333.880899 \nL 238.643929 335.280895 \nL 237.601142 336.429791 \nL 236.558354 337.358828 \nL 235.515567 338.098285 \nL 234.47278 338.67641 \nL 233.429992 339.118638 \nL 232.387205 339.447089 \nL 231.344417 339.680292 \nz\n\" style=\"fill:#377eb8;fill-opacity:0.25;\"/>\n   </g>\n   <g id=\"line2d_78\">\n    <path clip-path=\"url(#pf36e7f356b)\" d=\"M 228.308528 339.706574 \nL 229.230188 339.357442 \nL 230.151849 338.862514 \nL 231.073509 338.181471 \nL 231.99517 337.266657 \nL 232.91683 336.063959 \nL 233.838491 334.514501 \nL 234.760151 332.557257 \nL 235.681812 330.132556 \nL 236.603472 327.186352 \nL 237.525133 323.674956 \nL 238.446793 319.569806 \nL 239.368454 314.861735 \nL 241.211775 303.714375 \nL 243.055096 290.622735 \nL 246.741738 261.56272 \nL 249.50672 240.345914 \nL 251.350041 227.48262 \nL 253.193362 215.943866 \nL 255.036683 205.936555 \nL 256.880004 197.7418 \nL 257.801664 194.426616 \nL 258.723325 191.680612 \nL 259.644985 189.52551 \nL 260.566646 187.966432 \nL 261.488306 186.989982 \nL 262.409967 186.565079 \nL 263.331627 186.646394 \nL 264.253288 187.179704 \nL 265.174948 188.108091 \nL 266.096609 189.377788 \nL 267.018269 190.942656 \nL 268.86159 194.824004 \nL 270.704911 199.578067 \nL 272.548232 205.131399 \nL 274.391553 211.447433 \nL 276.234874 218.519362 \nL 278.078195 226.406192 \nL 279.921516 235.235855 \nL 281.764837 245.118878 \nL 284.529819 261.720229 \nL 288.216461 284.709584 \nL 290.059782 294.996099 \nL 291.903103 303.67979 \nL 292.824763 307.329328 \nL 293.746424 310.510535 \nL 294.668084 313.242403 \nL 295.589745 315.559746 \nL 296.511405 317.509481 \nL 297.433066 319.146621 \nL 299.276387 321.720024 \nL 301.119708 323.738073 \nL 306.649671 329.392887 \nL 309.414652 332.263841 \nL 311.257973 333.875546 \nL 313.101294 335.052463 \nL 314.022955 335.449239 \nL 314.944615 335.716206 \nL 316.787936 335.895788 \nL 318.631257 335.719095 \nL 323.23956 334.995349 \nL 325.082881 335.044766 \nL 326.926202 335.405857 \nL 328.769523 336.040706 \nL 332.456165 337.710327 \nL 335.221146 338.864272 \nL 337.064467 339.449132 \nL 338.907788 339.862827 \nL 340.751109 340.111035 \nL 342.59443 340.19655 \nL 344.437751 340.091364 \nL 345.359412 339.942695 \nL 345.359412 339.942695 \n\" style=\"fill:none;stroke:#e41a1c;stroke-linecap:square;stroke-width:1.5;\"/>\n   </g>\n   <g id=\"line2d_79\">\n    <path clip-path=\"url(#pf36e7f356b)\" d=\"M 231.344417 339.680292 \nL 233.429992 339.118638 \nL 234.47278 338.67641 \nL 235.515567 338.098285 \nL 236.558354 337.358828 \nL 237.601142 336.429791 \nL 238.643929 335.280895 \nL 239.686717 333.880899 \nL 240.729504 332.198973 \nL 241.772291 330.206342 \nL 242.815079 327.87815 \nL 243.857866 325.195454 \nL 244.900654 322.147226 \nL 246.986228 314.960513 \nL 249.071803 306.44985 \nL 252.200165 291.975832 \nL 256.371315 272.38253 \nL 258.45689 263.753469 \nL 260.542464 256.420306 \nL 262.628039 250.461662 \nL 264.713614 245.700181 \nL 266.799189 241.782961 \nL 269.927551 236.648433 \nL 274.098701 230.180708 \nL 276.184275 227.367196 \nL 277.227063 226.219562 \nL 278.26985 225.31603 \nL 279.312638 224.706131 \nL 280.355425 224.431118 \nL 281.398212 224.520536 \nL 282.441 224.989827 \nL 283.483787 225.839179 \nL 284.526575 227.053679 \nL 285.569362 228.604743 \nL 286.612149 230.452668 \nL 288.697724 234.845661 \nL 291.826086 242.438786 \nL 297.040023 255.813008 \nL 300.168385 264.44789 \nL 302.25396 270.852931 \nL 304.339535 277.917584 \nL 307.467897 289.570396 \nL 311.639047 305.438515 \nL 313.724622 312.532473 \nL 315.810196 318.520894 \nL 316.852984 321.011877 \nL 317.895771 323.140015 \nL 318.938559 324.898177 \nL 319.981346 326.289812 \nL 321.024133 327.328354 \nL 322.066921 328.036321 \nL 323.109708 328.444154 \nL 324.152496 328.588888 \nL 325.195283 328.512683 \nL 326.23807 328.261281 \nL 328.323645 327.424212 \nL 331.452007 326.027936 \nL 333.537582 325.462757 \nL 334.580369 325.374142 \nL 335.623157 325.435678 \nL 336.665944 325.653448 \nL 337.708732 326.026135 \nL 338.751519 326.545605 \nL 340.837094 327.963841 \nL 342.922669 329.745853 \nL 348.136606 334.5272 \nL 350.22218 336.152994 \nL 352.307755 337.48131 \nL 354.39333 338.495549 \nL 356.478905 339.214923 \nL 358.56448 339.674579 \nL 360.650054 339.905557 \nL 362.735629 339.916852 \nL 363.778417 339.833117 \nL 363.778417 339.833117 \n\" style=\"fill:none;stroke:#377eb8;stroke-linecap:square;stroke-width:1.5;\"/>\n   </g>\n  </g>\n  <g id=\"axes_12\">\n   <g id=\"PolyCollection_5\">\n    <path clip-path=\"url(#p889904ac8a)\" d=\"M 411.481767 511.957614 \nL 411.481767 512.2 \nL 412.455688 512.2 \nL 413.429608 512.2 \nL 414.403529 512.2 \nL 415.37745 512.2 \nL 416.351371 512.2 \nL 417.325291 512.2 \nL 418.299212 512.2 \nL 419.273133 512.2 \nL 420.247054 512.2 \nL 421.220974 512.2 \nL 422.194895 512.2 \nL 423.168816 512.2 \nL 424.142736 512.2 \nL 425.116657 512.2 \nL 426.090578 512.2 \nL 427.064499 512.2 \nL 428.038419 512.2 \nL 429.01234 512.2 \nL 429.986261 512.2 \nL 430.960182 512.2 \nL 431.934102 512.2 \nL 432.908023 512.2 \nL 433.881944 512.2 \nL 434.855865 512.2 \nL 435.829785 512.2 \nL 436.803706 512.2 \nL 437.777627 512.2 \nL 438.751547 512.2 \nL 439.725468 512.2 \nL 440.699389 512.2 \nL 441.67331 512.2 \nL 442.64723 512.2 \nL 443.621151 512.2 \nL 444.595072 512.2 \nL 445.568993 512.2 \nL 446.542913 512.2 \nL 447.516834 512.2 \nL 448.490755 512.2 \nL 449.464676 512.2 \nL 450.438596 512.2 \nL 451.412517 512.2 \nL 452.386438 512.2 \nL 453.360358 512.2 \nL 454.334279 512.2 \nL 455.3082 512.2 \nL 456.282121 512.2 \nL 457.256041 512.2 \nL 458.229962 512.2 \nL 459.203883 512.2 \nL 460.177804 512.2 \nL 461.151724 512.2 \nL 462.125645 512.2 \nL 463.099566 512.2 \nL 464.073487 512.2 \nL 465.047407 512.2 \nL 466.021328 512.2 \nL 466.995249 512.2 \nL 467.969169 512.2 \nL 468.94309 512.2 \nL 469.917011 512.2 \nL 470.890932 512.2 \nL 471.864852 512.2 \nL 472.838773 512.2 \nL 473.812694 512.2 \nL 474.786615 512.2 \nL 475.760535 512.2 \nL 476.734456 512.2 \nL 477.708377 512.2 \nL 478.682298 512.2 \nL 479.656218 512.2 \nL 480.630139 512.2 \nL 481.60406 512.2 \nL 482.57798 512.2 \nL 483.551901 512.2 \nL 484.525822 512.2 \nL 485.499743 512.2 \nL 486.473663 512.2 \nL 487.447584 512.2 \nL 488.421505 512.2 \nL 489.395426 512.2 \nL 490.369346 512.2 \nL 491.343267 512.2 \nL 492.317188 512.2 \nL 493.291109 512.2 \nL 494.265029 512.2 \nL 495.23895 512.2 \nL 496.212871 512.2 \nL 497.186791 512.2 \nL 498.160712 512.2 \nL 499.134633 512.2 \nL 500.108554 512.2 \nL 501.082474 512.2 \nL 502.056395 512.2 \nL 503.030316 512.2 \nL 504.004237 512.2 \nL 504.978157 512.2 \nL 505.952078 512.2 \nL 506.925999 512.2 \nL 507.899919 512.2 \nL 508.87384 512.2 \nL 509.847761 512.2 \nL 510.821682 512.2 \nL 511.795602 512.2 \nL 512.769523 512.2 \nL 513.743444 512.2 \nL 514.717365 512.2 \nL 515.691285 512.2 \nL 516.665206 512.2 \nL 517.639127 512.2 \nL 518.613048 512.2 \nL 519.586968 512.2 \nL 520.560889 512.2 \nL 521.53481 512.2 \nL 522.50873 512.2 \nL 523.482651 512.2 \nL 524.456572 512.2 \nL 525.430493 512.2 \nL 526.404413 512.2 \nL 527.378334 512.2 \nL 528.352255 512.2 \nL 529.326176 512.2 \nL 530.300096 512.2 \nL 531.274017 512.2 \nL 532.247938 512.2 \nL 533.221859 512.2 \nL 534.195779 512.2 \nL 535.1697 512.2 \nL 535.1697 511.977543 \nL 535.1697 511.977543 \nL 534.195779 511.964201 \nL 533.221859 511.91516 \nL 532.247938 511.824613 \nL 531.274017 511.68295 \nL 530.300096 511.476254 \nL 529.326176 511.185716 \nL 528.352255 510.787008 \nL 527.378334 510.249674 \nL 526.404413 509.536597 \nL 525.430493 508.603666 \nL 524.456572 507.399745 \nL 523.482651 505.867078 \nL 522.50873 503.942277 \nL 521.53481 501.558003 \nL 520.560889 498.645442 \nL 519.586968 495.137619 \nL 518.613048 490.973518 \nL 517.639127 486.102878 \nL 516.665206 480.491438 \nL 515.691285 474.126276 \nL 514.717365 467.020812 \nL 513.743444 459.218938 \nL 512.769523 450.797765 \nL 511.795602 441.868455 \nL 510.821682 432.57477 \nL 509.847761 423.089103 \nL 508.87384 413.606015 \nL 507.899919 404.33357 \nL 506.925999 395.483005 \nL 505.952078 387.25755 \nL 504.978157 379.841337 \nL 504.004237 373.389409 \nL 503.030316 368.019778 \nL 502.056395 363.808275 \nL 501.082474 360.786669 \nL 500.108554 358.944125 \nL 499.134633 358.231746 \nL 498.160712 358.569549 \nL 497.186791 359.855007 \nL 496.212871 361.972131 \nL 495.23895 364.800098 \nL 494.265029 368.220556 \nL 493.291109 372.123025 \nL 492.317188 376.408112 \nL 491.343267 380.988608 \nL 490.369346 385.788836 \nL 489.395426 390.742816 \nL 488.421505 395.791924 \nL 487.447584 400.88268 \nL 486.473663 405.965206 \nL 485.499743 410.992638 \nL 484.525822 415.921591 \nL 483.551901 420.713511 \nL 482.57798 425.336578 \nL 481.60406 429.767703 \nL 480.630139 433.994171 \nL 479.656218 438.014506 \nL 478.682298 441.83829 \nL 477.708377 445.484825 \nL 476.734456 448.980722 \nL 475.760535 452.35666 \nL 474.786615 455.643669 \nL 473.812694 458.869387 \nL 472.838773 462.054721 \nL 471.864852 465.211289 \nL 470.890932 468.33993 \nL 469.917011 471.430414 \nL 468.94309 474.46235 \nL 467.969169 477.407141 \nL 466.995249 480.230722 \nL 466.021328 482.89674 \nL 465.047407 485.369809 \nL 464.073487 487.618479 \nL 463.099566 489.617624 \nL 462.125645 491.35005 \nL 461.151724 492.80721 \nL 460.177804 493.989065 \nL 459.203883 494.903185 \nL 458.229962 495.563304 \nL 457.256041 495.98756 \nL 456.282121 496.196684 \nL 455.3082 496.21237 \nL 454.334279 496.055993 \nL 453.360358 495.747824 \nL 452.386438 495.306748 \nL 451.412517 494.750463 \nL 450.438596 494.096077 \nL 449.464676 493.360932 \nL 448.490755 492.563526 \nL 447.516834 491.724341 \nL 446.542913 490.866456 \nL 445.568993 490.015812 \nL 444.595072 489.201083 \nL 443.621151 488.453108 \nL 442.64723 487.803922 \nL 441.67331 487.285438 \nL 440.699389 486.92789 \nL 439.725468 486.758139 \nL 438.751547 486.798008 \nL 437.777627 487.062763 \nL 436.803706 487.559896 \nL 435.829785 488.288326 \nL 434.855865 489.238098 \nL 433.881944 490.390644 \nL 432.908023 491.719603 \nL 431.934102 493.19215 \nL 430.960182 494.770738 \nL 429.986261 496.415127 \nL 429.01234 498.084531 \nL 428.038419 499.739708 \nL 427.064499 501.344845 \nL 426.090578 502.869091 \nL 425.116657 504.287646 \nL 424.142736 505.582362 \nL 423.168816 506.741845 \nL 422.194895 507.761123 \nL 421.220974 508.640943 \nL 420.247054 509.386814 \nL 419.273133 510.007892 \nL 418.299212 510.515835 \nL 417.325291 510.923691 \nL 416.351371 511.244906 \nL 415.37745 511.492487 \nL 414.403529 511.678324 \nL 413.429608 511.812676 \nL 412.455688 511.903792 \nL 411.481767 511.957614 \nz\n\" style=\"fill:#e41a1c;fill-opacity:0.25;\"/>\n   </g>\n   <g id=\"PolyCollection_6\">\n    <path clip-path=\"url(#p889904ac8a)\" d=\"M 399.699811 511.713753 \nL 399.699811 512.2 \nL 400.71632 512.2 \nL 401.732828 512.2 \nL 402.749336 512.2 \nL 403.765844 512.2 \nL 404.782352 512.2 \nL 405.79886 512.2 \nL 406.815368 512.2 \nL 407.831876 512.2 \nL 408.848385 512.2 \nL 409.864893 512.2 \nL 410.881401 512.2 \nL 411.897909 512.2 \nL 412.914417 512.2 \nL 413.930925 512.2 \nL 414.947433 512.2 \nL 415.963941 512.2 \nL 416.980449 512.2 \nL 417.996958 512.2 \nL 419.013466 512.2 \nL 420.029974 512.2 \nL 421.046482 512.2 \nL 422.06299 512.2 \nL 423.079498 512.2 \nL 424.096006 512.2 \nL 425.112514 512.2 \nL 426.129023 512.2 \nL 427.145531 512.2 \nL 428.162039 512.2 \nL 429.178547 512.2 \nL 430.195055 512.2 \nL 431.211563 512.2 \nL 432.228071 512.2 \nL 433.244579 512.2 \nL 434.261088 512.2 \nL 435.277596 512.2 \nL 436.294104 512.2 \nL 437.310612 512.2 \nL 438.32712 512.2 \nL 439.343628 512.2 \nL 440.360136 512.2 \nL 441.376644 512.2 \nL 442.393152 512.2 \nL 443.409661 512.2 \nL 444.426169 512.2 \nL 445.442677 512.2 \nL 446.459185 512.2 \nL 447.475693 512.2 \nL 448.492201 512.2 \nL 449.508709 512.2 \nL 450.525217 512.2 \nL 451.541726 512.2 \nL 452.558234 512.2 \nL 453.574742 512.2 \nL 454.59125 512.2 \nL 455.607758 512.2 \nL 456.624266 512.2 \nL 457.640774 512.2 \nL 458.657282 512.2 \nL 459.673791 512.2 \nL 460.690299 512.2 \nL 461.706807 512.2 \nL 462.723315 512.2 \nL 463.739823 512.2 \nL 464.756331 512.2 \nL 465.772839 512.2 \nL 466.789347 512.2 \nL 467.805855 512.2 \nL 468.822364 512.2 \nL 469.838872 512.2 \nL 470.85538 512.2 \nL 471.871888 512.2 \nL 472.888396 512.2 \nL 473.904904 512.2 \nL 474.921412 512.2 \nL 475.93792 512.2 \nL 476.954429 512.2 \nL 477.970937 512.2 \nL 478.987445 512.2 \nL 480.003953 512.2 \nL 481.020461 512.2 \nL 482.036969 512.2 \nL 483.053477 512.2 \nL 484.069985 512.2 \nL 485.086494 512.2 \nL 486.103002 512.2 \nL 487.11951 512.2 \nL 488.136018 512.2 \nL 489.152526 512.2 \nL 490.169034 512.2 \nL 491.185542 512.2 \nL 492.20205 512.2 \nL 493.218558 512.2 \nL 494.235067 512.2 \nL 495.251575 512.2 \nL 496.268083 512.2 \nL 497.284591 512.2 \nL 498.301099 512.2 \nL 499.317607 512.2 \nL 500.334115 512.2 \nL 501.350623 512.2 \nL 502.367132 512.2 \nL 503.38364 512.2 \nL 504.400148 512.2 \nL 505.416656 512.2 \nL 506.433164 512.2 \nL 507.449672 512.2 \nL 508.46618 512.2 \nL 509.482688 512.2 \nL 510.499197 512.2 \nL 511.515705 512.2 \nL 512.532213 512.2 \nL 513.548721 512.2 \nL 514.565229 512.2 \nL 515.581737 512.2 \nL 516.598245 512.2 \nL 517.614753 512.2 \nL 518.631261 512.2 \nL 519.64777 512.2 \nL 520.664278 512.2 \nL 521.680786 512.2 \nL 522.697294 512.2 \nL 523.713802 512.2 \nL 524.73031 512.2 \nL 525.746818 512.2 \nL 526.763326 512.2 \nL 527.779835 512.2 \nL 528.796343 512.2 \nL 528.796343 511.739805 \nL 528.796343 511.739805 \nL 527.779835 511.73495 \nL 526.763326 511.699005 \nL 525.746818 511.630615 \nL 524.73031 511.527249 \nL 523.713802 511.385204 \nL 522.697294 511.19961 \nL 521.680786 510.964444 \nL 520.664278 510.672562 \nL 519.64777 510.315754 \nL 518.631261 509.884819 \nL 517.614753 509.369676 \nL 516.598245 508.759513 \nL 515.581737 508.04298 \nL 514.565229 507.208424 \nL 513.548721 506.24418 \nL 512.532213 505.138898 \nL 511.515705 503.881923 \nL 510.499197 502.463706 \nL 509.482688 500.876243 \nL 508.46618 499.113531 \nL 507.449672 497.172008 \nL 506.433164 495.050992 \nL 505.416656 492.753053 \nL 504.400148 490.284337 \nL 503.38364 487.654791 \nL 502.367132 484.878289 \nL 501.350623 481.972622 \nL 500.334115 478.95935 \nL 499.317607 475.863506 \nL 498.301099 472.713142 \nL 497.284591 469.538728 \nL 496.268083 466.372416 \nL 495.251575 463.247184 \nL 494.235067 460.195893 \nL 493.218558 457.250288 \nL 492.20205 454.439985 \nL 491.185542 451.791487 \nL 490.169034 449.327265 \nL 489.152526 447.064966 \nL 488.136018 445.016765 \nL 487.11951 443.188921 \nL 486.103002 441.581539 \nL 485.086494 440.188575 \nL 484.069985 438.998082 \nL 483.053477 437.992692 \nL 482.036969 437.150323 \nL 481.020461 436.445079 \nL 480.003953 435.848309 \nL 478.987445 435.329778 \nL 477.970937 434.858906 \nL 476.954429 434.406014 \nL 475.93792 433.943521 \nL 474.921412 433.447057 \nL 473.904904 432.896418 \nL 472.888396 432.276347 \nL 471.871888 431.57709 \nL 470.85538 430.794722 \nL 469.838872 429.931218 \nL 468.822364 428.994279 \nL 467.805855 427.996919 \nL 466.789347 426.956847 \nL 465.772839 425.895662 \nL 464.756331 424.837913 \nL 463.739823 423.810066 \nL 462.723315 422.839432 \nL 461.706807 421.953093 \nL 460.690299 421.176903 \nL 459.673791 420.53458 \nL 458.657282 420.046952 \nL 457.640774 419.731366 \nL 456.624266 419.60131 \nL 455.607758 419.666221 \nL 454.59125 419.931512 \nL 453.574742 420.398777 \nL 452.558234 421.06617 \nL 451.541726 421.928909 \nL 450.525217 422.979876 \nL 449.508709 424.210261 \nL 448.492201 425.610212 \nL 447.475693 427.169442 \nL 446.459185 428.877756 \nL 445.442677 430.725462 \nL 444.426169 432.703662 \nL 443.409661 434.80438 \nL 442.393152 437.020558 \nL 441.376644 439.345917 \nL 440.360136 441.774693 \nL 439.343628 444.301303 \nL 438.32712 446.919948 \nL 437.310612 449.624207 \nL 436.294104 452.406652 \nL 435.277596 455.258516 \nL 434.261088 458.169454 \nL 433.244579 461.127401 \nL 432.228071 464.118557 \nL 431.211563 467.127492 \nL 430.195055 470.137371 \nL 429.178547 473.130284 \nL 428.162039 476.08766 \nL 427.145531 478.990741 \nL 426.129023 481.821094 \nL 425.112514 484.561109 \nL 424.096006 487.194493 \nL 423.079498 489.706692 \nL 422.06299 492.085256 \nL 421.046482 494.320109 \nL 420.029974 496.403727 \nL 419.013466 498.331214 \nL 417.996958 500.100279 \nL 416.980449 501.711133 \nL 415.963941 503.166293 \nL 414.947433 504.47034 \nL 413.930925 505.629617 \nL 412.914417 506.651904 \nL 411.897909 507.546076 \nL 410.881401 508.321762 \nL 409.864893 508.989023 \nL 408.848385 509.558044 \nL 407.831876 510.038865 \nL 406.815368 510.441147 \nL 405.79886 510.77397 \nL 404.782352 511.045672 \nL 403.765844 511.263724 \nL 402.749336 511.434632 \nL 401.732828 511.563868 \nL 400.71632 511.655818 \nL 399.699811 511.713753 \nz\n\" style=\"fill:#377eb8;fill-opacity:0.25;\"/>\n   </g>\n   <g id=\"line2d_80\">\n    <path clip-path=\"url(#p889904ac8a)\" d=\"M 411.481767 511.957614 \nL 413.429608 511.812676 \nL 415.37745 511.492487 \nL 417.325291 510.923691 \nL 419.273133 510.007892 \nL 421.220974 508.640943 \nL 423.168816 506.741845 \nL 425.116657 504.287646 \nL 427.064499 501.344845 \nL 432.908023 491.719603 \nL 434.855865 489.238098 \nL 435.829785 488.288326 \nL 436.803706 487.559896 \nL 437.777627 487.062763 \nL 438.751547 486.798008 \nL 439.725468 486.758139 \nL 440.699389 486.92789 \nL 441.67331 487.285438 \nL 442.64723 487.803922 \nL 444.595072 489.201083 \nL 450.438596 494.096077 \nL 452.386438 495.306748 \nL 453.360358 495.747824 \nL 454.334279 496.055993 \nL 455.3082 496.21237 \nL 456.282121 496.196684 \nL 457.256041 495.98756 \nL 458.229962 495.563304 \nL 459.203883 494.903185 \nL 460.177804 493.989065 \nL 461.151724 492.80721 \nL 462.125645 491.35005 \nL 463.099566 489.617624 \nL 465.047407 485.369809 \nL 466.995249 480.230722 \nL 469.917011 471.430414 \nL 474.786615 455.643669 \nL 477.708377 445.484825 \nL 479.656218 438.014506 \nL 481.60406 429.767703 \nL 483.551901 420.713511 \nL 486.473663 405.965206 \nL 491.343267 380.988608 \nL 493.291109 372.123025 \nL 494.265029 368.220556 \nL 495.23895 364.800098 \nL 496.212871 361.972131 \nL 497.186791 359.855007 \nL 498.160712 358.569549 \nL 499.134633 358.231746 \nL 500.108554 358.944125 \nL 501.082474 360.786669 \nL 502.056395 363.808275 \nL 503.030316 368.019778 \nL 504.004237 373.389409 \nL 504.978157 379.841337 \nL 506.925999 395.483005 \nL 508.87384 413.606015 \nL 512.769523 450.797765 \nL 514.717365 467.020812 \nL 516.665206 480.491438 \nL 517.639127 486.102878 \nL 518.613048 490.973518 \nL 519.586968 495.137619 \nL 520.560889 498.645442 \nL 521.53481 501.558003 \nL 522.50873 503.942277 \nL 523.482651 505.867078 \nL 524.456572 507.399745 \nL 525.430493 508.603666 \nL 526.404413 509.536597 \nL 527.378334 510.249674 \nL 528.352255 510.787008 \nL 530.300096 511.476254 \nL 532.247938 511.824613 \nL 534.195779 511.964201 \nL 535.1697 511.977543 \nL 535.1697 511.977543 \n\" style=\"fill:none;stroke:#e41a1c;stroke-linecap:square;stroke-width:1.5;\"/>\n   </g>\n   <g id=\"line2d_81\">\n    <path clip-path=\"url(#p889904ac8a)\" d=\"M 399.699811 511.713753 \nL 402.749336 511.434632 \nL 404.782352 511.045672 \nL 406.815368 510.441147 \nL 408.848385 509.558044 \nL 410.881401 508.321762 \nL 412.914417 506.651904 \nL 414.947433 504.47034 \nL 416.980449 501.711133 \nL 419.013466 498.331214 \nL 421.046482 494.320109 \nL 423.079498 489.706692 \nL 425.112514 484.561109 \nL 428.162039 476.08766 \nL 437.310612 449.624207 \nL 440.360136 441.774693 \nL 442.393152 437.020558 \nL 444.426169 432.703662 \nL 446.459185 428.877756 \nL 448.492201 425.610212 \nL 450.525217 422.979876 \nL 451.541726 421.928909 \nL 452.558234 421.06617 \nL 453.574742 420.398777 \nL 454.59125 419.931512 \nL 455.607758 419.666221 \nL 456.624266 419.60131 \nL 457.640774 419.731366 \nL 458.657282 420.046952 \nL 459.673791 420.53458 \nL 460.690299 421.176903 \nL 462.723315 422.839432 \nL 465.772839 425.895662 \nL 468.822364 428.994279 \nL 470.85538 430.794722 \nL 472.888396 432.276347 \nL 474.921412 433.447057 \nL 481.020461 436.445079 \nL 482.036969 437.150323 \nL 483.053477 437.992692 \nL 484.069985 438.998082 \nL 485.086494 440.188575 \nL 486.103002 441.581539 \nL 487.11951 443.188921 \nL 489.152526 447.064966 \nL 491.185542 451.791487 \nL 493.218558 457.250288 \nL 496.268083 466.372416 \nL 501.350623 481.972622 \nL 503.38364 487.654791 \nL 505.416656 492.753053 \nL 507.449672 497.172008 \nL 509.482688 500.876243 \nL 511.515705 503.881923 \nL 513.548721 506.24418 \nL 515.581737 508.04298 \nL 517.614753 509.369676 \nL 519.64777 510.315754 \nL 521.680786 510.964444 \nL 523.713802 511.385204 \nL 525.746818 511.630615 \nL 528.796343 511.739805 \nL 528.796343 511.739805 \n\" style=\"fill:none;stroke:#377eb8;stroke-linecap:square;stroke-width:1.5;\"/>\n   </g>\n  </g>\n  <g id=\"legend_1\">\n   <g id=\"text_32\">\n    <!-- Kyphosis -->\n    <g transform=\"translate(560.276476 262.959375)scale(0.1 -0.1)\">\n     <defs>\n      <path d=\"M 9.8125 72.90625 \nL 19.671875 72.90625 \nL 19.671875 42.09375 \nL 52.390625 72.90625 \nL 65.09375 72.90625 \nL 28.90625 38.921875 \nL 67.671875 0 \nL 54.6875 0 \nL 19.671875 35.109375 \nL 19.671875 0 \nL 9.8125 0 \nz\n\" id=\"DejaVuSans-75\"/>\n      <path d=\"M 32.171875 -5.078125 \nQ 28.375 -14.84375 24.75 -17.8125 \nQ 21.140625 -20.796875 15.09375 -20.796875 \nL 7.90625 -20.796875 \nL 7.90625 -13.28125 \nL 13.1875 -13.28125 \nQ 16.890625 -13.28125 18.9375 -11.515625 \nQ 21 -9.765625 23.484375 -3.21875 \nL 25.09375 0.875 \nL 2.984375 54.6875 \nL 12.5 54.6875 \nL 29.59375 11.921875 \nL 46.6875 54.6875 \nL 56.203125 54.6875 \nz\n\" id=\"DejaVuSans-121\"/>\n      <path d=\"M 18.109375 8.203125 \nL 18.109375 -20.796875 \nL 9.078125 -20.796875 \nL 9.078125 54.6875 \nL 18.109375 54.6875 \nL 18.109375 46.390625 \nQ 20.953125 51.265625 25.265625 53.625 \nQ 29.59375 56 35.59375 56 \nQ 45.5625 56 51.78125 48.09375 \nQ 58.015625 40.1875 58.015625 27.296875 \nQ 58.015625 14.40625 51.78125 6.484375 \nQ 45.5625 -1.421875 35.59375 -1.421875 \nQ 29.59375 -1.421875 25.265625 0.953125 \nQ 20.953125 3.328125 18.109375 8.203125 \nz\nM 48.6875 27.296875 \nQ 48.6875 37.203125 44.609375 42.84375 \nQ 40.53125 48.484375 33.40625 48.484375 \nQ 26.265625 48.484375 22.1875 42.84375 \nQ 18.109375 37.203125 18.109375 27.296875 \nQ 18.109375 17.390625 22.1875 11.75 \nQ 26.265625 6.109375 33.40625 6.109375 \nQ 40.53125 6.109375 44.609375 11.75 \nQ 48.6875 17.390625 48.6875 27.296875 \nz\n\" id=\"DejaVuSans-112\"/>\n      <path d=\"M 54.890625 33.015625 \nL 54.890625 0 \nL 45.90625 0 \nL 45.90625 32.71875 \nQ 45.90625 40.484375 42.875 44.328125 \nQ 39.84375 48.1875 33.796875 48.1875 \nQ 26.515625 48.1875 22.3125 43.546875 \nQ 18.109375 38.921875 18.109375 30.90625 \nL 18.109375 0 \nL 9.078125 0 \nL 9.078125 75.984375 \nL 18.109375 75.984375 \nL 18.109375 46.1875 \nQ 21.34375 51.125 25.703125 53.5625 \nQ 30.078125 56 35.796875 56 \nQ 45.21875 56 50.046875 50.171875 \nQ 54.890625 44.34375 54.890625 33.015625 \nz\n\" id=\"DejaVuSans-104\"/>\n      <path d=\"M 30.609375 48.390625 \nQ 23.390625 48.390625 19.1875 42.75 \nQ 14.984375 37.109375 14.984375 27.296875 \nQ 14.984375 17.484375 19.15625 11.84375 \nQ 23.34375 6.203125 30.609375 6.203125 \nQ 37.796875 6.203125 41.984375 11.859375 \nQ 46.1875 17.53125 46.1875 27.296875 \nQ 46.1875 37.015625 41.984375 42.703125 \nQ 37.796875 48.390625 30.609375 48.390625 \nz\nM 30.609375 56 \nQ 42.328125 56 49.015625 48.375 \nQ 55.71875 40.765625 55.71875 27.296875 \nQ 55.71875 13.875 49.015625 6.21875 \nQ 42.328125 -1.421875 30.609375 -1.421875 \nQ 18.84375 -1.421875 12.171875 6.21875 \nQ 5.515625 13.875 5.515625 27.296875 \nQ 5.515625 40.765625 12.171875 48.375 \nQ 18.84375 56 30.609375 56 \nz\n\" id=\"DejaVuSans-111\"/>\n      <path d=\"M 44.28125 53.078125 \nL 44.28125 44.578125 \nQ 40.484375 46.53125 36.375 47.5 \nQ 32.28125 48.484375 27.875 48.484375 \nQ 21.1875 48.484375 17.84375 46.4375 \nQ 14.5 44.390625 14.5 40.28125 \nQ 14.5 37.15625 16.890625 35.375 \nQ 19.28125 33.59375 26.515625 31.984375 \nL 29.59375 31.296875 \nQ 39.15625 29.25 43.1875 25.515625 \nQ 47.21875 21.78125 47.21875 15.09375 \nQ 47.21875 7.46875 41.1875 3.015625 \nQ 35.15625 -1.421875 24.609375 -1.421875 \nQ 20.21875 -1.421875 15.453125 -0.5625 \nQ 10.6875 0.296875 5.421875 2 \nL 5.421875 11.28125 \nQ 10.40625 8.6875 15.234375 7.390625 \nQ 20.0625 6.109375 24.8125 6.109375 \nQ 31.15625 6.109375 34.5625 8.28125 \nQ 37.984375 10.453125 37.984375 14.40625 \nQ 37.984375 18.0625 35.515625 20.015625 \nQ 33.0625 21.96875 24.703125 23.78125 \nL 21.578125 24.515625 \nQ 13.234375 26.265625 9.515625 29.90625 \nQ 5.8125 33.546875 5.8125 39.890625 \nQ 5.8125 47.609375 11.28125 51.796875 \nQ 16.75 56 26.8125 56 \nQ 31.78125 56 36.171875 55.265625 \nQ 40.578125 54.546875 44.28125 53.078125 \nz\n\" id=\"DejaVuSans-115\"/>\n      <path d=\"M 9.421875 54.6875 \nL 18.40625 54.6875 \nL 18.40625 0 \nL 9.421875 0 \nz\nM 9.421875 75.984375 \nL 18.40625 75.984375 \nL 18.40625 64.59375 \nL 9.421875 64.59375 \nz\n\" id=\"DejaVuSans-105\"/>\n     </defs>\n     <use xlink:href=\"#DejaVuSans-75\"/>\n     <use x=\"58.326172\" xlink:href=\"#DejaVuSans-121\"/>\n     <use x=\"117.505859\" xlink:href=\"#DejaVuSans-112\"/>\n     <use x=\"180.982422\" xlink:href=\"#DejaVuSans-104\"/>\n     <use x=\"244.361328\" xlink:href=\"#DejaVuSans-111\"/>\n     <use x=\"305.542969\" xlink:href=\"#DejaVuSans-115\"/>\n     <use x=\"357.642578\" xlink:href=\"#DejaVuSans-105\"/>\n     <use x=\"385.425781\" xlink:href=\"#DejaVuSans-115\"/>\n    </g>\n   </g>\n   <g id=\"PathCollection_13\">\n    <g>\n     <use style=\"fill:#e41a1c;stroke:#ffffff;stroke-width:0.75;\" x=\"559.149132\" xlink:href=\"#m00482ed16f\" y=\"275.0125\"/>\n    </g>\n   </g>\n   <g id=\"text_33\">\n    <!-- absent -->\n    <g transform=\"translate(577.149132 277.6375)scale(0.1 -0.1)\">\n     <defs>\n      <path d=\"M 54.890625 33.015625 \nL 54.890625 0 \nL 45.90625 0 \nL 45.90625 32.71875 \nQ 45.90625 40.484375 42.875 44.328125 \nQ 39.84375 48.1875 33.796875 48.1875 \nQ 26.515625 48.1875 22.3125 43.546875 \nQ 18.109375 38.921875 18.109375 30.90625 \nL 18.109375 0 \nL 9.078125 0 \nL 9.078125 54.6875 \nL 18.109375 54.6875 \nL 18.109375 46.1875 \nQ 21.34375 51.125 25.703125 53.5625 \nQ 30.078125 56 35.796875 56 \nQ 45.21875 56 50.046875 50.171875 \nQ 54.890625 44.34375 54.890625 33.015625 \nz\n\" id=\"DejaVuSans-110\"/>\n     </defs>\n     <use xlink:href=\"#DejaVuSans-97\"/>\n     <use x=\"61.279297\" xlink:href=\"#DejaVuSans-98\"/>\n     <use x=\"124.755859\" xlink:href=\"#DejaVuSans-115\"/>\n     <use x=\"176.855469\" xlink:href=\"#DejaVuSans-101\"/>\n     <use x=\"238.378906\" xlink:href=\"#DejaVuSans-110\"/>\n     <use x=\"301.757812\" xlink:href=\"#DejaVuSans-116\"/>\n    </g>\n   </g>\n   <g id=\"PathCollection_14\">\n    <g>\n     <use style=\"fill:#377eb8;stroke:#ffffff;stroke-width:0.75;\" x=\"559.149132\" xlink:href=\"#mdf1c74b52f\" y=\"289.690625\"/>\n    </g>\n   </g>\n   <g id=\"text_34\">\n    <!-- present -->\n    <g transform=\"translate(577.149132 292.315625)scale(0.1 -0.1)\">\n     <use xlink:href=\"#DejaVuSans-112\"/>\n     <use x=\"63.476562\" xlink:href=\"#DejaVuSans-114\"/>\n     <use x=\"102.339844\" xlink:href=\"#DejaVuSans-101\"/>\n     <use x=\"163.863281\" xlink:href=\"#DejaVuSans-115\"/>\n     <use x=\"215.962891\" xlink:href=\"#DejaVuSans-101\"/>\n     <use x=\"277.486328\" xlink:href=\"#DejaVuSans-110\"/>\n     <use x=\"340.865234\" xlink:href=\"#DejaVuSans-116\"/>\n    </g>\n   </g>\n  </g>\n </g>\n <defs>\n  <clipPath id=\"p7e9962daeb\">\n   <rect height=\"161.666667\" width=\"149.016877\" x=\"221.535033\" y=\"7.2\"/>\n  </clipPath>\n  <clipPath id=\"p3557abbed9\">\n   <rect height=\"161.666667\" width=\"149.016877\" x=\"392.926317\" y=\"7.2\"/>\n  </clipPath>\n  <clipPath id=\"p72e4f04091\">\n   <rect height=\"161.666667\" width=\"149.016877\" x=\"50.14375\" y=\"178.866667\"/>\n  </clipPath>\n  <clipPath id=\"p34263be150\">\n   <rect height=\"161.666667\" width=\"149.016877\" x=\"392.926317\" y=\"178.866667\"/>\n  </clipPath>\n  <clipPath id=\"pbd61b0ea15\">\n   <rect height=\"161.666667\" width=\"149.016877\" x=\"50.14375\" y=\"350.533333\"/>\n  </clipPath>\n  <clipPath id=\"p77e16e9677\">\n   <rect height=\"161.666667\" width=\"149.016877\" x=\"221.535033\" y=\"350.533333\"/>\n  </clipPath>\n  <clipPath id=\"p14e585f320\">\n   <rect height=\"161.666667\" width=\"149.016877\" x=\"50.14375\" y=\"7.2\"/>\n  </clipPath>\n  <clipPath id=\"pf36e7f356b\">\n   <rect height=\"161.666667\" width=\"149.016877\" x=\"221.535033\" y=\"178.866667\"/>\n  </clipPath>\n  <clipPath id=\"p889904ac8a\">\n   <rect height=\"161.666667\" width=\"149.016877\" x=\"392.926317\" y=\"350.533333\"/>\n  </clipPath>\n </defs>\n</svg>\n",
      "text/plain": [
       "<Figure size 613.875x540 with 12 Axes>"
      ]
     },
     "metadata": {
      "needs_background": "light"
     },
     "output_type": "display_data"
    }
   ],
   "source": [
    "sns.pairplot(df,hue='Kyphosis',palette='Set1')"
   ]
  },
  {
   "cell_type": "code",
   "execution_count": null,
   "metadata": {},
   "outputs": [],
   "source": [
    "from sklearn.model_selection import train_test_split\n",
    "from sklearn.tree import DecisionTreeClassifier\n",
    "from sklearn.metrics import classification_report,confusion_matrix"
   ]
  },
  {
   "cell_type": "code",
   "execution_count": null,
   "metadata": {},
   "outputs": [],
   "source": [
    "X = df.drop('Kyphosis',axis=1)\n",
    "y = df['Kyphosis']"
   ]
  },
  {
   "cell_type": "code",
   "execution_count": null,
   "metadata": {},
   "outputs": [
    {
     "data": {
      "text/html": [
       "<div>\n",
       "<style scoped>\n",
       "    .dataframe tbody tr th:only-of-type {\n",
       "        vertical-align: middle;\n",
       "    }\n",
       "\n",
       "    .dataframe tbody tr th {\n",
       "        vertical-align: top;\n",
       "    }\n",
       "\n",
       "    .dataframe thead th {\n",
       "        text-align: right;\n",
       "    }\n",
       "</style>\n",
       "<table border=\"1\" class=\"dataframe\">\n",
       "  <thead>\n",
       "    <tr style=\"text-align: right;\">\n",
       "      <th></th>\n",
       "      <th>Age</th>\n",
       "      <th>Number</th>\n",
       "      <th>Start</th>\n",
       "    </tr>\n",
       "  </thead>\n",
       "  <tbody>\n",
       "    <tr>\n",
       "      <th>0</th>\n",
       "      <td>71</td>\n",
       "      <td>3</td>\n",
       "      <td>5</td>\n",
       "    </tr>\n",
       "    <tr>\n",
       "      <th>1</th>\n",
       "      <td>158</td>\n",
       "      <td>3</td>\n",
       "      <td>14</td>\n",
       "    </tr>\n",
       "    <tr>\n",
       "      <th>2</th>\n",
       "      <td>128</td>\n",
       "      <td>4</td>\n",
       "      <td>5</td>\n",
       "    </tr>\n",
       "    <tr>\n",
       "      <th>3</th>\n",
       "      <td>2</td>\n",
       "      <td>5</td>\n",
       "      <td>1</td>\n",
       "    </tr>\n",
       "    <tr>\n",
       "      <th>4</th>\n",
       "      <td>1</td>\n",
       "      <td>4</td>\n",
       "      <td>15</td>\n",
       "    </tr>\n",
       "    <tr>\n",
       "      <th>...</th>\n",
       "      <td>...</td>\n",
       "      <td>...</td>\n",
       "      <td>...</td>\n",
       "    </tr>\n",
       "    <tr>\n",
       "      <th>76</th>\n",
       "      <td>157</td>\n",
       "      <td>3</td>\n",
       "      <td>13</td>\n",
       "    </tr>\n",
       "    <tr>\n",
       "      <th>77</th>\n",
       "      <td>26</td>\n",
       "      <td>7</td>\n",
       "      <td>13</td>\n",
       "    </tr>\n",
       "    <tr>\n",
       "      <th>78</th>\n",
       "      <td>120</td>\n",
       "      <td>2</td>\n",
       "      <td>13</td>\n",
       "    </tr>\n",
       "    <tr>\n",
       "      <th>79</th>\n",
       "      <td>42</td>\n",
       "      <td>7</td>\n",
       "      <td>6</td>\n",
       "    </tr>\n",
       "    <tr>\n",
       "      <th>80</th>\n",
       "      <td>36</td>\n",
       "      <td>4</td>\n",
       "      <td>13</td>\n",
       "    </tr>\n",
       "  </tbody>\n",
       "</table>\n",
       "<p>81 rows × 3 columns</p>\n",
       "</div>"
      ],
      "text/plain": [
       "    Age  Number  Start\n",
       "0    71       3      5\n",
       "1   158       3     14\n",
       "2   128       4      5\n",
       "3     2       5      1\n",
       "4     1       4     15\n",
       "..  ...     ...    ...\n",
       "76  157       3     13\n",
       "77   26       7     13\n",
       "78  120       2     13\n",
       "79   42       7      6\n",
       "80   36       4     13\n",
       "\n",
       "[81 rows x 3 columns]"
      ]
     },
     "execution_count": 67,
     "metadata": {},
     "output_type": "execute_result"
    }
   ],
   "source": [
    "X"
   ]
  },
  {
   "cell_type": "code",
   "execution_count": null,
   "metadata": {},
   "outputs": [],
   "source": [
    "X_train, X_test, y_train, y_test = train_test_split(X, y, test_size=0.30)"
   ]
  },
  {
   "cell_type": "code",
   "execution_count": null,
   "metadata": {},
   "outputs": [
    {
     "data": {
      "text/plain": [
       "DecisionTreeClassifier(class_weight=None, criterion='gini', max_depth=None,\n",
       "                       max_features=None, max_leaf_nodes=None,\n",
       "                       min_impurity_decrease=0.0, min_impurity_split=None,\n",
       "                       min_samples_leaf=1, min_samples_split=2,\n",
       "                       min_weight_fraction_leaf=0.0, presort=False,\n",
       "                       random_state=None, splitter='best')"
      ]
     },
     "execution_count": 69,
     "metadata": {},
     "output_type": "execute_result"
    }
   ],
   "source": [
    "dtree = DecisionTreeClassifier()\n",
    "dtree.fit(X_train,y_train)"
   ]
  },
  {
   "cell_type": "code",
   "execution_count": null,
   "metadata": {},
   "outputs": [],
   "source": [
    "predictions = dtree.predict(X_test)"
   ]
  },
  {
   "cell_type": "code",
   "execution_count": null,
   "metadata": {
    "tags": []
   },
   "outputs": [
    {
     "name": "stdout",
     "output_type": "stream",
     "text": [
      "precision    recall  f1-score   support\n",
      "\n",
      "      absent       0.90      0.86      0.88        22\n",
      "     present       0.25      0.33      0.29         3\n",
      "\n",
      "    accuracy                           0.80        25\n",
      "   macro avg       0.58      0.60      0.58        25\n",
      "weighted avg       0.83      0.80      0.81        25\n",
      "\n"
     ]
    }
   ],
   "source": [
    "print(classification_report(y_test,predictions))"
   ]
  },
  {
   "cell_type": "code",
   "execution_count": null,
   "metadata": {
    "tags": []
   },
   "outputs": [
    {
     "name": "stderr",
     "output_type": "stream",
     "text": [
      "/Users/Giwrgakis/opt/anaconda3/envs/glGA37/lib/python3.7/site-packages/sklearn/externals/six.py:31: DeprecationWarning:\n",
      "\n",
      "The module is deprecated in version 0.21 and will be removed in version 0.23 since we've dropped support for Python 2.7. Please rely on the official version of six (https://pypi.org/project/six/).\n",
      "\n"
     ]
    },
    {
     "ename": "ModuleNotFoundError",
     "evalue": "No module named 'pydot'",
     "output_type": "error",
     "traceback": [
      "\u001b[0;31m---------------------------------------------------------------------------\u001b[0m",
      "\u001b[0;31mModuleNotFoundError\u001b[0m                       Traceback (most recent call last)",
      "\u001b[0;32m<ipython-input-72-0b3416ce7fda>\u001b[0m in \u001b[0;36m<module>\u001b[0;34m\u001b[0m\n\u001b[1;32m      2\u001b[0m \u001b[0;32mfrom\u001b[0m \u001b[0msklearn\u001b[0m\u001b[0;34m.\u001b[0m\u001b[0mexternals\u001b[0m\u001b[0;34m.\u001b[0m\u001b[0msix\u001b[0m \u001b[0;32mimport\u001b[0m \u001b[0mStringIO\u001b[0m\u001b[0;34m\u001b[0m\u001b[0;34m\u001b[0m\u001b[0m\n\u001b[1;32m      3\u001b[0m \u001b[0;32mfrom\u001b[0m \u001b[0msklearn\u001b[0m\u001b[0;34m.\u001b[0m\u001b[0mtree\u001b[0m \u001b[0;32mimport\u001b[0m \u001b[0mexport_graphviz\u001b[0m\u001b[0;34m\u001b[0m\u001b[0;34m\u001b[0m\u001b[0m\n\u001b[0;32m----> 4\u001b[0;31m \u001b[0;32mimport\u001b[0m \u001b[0mpydot\u001b[0m\u001b[0;34m\u001b[0m\u001b[0;34m\u001b[0m\u001b[0m\n\u001b[0m\u001b[1;32m      5\u001b[0m \u001b[0;34m\u001b[0m\u001b[0m\n\u001b[1;32m      6\u001b[0m \u001b[0mfeatures\u001b[0m \u001b[0;34m=\u001b[0m \u001b[0mlist\u001b[0m\u001b[0;34m(\u001b[0m\u001b[0mdf\u001b[0m\u001b[0;34m.\u001b[0m\u001b[0mcolumns\u001b[0m\u001b[0;34m[\u001b[0m\u001b[0;36m1\u001b[0m\u001b[0;34m:\u001b[0m\u001b[0;34m]\u001b[0m\u001b[0;34m)\u001b[0m\u001b[0;34m\u001b[0m\u001b[0;34m\u001b[0m\u001b[0m\n",
      "\u001b[0;31mModuleNotFoundError\u001b[0m: No module named 'pydot'"
     ]
    }
   ],
   "source": [
    "from IPython.display import Image  \n",
    "from sklearn.externals.six import StringIO  \n",
    "from sklearn.tree import export_graphviz\n",
    "import pydot \n",
    "\n",
    "features = list(df.columns[1:])\n",
    "features"
   ]
  },
  {
   "cell_type": "code",
   "execution_count": null,
   "metadata": {},
   "outputs": [
    {
     "ename": "NameError",
     "evalue": "name 'features' is not defined",
     "output_type": "error",
     "traceback": [
      "\u001b[0;31m---------------------------------------------------------------------------\u001b[0m",
      "\u001b[0;31mNameError\u001b[0m                                 Traceback (most recent call last)",
      "\u001b[0;32m<ipython-input-73-cff7667ce9ae>\u001b[0m in \u001b[0;36m<module>\u001b[0;34m\u001b[0m\n\u001b[1;32m      1\u001b[0m \u001b[0mdot_data\u001b[0m \u001b[0;34m=\u001b[0m \u001b[0mStringIO\u001b[0m\u001b[0;34m(\u001b[0m\u001b[0;34m)\u001b[0m\u001b[0;34m\u001b[0m\u001b[0;34m\u001b[0m\u001b[0m\n\u001b[0;32m----> 2\u001b[0;31m \u001b[0mexport_graphviz\u001b[0m\u001b[0;34m(\u001b[0m\u001b[0mdtree\u001b[0m\u001b[0;34m,\u001b[0m \u001b[0mout_file\u001b[0m\u001b[0;34m=\u001b[0m\u001b[0mdot_data\u001b[0m\u001b[0;34m,\u001b[0m\u001b[0mfeature_names\u001b[0m\u001b[0;34m=\u001b[0m\u001b[0mfeatures\u001b[0m\u001b[0;34m,\u001b[0m\u001b[0mfilled\u001b[0m\u001b[0;34m=\u001b[0m\u001b[0;32mTrue\u001b[0m\u001b[0;34m,\u001b[0m\u001b[0mrounded\u001b[0m\u001b[0;34m=\u001b[0m\u001b[0;32mTrue\u001b[0m\u001b[0;34m)\u001b[0m\u001b[0;34m\u001b[0m\u001b[0;34m\u001b[0m\u001b[0m\n\u001b[0m\u001b[1;32m      3\u001b[0m \u001b[0;34m\u001b[0m\u001b[0m\n\u001b[1;32m      4\u001b[0m \u001b[0mgraph\u001b[0m \u001b[0;34m=\u001b[0m \u001b[0mpydot\u001b[0m\u001b[0;34m.\u001b[0m\u001b[0mgraph_from_dot_data\u001b[0m\u001b[0;34m(\u001b[0m\u001b[0mdot_data\u001b[0m\u001b[0;34m.\u001b[0m\u001b[0mgetvalue\u001b[0m\u001b[0;34m(\u001b[0m\u001b[0;34m)\u001b[0m\u001b[0;34m)\u001b[0m\u001b[0;34m\u001b[0m\u001b[0;34m\u001b[0m\u001b[0m\n\u001b[1;32m      5\u001b[0m \u001b[0mImage\u001b[0m\u001b[0;34m(\u001b[0m\u001b[0mgraph\u001b[0m\u001b[0;34m[\u001b[0m\u001b[0;36m0\u001b[0m\u001b[0;34m]\u001b[0m\u001b[0;34m.\u001b[0m\u001b[0mcreate_png\u001b[0m\u001b[0;34m(\u001b[0m\u001b[0;34m)\u001b[0m\u001b[0;34m)\u001b[0m\u001b[0;34m\u001b[0m\u001b[0;34m\u001b[0m\u001b[0m\n",
      "\u001b[0;31mNameError\u001b[0m: name 'features' is not defined"
     ]
    }
   ],
   "source": [
    "dot_data = StringIO()  \n",
    "export_graphviz(dtree, out_file=dot_data,feature_names=features,filled=True,rounded=True)\n",
    "\n",
    "graph = pydot.graph_from_dot_data(dot_data.getvalue())  \n",
    "Image(graph[0].create_png()) "
   ]
  },
  {
   "cell_type": "code",
   "execution_count": null,
   "metadata": {},
   "outputs": [
    {
     "data": {
      "text/plain": [
       "RandomForestClassifier(bootstrap=True, class_weight=None, criterion='gini',\n",
       "                       max_depth=None, max_features='auto', max_leaf_nodes=None,\n",
       "                       min_impurity_decrease=0.0, min_impurity_split=None,\n",
       "                       min_samples_leaf=1, min_samples_split=2,\n",
       "                       min_weight_fraction_leaf=0.0, n_estimators=100,\n",
       "                       n_jobs=None, oob_score=False, random_state=None,\n",
       "                       verbose=0, warm_start=False)"
      ]
     },
     "execution_count": 74,
     "metadata": {},
     "output_type": "execute_result"
    }
   ],
   "source": [
    "#random forests\n",
    "from sklearn.ensemble import RandomForestClassifier\n",
    "rfc = RandomForestClassifier(n_estimators=100)\n",
    "rfc.fit(X_train, y_train)"
   ]
  },
  {
   "cell_type": "code",
   "execution_count": null,
   "metadata": {
    "tags": []
   },
   "outputs": [
    {
     "name": "stdout",
     "output_type": "stream",
     "text": [
      "[[20  2]\n",
      " [ 1  2]]\n"
     ]
    }
   ],
   "source": [
    "rfc_pred = rfc.predict(X_test)\n",
    "print(confusion_matrix(y_test,rfc_pred))"
   ]
  },
  {
   "cell_type": "code",
   "execution_count": null,
   "metadata": {
    "tags": []
   },
   "outputs": [
    {
     "name": "stdout",
     "output_type": "stream",
     "text": [
      "precision    recall  f1-score   support\n",
      "\n",
      "      absent       0.95      0.91      0.93        22\n",
      "     present       0.50      0.67      0.57         3\n",
      "\n",
      "    accuracy                           0.88        25\n",
      "   macro avg       0.73      0.79      0.75        25\n",
      "weighted avg       0.90      0.88      0.89        25\n",
      "\n"
     ]
    }
   ],
   "source": [
    "print(classification_report(y_test,rfc_pred))"
   ]
  },
  {
   "cell_type": "markdown",
   "metadata": {},
   "source": [
    "### Support Vector Machines (SVMs)"
   ]
  },
  {
   "cell_type": "code",
   "execution_count": null,
   "metadata": {},
   "outputs": [],
   "source": [
    "import pandas as pd\n",
    "import numpy as np\n",
    "import matplotlib.pyplot as plt\n",
    "import seaborn as sns\n",
    "%matplotlib inline\n",
    "from sklearn.datasets import load_breast_cancer"
   ]
  },
  {
   "cell_type": "code",
   "execution_count": null,
   "metadata": {
    "tags": []
   },
   "outputs": [
    {
     "name": "stdout",
     "output_type": "stream",
     "text": [
      ".. _breast_cancer_dataset:\n",
      "\n",
      "Breast cancer wisconsin (diagnostic) dataset\n",
      "--------------------------------------------\n",
      "\n",
      "**Data Set Characteristics:**\n",
      "\n",
      "    :Number of Instances: 569\n",
      "\n",
      "    :Number of Attributes: 30 numeric, predictive attributes and the class\n",
      "\n",
      "    :Attribute Information:\n",
      "        - radius (mean of distances from center to points on the perimeter)\n",
      "        - texture (standard deviation of gray-scale values)\n",
      "        - perimeter\n",
      "        - area\n",
      "        - smoothness (local variation in radius lengths)\n",
      "        - compactness (perimeter^2 / area - 1.0)\n",
      "        - concavity (severity of concave portions of the contour)\n",
      "        - concave points (number of concave portions of the contour)\n",
      "        - symmetry \n",
      "        - fractal dimension (\"coastline approximation\" - 1)\n",
      "\n",
      "        The mean, standard error, and \"worst\" or largest (mean of the three\n",
      "        largest values) of these features were computed for each image,\n",
      "        resulting in 30 features.  For instance, field 3 is Mean Radius, field\n",
      "        13 is Radius SE, field 23 is Worst Radius.\n",
      "\n",
      "        - class:\n",
      "                - WDBC-Malignant\n",
      "                - WDBC-Benign\n",
      "\n",
      "    :Summary Statistics:\n",
      "\n",
      "    ===================================== ====== ======\n",
      "                                           Min    Max\n",
      "    ===================================== ====== ======\n",
      "    radius (mean):                        6.981  28.11\n",
      "    texture (mean):                       9.71   39.28\n",
      "    perimeter (mean):                     43.79  188.5\n",
      "    area (mean):                          143.5  2501.0\n",
      "    smoothness (mean):                    0.053  0.163\n",
      "    compactness (mean):                   0.019  0.345\n",
      "    concavity (mean):                     0.0    0.427\n",
      "    concave points (mean):                0.0    0.201\n",
      "    symmetry (mean):                      0.106  0.304\n",
      "    fractal dimension (mean):             0.05   0.097\n",
      "    radius (standard error):              0.112  2.873\n",
      "    texture (standard error):             0.36   4.885\n",
      "    perimeter (standard error):           0.757  21.98\n",
      "    area (standard error):                6.802  542.2\n",
      "    smoothness (standard error):          0.002  0.031\n",
      "    compactness (standard error):         0.002  0.135\n",
      "    concavity (standard error):           0.0    0.396\n",
      "    concave points (standard error):      0.0    0.053\n",
      "    symmetry (standard error):            0.008  0.079\n",
      "    fractal dimension (standard error):   0.001  0.03\n",
      "    radius (worst):                       7.93   36.04\n",
      "    texture (worst):                      12.02  49.54\n",
      "    perimeter (worst):                    50.41  251.2\n",
      "    area (worst):                         185.2  4254.0\n",
      "    smoothness (worst):                   0.071  0.223\n",
      "    compactness (worst):                  0.027  1.058\n",
      "    concavity (worst):                    0.0    1.252\n",
      "    concave points (worst):               0.0    0.291\n",
      "    symmetry (worst):                     0.156  0.664\n",
      "    fractal dimension (worst):            0.055  0.208\n",
      "    ===================================== ====== ======\n",
      "\n",
      "    :Missing Attribute Values: None\n",
      "\n",
      "    :Class Distribution: 212 - Malignant, 357 - Benign\n",
      "\n",
      "    :Creator:  Dr. William H. Wolberg, W. Nick Street, Olvi L. Mangasarian\n",
      "\n",
      "    :Donor: Nick Street\n",
      "\n",
      "    :Date: November, 1995\n",
      "\n",
      "This is a copy of UCI ML Breast Cancer Wisconsin (Diagnostic) datasets.\n",
      "https://goo.gl/U2Uwz2\n",
      "\n",
      "Features are computed from a digitized image of a fine needle\n",
      "aspirate (FNA) of a breast mass.  They describe\n",
      "characteristics of the cell nuclei present in the image.\n",
      "\n",
      "Separating plane described above was obtained using\n",
      "Multisurface Method-Tree (MSM-T) [K. P. Bennett, \"Decision Tree\n",
      "Construction Via Linear Programming.\" Proceedings of the 4th\n",
      "Midwest Artificial Intelligence and Cognitive Science Society,\n",
      "pp. 97-101, 1992], a classification method which uses linear\n",
      "programming to construct a decision tree.  Relevant features\n",
      "were selected using an exhaustive search in the space of 1-4\n",
      "features and 1-3 separating planes.\n",
      "\n",
      "The actual linear program used to obtain the separating plane\n",
      "in the 3-dimensional space is that described in:\n",
      "[K. P. Bennett and O. L. Mangasarian: \"Robust Linear\n",
      "Programming Discrimination of Two Linearly Inseparable Sets\",\n",
      "Optimization Methods and Software 1, 1992, 23-34].\n",
      "\n",
      "This database is also available through the UW CS ftp server:\n",
      "\n",
      "ftp ftp.cs.wisc.edu\n",
      "cd math-prog/cpo-dataset/machine-learn/WDBC/\n",
      "\n",
      ".. topic:: References\n",
      "\n",
      "   - W.N. Street, W.H. Wolberg and O.L. Mangasarian. Nuclear feature extraction \n",
      "     for breast tumor diagnosis. IS&T/SPIE 1993 International Symposium on \n",
      "     Electronic Imaging: Science and Technology, volume 1905, pages 861-870,\n",
      "     San Jose, CA, 1993.\n",
      "   - O.L. Mangasarian, W.N. Street and W.H. Wolberg. Breast cancer diagnosis and \n",
      "     prognosis via linear programming. Operations Research, 43(4), pages 570-577, \n",
      "     July-August 1995.\n",
      "   - W.H. Wolberg, W.N. Street, and O.L. Mangasarian. Machine learning techniques\n",
      "     to diagnose breast cancer from fine-needle aspirates. Cancer Letters 77 (1994) \n",
      "     163-171.\n"
     ]
    }
   ],
   "source": [
    "cancer = load_breast_cancer()\n",
    "print(cancer['DESCR'])"
   ]
  },
  {
   "cell_type": "code",
   "execution_count": null,
   "metadata": {},
   "outputs": [
    {
     "data": {
      "text/plain": [
       "dict_keys(['data', 'target', 'target_names', 'DESCR', 'feature_names', 'filename'])"
      ]
     },
     "execution_count": 79,
     "metadata": {},
     "output_type": "execute_result"
    }
   ],
   "source": [
    "cancer.keys()"
   ]
  },
  {
   "cell_type": "code",
   "execution_count": null,
   "metadata": {},
   "outputs": [
    {
     "data": {
      "text/plain": [
       "array(['mean radius', 'mean texture', 'mean perimeter', 'mean area',\n",
       "       'mean smoothness', 'mean compactness', 'mean concavity',\n",
       "       'mean concave points', 'mean symmetry', 'mean fractal dimension',\n",
       "       'radius error', 'texture error', 'perimeter error', 'area error',\n",
       "       'smoothness error', 'compactness error', 'concavity error',\n",
       "       'concave points error', 'symmetry error',\n",
       "       'fractal dimension error', 'worst radius', 'worst texture',\n",
       "       'worst perimeter', 'worst area', 'worst smoothness',\n",
       "       'worst compactness', 'worst concavity', 'worst concave points',\n",
       "       'worst symmetry', 'worst fractal dimension'], dtype='<U23')"
      ]
     },
     "execution_count": 80,
     "metadata": {},
     "output_type": "execute_result"
    }
   ],
   "source": [
    "cancer['feature_names']"
   ]
  },
  {
   "cell_type": "code",
   "execution_count": null,
   "metadata": {},
   "outputs": [
    {
     "data": {
      "text/plain": [
       "array([[1.799e+01, 1.038e+01, 1.228e+02, ..., 2.654e-01, 4.601e-01,\n",
       "        1.189e-01],\n",
       "       [2.057e+01, 1.777e+01, 1.329e+02, ..., 1.860e-01, 2.750e-01,\n",
       "        8.902e-02],\n",
       "       [1.969e+01, 2.125e+01, 1.300e+02, ..., 2.430e-01, 3.613e-01,\n",
       "        8.758e-02],\n",
       "       ...,\n",
       "       [1.660e+01, 2.808e+01, 1.083e+02, ..., 1.418e-01, 2.218e-01,\n",
       "        7.820e-02],\n",
       "       [2.060e+01, 2.933e+01, 1.401e+02, ..., 2.650e-01, 4.087e-01,\n",
       "        1.240e-01],\n",
       "       [7.760e+00, 2.454e+01, 4.792e+01, ..., 0.000e+00, 2.871e-01,\n",
       "        7.039e-02]])"
      ]
     },
     "execution_count": 81,
     "metadata": {},
     "output_type": "execute_result"
    }
   ],
   "source": [
    "cancer['data']"
   ]
  },
  {
   "cell_type": "code",
   "execution_count": null,
   "metadata": {
    "scrolled": true,
    "tags": []
   },
   "outputs": [
    {
     "name": "stdout",
     "output_type": "stream",
     "text": [
      "<class 'pandas.core.frame.DataFrame'>\n",
      "RangeIndex: 569 entries, 0 to 568\n",
      "Data columns (total 30 columns):\n",
      " #   Column                   Non-Null Count  Dtype  \n",
      "---  ------                   --------------  -----  \n",
      " 0   mean radius              569 non-null    float64\n",
      " 1   mean texture             569 non-null    float64\n",
      " 2   mean perimeter           569 non-null    float64\n",
      " 3   mean area                569 non-null    float64\n",
      " 4   mean smoothness          569 non-null    float64\n",
      " 5   mean compactness         569 non-null    float64\n",
      " 6   mean concavity           569 non-null    float64\n",
      " 7   mean concave points      569 non-null    float64\n",
      " 8   mean symmetry            569 non-null    float64\n",
      " 9   mean fractal dimension   569 non-null    float64\n",
      " 10  radius error             569 non-null    float64\n",
      " 11  texture error            569 non-null    float64\n",
      " 12  perimeter error          569 non-null    float64\n",
      " 13  area error               569 non-null    float64\n",
      " 14  smoothness error         569 non-null    float64\n",
      " 15  compactness error        569 non-null    float64\n",
      " 16  concavity error          569 non-null    float64\n",
      " 17  concave points error     569 non-null    float64\n",
      " 18  symmetry error           569 non-null    float64\n",
      " 19  fractal dimension error  569 non-null    float64\n",
      " 20  worst radius             569 non-null    float64\n",
      " 21  worst texture            569 non-null    float64\n",
      " 22  worst perimeter          569 non-null    float64\n",
      " 23  worst area               569 non-null    float64\n",
      " 24  worst smoothness         569 non-null    float64\n",
      " 25  worst compactness        569 non-null    float64\n",
      " 26  worst concavity          569 non-null    float64\n",
      " 27  worst concave points     569 non-null    float64\n",
      " 28  worst symmetry           569 non-null    float64\n",
      " 29  worst fractal dimension  569 non-null    float64\n",
      "dtypes: float64(30)\n",
      "memory usage: 133.5 KB\n"
     ]
    },
    {
     "data": {
      "text/html": [
       "<div>\n",
       "<style scoped>\n",
       "    .dataframe tbody tr th:only-of-type {\n",
       "        vertical-align: middle;\n",
       "    }\n",
       "\n",
       "    .dataframe tbody tr th {\n",
       "        vertical-align: top;\n",
       "    }\n",
       "\n",
       "    .dataframe thead th {\n",
       "        text-align: right;\n",
       "    }\n",
       "</style>\n",
       "<table border=\"1\" class=\"dataframe\">\n",
       "  <thead>\n",
       "    <tr style=\"text-align: right;\">\n",
       "      <th></th>\n",
       "      <th>mean radius</th>\n",
       "      <th>mean texture</th>\n",
       "      <th>mean perimeter</th>\n",
       "      <th>mean area</th>\n",
       "      <th>mean smoothness</th>\n",
       "      <th>mean compactness</th>\n",
       "      <th>mean concavity</th>\n",
       "      <th>mean concave points</th>\n",
       "      <th>mean symmetry</th>\n",
       "      <th>mean fractal dimension</th>\n",
       "      <th>...</th>\n",
       "      <th>worst radius</th>\n",
       "      <th>worst texture</th>\n",
       "      <th>worst perimeter</th>\n",
       "      <th>worst area</th>\n",
       "      <th>worst smoothness</th>\n",
       "      <th>worst compactness</th>\n",
       "      <th>worst concavity</th>\n",
       "      <th>worst concave points</th>\n",
       "      <th>worst symmetry</th>\n",
       "      <th>worst fractal dimension</th>\n",
       "    </tr>\n",
       "  </thead>\n",
       "  <tbody>\n",
       "    <tr>\n",
       "      <th>0</th>\n",
       "      <td>17.99</td>\n",
       "      <td>10.38</td>\n",
       "      <td>122.80</td>\n",
       "      <td>1001.0</td>\n",
       "      <td>0.11840</td>\n",
       "      <td>0.27760</td>\n",
       "      <td>0.3001</td>\n",
       "      <td>0.14710</td>\n",
       "      <td>0.2419</td>\n",
       "      <td>0.07871</td>\n",
       "      <td>...</td>\n",
       "      <td>25.38</td>\n",
       "      <td>17.33</td>\n",
       "      <td>184.60</td>\n",
       "      <td>2019.0</td>\n",
       "      <td>0.1622</td>\n",
       "      <td>0.6656</td>\n",
       "      <td>0.7119</td>\n",
       "      <td>0.2654</td>\n",
       "      <td>0.4601</td>\n",
       "      <td>0.11890</td>\n",
       "    </tr>\n",
       "    <tr>\n",
       "      <th>1</th>\n",
       "      <td>20.57</td>\n",
       "      <td>17.77</td>\n",
       "      <td>132.90</td>\n",
       "      <td>1326.0</td>\n",
       "      <td>0.08474</td>\n",
       "      <td>0.07864</td>\n",
       "      <td>0.0869</td>\n",
       "      <td>0.07017</td>\n",
       "      <td>0.1812</td>\n",
       "      <td>0.05667</td>\n",
       "      <td>...</td>\n",
       "      <td>24.99</td>\n",
       "      <td>23.41</td>\n",
       "      <td>158.80</td>\n",
       "      <td>1956.0</td>\n",
       "      <td>0.1238</td>\n",
       "      <td>0.1866</td>\n",
       "      <td>0.2416</td>\n",
       "      <td>0.1860</td>\n",
       "      <td>0.2750</td>\n",
       "      <td>0.08902</td>\n",
       "    </tr>\n",
       "    <tr>\n",
       "      <th>2</th>\n",
       "      <td>19.69</td>\n",
       "      <td>21.25</td>\n",
       "      <td>130.00</td>\n",
       "      <td>1203.0</td>\n",
       "      <td>0.10960</td>\n",
       "      <td>0.15990</td>\n",
       "      <td>0.1974</td>\n",
       "      <td>0.12790</td>\n",
       "      <td>0.2069</td>\n",
       "      <td>0.05999</td>\n",
       "      <td>...</td>\n",
       "      <td>23.57</td>\n",
       "      <td>25.53</td>\n",
       "      <td>152.50</td>\n",
       "      <td>1709.0</td>\n",
       "      <td>0.1444</td>\n",
       "      <td>0.4245</td>\n",
       "      <td>0.4504</td>\n",
       "      <td>0.2430</td>\n",
       "      <td>0.3613</td>\n",
       "      <td>0.08758</td>\n",
       "    </tr>\n",
       "    <tr>\n",
       "      <th>3</th>\n",
       "      <td>11.42</td>\n",
       "      <td>20.38</td>\n",
       "      <td>77.58</td>\n",
       "      <td>386.1</td>\n",
       "      <td>0.14250</td>\n",
       "      <td>0.28390</td>\n",
       "      <td>0.2414</td>\n",
       "      <td>0.10520</td>\n",
       "      <td>0.2597</td>\n",
       "      <td>0.09744</td>\n",
       "      <td>...</td>\n",
       "      <td>14.91</td>\n",
       "      <td>26.50</td>\n",
       "      <td>98.87</td>\n",
       "      <td>567.7</td>\n",
       "      <td>0.2098</td>\n",
       "      <td>0.8663</td>\n",
       "      <td>0.6869</td>\n",
       "      <td>0.2575</td>\n",
       "      <td>0.6638</td>\n",
       "      <td>0.17300</td>\n",
       "    </tr>\n",
       "    <tr>\n",
       "      <th>4</th>\n",
       "      <td>20.29</td>\n",
       "      <td>14.34</td>\n",
       "      <td>135.10</td>\n",
       "      <td>1297.0</td>\n",
       "      <td>0.10030</td>\n",
       "      <td>0.13280</td>\n",
       "      <td>0.1980</td>\n",
       "      <td>0.10430</td>\n",
       "      <td>0.1809</td>\n",
       "      <td>0.05883</td>\n",
       "      <td>...</td>\n",
       "      <td>22.54</td>\n",
       "      <td>16.67</td>\n",
       "      <td>152.20</td>\n",
       "      <td>1575.0</td>\n",
       "      <td>0.1374</td>\n",
       "      <td>0.2050</td>\n",
       "      <td>0.4000</td>\n",
       "      <td>0.1625</td>\n",
       "      <td>0.2364</td>\n",
       "      <td>0.07678</td>\n",
       "    </tr>\n",
       "  </tbody>\n",
       "</table>\n",
       "<p>5 rows × 30 columns</p>\n",
       "</div>"
      ],
      "text/plain": [
       "   mean radius  mean texture  mean perimeter  mean area  mean smoothness  \\\n",
       "0        17.99         10.38          122.80     1001.0          0.11840   \n",
       "1        20.57         17.77          132.90     1326.0          0.08474   \n",
       "2        19.69         21.25          130.00     1203.0          0.10960   \n",
       "3        11.42         20.38           77.58      386.1          0.14250   \n",
       "4        20.29         14.34          135.10     1297.0          0.10030   \n",
       "\n",
       "   mean compactness  mean concavity  mean concave points  mean symmetry  \\\n",
       "0           0.27760          0.3001              0.14710         0.2419   \n",
       "1           0.07864          0.0869              0.07017         0.1812   \n",
       "2           0.15990          0.1974              0.12790         0.2069   \n",
       "3           0.28390          0.2414              0.10520         0.2597   \n",
       "4           0.13280          0.1980              0.10430         0.1809   \n",
       "\n",
       "   mean fractal dimension  ...  worst radius  worst texture  worst perimeter  \\\n",
       "0                 0.07871  ...         25.38          17.33           184.60   \n",
       "1                 0.05667  ...         24.99          23.41           158.80   \n",
       "2                 0.05999  ...         23.57          25.53           152.50   \n",
       "3                 0.09744  ...         14.91          26.50            98.87   \n",
       "4                 0.05883  ...         22.54          16.67           152.20   \n",
       "\n",
       "   worst area  worst smoothness  worst compactness  worst concavity  \\\n",
       "0      2019.0            0.1622             0.6656           0.7119   \n",
       "1      1956.0            0.1238             0.1866           0.2416   \n",
       "2      1709.0            0.1444             0.4245           0.4504   \n",
       "3       567.7            0.2098             0.8663           0.6869   \n",
       "4      1575.0            0.1374             0.2050           0.4000   \n",
       "\n",
       "   worst concave points  worst symmetry  worst fractal dimension  \n",
       "0                0.2654          0.4601                  0.11890  \n",
       "1                0.1860          0.2750                  0.08902  \n",
       "2                0.2430          0.3613                  0.08758  \n",
       "3                0.2575          0.6638                  0.17300  \n",
       "4                0.1625          0.2364                  0.07678  \n",
       "\n",
       "[5 rows x 30 columns]"
      ]
     },
     "execution_count": 82,
     "metadata": {},
     "output_type": "execute_result"
    }
   ],
   "source": [
    "#setup panda dataframe\n",
    "df_feat = pd.DataFrame(cancer['data'],columns=cancer['feature_names'])\n",
    "df_feat.info()\n",
    "df_feat.head()"
   ]
  },
  {
   "cell_type": "code",
   "execution_count": null,
   "metadata": {},
   "outputs": [],
   "source": [
    "df_target = pd.DataFrame(cancer['target'],columns=['Cancer'])"
   ]
  },
  {
   "cell_type": "code",
   "execution_count": null,
   "metadata": {},
   "outputs": [
    {
     "data": {
      "text/html": [
       "<div>\n",
       "<style scoped>\n",
       "    .dataframe tbody tr th:only-of-type {\n",
       "        vertical-align: middle;\n",
       "    }\n",
       "\n",
       "    .dataframe tbody tr th {\n",
       "        vertical-align: top;\n",
       "    }\n",
       "\n",
       "    .dataframe thead th {\n",
       "        text-align: right;\n",
       "    }\n",
       "</style>\n",
       "<table border=\"1\" class=\"dataframe\">\n",
       "  <thead>\n",
       "    <tr style=\"text-align: right;\">\n",
       "      <th></th>\n",
       "      <th>Cancer</th>\n",
       "    </tr>\n",
       "  </thead>\n",
       "  <tbody>\n",
       "    <tr>\n",
       "      <th>0</th>\n",
       "      <td>0</td>\n",
       "    </tr>\n",
       "    <tr>\n",
       "      <th>1</th>\n",
       "      <td>0</td>\n",
       "    </tr>\n",
       "    <tr>\n",
       "      <th>2</th>\n",
       "      <td>0</td>\n",
       "    </tr>\n",
       "    <tr>\n",
       "      <th>3</th>\n",
       "      <td>0</td>\n",
       "    </tr>\n",
       "    <tr>\n",
       "      <th>4</th>\n",
       "      <td>0</td>\n",
       "    </tr>\n",
       "  </tbody>\n",
       "</table>\n",
       "</div>"
      ],
      "text/plain": [
       "   Cancer\n",
       "0       0\n",
       "1       0\n",
       "2       0\n",
       "3       0\n",
       "4       0"
      ]
     },
     "execution_count": 84,
     "metadata": {},
     "output_type": "execute_result"
    }
   ],
   "source": [
    "df_target.head()"
   ]
  },
  {
   "cell_type": "code",
   "execution_count": null,
   "metadata": {},
   "outputs": [],
   "source": [
    "from sklearn.model_selection import train_test_split\n",
    "X_train, X_test, y_train, y_test = train_test_split(df_feat, np.ravel(df_target), test_size=0.30, random_state=101)"
   ]
  },
  {
   "cell_type": "code",
   "execution_count": null,
   "metadata": {
    "tags": []
   },
   "outputs": [
    {
     "name": "stdout",
     "output_type": "stream",
     "text": [
      "[[  0  66]\n",
      " [  0 105]]\n",
      "              precision    recall  f1-score   support\n",
      "\n",
      "           0       0.00      0.00      0.00        66\n",
      "           1       0.61      1.00      0.76       105\n",
      "\n",
      "    accuracy                           0.61       171\n",
      "   macro avg       0.31      0.50      0.38       171\n",
      "weighted avg       0.38      0.61      0.47       171\n",
      "\n"
     ]
    }
   ],
   "source": [
    "from sklearn.svm import SVC\n",
    "model = SVC()\n",
    "model.fit(X_train,y_train)\n",
    "predictions = model.predict(X_test)\n",
    "from sklearn.metrics import classification_report,confusion_matrix\n",
    "print(confusion_matrix(y_test,predictions))\n",
    "print(classification_report(y_test,predictions))\n",
    "# grid search is needed to improve parameters!"
   ]
  },
  {
   "cell_type": "markdown",
   "metadata": {},
   "source": [
    "### K-Means Clustering (unsupervised learning)"
   ]
  },
  {
   "cell_type": "markdown",
   "metadata": {},
   "source": [
    "*create artificial data to test with clustering*"
   ]
  },
  {
   "cell_type": "code",
   "execution_count": null,
   "metadata": {},
   "outputs": [],
   "source": [
    "import seaborn as sns\n",
    "import matplotlib.pyplot as plt\n",
    "%matplotlib inline\n",
    "\n",
    "from sklearn.datasets import make_blobs\n",
    "data = make_blobs(n_samples=200, n_features=2, \n",
    "                           centers=4, cluster_std=1.8,random_state=101)"
   ]
  },
  {
   "cell_type": "code",
   "execution_count": null,
   "metadata": {},
   "outputs": [
    {
     "data": {
      "text/plain": [
       "<matplotlib.collections.PathCollection at 0x7fe768ddaf90>"
      ]
     },
     "execution_count": 88,
     "metadata": {},
     "output_type": "execute_result"
    },
    {
     "data": {
      "image/png": "[encoded data removed]",
      "image/svg+xml": "<?xml version=\"1.0\" encoding=\"utf-8\" standalone=\"no\"?>\n<!DOCTYPE svg PUBLIC \"-//W3C//DTD SVG 1.1//EN\"\n  \"http://www.w3.org/Graphics/SVG/1.1/DTD/svg11.dtd\">\n<!-- Created with matplotlib (https://matplotlib.org/) -->\n<svg height=\"248.518125pt\" version=\"1.1\" viewBox=\"0 0 377.304687 248.518125\" width=\"377.304687pt\" xmlns=\"http://www.w3.org/2000/svg\" xmlns:xlink=\"http://www.w3.org/1999/xlink\">\n <metadata>\n  <rdf:RDF xmlns:cc=\"http://creativecommons.org/ns#\" xmlns:dc=\"http://purl.org/dc/elements/1.1/\" xmlns:rdf=\"http://www.w3.org/1999/02/22-rdf-syntax-ns#\">\n   <cc:Work>\n    <dc:type rdf:resource=\"http://purl.org/dc/dcmitype/StillImage\"/>\n    <dc:date>2020-08-02T14:32:44.647065</dc:date>\n    <dc:format>image/svg+xml</dc:format>\n    <dc:creator>\n     <cc:Agent>\n      <dc:title>Matplotlib v3.3.0, https://matplotlib.org/</dc:title>\n     </cc:Agent>\n    </dc:creator>\n   </cc:Work>\n  </rdf:RDF>\n </metadata>\n <defs>\n  <style type=\"text/css\">*{stroke-linecap:butt;stroke-linejoin:round;}</style>\n </defs>\n <g id=\"figure_1\">\n  <g id=\"patch_1\">\n   <path d=\"M 0 248.518125 \nL 377.304687 248.518125 \nL 377.304687 0 \nL 0 0 \nz\n\" style=\"fill:none;\"/>\n  </g>\n  <g id=\"axes_1\">\n   <g id=\"patch_2\">\n    <path d=\"M 35.304688 224.64 \nL 370.104688 224.64 \nL 370.104688 7.2 \nL 35.304688 7.2 \nz\n\" style=\"fill:#ffffff;\"/>\n   </g>\n   <g id=\"PathCollection_1\">\n    <defs>\n     <path d=\"M 0 3 \nC 0.795609 3 1.55874 2.683901 2.12132 2.12132 \nC 2.683901 1.55874 3 0.795609 3 -0 \nC 3 -0.795609 2.683901 -1.55874 2.12132 -2.12132 \nC 1.55874 -2.683901 0.795609 -3 0 -3 \nC -0.795609 -3 -1.55874 -2.683901 -2.12132 -2.12132 \nC -2.683901 -1.55874 -3 -0.795609 -3 0 \nC -3 0.795609 -2.683901 1.55874 -2.12132 2.12132 \nC -1.55874 2.683901 -0.795609 3 0 3 \nz\n\" id=\"C0_0_266b52f7a8\"/>\n    </defs>\n    <g clip-path=\"url(#p79d59cebb2)\">\n     <use style=\"fill:#ff0000;stroke:#ff0000;\" x=\"155.095185\" xlink:href=\"#C0_0_266b52f7a8\" y=\"28.442506\"/>\n    </g>\n    <g clip-path=\"url(#p79d59cebb2)\">\n     <use style=\"fill:#d4dd80;stroke:#d4dd80;\" x=\"317.297151\" xlink:href=\"#C0_0_266b52f7a8\" y=\"73.300585\"/>\n    </g>\n    <g clip-path=\"url(#p79d59cebb2)\">\n     <use style=\"fill:#8000ff;stroke:#8000ff;\" x=\"234.929572\" xlink:href=\"#C0_0_266b52f7a8\" y=\"90.888027\"/>\n    </g>\n    <g clip-path=\"url(#p79d59cebb2)\">\n     <use style=\"fill:#d4dd80;stroke:#d4dd80;\" x=\"268.469959\" xlink:href=\"#C0_0_266b52f7a8\" y=\"33.692086\"/>\n    </g>\n    <g clip-path=\"url(#p79d59cebb2)\">\n     <use style=\"fill:#d4dd80;stroke:#d4dd80;\" x=\"307.093603\" xlink:href=\"#C0_0_266b52f7a8\" y=\"55.08114\"/>\n    </g>\n    <g clip-path=\"url(#p79d59cebb2)\">\n     <use style=\"fill:#2adddd;stroke:#2adddd;\" x=\"96.399902\" xlink:href=\"#C0_0_266b52f7a8\" y=\"176.04059\"/>\n    </g>\n    <g clip-path=\"url(#p79d59cebb2)\">\n     <use style=\"fill:#d4dd80;stroke:#d4dd80;\" x=\"266.719193\" xlink:href=\"#C0_0_266b52f7a8\" y=\"31.8429\"/>\n    </g>\n    <g clip-path=\"url(#p79d59cebb2)\">\n     <use style=\"fill:#8000ff;stroke:#8000ff;\" x=\"217.23045\" xlink:href=\"#C0_0_266b52f7a8\" y=\"107.689492\"/>\n    </g>\n    <g clip-path=\"url(#p79d59cebb2)\">\n     <use style=\"fill:#d4dd80;stroke:#d4dd80;\" x=\"255.310769\" xlink:href=\"#C0_0_266b52f7a8\" y=\"45.655134\"/>\n    </g>\n    <g clip-path=\"url(#p79d59cebb2)\">\n     <use style=\"fill:#8000ff;stroke:#8000ff;\" x=\"222.059679\" xlink:href=\"#C0_0_266b52f7a8\" y=\"92.085081\"/>\n    </g>\n    <g clip-path=\"url(#p79d59cebb2)\">\n     <use style=\"fill:#ff0000;stroke:#ff0000;\" x=\"158.305042\" xlink:href=\"#C0_0_266b52f7a8\" y=\"32.683597\"/>\n    </g>\n    <g clip-path=\"url(#p79d59cebb2)\">\n     <use style=\"fill:#8000ff;stroke:#8000ff;\" x=\"224.081525\" xlink:href=\"#C0_0_266b52f7a8\" y=\"97.790977\"/>\n    </g>\n    <g clip-path=\"url(#p79d59cebb2)\">\n     <use style=\"fill:#d4dd80;stroke:#d4dd80;\" x=\"278.179992\" xlink:href=\"#C0_0_266b52f7a8\" y=\"48.679503\"/>\n    </g>\n    <g clip-path=\"url(#p79d59cebb2)\">\n     <use style=\"fill:#d4dd80;stroke:#d4dd80;\" x=\"271.44701\" xlink:href=\"#C0_0_266b52f7a8\" y=\"71.660308\"/>\n    </g>\n    <g clip-path=\"url(#p79d59cebb2)\">\n     <use style=\"fill:#ff0000;stroke:#ff0000;\" x=\"170.308175\" xlink:href=\"#C0_0_266b52f7a8\" y=\"33.007763\"/>\n    </g>\n    <g clip-path=\"url(#p79d59cebb2)\">\n     <use style=\"fill:#8000ff;stroke:#8000ff;\" x=\"232.414205\" xlink:href=\"#C0_0_266b52f7a8\" y=\"120.020754\"/>\n    </g>\n    <g clip-path=\"url(#p79d59cebb2)\">\n     <use style=\"fill:#d4dd80;stroke:#d4dd80;\" x=\"318.677958\" xlink:href=\"#C0_0_266b52f7a8\" y=\"67.211012\"/>\n    </g>\n    <g clip-path=\"url(#p79d59cebb2)\">\n     <use style=\"fill:#8000ff;stroke:#8000ff;\" x=\"209.375061\" xlink:href=\"#C0_0_266b52f7a8\" y=\"115.771473\"/>\n    </g>\n    <g clip-path=\"url(#p79d59cebb2)\">\n     <use style=\"fill:#2adddd;stroke:#2adddd;\" x=\"106.218564\" xlink:href=\"#C0_0_266b52f7a8\" y=\"151.687697\"/>\n    </g>\n    <g clip-path=\"url(#p79d59cebb2)\">\n     <use style=\"fill:#ff0000;stroke:#ff0000;\" x=\"179.997742\" xlink:href=\"#C0_0_266b52f7a8\" y=\"17.083636\"/>\n    </g>\n    <g clip-path=\"url(#p79d59cebb2)\">\n     <use style=\"fill:#2adddd;stroke:#2adddd;\" x=\"102.510807\" xlink:href=\"#C0_0_266b52f7a8\" y=\"172.065829\"/>\n    </g>\n    <g clip-path=\"url(#p79d59cebb2)\">\n     <use style=\"fill:#8000ff;stroke:#8000ff;\" x=\"248.658927\" xlink:href=\"#C0_0_266b52f7a8\" y=\"119.673839\"/>\n    </g>\n    <g clip-path=\"url(#p79d59cebb2)\">\n     <use style=\"fill:#8000ff;stroke:#8000ff;\" x=\"267.781622\" xlink:href=\"#C0_0_266b52f7a8\" y=\"88.208305\"/>\n    </g>\n    <g clip-path=\"url(#p79d59cebb2)\">\n     <use style=\"fill:#2adddd;stroke:#2adddd;\" x=\"92.441193\" xlink:href=\"#C0_0_266b52f7a8\" y=\"205.067369\"/>\n    </g>\n    <g clip-path=\"url(#p79d59cebb2)\">\n     <use style=\"fill:#ff0000;stroke:#ff0000;\" x=\"152.349838\" xlink:href=\"#C0_0_266b52f7a8\" y=\"62.46602\"/>\n    </g>\n    <g clip-path=\"url(#p79d59cebb2)\">\n     <use style=\"fill:#2adddd;stroke:#2adddd;\" x=\"138.66887\" xlink:href=\"#C0_0_266b52f7a8\" y=\"186.530596\"/>\n    </g>\n    <g clip-path=\"url(#p79d59cebb2)\">\n     <use style=\"fill:#2adddd;stroke:#2adddd;\" x=\"134.547548\" xlink:href=\"#C0_0_266b52f7a8\" y=\"207.440727\"/>\n    </g>\n    <g clip-path=\"url(#p79d59cebb2)\">\n     <use style=\"fill:#8000ff;stroke:#8000ff;\" x=\"256.77119\" xlink:href=\"#C0_0_266b52f7a8\" y=\"117.322698\"/>\n    </g>\n    <g clip-path=\"url(#p79d59cebb2)\">\n     <use style=\"fill:#d4dd80;stroke:#d4dd80;\" x=\"286.645659\" xlink:href=\"#C0_0_266b52f7a8\" y=\"48.472041\"/>\n    </g>\n    <g clip-path=\"url(#p79d59cebb2)\">\n     <use style=\"fill:#d4dd80;stroke:#d4dd80;\" x=\"293.169331\" xlink:href=\"#C0_0_266b52f7a8\" y=\"76.137344\"/>\n    </g>\n    <g clip-path=\"url(#p79d59cebb2)\">\n     <use style=\"fill:#ff0000;stroke:#ff0000;\" x=\"201.888045\" xlink:href=\"#C0_0_266b52f7a8\" y=\"37.631335\"/>\n    </g>\n    <g clip-path=\"url(#p79d59cebb2)\">\n     <use style=\"fill:#2adddd;stroke:#2adddd;\" x=\"119.729896\" xlink:href=\"#C0_0_266b52f7a8\" y=\"190.429969\"/>\n    </g>\n    <g clip-path=\"url(#p79d59cebb2)\">\n     <use style=\"fill:#d4dd80;stroke:#d4dd80;\" x=\"309.268946\" xlink:href=\"#C0_0_266b52f7a8\" y=\"77.486987\"/>\n    </g>\n    <g clip-path=\"url(#p79d59cebb2)\">\n     <use style=\"fill:#8000ff;stroke:#8000ff;\" x=\"267.042893\" xlink:href=\"#C0_0_266b52f7a8\" y=\"142.693604\"/>\n    </g>\n    <g clip-path=\"url(#p79d59cebb2)\">\n     <use style=\"fill:#8000ff;stroke:#8000ff;\" x=\"217.297578\" xlink:href=\"#C0_0_266b52f7a8\" y=\"97.717219\"/>\n    </g>\n    <g clip-path=\"url(#p79d59cebb2)\">\n     <use style=\"fill:#ff0000;stroke:#ff0000;\" x=\"168.591235\" xlink:href=\"#C0_0_266b52f7a8\" y=\"52.677008\"/>\n    </g>\n    <g clip-path=\"url(#p79d59cebb2)\">\n     <use style=\"fill:#2adddd;stroke:#2adddd;\" x=\"92.170931\" xlink:href=\"#C0_0_266b52f7a8\" y=\"143.710055\"/>\n    </g>\n    <g clip-path=\"url(#p79d59cebb2)\">\n     <use style=\"fill:#2adddd;stroke:#2adddd;\" x=\"89.851479\" xlink:href=\"#C0_0_266b52f7a8\" y=\"165.435139\"/>\n    </g>\n    <g clip-path=\"url(#p79d59cebb2)\">\n     <use style=\"fill:#2adddd;stroke:#2adddd;\" x=\"84.485606\" xlink:href=\"#C0_0_266b52f7a8\" y=\"206.874981\"/>\n    </g>\n    <g clip-path=\"url(#p79d59cebb2)\">\n     <use style=\"fill:#d4dd80;stroke:#d4dd80;\" x=\"262.948219\" xlink:href=\"#C0_0_266b52f7a8\" y=\"101.86027\"/>\n    </g>\n    <g clip-path=\"url(#p79d59cebb2)\">\n     <use style=\"fill:#2adddd;stroke:#2adddd;\" x=\"121.130335\" xlink:href=\"#C0_0_266b52f7a8\" y=\"176.903076\"/>\n    </g>\n    <g clip-path=\"url(#p79d59cebb2)\">\n     <use style=\"fill:#ff0000;stroke:#ff0000;\" x=\"202.093056\" xlink:href=\"#C0_0_266b52f7a8\" y=\"52.158886\"/>\n    </g>\n    <g clip-path=\"url(#p79d59cebb2)\">\n     <use style=\"fill:#ff0000;stroke:#ff0000;\" x=\"221.062945\" xlink:href=\"#C0_0_266b52f7a8\" y=\"44.841326\"/>\n    </g>\n    <g clip-path=\"url(#p79d59cebb2)\">\n     <use style=\"fill:#ff0000;stroke:#ff0000;\" x=\"198.878851\" xlink:href=\"#C0_0_266b52f7a8\" y=\"28.233389\"/>\n    </g>\n    <g clip-path=\"url(#p79d59cebb2)\">\n     <use style=\"fill:#8000ff;stroke:#8000ff;\" x=\"243.466539\" xlink:href=\"#C0_0_266b52f7a8\" y=\"97.074077\"/>\n    </g>\n    <g clip-path=\"url(#p79d59cebb2)\">\n     <use style=\"fill:#ff0000;stroke:#ff0000;\" x=\"250.72656\" xlink:href=\"#C0_0_266b52f7a8\" y=\"59.057145\"/>\n    </g>\n    <g clip-path=\"url(#p79d59cebb2)\">\n     <use style=\"fill:#ff0000;stroke:#ff0000;\" x=\"185.614907\" xlink:href=\"#C0_0_266b52f7a8\" y=\"47.647012\"/>\n    </g>\n    <g clip-path=\"url(#p79d59cebb2)\">\n     <use style=\"fill:#8000ff;stroke:#8000ff;\" x=\"260.38932\" xlink:href=\"#C0_0_266b52f7a8\" y=\"90.77636\"/>\n    </g>\n    <g clip-path=\"url(#p79d59cebb2)\">\n     <use style=\"fill:#2adddd;stroke:#2adddd;\" x=\"86.168131\" xlink:href=\"#C0_0_266b52f7a8\" y=\"193.235141\"/>\n    </g>\n    <g clip-path=\"url(#p79d59cebb2)\">\n     <use style=\"fill:#d4dd80;stroke:#d4dd80;\" x=\"223.797543\" xlink:href=\"#C0_0_266b52f7a8\" y=\"75.992438\"/>\n    </g>\n    <g clip-path=\"url(#p79d59cebb2)\">\n     <use style=\"fill:#8000ff;stroke:#8000ff;\" x=\"282.363902\" xlink:href=\"#C0_0_266b52f7a8\" y=\"125.931766\"/>\n    </g>\n    <g clip-path=\"url(#p79d59cebb2)\">\n     <use style=\"fill:#ff0000;stroke:#ff0000;\" x=\"168.605668\" xlink:href=\"#C0_0_266b52f7a8\" y=\"55.149761\"/>\n    </g>\n    <g clip-path=\"url(#p79d59cebb2)\">\n     <use style=\"fill:#d4dd80;stroke:#d4dd80;\" x=\"319.397953\" xlink:href=\"#C0_0_266b52f7a8\" y=\"84.053246\"/>\n    </g>\n    <g clip-path=\"url(#p79d59cebb2)\">\n     <use style=\"fill:#8000ff;stroke:#8000ff;\" x=\"245.200608\" xlink:href=\"#C0_0_266b52f7a8\" y=\"114.414184\"/>\n    </g>\n    <g clip-path=\"url(#p79d59cebb2)\">\n     <use style=\"fill:#2adddd;stroke:#2adddd;\" x=\"142.419656\" xlink:href=\"#C0_0_266b52f7a8\" y=\"171.551619\"/>\n    </g>\n    <g clip-path=\"url(#p79d59cebb2)\">\n     <use style=\"fill:#ff0000;stroke:#ff0000;\" x=\"218.715764\" xlink:href=\"#C0_0_266b52f7a8\" y=\"66.180222\"/>\n    </g>\n    <g clip-path=\"url(#p79d59cebb2)\">\n     <use style=\"fill:#8000ff;stroke:#8000ff;\" x=\"251.40206\" xlink:href=\"#C0_0_266b52f7a8\" y=\"80.011576\"/>\n    </g>\n    <g clip-path=\"url(#p79d59cebb2)\">\n     <use style=\"fill:#8000ff;stroke:#8000ff;\" x=\"253.534616\" xlink:href=\"#C0_0_266b52f7a8\" y=\"104.075217\"/>\n    </g>\n    <g clip-path=\"url(#p79d59cebb2)\">\n     <use style=\"fill:#ff0000;stroke:#ff0000;\" x=\"188.589534\" xlink:href=\"#C0_0_266b52f7a8\" y=\"72.469505\"/>\n    </g>\n    <g clip-path=\"url(#p79d59cebb2)\">\n     <use style=\"fill:#d4dd80;stroke:#d4dd80;\" x=\"281.680392\" xlink:href=\"#C0_0_266b52f7a8\" y=\"59.413794\"/>\n    </g>\n    <g clip-path=\"url(#p79d59cebb2)\">\n     <use style=\"fill:#2adddd;stroke:#2adddd;\" x=\"133.40776\" xlink:href=\"#C0_0_266b52f7a8\" y=\"192.80384\"/>\n    </g>\n    <g clip-path=\"url(#p79d59cebb2)\">\n     <use style=\"fill:#d4dd80;stroke:#d4dd80;\" x=\"251.973988\" xlink:href=\"#C0_0_266b52f7a8\" y=\"52.775901\"/>\n    </g>\n    <g clip-path=\"url(#p79d59cebb2)\">\n     <use style=\"fill:#2adddd;stroke:#2adddd;\" x=\"142.33217\" xlink:href=\"#C0_0_266b52f7a8\" y=\"165.510349\"/>\n    </g>\n    <g clip-path=\"url(#p79d59cebb2)\">\n     <use style=\"fill:#ff0000;stroke:#ff0000;\" x=\"217.252355\" xlink:href=\"#C0_0_266b52f7a8\" y=\"43.477315\"/>\n    </g>\n    <g clip-path=\"url(#p79d59cebb2)\">\n     <use style=\"fill:#d4dd80;stroke:#d4dd80;\" x=\"275.687041\" xlink:href=\"#C0_0_266b52f7a8\" y=\"44.492383\"/>\n    </g>\n    <g clip-path=\"url(#p79d59cebb2)\">\n     <use style=\"fill:#8000ff;stroke:#8000ff;\" x=\"211.325093\" xlink:href=\"#C0_0_266b52f7a8\" y=\"129.428781\"/>\n    </g>\n    <g clip-path=\"url(#p79d59cebb2)\">\n     <use style=\"fill:#2adddd;stroke:#2adddd;\" x=\"82.305947\" xlink:href=\"#C0_0_266b52f7a8\" y=\"183.769467\"/>\n    </g>\n    <g clip-path=\"url(#p79d59cebb2)\">\n     <use style=\"fill:#d4dd80;stroke:#d4dd80;\" x=\"304.459683\" xlink:href=\"#C0_0_266b52f7a8\" y=\"65.331703\"/>\n    </g>\n    <g clip-path=\"url(#p79d59cebb2)\">\n     <use style=\"fill:#d4dd80;stroke:#d4dd80;\" x=\"277.6367\" xlink:href=\"#C0_0_266b52f7a8\" y=\"45.831823\"/>\n    </g>\n    <g clip-path=\"url(#p79d59cebb2)\">\n     <use style=\"fill:#2adddd;stroke:#2adddd;\" x=\"119.151828\" xlink:href=\"#C0_0_266b52f7a8\" y=\"177.444785\"/>\n    </g>\n    <g clip-path=\"url(#p79d59cebb2)\">\n     <use style=\"fill:#d4dd80;stroke:#d4dd80;\" x=\"266.728629\" xlink:href=\"#C0_0_266b52f7a8\" y=\"46.047465\"/>\n    </g>\n    <g clip-path=\"url(#p79d59cebb2)\">\n     <use style=\"fill:#8000ff;stroke:#8000ff;\" x=\"249.869809\" xlink:href=\"#C0_0_266b52f7a8\" y=\"75.060194\"/>\n    </g>\n    <g clip-path=\"url(#p79d59cebb2)\">\n     <use style=\"fill:#2adddd;stroke:#2adddd;\" x=\"123.287244\" xlink:href=\"#C0_0_266b52f7a8\" y=\"169.16037\"/>\n    </g>\n    <g clip-path=\"url(#p79d59cebb2)\">\n     <use style=\"fill:#ff0000;stroke:#ff0000;\" x=\"199.97134\" xlink:href=\"#C0_0_266b52f7a8\" y=\"85.109283\"/>\n    </g>\n    <g clip-path=\"url(#p79d59cebb2)\">\n     <use style=\"fill:#2adddd;stroke:#2adddd;\" x=\"122.759865\" xlink:href=\"#C0_0_266b52f7a8\" y=\"176.210094\"/>\n    </g>\n    <g clip-path=\"url(#p79d59cebb2)\">\n     <use style=\"fill:#d4dd80;stroke:#d4dd80;\" x=\"308.574714\" xlink:href=\"#C0_0_266b52f7a8\" y=\"62.18547\"/>\n    </g>\n    <g clip-path=\"url(#p79d59cebb2)\">\n     <use style=\"fill:#d4dd80;stroke:#d4dd80;\" x=\"281.993283\" xlink:href=\"#C0_0_266b52f7a8\" y=\"25.720242\"/>\n    </g>\n    <g clip-path=\"url(#p79d59cebb2)\">\n     <use style=\"fill:#8000ff;stroke:#8000ff;\" x=\"240.357436\" xlink:href=\"#C0_0_266b52f7a8\" y=\"99.754937\"/>\n    </g>\n    <g clip-path=\"url(#p79d59cebb2)\">\n     <use style=\"fill:#ff0000;stroke:#ff0000;\" x=\"148.252742\" xlink:href=\"#C0_0_266b52f7a8\" y=\"26.978478\"/>\n    </g>\n    <g clip-path=\"url(#p79d59cebb2)\">\n     <use style=\"fill:#8000ff;stroke:#8000ff;\" x=\"196.301615\" xlink:href=\"#C0_0_266b52f7a8\" y=\"95.598185\"/>\n    </g>\n    <g clip-path=\"url(#p79d59cebb2)\">\n     <use style=\"fill:#8000ff;stroke:#8000ff;\" x=\"230.717215\" xlink:href=\"#C0_0_266b52f7a8\" y=\"84.692534\"/>\n    </g>\n    <g clip-path=\"url(#p79d59cebb2)\">\n     <use style=\"fill:#2adddd;stroke:#2adddd;\" x=\"129.958948\" xlink:href=\"#C0_0_266b52f7a8\" y=\"175.502431\"/>\n    </g>\n    <g clip-path=\"url(#p79d59cebb2)\">\n     <use style=\"fill:#d4dd80;stroke:#d4dd80;\" x=\"312.603712\" xlink:href=\"#C0_0_266b52f7a8\" y=\"43.023443\"/>\n    </g>\n    <g clip-path=\"url(#p79d59cebb2)\">\n     <use style=\"fill:#2adddd;stroke:#2adddd;\" x=\"157.099396\" xlink:href=\"#C0_0_266b52f7a8\" y=\"168.81612\"/>\n    </g>\n    <g clip-path=\"url(#p79d59cebb2)\">\n     <use style=\"fill:#8000ff;stroke:#8000ff;\" x=\"248.69622\" xlink:href=\"#C0_0_266b52f7a8\" y=\"120.099249\"/>\n    </g>\n    <g clip-path=\"url(#p79d59cebb2)\">\n     <use style=\"fill:#8000ff;stroke:#8000ff;\" x=\"226.283603\" xlink:href=\"#C0_0_266b52f7a8\" y=\"113.357694\"/>\n    </g>\n    <g clip-path=\"url(#p79d59cebb2)\">\n     <use style=\"fill:#8000ff;stroke:#8000ff;\" x=\"220.351474\" xlink:href=\"#C0_0_266b52f7a8\" y=\"119.820038\"/>\n    </g>\n    <g clip-path=\"url(#p79d59cebb2)\">\n     <use style=\"fill:#ff0000;stroke:#ff0000;\" x=\"169.235642\" xlink:href=\"#C0_0_266b52f7a8\" y=\"57.118453\"/>\n    </g>\n    <g clip-path=\"url(#p79d59cebb2)\">\n     <use style=\"fill:#d4dd80;stroke:#d4dd80;\" x=\"264.321881\" xlink:href=\"#C0_0_266b52f7a8\" y=\"84.81388\"/>\n    </g>\n    <g clip-path=\"url(#p79d59cebb2)\">\n     <use style=\"fill:#2adddd;stroke:#2adddd;\" x=\"102.861931\" xlink:href=\"#C0_0_266b52f7a8\" y=\"145.570572\"/>\n    </g>\n    <g clip-path=\"url(#p79d59cebb2)\">\n     <use style=\"fill:#2adddd;stroke:#2adddd;\" x=\"129.436394\" xlink:href=\"#C0_0_266b52f7a8\" y=\"206.685769\"/>\n    </g>\n    <g clip-path=\"url(#p79d59cebb2)\">\n     <use style=\"fill:#2adddd;stroke:#2adddd;\" x=\"131.589474\" xlink:href=\"#C0_0_266b52f7a8\" y=\"179.758139\"/>\n    </g>\n    <g clip-path=\"url(#p79d59cebb2)\">\n     <use style=\"fill:#2adddd;stroke:#2adddd;\" x=\"110.617814\" xlink:href=\"#C0_0_266b52f7a8\" y=\"139.420555\"/>\n    </g>\n    <g clip-path=\"url(#p79d59cebb2)\">\n     <use style=\"fill:#ff0000;stroke:#ff0000;\" x=\"231.679808\" xlink:href=\"#C0_0_266b52f7a8\" y=\"70.503578\"/>\n    </g>\n    <g clip-path=\"url(#p79d59cebb2)\">\n     <use style=\"fill:#8000ff;stroke:#8000ff;\" x=\"243.476479\" xlink:href=\"#C0_0_266b52f7a8\" y=\"75.987282\"/>\n    </g>\n    <g clip-path=\"url(#p79d59cebb2)\">\n     <use style=\"fill:#2adddd;stroke:#2adddd;\" x=\"124.845077\" xlink:href=\"#C0_0_266b52f7a8\" y=\"190.490466\"/>\n    </g>\n    <g clip-path=\"url(#p79d59cebb2)\">\n     <use style=\"fill:#d4dd80;stroke:#d4dd80;\" x=\"310.620548\" xlink:href=\"#C0_0_266b52f7a8\" y=\"37.838454\"/>\n    </g>\n    <g clip-path=\"url(#p79d59cebb2)\">\n     <use style=\"fill:#ff0000;stroke:#ff0000;\" x=\"187.753161\" xlink:href=\"#C0_0_266b52f7a8\" y=\"56.22253\"/>\n    </g>\n    <g clip-path=\"url(#p79d59cebb2)\">\n     <use style=\"fill:#2adddd;stroke:#2adddd;\" x=\"130.91551\" xlink:href=\"#C0_0_266b52f7a8\" y=\"174.317949\"/>\n    </g>\n    <g clip-path=\"url(#p79d59cebb2)\">\n     <use style=\"fill:#d4dd80;stroke:#d4dd80;\" x=\"340.176445\" xlink:href=\"#C0_0_266b52f7a8\" y=\"80.603156\"/>\n    </g>\n    <g clip-path=\"url(#p79d59cebb2)\">\n     <use style=\"fill:#8000ff;stroke:#8000ff;\" x=\"219.363996\" xlink:href=\"#C0_0_266b52f7a8\" y=\"86.565241\"/>\n    </g>\n    <g clip-path=\"url(#p79d59cebb2)\">\n     <use style=\"fill:#2adddd;stroke:#2adddd;\" x=\"97.191043\" xlink:href=\"#C0_0_266b52f7a8\" y=\"178.379079\"/>\n    </g>\n    <g clip-path=\"url(#p79d59cebb2)\">\n     <use style=\"fill:#8000ff;stroke:#8000ff;\" x=\"257.482394\" xlink:href=\"#C0_0_266b52f7a8\" y=\"90.944955\"/>\n    </g>\n    <g clip-path=\"url(#p79d59cebb2)\">\n     <use style=\"fill:#8000ff;stroke:#8000ff;\" x=\"197.38336\" xlink:href=\"#C0_0_266b52f7a8\" y=\"121.864721\"/>\n    </g>\n    <g clip-path=\"url(#p79d59cebb2)\">\n     <use style=\"fill:#d4dd80;stroke:#d4dd80;\" x=\"240.034501\" xlink:href=\"#C0_0_266b52f7a8\" y=\"62.613943\"/>\n    </g>\n    <g clip-path=\"url(#p79d59cebb2)\">\n     <use style=\"fill:#8000ff;stroke:#8000ff;\" x=\"223.912506\" xlink:href=\"#C0_0_266b52f7a8\" y=\"82.491644\"/>\n    </g>\n    <g clip-path=\"url(#p79d59cebb2)\">\n     <use style=\"fill:#2adddd;stroke:#2adddd;\" x=\"114.686201\" xlink:href=\"#C0_0_266b52f7a8\" y=\"168.932795\"/>\n    </g>\n    <g clip-path=\"url(#p79d59cebb2)\">\n     <use style=\"fill:#d4dd80;stroke:#d4dd80;\" x=\"354.886506\" xlink:href=\"#C0_0_266b52f7a8\" y=\"34.984405\"/>\n    </g>\n    <g clip-path=\"url(#p79d59cebb2)\">\n     <use style=\"fill:#2adddd;stroke:#2adddd;\" x=\"117.439165\" xlink:href=\"#C0_0_266b52f7a8\" y=\"186.971133\"/>\n    </g>\n    <g clip-path=\"url(#p79d59cebb2)\">\n     <use style=\"fill:#2adddd;stroke:#2adddd;\" x=\"114.41923\" xlink:href=\"#C0_0_266b52f7a8\" y=\"179.981812\"/>\n    </g>\n    <g clip-path=\"url(#p79d59cebb2)\">\n     <use style=\"fill:#8000ff;stroke:#8000ff;\" x=\"306.08627\" xlink:href=\"#C0_0_266b52f7a8\" y=\"96.523528\"/>\n    </g>\n    <g clip-path=\"url(#p79d59cebb2)\">\n     <use style=\"fill:#ff0000;stroke:#ff0000;\" x=\"204.285315\" xlink:href=\"#C0_0_266b52f7a8\" y=\"53.90986\"/>\n    </g>\n    <g clip-path=\"url(#p79d59cebb2)\">\n     <use style=\"fill:#ff0000;stroke:#ff0000;\" x=\"184.322495\" xlink:href=\"#C0_0_266b52f7a8\" y=\"59.703876\"/>\n    </g>\n    <g clip-path=\"url(#p79d59cebb2)\">\n     <use style=\"fill:#d4dd80;stroke:#d4dd80;\" x=\"270.581301\" xlink:href=\"#C0_0_266b52f7a8\" y=\"44.161328\"/>\n    </g>\n    <g clip-path=\"url(#p79d59cebb2)\">\n     <use style=\"fill:#2adddd;stroke:#2adddd;\" x=\"116.777677\" xlink:href=\"#C0_0_266b52f7a8\" y=\"214.756364\"/>\n    </g>\n    <g clip-path=\"url(#p79d59cebb2)\">\n     <use style=\"fill:#d4dd80;stroke:#d4dd80;\" x=\"293.852028\" xlink:href=\"#C0_0_266b52f7a8\" y=\"63.821247\"/>\n    </g>\n    <g clip-path=\"url(#p79d59cebb2)\">\n     <use style=\"fill:#ff0000;stroke:#ff0000;\" x=\"194.467588\" xlink:href=\"#C0_0_266b52f7a8\" y=\"46.504773\"/>\n    </g>\n    <g clip-path=\"url(#p79d59cebb2)\">\n     <use style=\"fill:#ff0000;stroke:#ff0000;\" x=\"153.331591\" xlink:href=\"#C0_0_266b52f7a8\" y=\"31.746133\"/>\n    </g>\n    <g clip-path=\"url(#p79d59cebb2)\">\n     <use style=\"fill:#d4dd80;stroke:#d4dd80;\" x=\"255.72878\" xlink:href=\"#C0_0_266b52f7a8\" y=\"57.479445\"/>\n    </g>\n    <g clip-path=\"url(#p79d59cebb2)\">\n     <use style=\"fill:#ff0000;stroke:#ff0000;\" x=\"224.812702\" xlink:href=\"#C0_0_266b52f7a8\" y=\"46.189783\"/>\n    </g>\n    <g clip-path=\"url(#p79d59cebb2)\">\n     <use style=\"fill:#8000ff;stroke:#8000ff;\" x=\"253.381281\" xlink:href=\"#C0_0_266b52f7a8\" y=\"73.632193\"/>\n    </g>\n    <g clip-path=\"url(#p79d59cebb2)\">\n     <use style=\"fill:#ff0000;stroke:#ff0000;\" x=\"181.645171\" xlink:href=\"#C0_0_266b52f7a8\" y=\"62.808561\"/>\n    </g>\n    <g clip-path=\"url(#p79d59cebb2)\">\n     <use style=\"fill:#8000ff;stroke:#8000ff;\" x=\"220.634556\" xlink:href=\"#C0_0_266b52f7a8\" y=\"104.478794\"/>\n    </g>\n    <g clip-path=\"url(#p79d59cebb2)\">\n     <use style=\"fill:#ff0000;stroke:#ff0000;\" x=\"160.604656\" xlink:href=\"#C0_0_266b52f7a8\" y=\"51.418787\"/>\n    </g>\n    <g clip-path=\"url(#p79d59cebb2)\">\n     <use style=\"fill:#8000ff;stroke:#8000ff;\" x=\"235.277102\" xlink:href=\"#C0_0_266b52f7a8\" y=\"103.930634\"/>\n    </g>\n    <g clip-path=\"url(#p79d59cebb2)\">\n     <use style=\"fill:#d4dd80;stroke:#d4dd80;\" x=\"310.200337\" xlink:href=\"#C0_0_266b52f7a8\" y=\"68.682239\"/>\n    </g>\n    <g clip-path=\"url(#p79d59cebb2)\">\n     <use style=\"fill:#ff0000;stroke:#ff0000;\" x=\"158.54813\" xlink:href=\"#C0_0_266b52f7a8\" y=\"28.176801\"/>\n    </g>\n    <g clip-path=\"url(#p79d59cebb2)\">\n     <use style=\"fill:#8000ff;stroke:#8000ff;\" x=\"203.710968\" xlink:href=\"#C0_0_266b52f7a8\" y=\"126.641293\"/>\n    </g>\n    <g clip-path=\"url(#p79d59cebb2)\">\n     <use style=\"fill:#2adddd;stroke:#2adddd;\" x=\"109.523213\" xlink:href=\"#C0_0_266b52f7a8\" y=\"189.634211\"/>\n    </g>\n    <g clip-path=\"url(#p79d59cebb2)\">\n     <use style=\"fill:#ff0000;stroke:#ff0000;\" x=\"209.47318\" xlink:href=\"#C0_0_266b52f7a8\" y=\"60.923559\"/>\n    </g>\n    <g clip-path=\"url(#p79d59cebb2)\">\n     <use style=\"fill:#ff0000;stroke:#ff0000;\" x=\"184.650106\" xlink:href=\"#C0_0_266b52f7a8\" y=\"58.904867\"/>\n    </g>\n    <g clip-path=\"url(#p79d59cebb2)\">\n     <use style=\"fill:#ff0000;stroke:#ff0000;\" x=\"191.962286\" xlink:href=\"#C0_0_266b52f7a8\" y=\"41.427488\"/>\n    </g>\n    <g clip-path=\"url(#p79d59cebb2)\">\n     <use style=\"fill:#8000ff;stroke:#8000ff;\" x=\"248.178873\" xlink:href=\"#C0_0_266b52f7a8\" y=\"104.679799\"/>\n    </g>\n    <g clip-path=\"url(#p79d59cebb2)\">\n     <use style=\"fill:#2adddd;stroke:#2adddd;\" x=\"123.358964\" xlink:href=\"#C0_0_266b52f7a8\" y=\"197.560371\"/>\n    </g>\n    <g clip-path=\"url(#p79d59cebb2)\">\n     <use style=\"fill:#2adddd;stroke:#2adddd;\" x=\"50.522869\" xlink:href=\"#C0_0_266b52f7a8\" y=\"155.29855\"/>\n    </g>\n    <g clip-path=\"url(#p79d59cebb2)\">\n     <use style=\"fill:#ff0000;stroke:#ff0000;\" x=\"185.744387\" xlink:href=\"#C0_0_266b52f7a8\" y=\"60.660835\"/>\n    </g>\n    <g clip-path=\"url(#p79d59cebb2)\">\n     <use style=\"fill:#d4dd80;stroke:#d4dd80;\" x=\"285.634082\" xlink:href=\"#C0_0_266b52f7a8\" y=\"81.71219\"/>\n    </g>\n    <g clip-path=\"url(#p79d59cebb2)\">\n     <use style=\"fill:#ff0000;stroke:#ff0000;\" x=\"189.289775\" xlink:href=\"#C0_0_266b52f7a8\" y=\"84.292779\"/>\n    </g>\n    <g clip-path=\"url(#p79d59cebb2)\">\n     <use style=\"fill:#d4dd80;stroke:#d4dd80;\" x=\"290.919091\" xlink:href=\"#C0_0_266b52f7a8\" y=\"38.28667\"/>\n    </g>\n    <g clip-path=\"url(#p79d59cebb2)\">\n     <use style=\"fill:#8000ff;stroke:#8000ff;\" x=\"260.035807\" xlink:href=\"#C0_0_266b52f7a8\" y=\"116.492929\"/>\n    </g>\n    <g clip-path=\"url(#p79d59cebb2)\">\n     <use style=\"fill:#2adddd;stroke:#2adddd;\" x=\"106.404481\" xlink:href=\"#C0_0_266b52f7a8\" y=\"186.875145\"/>\n    </g>\n    <g clip-path=\"url(#p79d59cebb2)\">\n     <use style=\"fill:#d4dd80;stroke:#d4dd80;\" x=\"309.872822\" xlink:href=\"#C0_0_266b52f7a8\" y=\"89.952836\"/>\n    </g>\n    <g clip-path=\"url(#p79d59cebb2)\">\n     <use style=\"fill:#2adddd;stroke:#2adddd;\" x=\"111.371274\" xlink:href=\"#C0_0_266b52f7a8\" y=\"167.433447\"/>\n    </g>\n    <g clip-path=\"url(#p79d59cebb2)\">\n     <use style=\"fill:#ff0000;stroke:#ff0000;\" x=\"233.008802\" xlink:href=\"#C0_0_266b52f7a8\" y=\"40.835697\"/>\n    </g>\n    <g clip-path=\"url(#p79d59cebb2)\">\n     <use style=\"fill:#ff0000;stroke:#ff0000;\" x=\"222.377801\" xlink:href=\"#C0_0_266b52f7a8\" y=\"48.048413\"/>\n    </g>\n    <g clip-path=\"url(#p79d59cebb2)\">\n     <use style=\"fill:#d4dd80;stroke:#d4dd80;\" x=\"269.704923\" xlink:href=\"#C0_0_266b52f7a8\" y=\"64.033233\"/>\n    </g>\n    <g clip-path=\"url(#p79d59cebb2)\">\n     <use style=\"fill:#8000ff;stroke:#8000ff;\" x=\"222.234488\" xlink:href=\"#C0_0_266b52f7a8\" y=\"77.246962\"/>\n    </g>\n    <g clip-path=\"url(#p79d59cebb2)\">\n     <use style=\"fill:#2adddd;stroke:#2adddd;\" x=\"132.811899\" xlink:href=\"#C0_0_266b52f7a8\" y=\"194.292063\"/>\n    </g>\n    <g clip-path=\"url(#p79d59cebb2)\">\n     <use style=\"fill:#ff0000;stroke:#ff0000;\" x=\"189.766293\" xlink:href=\"#C0_0_266b52f7a8\" y=\"52.64428\"/>\n    </g>\n    <g clip-path=\"url(#p79d59cebb2)\">\n     <use style=\"fill:#ff0000;stroke:#ff0000;\" x=\"169.574091\" xlink:href=\"#C0_0_266b52f7a8\" y=\"47.046206\"/>\n    </g>\n    <g clip-path=\"url(#p79d59cebb2)\">\n     <use style=\"fill:#ff0000;stroke:#ff0000;\" x=\"206.911376\" xlink:href=\"#C0_0_266b52f7a8\" y=\"20.308475\"/>\n    </g>\n    <g clip-path=\"url(#p79d59cebb2)\">\n     <use style=\"fill:#ff0000;stroke:#ff0000;\" x=\"211.288818\" xlink:href=\"#C0_0_266b52f7a8\" y=\"36.847993\"/>\n    </g>\n    <g clip-path=\"url(#p79d59cebb2)\">\n     <use style=\"fill:#8000ff;stroke:#8000ff;\" x=\"241.014938\" xlink:href=\"#C0_0_266b52f7a8\" y=\"101.312304\"/>\n    </g>\n    <g clip-path=\"url(#p79d59cebb2)\">\n     <use style=\"fill:#d4dd80;stroke:#d4dd80;\" x=\"285.079248\" xlink:href=\"#C0_0_266b52f7a8\" y=\"76.451327\"/>\n    </g>\n    <g clip-path=\"url(#p79d59cebb2)\">\n     <use style=\"fill:#8000ff;stroke:#8000ff;\" x=\"261.328974\" xlink:href=\"#C0_0_266b52f7a8\" y=\"127.686762\"/>\n    </g>\n    <g clip-path=\"url(#p79d59cebb2)\">\n     <use style=\"fill:#ff0000;stroke:#ff0000;\" x=\"128.364409\" xlink:href=\"#C0_0_266b52f7a8\" y=\"49.566827\"/>\n    </g>\n    <g clip-path=\"url(#p79d59cebb2)\">\n     <use style=\"fill:#d4dd80;stroke:#d4dd80;\" x=\"265.60934\" xlink:href=\"#C0_0_266b52f7a8\" y=\"77.131648\"/>\n    </g>\n    <g clip-path=\"url(#p79d59cebb2)\">\n     <use style=\"fill:#d4dd80;stroke:#d4dd80;\" x=\"274.986497\" xlink:href=\"#C0_0_266b52f7a8\" y=\"40.128557\"/>\n    </g>\n    <g clip-path=\"url(#p79d59cebb2)\">\n     <use style=\"fill:#d4dd80;stroke:#d4dd80;\" x=\"283.545399\" xlink:href=\"#C0_0_266b52f7a8\" y=\"55.104374\"/>\n    </g>\n    <g clip-path=\"url(#p79d59cebb2)\">\n     <use style=\"fill:#8000ff;stroke:#8000ff;\" x=\"259.453809\" xlink:href=\"#C0_0_266b52f7a8\" y=\"122.489343\"/>\n    </g>\n    <g clip-path=\"url(#p79d59cebb2)\">\n     <use style=\"fill:#d4dd80;stroke:#d4dd80;\" x=\"295.085943\" xlink:href=\"#C0_0_266b52f7a8\" y=\"53.146487\"/>\n    </g>\n    <g clip-path=\"url(#p79d59cebb2)\">\n     <use style=\"fill:#8000ff;stroke:#8000ff;\" x=\"263.39256\" xlink:href=\"#C0_0_266b52f7a8\" y=\"106.502956\"/>\n    </g>\n    <g clip-path=\"url(#p79d59cebb2)\">\n     <use style=\"fill:#8000ff;stroke:#8000ff;\" x=\"211.383461\" xlink:href=\"#C0_0_266b52f7a8\" y=\"83.464089\"/>\n    </g>\n    <g clip-path=\"url(#p79d59cebb2)\">\n     <use style=\"fill:#ff0000;stroke:#ff0000;\" x=\"151.001835\" xlink:href=\"#C0_0_266b52f7a8\" y=\"82.860118\"/>\n    </g>\n    <g clip-path=\"url(#p79d59cebb2)\">\n     <use style=\"fill:#2adddd;stroke:#2adddd;\" x=\"75.658425\" xlink:href=\"#C0_0_266b52f7a8\" y=\"174.726042\"/>\n    </g>\n    <g clip-path=\"url(#p79d59cebb2)\">\n     <use style=\"fill:#ff0000;stroke:#ff0000;\" x=\"159.670227\" xlink:href=\"#C0_0_266b52f7a8\" y=\"64.499557\"/>\n    </g>\n    <g clip-path=\"url(#p79d59cebb2)\">\n     <use style=\"fill:#8000ff;stroke:#8000ff;\" x=\"221.818246\" xlink:href=\"#C0_0_266b52f7a8\" y=\"99.772215\"/>\n    </g>\n    <g clip-path=\"url(#p79d59cebb2)\">\n     <use style=\"fill:#d4dd80;stroke:#d4dd80;\" x=\"312.6813\" xlink:href=\"#C0_0_266b52f7a8\" y=\"54.499797\"/>\n    </g>\n    <g clip-path=\"url(#p79d59cebb2)\">\n     <use style=\"fill:#ff0000;stroke:#ff0000;\" x=\"199.874369\" xlink:href=\"#C0_0_266b52f7a8\" y=\"39.474774\"/>\n    </g>\n    <g clip-path=\"url(#p79d59cebb2)\">\n     <use style=\"fill:#8000ff;stroke:#8000ff;\" x=\"295.375912\" xlink:href=\"#C0_0_266b52f7a8\" y=\"117.670166\"/>\n    </g>\n    <g clip-path=\"url(#p79d59cebb2)\">\n     <use style=\"fill:#d4dd80;stroke:#d4dd80;\" x=\"294.228401\" xlink:href=\"#C0_0_266b52f7a8\" y=\"49.778145\"/>\n    </g>\n    <g clip-path=\"url(#p79d59cebb2)\">\n     <use style=\"fill:#8000ff;stroke:#8000ff;\" x=\"259.382144\" xlink:href=\"#C0_0_266b52f7a8\" y=\"102.307413\"/>\n    </g>\n    <g clip-path=\"url(#p79d59cebb2)\">\n     <use style=\"fill:#ff0000;stroke:#ff0000;\" x=\"177.218639\" xlink:href=\"#C0_0_266b52f7a8\" y=\"47.8719\"/>\n    </g>\n    <g clip-path=\"url(#p79d59cebb2)\">\n     <use style=\"fill:#ff0000;stroke:#ff0000;\" x=\"238.472915\" xlink:href=\"#C0_0_266b52f7a8\" y=\"53.814807\"/>\n    </g>\n    <g clip-path=\"url(#p79d59cebb2)\">\n     <use style=\"fill:#8000ff;stroke:#8000ff;\" x=\"241.443888\" xlink:href=\"#C0_0_266b52f7a8\" y=\"76.611294\"/>\n    </g>\n    <g clip-path=\"url(#p79d59cebb2)\">\n     <use style=\"fill:#ff0000;stroke:#ff0000;\" x=\"144.244055\" xlink:href=\"#C0_0_266b52f7a8\" y=\"70.524639\"/>\n    </g>\n    <g clip-path=\"url(#p79d59cebb2)\">\n     <use style=\"fill:#d4dd80;stroke:#d4dd80;\" x=\"291.594452\" xlink:href=\"#C0_0_266b52f7a8\" y=\"49.009004\"/>\n    </g>\n    <g clip-path=\"url(#p79d59cebb2)\">\n     <use style=\"fill:#d4dd80;stroke:#d4dd80;\" x=\"255.030053\" xlink:href=\"#C0_0_266b52f7a8\" y=\"54.632585\"/>\n    </g>\n    <g clip-path=\"url(#p79d59cebb2)\">\n     <use style=\"fill:#2adddd;stroke:#2adddd;\" x=\"163.688414\" xlink:href=\"#C0_0_266b52f7a8\" y=\"197.287564\"/>\n    </g>\n    <g clip-path=\"url(#p79d59cebb2)\">\n     <use style=\"fill:#d4dd80;stroke:#d4dd80;\" x=\"263.09821\" xlink:href=\"#C0_0_266b52f7a8\" y=\"59.895913\"/>\n    </g>\n    <g clip-path=\"url(#p79d59cebb2)\">\n     <use style=\"fill:#ff0000;stroke:#ff0000;\" x=\"196.258581\" xlink:href=\"#C0_0_266b52f7a8\" y=\"40.383323\"/>\n    </g>\n    <g clip-path=\"url(#p79d59cebb2)\">\n     <use style=\"fill:#2adddd;stroke:#2adddd;\" x=\"136.020374\" xlink:href=\"#C0_0_266b52f7a8\" y=\"205.698263\"/>\n    </g>\n    <g clip-path=\"url(#p79d59cebb2)\">\n     <use style=\"fill:#2adddd;stroke:#2adddd;\" x=\"134.100889\" xlink:href=\"#C0_0_266b52f7a8\" y=\"191.772684\"/>\n    </g>\n    <g clip-path=\"url(#p79d59cebb2)\">\n     <use style=\"fill:#ff0000;stroke:#ff0000;\" x=\"228.593891\" xlink:href=\"#C0_0_266b52f7a8\" y=\"24.851962\"/>\n    </g>\n    <g clip-path=\"url(#p79d59cebb2)\">\n     <use style=\"fill:#2adddd;stroke:#2adddd;\" x=\"119.344619\" xlink:href=\"#C0_0_266b52f7a8\" y=\"166.568966\"/>\n    </g>\n    <g clip-path=\"url(#p79d59cebb2)\">\n     <use style=\"fill:#2adddd;stroke:#2adddd;\" x=\"106.479377\" xlink:href=\"#C0_0_266b52f7a8\" y=\"207.416576\"/>\n    </g>\n    <g clip-path=\"url(#p79d59cebb2)\">\n     <use style=\"fill:#2adddd;stroke:#2adddd;\" x=\"120.193212\" xlink:href=\"#C0_0_266b52f7a8\" y=\"142.542499\"/>\n    </g>\n    <g clip-path=\"url(#p79d59cebb2)\">\n     <use style=\"fill:#2adddd;stroke:#2adddd;\" x=\"112.526917\" xlink:href=\"#C0_0_266b52f7a8\" y=\"195.640474\"/>\n    </g>\n    <g clip-path=\"url(#p79d59cebb2)\">\n     <use style=\"fill:#2adddd;stroke:#2adddd;\" x=\"89.44261\" xlink:href=\"#C0_0_266b52f7a8\" y=\"211.371244\"/>\n    </g>\n    <g clip-path=\"url(#p79d59cebb2)\">\n     <use style=\"fill:#8000ff;stroke:#8000ff;\" x=\"247.70694\" xlink:href=\"#C0_0_266b52f7a8\" y=\"115.532062\"/>\n    </g>\n    <g clip-path=\"url(#p79d59cebb2)\">\n     <use style=\"fill:#2adddd;stroke:#2adddd;\" x=\"108.867629\" xlink:href=\"#C0_0_266b52f7a8\" y=\"162.814828\"/>\n    </g>\n    <g clip-path=\"url(#p79d59cebb2)\">\n     <use style=\"fill:#d4dd80;stroke:#d4dd80;\" x=\"312.240861\" xlink:href=\"#C0_0_266b52f7a8\" y=\"51.491514\"/>\n    </g>\n    <g clip-path=\"url(#p79d59cebb2)\">\n     <use style=\"fill:#d4dd80;stroke:#d4dd80;\" x=\"298.442531\" xlink:href=\"#C0_0_266b52f7a8\" y=\"46.685919\"/>\n    </g>\n    <g clip-path=\"url(#p79d59cebb2)\">\n     <use style=\"fill:#ff0000;stroke:#ff0000;\" x=\"191.689142\" xlink:href=\"#C0_0_266b52f7a8\" y=\"55.06791\"/>\n    </g>\n    <g clip-path=\"url(#p79d59cebb2)\">\n     <use style=\"fill:#2adddd;stroke:#2adddd;\" x=\"123.659856\" xlink:href=\"#C0_0_266b52f7a8\" y=\"176.976712\"/>\n    </g>\n    <g clip-path=\"url(#p79d59cebb2)\">\n     <use style=\"fill:#8000ff;stroke:#8000ff;\" x=\"248.746054\" xlink:href=\"#C0_0_266b52f7a8\" y=\"75.352688\"/>\n    </g>\n    <g clip-path=\"url(#p79d59cebb2)\">\n     <use style=\"fill:#d4dd80;stroke:#d4dd80;\" x=\"326.415571\" xlink:href=\"#C0_0_266b52f7a8\" y=\"44.694851\"/>\n    </g>\n    <g clip-path=\"url(#p79d59cebb2)\">\n     <use style=\"fill:#d4dd80;stroke:#d4dd80;\" x=\"307.619682\" xlink:href=\"#C0_0_266b52f7a8\" y=\"37.665615\"/>\n    </g>\n    <g clip-path=\"url(#p79d59cebb2)\">\n     <use style=\"fill:#2adddd;stroke:#2adddd;\" x=\"117.726549\" xlink:href=\"#C0_0_266b52f7a8\" y=\"159.903747\"/>\n    </g>\n    <g clip-path=\"url(#p79d59cebb2)\">\n     <use style=\"fill:#8000ff;stroke:#8000ff;\" x=\"268.574847\" xlink:href=\"#C0_0_266b52f7a8\" y=\"110.255076\"/>\n    </g>\n   </g>\n   <g id=\"matplotlib.axis_1\">\n    <g id=\"xtick_1\">\n     <g id=\"line2d_1\">\n      <defs>\n       <path d=\"M 0 0 \nL 0 3.5 \n\" id=\"m55875afefd\" style=\"stroke:#000000;stroke-width:0.8;\"/>\n      </defs>\n      <g>\n       <use style=\"stroke:#000000;stroke-width:0.8;\" x=\"42.043215\" xlink:href=\"#m55875afefd\" y=\"224.64\"/>\n      </g>\n     </g>\n     <g id=\"text_1\">\n      <!-- −15 -->\n      <g transform=\"translate(31.490872 239.238437)scale(0.1 -0.1)\">\n       <defs>\n        <path d=\"M 10.59375 35.5 \nL 73.1875 35.5 \nL 73.1875 27.203125 \nL 10.59375 27.203125 \nz\n\" id=\"DejaVuSans-8722\"/>\n        <path d=\"M 12.40625 8.296875 \nL 28.515625 8.296875 \nL 28.515625 63.921875 \nL 10.984375 60.40625 \nL 10.984375 69.390625 \nL 28.421875 72.90625 \nL 38.28125 72.90625 \nL 38.28125 8.296875 \nL 54.390625 8.296875 \nL 54.390625 0 \nL 12.40625 0 \nz\n\" id=\"DejaVuSans-49\"/>\n        <path d=\"M 10.796875 72.90625 \nL 49.515625 72.90625 \nL 49.515625 64.59375 \nL 19.828125 64.59375 \nL 19.828125 46.734375 \nQ 21.96875 47.46875 24.109375 47.828125 \nQ 26.265625 48.1875 28.421875 48.1875 \nQ 40.625 48.1875 47.75 41.5 \nQ 54.890625 34.8125 54.890625 23.390625 \nQ 54.890625 11.625 47.5625 5.09375 \nQ 40.234375 -1.421875 26.90625 -1.421875 \nQ 22.3125 -1.421875 17.546875 -0.640625 \nQ 12.796875 0.140625 7.71875 1.703125 \nL 7.71875 11.625 \nQ 12.109375 9.234375 16.796875 8.0625 \nQ 21.484375 6.890625 26.703125 6.890625 \nQ 35.15625 6.890625 40.078125 11.328125 \nQ 45.015625 15.765625 45.015625 23.390625 \nQ 45.015625 31 40.078125 35.4375 \nQ 35.15625 39.890625 26.703125 39.890625 \nQ 22.75 39.890625 18.8125 39.015625 \nQ 14.890625 38.140625 10.796875 36.28125 \nz\n\" id=\"DejaVuSans-53\"/>\n       </defs>\n       <use xlink:href=\"#DejaVuSans-8722\"/>\n       <use x=\"83.789062\" xlink:href=\"#DejaVuSans-49\"/>\n       <use x=\"147.412109\" xlink:href=\"#DejaVuSans-53\"/>\n      </g>\n     </g>\n    </g>\n    <g id=\"xtick_2\">\n     <g id=\"line2d_2\">\n      <g>\n       <use style=\"stroke:#000000;stroke-width:0.8;\" x=\"107.992272\" xlink:href=\"#m55875afefd\" y=\"224.64\"/>\n      </g>\n     </g>\n     <g id=\"text_2\">\n      <!-- −10 -->\n      <g transform=\"translate(97.439928 239.238437)scale(0.1 -0.1)\">\n       <defs>\n        <path d=\"M 31.78125 66.40625 \nQ 24.171875 66.40625 20.328125 58.90625 \nQ 16.5 51.421875 16.5 36.375 \nQ 16.5 21.390625 20.328125 13.890625 \nQ 24.171875 6.390625 31.78125 6.390625 \nQ 39.453125 6.390625 43.28125 13.890625 \nQ 47.125 21.390625 47.125 36.375 \nQ 47.125 51.421875 43.28125 58.90625 \nQ 39.453125 66.40625 31.78125 66.40625 \nz\nM 31.78125 74.21875 \nQ 44.046875 74.21875 50.515625 64.515625 \nQ 56.984375 54.828125 56.984375 36.375 \nQ 56.984375 17.96875 50.515625 8.265625 \nQ 44.046875 -1.421875 31.78125 -1.421875 \nQ 19.53125 -1.421875 13.0625 8.265625 \nQ 6.59375 17.96875 6.59375 36.375 \nQ 6.59375 54.828125 13.0625 64.515625 \nQ 19.53125 74.21875 31.78125 74.21875 \nz\n\" id=\"DejaVuSans-48\"/>\n       </defs>\n       <use xlink:href=\"#DejaVuSans-8722\"/>\n       <use x=\"83.789062\" xlink:href=\"#DejaVuSans-49\"/>\n       <use x=\"147.412109\" xlink:href=\"#DejaVuSans-48\"/>\n      </g>\n     </g>\n    </g>\n    <g id=\"xtick_3\">\n     <g id=\"line2d_3\">\n      <g>\n       <use style=\"stroke:#000000;stroke-width:0.8;\" x=\"173.941328\" xlink:href=\"#m55875afefd\" y=\"224.64\"/>\n      </g>\n     </g>\n     <g id=\"text_3\">\n      <!-- −5 -->\n      <g transform=\"translate(166.570234 239.238437)scale(0.1 -0.1)\">\n       <use xlink:href=\"#DejaVuSans-8722\"/>\n       <use x=\"83.789062\" xlink:href=\"#DejaVuSans-53\"/>\n      </g>\n     </g>\n    </g>\n    <g id=\"xtick_4\">\n     <g id=\"line2d_4\">\n      <g>\n       <use style=\"stroke:#000000;stroke-width:0.8;\" x=\"239.890384\" xlink:href=\"#m55875afefd\" y=\"224.64\"/>\n      </g>\n     </g>\n     <g id=\"text_4\">\n      <!-- 0 -->\n      <g transform=\"translate(236.709134 239.238437)scale(0.1 -0.1)\">\n       <use xlink:href=\"#DejaVuSans-48\"/>\n      </g>\n     </g>\n    </g>\n    <g id=\"xtick_5\">\n     <g id=\"line2d_5\">\n      <g>\n       <use style=\"stroke:#000000;stroke-width:0.8;\" x=\"305.83944\" xlink:href=\"#m55875afefd\" y=\"224.64\"/>\n      </g>\n     </g>\n     <g id=\"text_5\">\n      <!-- 5 -->\n      <g transform=\"translate(302.65819 239.238437)scale(0.1 -0.1)\">\n       <use xlink:href=\"#DejaVuSans-53\"/>\n      </g>\n     </g>\n    </g>\n   </g>\n   <g id=\"matplotlib.axis_2\">\n    <g id=\"ytick_1\">\n     <g id=\"line2d_6\">\n      <defs>\n       <path d=\"M 0 0 \nL -3.5 0 \n\" id=\"m88948b170a\" style=\"stroke:#000000;stroke-width:0.8;\"/>\n      </defs>\n      <g>\n       <use style=\"stroke:#000000;stroke-width:0.8;\" x=\"35.304688\" xlink:href=\"#m88948b170a\" y=\"211.335078\"/>\n      </g>\n     </g>\n     <g id=\"text_6\">\n      <!-- −10 -->\n      <g transform=\"translate(7.2 215.134297)scale(0.1 -0.1)\">\n       <use xlink:href=\"#DejaVuSans-8722\"/>\n       <use x=\"83.789062\" xlink:href=\"#DejaVuSans-49\"/>\n       <use x=\"147.412109\" xlink:href=\"#DejaVuSans-48\"/>\n      </g>\n     </g>\n    </g>\n    <g id=\"ytick_2\">\n     <g id=\"line2d_7\">\n      <g>\n       <use style=\"stroke:#000000;stroke-width:0.8;\" x=\"35.304688\" xlink:href=\"#m88948b170a\" y=\"165.932291\"/>\n      </g>\n     </g>\n     <g id=\"text_7\">\n      <!-- −5 -->\n      <g transform=\"translate(13.5625 169.73151)scale(0.1 -0.1)\">\n       <use xlink:href=\"#DejaVuSans-8722\"/>\n       <use x=\"83.789062\" xlink:href=\"#DejaVuSans-53\"/>\n      </g>\n     </g>\n    </g>\n    <g id=\"ytick_3\">\n     <g id=\"line2d_8\">\n      <g>\n       <use style=\"stroke:#000000;stroke-width:0.8;\" x=\"35.304688\" xlink:href=\"#m88948b170a\" y=\"120.529504\"/>\n      </g>\n     </g>\n     <g id=\"text_8\">\n      <!-- 0 -->\n      <g transform=\"translate(21.942188 124.328723)scale(0.1 -0.1)\">\n       <use xlink:href=\"#DejaVuSans-48\"/>\n      </g>\n     </g>\n    </g>\n    <g id=\"ytick_4\">\n     <g id=\"line2d_9\">\n      <g>\n       <use style=\"stroke:#000000;stroke-width:0.8;\" x=\"35.304688\" xlink:href=\"#m88948b170a\" y=\"75.126717\"/>\n      </g>\n     </g>\n     <g id=\"text_9\">\n      <!-- 5 -->\n      <g transform=\"translate(21.942188 78.925936)scale(0.1 -0.1)\">\n       <use xlink:href=\"#DejaVuSans-53\"/>\n      </g>\n     </g>\n    </g>\n    <g id=\"ytick_5\">\n     <g id=\"line2d_10\">\n      <g>\n       <use style=\"stroke:#000000;stroke-width:0.8;\" x=\"35.304688\" xlink:href=\"#m88948b170a\" y=\"29.72393\"/>\n      </g>\n     </g>\n     <g id=\"text_10\">\n      <!-- 10 -->\n      <g transform=\"translate(15.579688 33.523149)scale(0.1 -0.1)\">\n       <use xlink:href=\"#DejaVuSans-49\"/>\n       <use x=\"63.623047\" xlink:href=\"#DejaVuSans-48\"/>\n      </g>\n     </g>\n    </g>\n   </g>\n   <g id=\"patch_3\">\n    <path d=\"M 35.304688 224.64 \nL 35.304688 7.2 \n\" style=\"fill:none;stroke:#000000;stroke-linecap:square;stroke-linejoin:miter;stroke-width:0.8;\"/>\n   </g>\n   <g id=\"patch_4\">\n    <path d=\"M 370.104688 224.64 \nL 370.104688 7.2 \n\" style=\"fill:none;stroke:#000000;stroke-linecap:square;stroke-linejoin:miter;stroke-width:0.8;\"/>\n   </g>\n   <g id=\"patch_5\">\n    <path d=\"M 35.304688 224.64 \nL 370.104688 224.64 \n\" style=\"fill:none;stroke:#000000;stroke-linecap:square;stroke-linejoin:miter;stroke-width:0.8;\"/>\n   </g>\n   <g id=\"patch_6\">\n    <path d=\"M 35.304688 7.2 \nL 370.104688 7.2 \n\" style=\"fill:none;stroke:#000000;stroke-linecap:square;stroke-linejoin:miter;stroke-width:0.8;\"/>\n   </g>\n  </g>\n </g>\n <defs>\n  <clipPath id=\"p79d59cebb2\">\n   <rect height=\"217.44\" width=\"334.8\" x=\"35.304688\" y=\"7.2\"/>\n  </clipPath>\n </defs>\n</svg>\n",
      "text/plain": [
       "<Figure size 432x288 with 1 Axes>"
      ]
     },
     "metadata": {
      "needs_background": "light"
     },
     "output_type": "display_data"
    }
   ],
   "source": [
    "plt.scatter(data[0][:,0],data[0][:,1],c=data[1],cmap='rainbow')"
   ]
  },
  {
   "cell_type": "code",
   "execution_count": null,
   "metadata": {},
   "outputs": [
    {
     "data": {
      "text/plain": [
       "<matplotlib.collections.PathCollection at 0x7fe7595363d0>"
      ]
     },
     "execution_count": 89,
     "metadata": {},
     "output_type": "execute_result"
    },
    {
     "data": {
      "image/png": "[encoded data removed]",
      "image/svg+xml": "<?xml version=\"1.0\" encoding=\"utf-8\" standalone=\"no\"?>\n<!DOCTYPE svg PUBLIC \"-//W3C//DTD SVG 1.1//EN\"\n  \"http://www.w3.org/Graphics/SVG/1.1/DTD/svg11.dtd\">\n<!-- Created with matplotlib (https://matplotlib.org/) -->\n<svg height=\"372.35625pt\" version=\"1.1\" viewBox=\"0 0 600.504687 372.35625\" width=\"600.504687pt\" xmlns=\"http://www.w3.org/2000/svg\" xmlns:xlink=\"http://www.w3.org/1999/xlink\">\n <metadata>\n  <rdf:RDF xmlns:cc=\"http://creativecommons.org/ns#\" xmlns:dc=\"http://purl.org/dc/elements/1.1/\" xmlns:rdf=\"http://www.w3.org/1999/02/22-rdf-syntax-ns#\">\n   <cc:Work>\n    <dc:type rdf:resource=\"http://purl.org/dc/dcmitype/StillImage\"/>\n    <dc:date>2020-08-02T14:32:45.016485</dc:date>\n    <dc:format>image/svg+xml</dc:format>\n    <dc:creator>\n     <cc:Agent>\n      <dc:title>Matplotlib v3.3.0, https://matplotlib.org/</dc:title>\n     </cc:Agent>\n    </dc:creator>\n   </cc:Work>\n  </rdf:RDF>\n </metadata>\n <defs>\n  <style type=\"text/css\">*{stroke-linecap:butt;stroke-linejoin:round;}</style>\n </defs>\n <g id=\"figure_1\">\n  <g id=\"patch_1\">\n   <path d=\"M 0 372.35625 \nL 600.504687 372.35625 \nL 600.504687 0 \nL 0 0 \nz\n\" style=\"fill:none;\"/>\n  </g>\n  <g id=\"axes_1\">\n   <g id=\"patch_2\">\n    <path d=\"M 35.304688 348.478125 \nL 288.941051 348.478125 \nL 288.941051 22.318125 \nL 35.304688 22.318125 \nz\n\" style=\"fill:#ffffff;\"/>\n   </g>\n   <g id=\"PathCollection_1\">\n    <defs>\n     <path d=\"M 0 3 \nC 0.795609 3 1.55874 2.683901 2.12132 2.12132 \nC 2.683901 1.55874 3 0.795609 3 -0 \nC 3 -0.795609 2.683901 -1.55874 2.12132 -2.12132 \nC 1.55874 -2.683901 0.795609 -3 0 -3 \nC -0.795609 -3 -1.55874 -2.683901 -2.12132 -2.12132 \nC -2.683901 -1.55874 -3 -0.795609 -3 0 \nC -3 0.795609 -2.683901 1.55874 -2.12132 2.12132 \nC -1.55874 2.683901 -0.795609 3 0 3 \nz\n\" id=\"C0_0_11cfa82479\"/>\n    </defs>\n    <g clip-path=\"url(#pef30aa0050)\">\n     <use style=\"fill:#a4f89f;stroke:#a4f89f;\" x=\"126.055065\" xlink:href=\"#C0_0_11cfa82479\" y=\"54.181883\"/>\n    </g>\n    <g clip-path=\"url(#pef30aa0050)\">\n     <use style=\"fill:#ff0000;stroke:#ff0000;\" x=\"248.935342\" xlink:href=\"#C0_0_11cfa82479\" y=\"121.469002\"/>\n    </g>\n    <g clip-path=\"url(#pef30aa0050)\">\n     <use style=\"fill:#ecc86f;stroke:#ecc86f;\" x=\"186.535661\" xlink:href=\"#C0_0_11cfa82479\" y=\"147.850166\"/>\n    </g>\n    <g clip-path=\"url(#pef30aa0050)\">\n     <use style=\"fill:#5af8c8;stroke:#5af8c8;\" x=\"211.945045\" xlink:href=\"#C0_0_11cfa82479\" y=\"62.056255\"/>\n    </g>\n    <g clip-path=\"url(#pef30aa0050)\">\n     <use style=\"fill:#ff0000;stroke:#ff0000;\" x=\"241.205381\" xlink:href=\"#C0_0_11cfa82479\" y=\"94.139835\"/>\n    </g>\n    <g clip-path=\"url(#pef30aa0050)\">\n     <use style=\"fill:#ff6d38;stroke:#ff6d38;\" x=\"81.588941\" xlink:href=\"#C0_0_11cfa82479\" y=\"275.579009\"/>\n    </g>\n    <g clip-path=\"url(#pef30aa0050)\">\n     <use style=\"fill:#5af8c8;stroke:#5af8c8;\" x=\"210.618707\" xlink:href=\"#C0_0_11cfa82479\" y=\"59.282476\"/>\n    </g>\n    <g clip-path=\"url(#pef30aa0050)\">\n     <use style=\"fill:#8000ff;stroke:#8000ff;\" x=\"173.127235\" xlink:href=\"#C0_0_11cfa82479\" y=\"173.052364\"/>\n    </g>\n    <g clip-path=\"url(#pef30aa0050)\">\n     <use style=\"fill:#5af8c8;stroke:#5af8c8;\" x=\"201.975962\" xlink:href=\"#C0_0_11cfa82479\" y=\"80.000825\"/>\n    </g>\n    <g clip-path=\"url(#pef30aa0050)\">\n     <use style=\"fill:#ecc86f;stroke:#ecc86f;\" x=\"176.785742\" xlink:href=\"#C0_0_11cfa82479\" y=\"149.645746\"/>\n    </g>\n    <g clip-path=\"url(#pef30aa0050)\">\n     <use style=\"fill:#a4f89f;stroke:#a4f89f;\" x=\"128.486774\" xlink:href=\"#C0_0_11cfa82479\" y=\"60.54352\"/>\n    </g>\n    <g clip-path=\"url(#pef30aa0050)\">\n     <use style=\"fill:#ecc86f;stroke:#ecc86f;\" x=\"178.317443\" xlink:href=\"#C0_0_11cfa82479\" y=\"158.20459\"/>\n    </g>\n    <g clip-path=\"url(#pef30aa0050)\">\n     <use style=\"fill:#5af8c8;stroke:#5af8c8;\" x=\"219.301131\" xlink:href=\"#C0_0_11cfa82479\" y=\"84.537379\"/>\n    </g>\n    <g clip-path=\"url(#pef30aa0050)\">\n     <use style=\"fill:#5af8c8;stroke:#5af8c8;\" x=\"214.200387\" xlink:href=\"#C0_0_11cfa82479\" y=\"119.008587\"/>\n    </g>\n    <g clip-path=\"url(#pef30aa0050)\">\n     <use style=\"fill:#a4f89f;stroke:#a4f89f;\" x=\"137.580057\" xlink:href=\"#C0_0_11cfa82479\" y=\"61.02977\"/>\n    </g>\n    <g clip-path=\"url(#pef30aa0050)\">\n     <use style=\"fill:#8000ff;stroke:#8000ff;\" x=\"184.63008\" xlink:href=\"#C0_0_11cfa82479\" y=\"191.549256\"/>\n    </g>\n    <g clip-path=\"url(#pef30aa0050)\">\n     <use style=\"fill:#ff0000;stroke:#ff0000;\" x=\"249.981407\" xlink:href=\"#C0_0_11cfa82479\" y=\"112.334642\"/>\n    </g>\n    <g clip-path=\"url(#pef30aa0050)\">\n     <use style=\"fill:#8000ff;stroke:#8000ff;\" x=\"167.176182\" xlink:href=\"#C0_0_11cfa82479\" y=\"185.175334\"/>\n    </g>\n    <g clip-path=\"url(#pef30aa0050)\">\n     <use style=\"fill:#ff6d38;stroke:#ff6d38;\" x=\"89.027321\" xlink:href=\"#C0_0_11cfa82479\" y=\"239.04967\"/>\n    </g>\n    <g clip-path=\"url(#pef30aa0050)\">\n     <use style=\"fill:#12c8e6;stroke:#12c8e6;\" x=\"144.920638\" xlink:href=\"#C0_0_11cfa82479\" y=\"37.14358\"/>\n    </g>\n    <g clip-path=\"url(#pef30aa0050)\">\n     <use style=\"fill:#ff6d38;stroke:#ff6d38;\" x=\"86.218414\" xlink:href=\"#C0_0_11cfa82479\" y=\"269.616869\"/>\n    </g>\n    <g clip-path=\"url(#pef30aa0050)\">\n     <use style=\"fill:#8000ff;stroke:#8000ff;\" x=\"196.936687\" xlink:href=\"#C0_0_11cfa82479\" y=\"191.028883\"/>\n    </g>\n    <g clip-path=\"url(#pef30aa0050)\">\n     <use style=\"fill:#ecc86f;stroke:#ecc86f;\" x=\"211.423577\" xlink:href=\"#C0_0_11cfa82479\" y=\"143.830583\"/>\n    </g>\n    <g clip-path=\"url(#pef30aa0050)\">\n     <use style=\"fill:#386df9;stroke:#386df9;\" x=\"78.589919\" xlink:href=\"#C0_0_11cfa82479\" y=\"319.119178\"/>\n    </g>\n    <g clip-path=\"url(#pef30aa0050)\">\n     <use style=\"fill:#a4f89f;stroke:#a4f89f;\" x=\"123.975256\" xlink:href=\"#C0_0_11cfa82479\" y=\"105.217154\"/>\n    </g>\n    <g clip-path=\"url(#pef30aa0050)\">\n     <use style=\"fill:#386df9;stroke:#386df9;\" x=\"113.610887\" xlink:href=\"#C0_0_11cfa82479\" y=\"291.314019\"/>\n    </g>\n    <g clip-path=\"url(#pef30aa0050)\">\n     <use style=\"fill:#386df9;stroke:#386df9;\" x=\"110.488673\" xlink:href=\"#C0_0_11cfa82479\" y=\"322.679216\"/>\n    </g>\n    <g clip-path=\"url(#pef30aa0050)\">\n     <use style=\"fill:#8000ff;stroke:#8000ff;\" x=\"203.082341\" xlink:href=\"#C0_0_11cfa82479\" y=\"187.502172\"/>\n    </g>\n    <g clip-path=\"url(#pef30aa0050)\">\n     <use style=\"fill:#5af8c8;stroke:#5af8c8;\" x=\"225.714514\" xlink:href=\"#C0_0_11cfa82479\" y=\"84.226187\"/>\n    </g>\n    <g clip-path=\"url(#pef30aa0050)\">\n     <use style=\"fill:#ff0000;stroke:#ff0000;\" x=\"230.656691\" xlink:href=\"#C0_0_11cfa82479\" y=\"125.724141\"/>\n    </g>\n    <g clip-path=\"url(#pef30aa0050)\">\n     <use style=\"fill:#12c8e6;stroke:#12c8e6;\" x=\"161.504201\" xlink:href=\"#C0_0_11cfa82479\" y=\"67.965127\"/>\n    </g>\n    <g clip-path=\"url(#pef30aa0050)\">\n     <use style=\"fill:#386df9;stroke:#386df9;\" x=\"99.263179\" xlink:href=\"#C0_0_11cfa82479\" y=\"297.163079\"/>\n    </g>\n    <g clip-path=\"url(#pef30aa0050)\">\n     <use style=\"fill:#ff0000;stroke:#ff0000;\" x=\"242.853368\" xlink:href=\"#C0_0_11cfa82479\" y=\"127.748605\"/>\n    </g>\n    <g clip-path=\"url(#pef30aa0050)\">\n     <use style=\"fill:#8000ff;stroke:#8000ff;\" x=\"210.863934\" xlink:href=\"#C0_0_11cfa82479\" y=\"225.558532\"/>\n    </g>\n    <g clip-path=\"url(#pef30aa0050)\">\n     <use style=\"fill:#ecc86f;stroke:#ecc86f;\" x=\"173.17809\" xlink:href=\"#C0_0_11cfa82479\" y=\"158.093954\"/>\n    </g>\n    <g clip-path=\"url(#pef30aa0050)\">\n     <use style=\"fill:#a4f89f;stroke:#a4f89f;\" x=\"136.279344\" xlink:href=\"#C0_0_11cfa82479\" y=\"90.533637\"/>\n    </g>\n    <g clip-path=\"url(#pef30aa0050)\">\n     <use style=\"fill:#ff6d38;stroke:#ff6d38;\" x=\"78.385175\" xlink:href=\"#C0_0_11cfa82479\" y=\"227.083208\"/>\n    </g>\n    <g clip-path=\"url(#pef30aa0050)\">\n     <use style=\"fill:#ff6d38;stroke:#ff6d38;\" x=\"76.628014\" xlink:href=\"#C0_0_11cfa82479\" y=\"259.670833\"/>\n    </g>\n    <g clip-path=\"url(#pef30aa0050)\">\n     <use style=\"fill:#386df9;stroke:#386df9;\" x=\"72.562959\" xlink:href=\"#C0_0_11cfa82479\" y=\"321.830597\"/>\n    </g>\n    <g clip-path=\"url(#pef30aa0050)\">\n     <use style=\"fill:#8000ff;stroke:#8000ff;\" x=\"207.761908\" xlink:href=\"#C0_0_11cfa82479\" y=\"164.308531\"/>\n    </g>\n    <g clip-path=\"url(#pef30aa0050)\">\n     <use style=\"fill:#386df9;stroke:#386df9;\" x=\"100.324117\" xlink:href=\"#C0_0_11cfa82479\" y=\"276.872738\"/>\n    </g>\n    <g clip-path=\"url(#pef30aa0050)\">\n     <use style=\"fill:#12c8e6;stroke:#12c8e6;\" x=\"161.659512\" xlink:href=\"#C0_0_11cfa82479\" y=\"89.756454\"/>\n    </g>\n    <g clip-path=\"url(#pef30aa0050)\">\n     <use style=\"fill:#12c8e6;stroke:#12c8e6;\" x=\"176.03064\" xlink:href=\"#C0_0_11cfa82479\" y=\"78.780114\"/>\n    </g>\n    <g clip-path=\"url(#pef30aa0050)\">\n     <use style=\"fill:#12c8e6;stroke:#12c8e6;\" x=\"159.224509\" xlink:href=\"#C0_0_11cfa82479\" y=\"53.868209\"/>\n    </g>\n    <g clip-path=\"url(#pef30aa0050)\">\n     <use style=\"fill:#ecc86f;stroke:#ecc86f;\" x=\"193.00306\" xlink:href=\"#C0_0_11cfa82479\" y=\"157.129241\"/>\n    </g>\n    <g clip-path=\"url(#pef30aa0050)\">\n     <use style=\"fill:#5af8c8;stroke:#5af8c8;\" x=\"198.503076\" xlink:href=\"#C0_0_11cfa82479\" y=\"100.103842\"/>\n    </g>\n    <g clip-path=\"url(#pef30aa0050)\">\n     <use style=\"fill:#a4f89f;stroke:#a4f89f;\" x=\"149.176066\" xlink:href=\"#C0_0_11cfa82479\" y=\"82.988643\"/>\n    </g>\n    <g clip-path=\"url(#pef30aa0050)\">\n     <use style=\"fill:#ecc86f;stroke:#ecc86f;\" x=\"205.823348\" xlink:href=\"#C0_0_11cfa82479\" y=\"147.682665\"/>\n    </g>\n    <g clip-path=\"url(#pef30aa0050)\">\n     <use style=\"fill:#386df9;stroke:#386df9;\" x=\"73.837599\" xlink:href=\"#C0_0_11cfa82479\" y=\"301.370836\"/>\n    </g>\n    <g clip-path=\"url(#pef30aa0050)\">\n     <use style=\"fill:#ecc86f;stroke:#ecc86f;\" x=\"178.102306\" xlink:href=\"#C0_0_11cfa82479\" y=\"125.506782\"/>\n    </g>\n    <g clip-path=\"url(#pef30aa0050)\">\n     <use style=\"fill:#8000ff;stroke:#8000ff;\" x=\"222.470759\" xlink:href=\"#C0_0_11cfa82479\" y=\"200.415773\"/>\n    </g>\n    <g clip-path=\"url(#pef30aa0050)\">\n     <use style=\"fill:#a4f89f;stroke:#a4f89f;\" x=\"136.290279\" xlink:href=\"#C0_0_11cfa82479\" y=\"94.242766\"/>\n    </g>\n    <g clip-path=\"url(#pef30aa0050)\">\n     <use style=\"fill:#ff0000;stroke:#ff0000;\" x=\"250.526858\" xlink:href=\"#C0_0_11cfa82479\" y=\"137.597995\"/>\n    </g>\n    <g clip-path=\"url(#pef30aa0050)\">\n     <use style=\"fill:#8000ff;stroke:#8000ff;\" x=\"194.316749\" xlink:href=\"#C0_0_11cfa82479\" y=\"183.139402\"/>\n    </g>\n    <g clip-path=\"url(#pef30aa0050)\">\n     <use style=\"fill:#386df9;stroke:#386df9;\" x=\"116.452391\" xlink:href=\"#C0_0_11cfa82479\" y=\"268.845554\"/>\n    </g>\n    <g clip-path=\"url(#pef30aa0050)\">\n     <use style=\"fill:#ecc86f;stroke:#ecc86f;\" x=\"174.252472\" xlink:href=\"#C0_0_11cfa82479\" y=\"110.788457\"/>\n    </g>\n    <g clip-path=\"url(#pef30aa0050)\">\n     <use style=\"fill:#ecc86f;stroke:#ecc86f;\" x=\"199.014818\" xlink:href=\"#C0_0_11cfa82479\" y=\"131.535489\"/>\n    </g>\n    <g clip-path=\"url(#pef30aa0050)\">\n     <use style=\"fill:#8000ff;stroke:#8000ff;\" x=\"200.630391\" xlink:href=\"#C0_0_11cfa82479\" y=\"167.63095\"/>\n    </g>\n    <g clip-path=\"url(#pef30aa0050)\">\n     <use style=\"fill:#a4f89f;stroke:#a4f89f;\" x=\"151.429571\" xlink:href=\"#C0_0_11cfa82479\" y=\"120.222383\"/>\n    </g>\n    <g clip-path=\"url(#pef30aa0050)\">\n     <use style=\"fill:#5af8c8;stroke:#5af8c8;\" x=\"221.952949\" xlink:href=\"#C0_0_11cfa82479\" y=\"100.638816\"/>\n    </g>\n    <g clip-path=\"url(#pef30aa0050)\">\n     <use style=\"fill:#386df9;stroke:#386df9;\" x=\"109.625197\" xlink:href=\"#C0_0_11cfa82479\" y=\"300.723885\"/>\n    </g>\n    <g clip-path=\"url(#pef30aa0050)\">\n     <use style=\"fill:#5af8c8;stroke:#5af8c8;\" x=\"199.448097\" xlink:href=\"#C0_0_11cfa82479\" y=\"90.681977\"/>\n    </g>\n    <g clip-path=\"url(#pef30aa0050)\">\n     <use style=\"fill:#ff6d38;stroke:#ff6d38;\" x=\"116.386113\" xlink:href=\"#C0_0_11cfa82479\" y=\"259.783649\"/>\n    </g>\n    <g clip-path=\"url(#pef30aa0050)\">\n     <use style=\"fill:#12c8e6;stroke:#12c8e6;\" x=\"173.143829\" xlink:href=\"#C0_0_11cfa82479\" y=\"76.734098\"/>\n    </g>\n    <g clip-path=\"url(#pef30aa0050)\">\n     <use style=\"fill:#5af8c8;stroke:#5af8c8;\" x=\"217.412531\" xlink:href=\"#C0_0_11cfa82479\" y=\"78.2567\"/>\n    </g>\n    <g clip-path=\"url(#pef30aa0050)\">\n     <use style=\"fill:#8000ff;stroke:#8000ff;\" x=\"168.65348\" xlink:href=\"#C0_0_11cfa82479\" y=\"205.661296\"/>\n    </g>\n    <g clip-path=\"url(#pef30aa0050)\">\n     <use style=\"fill:#ff6d38;stroke:#ff6d38;\" x=\"70.911702\" xlink:href=\"#C0_0_11cfa82479\" y=\"287.172326\"/>\n    </g>\n    <g clip-path=\"url(#pef30aa0050)\">\n     <use style=\"fill:#ff0000;stroke:#ff0000;\" x=\"239.209987\" xlink:href=\"#C0_0_11cfa82479\" y=\"109.51568\"/>\n    </g>\n    <g clip-path=\"url(#pef30aa0050)\">\n     <use style=\"fill:#5af8c8;stroke:#5af8c8;\" x=\"218.889545\" xlink:href=\"#C0_0_11cfa82479\" y=\"80.265859\"/>\n    </g>\n    <g clip-path=\"url(#pef30aa0050)\">\n     <use style=\"fill:#386df9;stroke:#386df9;\" x=\"98.825249\" xlink:href=\"#C0_0_11cfa82479\" y=\"277.685303\"/>\n    </g>\n    <g clip-path=\"url(#pef30aa0050)\">\n     <use style=\"fill:#5af8c8;stroke:#5af8c8;\" x=\"210.625855\" xlink:href=\"#C0_0_11cfa82479\" y=\"80.589322\"/>\n    </g>\n    <g clip-path=\"url(#pef30aa0050)\">\n     <use style=\"fill:#ecc86f;stroke:#ecc86f;\" x=\"197.854022\" xlink:href=\"#C0_0_11cfa82479\" y=\"124.108416\"/>\n    </g>\n    <g clip-path=\"url(#pef30aa0050)\">\n     <use style=\"fill:#ff6d38;stroke:#ff6d38;\" x=\"101.958139\" xlink:href=\"#C0_0_11cfa82479\" y=\"265.258681\"/>\n    </g>\n    <g clip-path=\"url(#pef30aa0050)\">\n     <use style=\"fill:#ecc86f;stroke:#ecc86f;\" x=\"160.052151\" xlink:href=\"#C0_0_11cfa82479\" y=\"139.18205\"/>\n    </g>\n    <g clip-path=\"url(#pef30aa0050)\">\n     <use style=\"fill:#386df9;stroke:#386df9;\" x=\"101.55861\" xlink:href=\"#C0_0_11cfa82479\" y=\"275.833266\"/>\n    </g>\n    <g clip-path=\"url(#pef30aa0050)\">\n     <use style=\"fill:#ff0000;stroke:#ff0000;\" x=\"242.327435\" xlink:href=\"#C0_0_11cfa82479\" y=\"104.796331\"/>\n    </g>\n    <g clip-path=\"url(#pef30aa0050)\">\n     <use style=\"fill:#5af8c8;stroke:#5af8c8;\" x=\"222.189987\" xlink:href=\"#C0_0_11cfa82479\" y=\"50.098488\"/>\n    </g>\n    <g clip-path=\"url(#pef30aa0050)\">\n     <use style=\"fill:#8000ff;stroke:#8000ff;\" x=\"190.647679\" xlink:href=\"#C0_0_11cfa82479\" y=\"161.150531\"/>\n    </g>\n    <g clip-path=\"url(#pef30aa0050)\">\n     <use style=\"fill:#a4f89f;stroke:#a4f89f;\" x=\"120.871395\" xlink:href=\"#C0_0_11cfa82479\" y=\"51.985842\"/>\n    </g>\n    <g clip-path=\"url(#pef30aa0050)\">\n     <use style=\"fill:#ecc86f;stroke:#ecc86f;\" x=\"157.272057\" xlink:href=\"#C0_0_11cfa82479\" y=\"154.915403\"/>\n    </g>\n    <g clip-path=\"url(#pef30aa0050)\">\n     <use style=\"fill:#ecc86f;stroke:#ecc86f;\" x=\"183.344481\" xlink:href=\"#C0_0_11cfa82479\" y=\"138.556926\"/>\n    </g>\n    <g clip-path=\"url(#pef30aa0050)\">\n     <use style=\"fill:#386df9;stroke:#386df9;\" x=\"107.012461\" xlink:href=\"#C0_0_11cfa82479\" y=\"274.771772\"/>\n    </g>\n    <g clip-path=\"url(#pef30aa0050)\">\n     <use style=\"fill:#ff0000;stroke:#ff0000;\" x=\"245.379706\" xlink:href=\"#C0_0_11cfa82479\" y=\"76.05329\"/>\n    </g>\n    <g clip-path=\"url(#pef30aa0050)\">\n     <use style=\"fill:#386df9;stroke:#386df9;\" x=\"127.573406\" xlink:href=\"#C0_0_11cfa82479\" y=\"264.742304\"/>\n    </g>\n    <g clip-path=\"url(#pef30aa0050)\">\n     <use style=\"fill:#8000ff;stroke:#8000ff;\" x=\"196.964939\" xlink:href=\"#C0_0_11cfa82479\" y=\"191.666998\"/>\n    </g>\n    <g clip-path=\"url(#pef30aa0050)\">\n     <use style=\"fill:#8000ff;stroke:#8000ff;\" x=\"179.985684\" xlink:href=\"#C0_0_11cfa82479\" y=\"181.554666\"/>\n    </g>\n    <g clip-path=\"url(#pef30aa0050)\">\n     <use style=\"fill:#8000ff;stroke:#8000ff;\" x=\"175.491647\" xlink:href=\"#C0_0_11cfa82479\" y=\"191.248181\"/>\n    </g>\n    <g clip-path=\"url(#pef30aa0050)\">\n     <use style=\"fill:#a4f89f;stroke:#a4f89f;\" x=\"136.767531\" xlink:href=\"#C0_0_11cfa82479\" y=\"97.195805\"/>\n    </g>\n    <g clip-path=\"url(#pef30aa0050)\">\n     <use style=\"fill:#ecc86f;stroke:#ecc86f;\" x=\"208.802562\" xlink:href=\"#C0_0_11cfa82479\" y=\"138.738946\"/>\n    </g>\n    <g clip-path=\"url(#pef30aa0050)\">\n     <use style=\"fill:#ff6d38;stroke:#ff6d38;\" x=\"86.484417\" xlink:href=\"#C0_0_11cfa82479\" y=\"229.873983\"/>\n    </g>\n    <g clip-path=\"url(#pef30aa0050)\">\n     <use style=\"fill:#386df9;stroke:#386df9;\" x=\"106.616587\" xlink:href=\"#C0_0_11cfa82479\" y=\"321.546778\"/>\n    </g>\n    <g clip-path=\"url(#pef30aa0050)\">\n     <use style=\"fill:#386df9;stroke:#386df9;\" x=\"108.247707\" xlink:href=\"#C0_0_11cfa82479\" y=\"281.155333\"/>\n    </g>\n    <g clip-path=\"url(#pef30aa0050)\">\n     <use style=\"fill:#ff6d38;stroke:#ff6d38;\" x=\"92.360087\" xlink:href=\"#C0_0_11cfa82479\" y=\"220.648958\"/>\n    </g>\n    <g clip-path=\"url(#pef30aa0050)\">\n     <use style=\"fill:#ecc86f;stroke:#ecc86f;\" x=\"184.073718\" xlink:href=\"#C0_0_11cfa82479\" y=\"117.273493\"/>\n    </g>\n    <g clip-path=\"url(#pef30aa0050)\">\n     <use style=\"fill:#ecc86f;stroke:#ecc86f;\" x=\"193.01059\" xlink:href=\"#C0_0_11cfa82479\" y=\"125.499049\"/>\n    </g>\n    <g clip-path=\"url(#pef30aa0050)\">\n     <use style=\"fill:#386df9;stroke:#386df9;\" x=\"103.138316\" xlink:href=\"#C0_0_11cfa82479\" y=\"297.253824\"/>\n    </g>\n    <g clip-path=\"url(#pef30aa0050)\">\n     <use style=\"fill:#ff0000;stroke:#ff0000;\" x=\"243.877309\" xlink:href=\"#C0_0_11cfa82479\" y=\"68.275806\"/>\n    </g>\n    <g clip-path=\"url(#pef30aa0050)\">\n     <use style=\"fill:#a4f89f;stroke:#a4f89f;\" x=\"150.795955\" xlink:href=\"#C0_0_11cfa82479\" y=\"95.85192\"/>\n    </g>\n    <g clip-path=\"url(#pef30aa0050)\">\n     <use style=\"fill:#386df9;stroke:#386df9;\" x=\"107.737129\" xlink:href=\"#C0_0_11cfa82479\" y=\"272.995049\"/>\n    </g>\n    <g clip-path=\"url(#pef30aa0050)\">\n     <use style=\"fill:#ff0000;stroke:#ff0000;\" x=\"266.26814\" xlink:href=\"#C0_0_11cfa82479\" y=\"132.42286\"/>\n    </g>\n    <g clip-path=\"url(#pef30aa0050)\">\n     <use style=\"fill:#ecc86f;stroke:#ecc86f;\" x=\"174.743558\" xlink:href=\"#C0_0_11cfa82479\" y=\"141.365987\"/>\n    </g>\n    <g clip-path=\"url(#pef30aa0050)\">\n     <use style=\"fill:#ff6d38;stroke:#ff6d38;\" x=\"82.18829\" xlink:href=\"#C0_0_11cfa82479\" y=\"279.086744\"/>\n    </g>\n    <g clip-path=\"url(#pef30aa0050)\">\n     <use style=\"fill:#ecc86f;stroke:#ecc86f;\" x=\"203.621131\" xlink:href=\"#C0_0_11cfa82479\" y=\"147.935558\"/>\n    </g>\n    <g clip-path=\"url(#pef30aa0050)\">\n     <use style=\"fill:#8000ff;stroke:#8000ff;\" x=\"158.091561\" xlink:href=\"#C0_0_11cfa82479\" y=\"194.315207\"/>\n    </g>\n    <g clip-path=\"url(#pef30aa0050)\">\n     <use style=\"fill:#ecc86f;stroke:#ecc86f;\" x=\"190.403031\" xlink:href=\"#C0_0_11cfa82479\" y=\"105.439039\"/>\n    </g>\n    <g clip-path=\"url(#pef30aa0050)\">\n     <use style=\"fill:#ecc86f;stroke:#ecc86f;\" x=\"178.189399\" xlink:href=\"#C0_0_11cfa82479\" y=\"135.255591\"/>\n    </g>\n    <g clip-path=\"url(#pef30aa0050)\">\n     <use style=\"fill:#ff6d38;stroke:#ff6d38;\" x=\"95.442198\" xlink:href=\"#C0_0_11cfa82479\" y=\"264.917318\"/>\n    </g>\n    <g clip-path=\"url(#pef30aa0050)\">\n     <use style=\"fill:#ff0000;stroke:#ff0000;\" x=\"277.412126\" xlink:href=\"#C0_0_11cfa82479\" y=\"63.994733\"/>\n    </g>\n    <g clip-path=\"url(#pef30aa0050)\">\n     <use style=\"fill:#386df9;stroke:#386df9;\" x=\"97.527776\" xlink:href=\"#C0_0_11cfa82479\" y=\"291.974825\"/>\n    </g>\n    <g clip-path=\"url(#pef30aa0050)\">\n     <use style=\"fill:#386df9;stroke:#386df9;\" x=\"95.239947\" xlink:href=\"#C0_0_11cfa82479\" y=\"281.490843\"/>\n    </g>\n    <g clip-path=\"url(#pef30aa0050)\">\n     <use style=\"fill:#ff0000;stroke:#ff0000;\" x=\"240.44225\" xlink:href=\"#C0_0_11cfa82479\" y=\"156.303416\"/>\n    </g>\n    <g clip-path=\"url(#pef30aa0050)\">\n     <use style=\"fill:#12c8e6;stroke:#12c8e6;\" x=\"163.320315\" xlink:href=\"#C0_0_11cfa82479\" y=\"92.382915\"/>\n    </g>\n    <g clip-path=\"url(#pef30aa0050)\">\n     <use style=\"fill:#a4f89f;stroke:#a4f89f;\" x=\"148.196966\" xlink:href=\"#C0_0_11cfa82479\" y=\"101.073938\"/>\n    </g>\n    <g clip-path=\"url(#pef30aa0050)\">\n     <use style=\"fill:#5af8c8;stroke:#5af8c8;\" x=\"213.544546\" xlink:href=\"#C0_0_11cfa82479\" y=\"77.760118\"/>\n    </g>\n    <g clip-path=\"url(#pef30aa0050)\">\n     <use style=\"fill:#386df9;stroke:#386df9;\" x=\"97.026649\" xlink:href=\"#C0_0_11cfa82479\" y=\"333.65267\"/>\n    </g>\n    <g clip-path=\"url(#pef30aa0050)\">\n     <use style=\"fill:#ff0000;stroke:#ff0000;\" x=\"231.173885\" xlink:href=\"#C0_0_11cfa82479\" y=\"107.249996\"/>\n    </g>\n    <g clip-path=\"url(#pef30aa0050)\">\n     <use style=\"fill:#12c8e6;stroke:#12c8e6;\" x=\"155.882642\" xlink:href=\"#C0_0_11cfa82479\" y=\"81.275284\"/>\n    </g>\n    <g clip-path=\"url(#pef30aa0050)\">\n     <use style=\"fill:#a4f89f;stroke:#a4f89f;\" x=\"124.719008\" xlink:href=\"#C0_0_11cfa82479\" y=\"59.137325\"/>\n    </g>\n    <g clip-path=\"url(#pef30aa0050)\">\n     <use style=\"fill:#5af8c8;stroke:#5af8c8;\" x=\"202.292636\" xlink:href=\"#C0_0_11cfa82479\" y=\"97.737292\"/>\n    </g>\n    <g clip-path=\"url(#pef30aa0050)\">\n     <use style=\"fill:#12c8e6;stroke:#12c8e6;\" x=\"178.871365\" xlink:href=\"#C0_0_11cfa82479\" y=\"80.8028\"/>\n    </g>\n    <g clip-path=\"url(#pef30aa0050)\">\n     <use style=\"fill:#ecc86f;stroke:#ecc86f;\" x=\"200.514228\" xlink:href=\"#C0_0_11cfa82479\" y=\"121.966414\"/>\n    </g>\n    <g clip-path=\"url(#pef30aa0050)\">\n     <use style=\"fill:#a4f89f;stroke:#a4f89f;\" x=\"146.16869\" xlink:href=\"#C0_0_11cfa82479\" y=\"105.730966\"/>\n    </g>\n    <g clip-path=\"url(#pef30aa0050)\">\n     <use style=\"fill:#8000ff;stroke:#8000ff;\" x=\"175.706103\" xlink:href=\"#C0_0_11cfa82479\" y=\"168.236316\"/>\n    </g>\n    <g clip-path=\"url(#pef30aa0050)\">\n     <use style=\"fill:#a4f89f;stroke:#a4f89f;\" x=\"130.228906\" xlink:href=\"#C0_0_11cfa82479\" y=\"88.646305\"/>\n    </g>\n    <g clip-path=\"url(#pef30aa0050)\">\n     <use style=\"fill:#8000ff;stroke:#8000ff;\" x=\"186.798941\" xlink:href=\"#C0_0_11cfa82479\" y=\"167.414076\"/>\n    </g>\n    <g clip-path=\"url(#pef30aa0050)\">\n     <use style=\"fill:#ff0000;stroke:#ff0000;\" x=\"243.558968\" xlink:href=\"#C0_0_11cfa82479\" y=\"114.541483\"/>\n    </g>\n    <g clip-path=\"url(#pef30aa0050)\">\n     <use style=\"fill:#a4f89f;stroke:#a4f89f;\" x=\"128.670932\" xlink:href=\"#C0_0_11cfa82479\" y=\"53.783327\"/>\n    </g>\n    <g clip-path=\"url(#pef30aa0050)\">\n     <use style=\"fill:#8000ff;stroke:#8000ff;\" x=\"162.885203\" xlink:href=\"#C0_0_11cfa82479\" y=\"201.480065\"/>\n    </g>\n    <g clip-path=\"url(#pef30aa0050)\">\n     <use style=\"fill:#386df9;stroke:#386df9;\" x=\"91.530843\" xlink:href=\"#C0_0_11cfa82479\" y=\"295.969441\"/>\n    </g>\n    <g clip-path=\"url(#pef30aa0050)\">\n     <use style=\"fill:#12c8e6;stroke:#12c8e6;\" x=\"167.250515\" xlink:href=\"#C0_0_11cfa82479\" y=\"102.903464\"/>\n    </g>\n    <g clip-path=\"url(#pef30aa0050)\">\n     <use style=\"fill:#a4f89f;stroke:#a4f89f;\" x=\"148.445156\" xlink:href=\"#C0_0_11cfa82479\" y=\"99.875425\"/>\n    </g>\n    <g clip-path=\"url(#pef30aa0050)\">\n     <use style=\"fill:#12c8e6;stroke:#12c8e6;\" x=\"153.984687\" xlink:href=\"#C0_0_11cfa82479\" y=\"73.659357\"/>\n    </g>\n    <g clip-path=\"url(#pef30aa0050)\">\n     <use style=\"fill:#8000ff;stroke:#8000ff;\" x=\"196.57301\" xlink:href=\"#C0_0_11cfa82479\" y=\"168.537823\"/>\n    </g>\n    <g clip-path=\"url(#pef30aa0050)\">\n     <use style=\"fill:#386df9;stroke:#386df9;\" x=\"102.012473\" xlink:href=\"#C0_0_11cfa82479\" y=\"307.858681\"/>\n    </g>\n    <g clip-path=\"url(#pef30aa0050)\">\n     <use style=\"fill:#ff6d38;stroke:#ff6d38;\" x=\"46.833613\" xlink:href=\"#C0_0_11cfa82479\" y=\"244.465951\"/>\n    </g>\n    <g clip-path=\"url(#pef30aa0050)\">\n     <use style=\"fill:#a4f89f;stroke:#a4f89f;\" x=\"149.274157\" xlink:href=\"#C0_0_11cfa82479\" y=\"102.509378\"/>\n    </g>\n    <g clip-path=\"url(#pef30aa0050)\">\n     <use style=\"fill:#ff0000;stroke:#ff0000;\" x=\"224.948168\" xlink:href=\"#C0_0_11cfa82479\" y=\"134.086411\"/>\n    </g>\n    <g clip-path=\"url(#pef30aa0050)\">\n     <use style=\"fill:#ecc86f;stroke:#ecc86f;\" x=\"151.960057\" xlink:href=\"#C0_0_11cfa82479\" y=\"137.957293\"/>\n    </g>\n    <g clip-path=\"url(#pef30aa0050)\">\n     <use style=\"fill:#5af8c8;stroke:#5af8c8;\" x=\"228.951963\" xlink:href=\"#C0_0_11cfa82479\" y=\"68.94813\"/>\n    </g>\n    <g clip-path=\"url(#pef30aa0050)\">\n     <use style=\"fill:#8000ff;stroke:#8000ff;\" x=\"205.555536\" xlink:href=\"#C0_0_11cfa82479\" y=\"186.257519\"/>\n    </g>\n    <g clip-path=\"url(#pef30aa0050)\">\n     <use style=\"fill:#386df9;stroke:#386df9;\" x=\"89.168167\" xlink:href=\"#C0_0_11cfa82479\" y=\"291.830843\"/>\n    </g>\n    <g clip-path=\"url(#pef30aa0050)\">\n     <use style=\"fill:#ff0000;stroke:#ff0000;\" x=\"243.31085\" xlink:href=\"#C0_0_11cfa82479\" y=\"146.44738\"/>\n    </g>\n    <g clip-path=\"url(#pef30aa0050)\">\n     <use style=\"fill:#ff6d38;stroke:#ff6d38;\" x=\"92.930889\" xlink:href=\"#C0_0_11cfa82479\" y=\"262.668295\"/>\n    </g>\n    <g clip-path=\"url(#pef30aa0050)\">\n     <use style=\"fill:#12c8e6;stroke:#12c8e6;\" x=\"185.080532\" xlink:href=\"#C0_0_11cfa82479\" y=\"72.771671\"/>\n    </g>\n    <g clip-path=\"url(#pef30aa0050)\">\n     <use style=\"fill:#12c8e6;stroke:#12c8e6;\" x=\"177.026743\" xlink:href=\"#C0_0_11cfa82479\" y=\"83.590744\"/>\n    </g>\n    <g clip-path=\"url(#pef30aa0050)\">\n     <use style=\"fill:#5af8c8;stroke:#5af8c8;\" x=\"212.880623\" xlink:href=\"#C0_0_11cfa82479\" y=\"107.567974\"/>\n    </g>\n    <g clip-path=\"url(#pef30aa0050)\">\n     <use style=\"fill:#ecc86f;stroke:#ecc86f;\" x=\"176.918173\" xlink:href=\"#C0_0_11cfa82479\" y=\"127.388568\"/>\n    </g>\n    <g clip-path=\"url(#pef30aa0050)\">\n     <use style=\"fill:#386df9;stroke:#386df9;\" x=\"109.173787\" xlink:href=\"#C0_0_11cfa82479\" y=\"302.956219\"/>\n    </g>\n    <g clip-path=\"url(#pef30aa0050)\">\n     <use style=\"fill:#a4f89f;stroke:#a4f89f;\" x=\"152.321055\" xlink:href=\"#C0_0_11cfa82479\" y=\"90.484545\"/>\n    </g>\n    <g clip-path=\"url(#pef30aa0050)\">\n     <use style=\"fill:#a4f89f;stroke:#a4f89f;\" x=\"137.023933\" xlink:href=\"#C0_0_11cfa82479\" y=\"82.087434\"/>\n    </g>\n    <g clip-path=\"url(#pef30aa0050)\">\n     <use style=\"fill:#12c8e6;stroke:#12c8e6;\" x=\"165.309755\" xlink:href=\"#C0_0_11cfa82479\" y=\"41.980838\"/>\n    </g>\n    <g clip-path=\"url(#pef30aa0050)\">\n     <use style=\"fill:#12c8e6;stroke:#12c8e6;\" x=\"168.625998\" xlink:href=\"#C0_0_11cfa82479\" y=\"66.790114\"/>\n    </g>\n    <g clip-path=\"url(#pef30aa0050)\">\n     <use style=\"fill:#8000ff;stroke:#8000ff;\" x=\"191.145786\" xlink:href=\"#C0_0_11cfa82479\" y=\"163.48658\"/>\n    </g>\n    <g clip-path=\"url(#pef30aa0050)\">\n     <use style=\"fill:#ff0000;stroke:#ff0000;\" x=\"224.52784\" xlink:href=\"#C0_0_11cfa82479\" y=\"126.195115\"/>\n    </g>\n    <g clip-path=\"url(#pef30aa0050)\">\n     <use style=\"fill:#8000ff;stroke:#8000ff;\" x=\"206.535208\" xlink:href=\"#C0_0_11cfa82479\" y=\"203.048269\"/>\n    </g>\n    <g clip-path=\"url(#pef30aa0050)\">\n     <use style=\"fill:#a4f89f;stroke:#a4f89f;\" x=\"105.804477\" xlink:href=\"#C0_0_11cfa82479\" y=\"85.868366\"/>\n    </g>\n    <g clip-path=\"url(#pef30aa0050)\">\n     <use style=\"fill:#ecc86f;stroke:#ecc86f;\" x=\"209.777909\" xlink:href=\"#C0_0_11cfa82479\" y=\"127.215597\"/>\n    </g>\n    <g clip-path=\"url(#pef30aa0050)\">\n     <use style=\"fill:#5af8c8;stroke:#5af8c8;\" x=\"216.881816\" xlink:href=\"#C0_0_11cfa82479\" y=\"71.71096\"/>\n    </g>\n    <g clip-path=\"url(#pef30aa0050)\">\n     <use style=\"fill:#5af8c8;stroke:#5af8c8;\" x=\"223.365833\" xlink:href=\"#C0_0_11cfa82479\" y=\"94.174686\"/>\n    </g>\n    <g clip-path=\"url(#pef30aa0050)\">\n     <use style=\"fill:#8000ff;stroke:#8000ff;\" x=\"205.114628\" xlink:href=\"#C0_0_11cfa82479\" y=\"195.25214\"/>\n    </g>\n    <g clip-path=\"url(#pef30aa0050)\">\n     <use style=\"fill:#ff0000;stroke:#ff0000;\" x=\"232.108669\" xlink:href=\"#C0_0_11cfa82479\" y=\"91.237856\"/>\n    </g>\n    <g clip-path=\"url(#pef30aa0050)\">\n     <use style=\"fill:#8000ff;stroke:#8000ff;\" x=\"208.09853\" xlink:href=\"#C0_0_11cfa82479\" y=\"171.27256\"/>\n    </g>\n    <g clip-path=\"url(#pef30aa0050)\">\n     <use style=\"fill:#ecc86f;stroke:#ecc86f;\" x=\"168.697698\" xlink:href=\"#C0_0_11cfa82479\" y=\"136.714258\"/>\n    </g>\n    <g clip-path=\"url(#pef30aa0050)\">\n     <use style=\"fill:#a4f89f;stroke:#a4f89f;\" x=\"122.954042\" xlink:href=\"#C0_0_11cfa82479\" y=\"135.808302\"/>\n    </g>\n    <g clip-path=\"url(#pef30aa0050)\">\n     <use style=\"fill:#ff6d38;stroke:#ff6d38;\" x=\"65.875701\" xlink:href=\"#C0_0_11cfa82479\" y=\"273.607187\"/>\n    </g>\n    <g clip-path=\"url(#pef30aa0050)\">\n     <use style=\"fill:#a4f89f;stroke:#a4f89f;\" x=\"129.521006\" xlink:href=\"#C0_0_11cfa82479\" y=\"108.26746\"/>\n    </g>\n    <g clip-path=\"url(#pef30aa0050)\">\n     <use style=\"fill:#ecc86f;stroke:#ecc86f;\" x=\"176.602838\" xlink:href=\"#C0_0_11cfa82479\" y=\"161.176448\"/>\n    </g>\n    <g clip-path=\"url(#pef30aa0050)\">\n     <use style=\"fill:#ff0000;stroke:#ff0000;\" x=\"245.438485\" xlink:href=\"#C0_0_11cfa82479\" y=\"93.26782\"/>\n    </g>\n    <g clip-path=\"url(#pef30aa0050)\">\n     <use style=\"fill:#12c8e6;stroke:#12c8e6;\" x=\"159.978688\" xlink:href=\"#C0_0_11cfa82479\" y=\"70.730286\"/>\n    </g>\n    <g clip-path=\"url(#pef30aa0050)\">\n     <use style=\"fill:#8000ff;stroke:#8000ff;\" x=\"232.328343\" xlink:href=\"#C0_0_11cfa82479\" y=\"188.023373\"/>\n    </g>\n    <g clip-path=\"url(#pef30aa0050)\">\n     <use style=\"fill:#ff0000;stroke:#ff0000;\" x=\"231.459016\" xlink:href=\"#C0_0_11cfa82479\" y=\"86.185342\"/>\n    </g>\n    <g clip-path=\"url(#pef30aa0050)\">\n     <use style=\"fill:#8000ff;stroke:#8000ff;\" x=\"205.060337\" xlink:href=\"#C0_0_11cfa82479\" y=\"164.979244\"/>\n    </g>\n    <g clip-path=\"url(#pef30aa0050)\">\n     <use style=\"fill:#a4f89f;stroke:#a4f89f;\" x=\"142.815257\" xlink:href=\"#C0_0_11cfa82479\" y=\"83.325976\"/>\n    </g>\n    <g clip-path=\"url(#pef30aa0050)\">\n     <use style=\"fill:#5af8c8;stroke:#5af8c8;\" x=\"189.220011\" xlink:href=\"#C0_0_11cfa82479\" y=\"92.240335\"/>\n    </g>\n    <g clip-path=\"url(#pef30aa0050)\">\n     <use style=\"fill:#ecc86f;stroke:#ecc86f;\" x=\"191.470748\" xlink:href=\"#C0_0_11cfa82479\" y=\"126.435066\"/>\n    </g>\n    <g clip-path=\"url(#pef30aa0050)\">\n     <use style=\"fill:#a4f89f;stroke:#a4f89f;\" x=\"117.834511\" xlink:href=\"#C0_0_11cfa82479\" y=\"117.305084\"/>\n    </g>\n    <g clip-path=\"url(#pef30aa0050)\">\n     <use style=\"fill:#5af8c8;stroke:#5af8c8;\" x=\"229.4636\" xlink:href=\"#C0_0_11cfa82479\" y=\"85.031632\"/>\n    </g>\n    <g clip-path=\"url(#pef30aa0050)\">\n     <use style=\"fill:#5af8c8;stroke:#5af8c8;\" x=\"201.763298\" xlink:href=\"#C0_0_11cfa82479\" y=\"93.467002\"/>\n    </g>\n    <g clip-path=\"url(#pef30aa0050)\">\n     <use style=\"fill:#386df9;stroke:#386df9;\" x=\"132.565086\" xlink:href=\"#C0_0_11cfa82479\" y=\"307.449472\"/>\n    </g>\n    <g clip-path=\"url(#pef30aa0050)\">\n     <use style=\"fill:#5af8c8;stroke:#5af8c8;\" x=\"207.875538\" xlink:href=\"#C0_0_11cfa82479\" y=\"101.361995\"/>\n    </g>\n    <g clip-path=\"url(#pef30aa0050)\">\n     <use style=\"fill:#12c8e6;stroke:#12c8e6;\" x=\"157.239455\" xlink:href=\"#C0_0_11cfa82479\" y=\"72.09311\"/>\n    </g>\n    <g clip-path=\"url(#pef30aa0050)\">\n     <use style=\"fill:#386df9;stroke:#386df9;\" x=\"111.60445\" xlink:href=\"#C0_0_11cfa82479\" y=\"320.065519\"/>\n    </g>\n    <g clip-path=\"url(#pef30aa0050)\">\n     <use style=\"fill:#386df9;stroke:#386df9;\" x=\"110.150294\" xlink:href=\"#C0_0_11cfa82479\" y=\"299.177151\"/>\n    </g>\n    <g clip-path=\"url(#pef30aa0050)\">\n     <use style=\"fill:#12c8e6;stroke:#12c8e6;\" x=\"181.735902\" xlink:href=\"#C0_0_11cfa82479\" y=\"48.796068\"/>\n    </g>\n    <g clip-path=\"url(#pef30aa0050)\">\n     <use style=\"fill:#ff6d38;stroke:#ff6d38;\" x=\"98.971302\" xlink:href=\"#C0_0_11cfa82479\" y=\"261.371574\"/>\n    </g>\n    <g clip-path=\"url(#pef30aa0050)\">\n     <use style=\"fill:#386df9;stroke:#386df9;\" x=\"89.224907\" xlink:href=\"#C0_0_11cfa82479\" y=\"322.642989\"/>\n    </g>\n    <g clip-path=\"url(#pef30aa0050)\">\n     <use style=\"fill:#ff6d38;stroke:#ff6d38;\" x=\"99.614176\" xlink:href=\"#C0_0_11cfa82479\" y=\"225.331873\"/>\n    </g>\n    <g clip-path=\"url(#pef30aa0050)\">\n     <use style=\"fill:#386df9;stroke:#386df9;\" x=\"93.806376\" xlink:href=\"#C0_0_11cfa82479\" y=\"304.978836\"/>\n    </g>\n    <g clip-path=\"url(#pef30aa0050)\">\n     <use style=\"fill:#386df9;stroke:#386df9;\" x=\"76.318265\" xlink:href=\"#C0_0_11cfa82479\" y=\"328.57499\"/>\n    </g>\n    <g clip-path=\"url(#pef30aa0050)\">\n     <use style=\"fill:#8000ff;stroke:#8000ff;\" x=\"196.215485\" xlink:href=\"#C0_0_11cfa82479\" y=\"184.816218\"/>\n    </g>\n    <g clip-path=\"url(#pef30aa0050)\">\n     <use style=\"fill:#ff6d38;stroke:#ff6d38;\" x=\"91.034188\" xlink:href=\"#C0_0_11cfa82479\" y=\"255.740367\"/>\n    </g>\n    <g clip-path=\"url(#pef30aa0050)\">\n     <use style=\"fill:#ff0000;stroke:#ff0000;\" x=\"245.104819\" xlink:href=\"#C0_0_11cfa82479\" y=\"88.755396\"/>\n    </g>\n    <g clip-path=\"url(#pef30aa0050)\">\n     <use style=\"fill:#ff0000;stroke:#ff0000;\" x=\"234.651539\" xlink:href=\"#C0_0_11cfa82479\" y=\"81.547004\"/>\n    </g>\n    <g clip-path=\"url(#pef30aa0050)\">\n     <use style=\"fill:#a4f89f;stroke:#a4f89f;\" x=\"153.777759\" xlink:href=\"#C0_0_11cfa82479\" y=\"94.11999\"/>\n    </g>\n    <g clip-path=\"url(#pef30aa0050)\">\n     <use style=\"fill:#386df9;stroke:#386df9;\" x=\"102.240421\" xlink:href=\"#C0_0_11cfa82479\" y=\"276.983194\"/>\n    </g>\n    <g clip-path=\"url(#pef30aa0050)\">\n     <use style=\"fill:#ecc86f;stroke:#ecc86f;\" x=\"197.002693\" xlink:href=\"#C0_0_11cfa82479\" y=\"124.547156\"/>\n    </g>\n    <g clip-path=\"url(#pef30aa0050)\">\n     <use style=\"fill:#ff0000;stroke:#ff0000;\" x=\"255.843236\" xlink:href=\"#C0_0_11cfa82479\" y=\"78.560402\"/>\n    </g>\n    <g clip-path=\"url(#pef30aa0050)\">\n     <use style=\"fill:#ff0000;stroke:#ff0000;\" x=\"241.603925\" xlink:href=\"#C0_0_11cfa82479\" y=\"68.016547\"/>\n    </g>\n    <g clip-path=\"url(#pef30aa0050)\">\n     <use style=\"fill:#ff6d38;stroke:#ff6d38;\" x=\"97.745492\" xlink:href=\"#C0_0_11cfa82479\" y=\"251.373745\"/>\n    </g>\n    <g clip-path=\"url(#pef30aa0050)\">\n     <use style=\"fill:#8000ff;stroke:#8000ff;\" x=\"212.024506\" xlink:href=\"#C0_0_11cfa82479\" y=\"176.900739\"/>\n    </g>\n   </g>\n   <g id=\"matplotlib.axis_1\">\n    <g id=\"xtick_1\">\n     <g id=\"line2d_1\">\n      <defs>\n       <path d=\"M 0 0 \nL 0 3.5 \n\" id=\"ma26b4f570f\" style=\"stroke:#000000;stroke-width:0.8;\"/>\n      </defs>\n      <g>\n       <use style=\"stroke:#000000;stroke-width:0.8;\" x=\"40.409633\" xlink:href=\"#ma26b4f570f\" y=\"348.478125\"/>\n      </g>\n     </g>\n     <g id=\"text_1\">\n      <!-- −15 -->\n      <g transform=\"translate(29.857289 363.076563)scale(0.1 -0.1)\">\n       <defs>\n        <path d=\"M 10.59375 35.5 \nL 73.1875 35.5 \nL 73.1875 27.203125 \nL 10.59375 27.203125 \nz\n\" id=\"DejaVuSans-8722\"/>\n        <path d=\"M 12.40625 8.296875 \nL 28.515625 8.296875 \nL 28.515625 63.921875 \nL 10.984375 60.40625 \nL 10.984375 69.390625 \nL 28.421875 72.90625 \nL 38.28125 72.90625 \nL 38.28125 8.296875 \nL 54.390625 8.296875 \nL 54.390625 0 \nL 12.40625 0 \nz\n\" id=\"DejaVuSans-49\"/>\n        <path d=\"M 10.796875 72.90625 \nL 49.515625 72.90625 \nL 49.515625 64.59375 \nL 19.828125 64.59375 \nL 19.828125 46.734375 \nQ 21.96875 47.46875 24.109375 47.828125 \nQ 26.265625 48.1875 28.421875 48.1875 \nQ 40.625 48.1875 47.75 41.5 \nQ 54.890625 34.8125 54.890625 23.390625 \nQ 54.890625 11.625 47.5625 5.09375 \nQ 40.234375 -1.421875 26.90625 -1.421875 \nQ 22.3125 -1.421875 17.546875 -0.640625 \nQ 12.796875 0.140625 7.71875 1.703125 \nL 7.71875 11.625 \nQ 12.109375 9.234375 16.796875 8.0625 \nQ 21.484375 6.890625 26.703125 6.890625 \nQ 35.15625 6.890625 40.078125 11.328125 \nQ 45.015625 15.765625 45.015625 23.390625 \nQ 45.015625 31 40.078125 35.4375 \nQ 35.15625 39.890625 26.703125 39.890625 \nQ 22.75 39.890625 18.8125 39.015625 \nQ 14.890625 38.140625 10.796875 36.28125 \nz\n\" id=\"DejaVuSans-53\"/>\n       </defs>\n       <use xlink:href=\"#DejaVuSans-8722\"/>\n       <use x=\"83.789062\" xlink:href=\"#DejaVuSans-49\"/>\n       <use x=\"147.412109\" xlink:href=\"#DejaVuSans-53\"/>\n      </g>\n     </g>\n    </g>\n    <g id=\"xtick_2\">\n     <g id=\"line2d_2\">\n      <g>\n       <use style=\"stroke:#000000;stroke-width:0.8;\" x=\"90.371039\" xlink:href=\"#ma26b4f570f\" y=\"348.478125\"/>\n      </g>\n     </g>\n     <g id=\"text_2\">\n      <!-- −10 -->\n      <g transform=\"translate(79.818695 363.076563)scale(0.1 -0.1)\">\n       <defs>\n        <path d=\"M 31.78125 66.40625 \nQ 24.171875 66.40625 20.328125 58.90625 \nQ 16.5 51.421875 16.5 36.375 \nQ 16.5 21.390625 20.328125 13.890625 \nQ 24.171875 6.390625 31.78125 6.390625 \nQ 39.453125 6.390625 43.28125 13.890625 \nQ 47.125 21.390625 47.125 36.375 \nQ 47.125 51.421875 43.28125 58.90625 \nQ 39.453125 66.40625 31.78125 66.40625 \nz\nM 31.78125 74.21875 \nQ 44.046875 74.21875 50.515625 64.515625 \nQ 56.984375 54.828125 56.984375 36.375 \nQ 56.984375 17.96875 50.515625 8.265625 \nQ 44.046875 -1.421875 31.78125 -1.421875 \nQ 19.53125 -1.421875 13.0625 8.265625 \nQ 6.59375 17.96875 6.59375 36.375 \nQ 6.59375 54.828125 13.0625 64.515625 \nQ 19.53125 74.21875 31.78125 74.21875 \nz\n\" id=\"DejaVuSans-48\"/>\n       </defs>\n       <use xlink:href=\"#DejaVuSans-8722\"/>\n       <use x=\"83.789062\" xlink:href=\"#DejaVuSans-49\"/>\n       <use x=\"147.412109\" xlink:href=\"#DejaVuSans-48\"/>\n      </g>\n     </g>\n    </g>\n    <g id=\"xtick_3\">\n     <g id=\"line2d_3\">\n      <g>\n       <use style=\"stroke:#000000;stroke-width:0.8;\" x=\"140.332445\" xlink:href=\"#ma26b4f570f\" y=\"348.478125\"/>\n      </g>\n     </g>\n     <g id=\"text_3\">\n      <!-- −5 -->\n      <g transform=\"translate(132.961352 363.076563)scale(0.1 -0.1)\">\n       <use xlink:href=\"#DejaVuSans-8722\"/>\n       <use x=\"83.789062\" xlink:href=\"#DejaVuSans-53\"/>\n      </g>\n     </g>\n    </g>\n    <g id=\"xtick_4\">\n     <g id=\"line2d_4\">\n      <g>\n       <use style=\"stroke:#000000;stroke-width:0.8;\" x=\"190.293852\" xlink:href=\"#ma26b4f570f\" y=\"348.478125\"/>\n      </g>\n     </g>\n     <g id=\"text_4\">\n      <!-- 0 -->\n      <g transform=\"translate(187.112602 363.076563)scale(0.1 -0.1)\">\n       <use xlink:href=\"#DejaVuSans-48\"/>\n      </g>\n     </g>\n    </g>\n    <g id=\"xtick_5\">\n     <g id=\"line2d_5\">\n      <g>\n       <use style=\"stroke:#000000;stroke-width:0.8;\" x=\"240.255258\" xlink:href=\"#ma26b4f570f\" y=\"348.478125\"/>\n      </g>\n     </g>\n     <g id=\"text_5\">\n      <!-- 5 -->\n      <g transform=\"translate(237.074008 363.076563)scale(0.1 -0.1)\">\n       <use xlink:href=\"#DejaVuSans-53\"/>\n      </g>\n     </g>\n    </g>\n   </g>\n   <g id=\"matplotlib.axis_2\">\n    <g id=\"ytick_1\">\n     <g id=\"line2d_6\">\n      <defs>\n       <path d=\"M 0 0 \nL -3.5 0 \n\" id=\"m1dca56c01d\" style=\"stroke:#000000;stroke-width:0.8;\"/>\n      </defs>\n      <g>\n       <use style=\"stroke:#000000;stroke-width:0.8;\" x=\"35.304688\" xlink:href=\"#m1dca56c01d\" y=\"328.520742\"/>\n      </g>\n     </g>\n     <g id=\"text_6\">\n      <!-- −10 -->\n      <g transform=\"translate(7.2 332.319961)scale(0.1 -0.1)\">\n       <use xlink:href=\"#DejaVuSans-8722\"/>\n       <use x=\"83.789062\" xlink:href=\"#DejaVuSans-49\"/>\n       <use x=\"147.412109\" xlink:href=\"#DejaVuSans-48\"/>\n      </g>\n     </g>\n    </g>\n    <g id=\"ytick_2\">\n     <g id=\"line2d_7\">\n      <g>\n       <use style=\"stroke:#000000;stroke-width:0.8;\" x=\"35.304688\" xlink:href=\"#m1dca56c01d\" y=\"260.416561\"/>\n      </g>\n     </g>\n     <g id=\"text_7\">\n      <!-- −5 -->\n      <g transform=\"translate(13.5625 264.21578)scale(0.1 -0.1)\">\n       <use xlink:href=\"#DejaVuSans-8722\"/>\n       <use x=\"83.789062\" xlink:href=\"#DejaVuSans-53\"/>\n      </g>\n     </g>\n    </g>\n    <g id=\"ytick_3\">\n     <g id=\"line2d_8\">\n      <g>\n       <use style=\"stroke:#000000;stroke-width:0.8;\" x=\"35.304688\" xlink:href=\"#m1dca56c01d\" y=\"192.312381\"/>\n      </g>\n     </g>\n     <g id=\"text_8\">\n      <!-- 0 -->\n      <g transform=\"translate(21.942187 196.1116)scale(0.1 -0.1)\">\n       <use xlink:href=\"#DejaVuSans-48\"/>\n      </g>\n     </g>\n    </g>\n    <g id=\"ytick_4\">\n     <g id=\"line2d_9\">\n      <g>\n       <use style=\"stroke:#000000;stroke-width:0.8;\" x=\"35.304688\" xlink:href=\"#m1dca56c01d\" y=\"124.208201\"/>\n      </g>\n     </g>\n     <g id=\"text_9\">\n      <!-- 5 -->\n      <g transform=\"translate(21.942187 128.007419)scale(0.1 -0.1)\">\n       <use xlink:href=\"#DejaVuSans-53\"/>\n      </g>\n     </g>\n    </g>\n    <g id=\"ytick_5\">\n     <g id=\"line2d_10\">\n      <g>\n       <use style=\"stroke:#000000;stroke-width:0.8;\" x=\"35.304688\" xlink:href=\"#m1dca56c01d\" y=\"56.10402\"/>\n      </g>\n     </g>\n     <g id=\"text_10\">\n      <!-- 10 -->\n      <g transform=\"translate(15.579687 59.903239)scale(0.1 -0.1)\">\n       <use xlink:href=\"#DejaVuSans-49\"/>\n       <use x=\"63.623047\" xlink:href=\"#DejaVuSans-48\"/>\n      </g>\n     </g>\n    </g>\n   </g>\n   <g id=\"patch_3\">\n    <path d=\"M 35.304688 348.478125 \nL 35.304688 22.318125 \n\" style=\"fill:none;stroke:#000000;stroke-linecap:square;stroke-linejoin:miter;stroke-width:0.8;\"/>\n   </g>\n   <g id=\"patch_4\">\n    <path d=\"M 288.941051 348.478125 \nL 288.941051 22.318125 \n\" style=\"fill:none;stroke:#000000;stroke-linecap:square;stroke-linejoin:miter;stroke-width:0.8;\"/>\n   </g>\n   <g id=\"patch_5\">\n    <path d=\"M 35.304688 348.478125 \nL 288.941051 348.478125 \n\" style=\"fill:none;stroke:#000000;stroke-linecap:square;stroke-linejoin:miter;stroke-width:0.8;\"/>\n   </g>\n   <g id=\"patch_6\">\n    <path d=\"M 35.304688 22.318125 \nL 288.941051 22.318125 \n\" style=\"fill:none;stroke:#000000;stroke-linecap:square;stroke-linejoin:miter;stroke-width:0.8;\"/>\n   </g>\n   <g id=\"text_11\">\n    <!-- K Means -->\n    <g transform=\"translate(136.807557 16.318125)scale(0.12 -0.12)\">\n     <defs>\n      <path d=\"M 9.8125 72.90625 \nL 19.671875 72.90625 \nL 19.671875 42.09375 \nL 52.390625 72.90625 \nL 65.09375 72.90625 \nL 28.90625 38.921875 \nL 67.671875 0 \nL 54.6875 0 \nL 19.671875 35.109375 \nL 19.671875 0 \nL 9.8125 0 \nz\n\" id=\"DejaVuSans-75\"/>\n      <path id=\"DejaVuSans-32\"/>\n      <path d=\"M 9.8125 72.90625 \nL 24.515625 72.90625 \nL 43.109375 23.296875 \nL 61.8125 72.90625 \nL 76.515625 72.90625 \nL 76.515625 0 \nL 66.890625 0 \nL 66.890625 64.015625 \nL 48.09375 14.015625 \nL 38.1875 14.015625 \nL 19.390625 64.015625 \nL 19.390625 0 \nL 9.8125 0 \nz\n\" id=\"DejaVuSans-77\"/>\n      <path d=\"M 56.203125 29.59375 \nL 56.203125 25.203125 \nL 14.890625 25.203125 \nQ 15.484375 15.921875 20.484375 11.0625 \nQ 25.484375 6.203125 34.421875 6.203125 \nQ 39.59375 6.203125 44.453125 7.46875 \nQ 49.3125 8.734375 54.109375 11.28125 \nL 54.109375 2.78125 \nQ 49.265625 0.734375 44.1875 -0.34375 \nQ 39.109375 -1.421875 33.890625 -1.421875 \nQ 20.796875 -1.421875 13.15625 6.1875 \nQ 5.515625 13.8125 5.515625 26.8125 \nQ 5.515625 40.234375 12.765625 48.109375 \nQ 20.015625 56 32.328125 56 \nQ 43.359375 56 49.78125 48.890625 \nQ 56.203125 41.796875 56.203125 29.59375 \nz\nM 47.21875 32.234375 \nQ 47.125 39.59375 43.09375 43.984375 \nQ 39.0625 48.390625 32.421875 48.390625 \nQ 24.90625 48.390625 20.390625 44.140625 \nQ 15.875 39.890625 15.1875 32.171875 \nz\n\" id=\"DejaVuSans-101\"/>\n      <path d=\"M 34.28125 27.484375 \nQ 23.390625 27.484375 19.1875 25 \nQ 14.984375 22.515625 14.984375 16.5 \nQ 14.984375 11.71875 18.140625 8.90625 \nQ 21.296875 6.109375 26.703125 6.109375 \nQ 34.1875 6.109375 38.703125 11.40625 \nQ 43.21875 16.703125 43.21875 25.484375 \nL 43.21875 27.484375 \nz\nM 52.203125 31.203125 \nL 52.203125 0 \nL 43.21875 0 \nL 43.21875 8.296875 \nQ 40.140625 3.328125 35.546875 0.953125 \nQ 30.953125 -1.421875 24.3125 -1.421875 \nQ 15.921875 -1.421875 10.953125 3.296875 \nQ 6 8.015625 6 15.921875 \nQ 6 25.140625 12.171875 29.828125 \nQ 18.359375 34.515625 30.609375 34.515625 \nL 43.21875 34.515625 \nL 43.21875 35.40625 \nQ 43.21875 41.609375 39.140625 45 \nQ 35.0625 48.390625 27.6875 48.390625 \nQ 23 48.390625 18.546875 47.265625 \nQ 14.109375 46.140625 10.015625 43.890625 \nL 10.015625 52.203125 \nQ 14.9375 54.109375 19.578125 55.046875 \nQ 24.21875 56 28.609375 56 \nQ 40.484375 56 46.34375 49.84375 \nQ 52.203125 43.703125 52.203125 31.203125 \nz\n\" id=\"DejaVuSans-97\"/>\n      <path d=\"M 54.890625 33.015625 \nL 54.890625 0 \nL 45.90625 0 \nL 45.90625 32.71875 \nQ 45.90625 40.484375 42.875 44.328125 \nQ 39.84375 48.1875 33.796875 48.1875 \nQ 26.515625 48.1875 22.3125 43.546875 \nQ 18.109375 38.921875 18.109375 30.90625 \nL 18.109375 0 \nL 9.078125 0 \nL 9.078125 54.6875 \nL 18.109375 54.6875 \nL 18.109375 46.1875 \nQ 21.34375 51.125 25.703125 53.5625 \nQ 30.078125 56 35.796875 56 \nQ 45.21875 56 50.046875 50.171875 \nQ 54.890625 44.34375 54.890625 33.015625 \nz\n\" id=\"DejaVuSans-110\"/>\n      <path d=\"M 44.28125 53.078125 \nL 44.28125 44.578125 \nQ 40.484375 46.53125 36.375 47.5 \nQ 32.28125 48.484375 27.875 48.484375 \nQ 21.1875 48.484375 17.84375 46.4375 \nQ 14.5 44.390625 14.5 40.28125 \nQ 14.5 37.15625 16.890625 35.375 \nQ 19.28125 33.59375 26.515625 31.984375 \nL 29.59375 31.296875 \nQ 39.15625 29.25 43.1875 25.515625 \nQ 47.21875 21.78125 47.21875 15.09375 \nQ 47.21875 7.46875 41.1875 3.015625 \nQ 35.15625 -1.421875 24.609375 -1.421875 \nQ 20.21875 -1.421875 15.453125 -0.5625 \nQ 10.6875 0.296875 5.421875 2 \nL 5.421875 11.28125 \nQ 10.40625 8.6875 15.234375 7.390625 \nQ 20.0625 6.109375 24.8125 6.109375 \nQ 31.15625 6.109375 34.5625 8.28125 \nQ 37.984375 10.453125 37.984375 14.40625 \nQ 37.984375 18.0625 35.515625 20.015625 \nQ 33.0625 21.96875 24.703125 23.78125 \nL 21.578125 24.515625 \nQ 13.234375 26.265625 9.515625 29.90625 \nQ 5.8125 33.546875 5.8125 39.890625 \nQ 5.8125 47.609375 11.28125 51.796875 \nQ 16.75 56 26.8125 56 \nQ 31.78125 56 36.171875 55.265625 \nQ 40.578125 54.546875 44.28125 53.078125 \nz\n\" id=\"DejaVuSans-115\"/>\n     </defs>\n     <use xlink:href=\"#DejaVuSans-75\"/>\n     <use x=\"65.576172\" xlink:href=\"#DejaVuSans-32\"/>\n     <use x=\"97.363281\" xlink:href=\"#DejaVuSans-77\"/>\n     <use x=\"183.642578\" xlink:href=\"#DejaVuSans-101\"/>\n     <use x=\"245.166016\" xlink:href=\"#DejaVuSans-97\"/>\n     <use x=\"306.445312\" xlink:href=\"#DejaVuSans-110\"/>\n     <use x=\"369.824219\" xlink:href=\"#DejaVuSans-115\"/>\n    </g>\n   </g>\n  </g>\n  <g id=\"axes_2\">\n   <g id=\"patch_7\">\n    <path d=\"M 339.668324 348.478125 \nL 593.304687 348.478125 \nL 593.304687 22.318125 \nL 339.668324 22.318125 \nz\n\" style=\"fill:#ffffff;\"/>\n   </g>\n   <g id=\"PathCollection_2\">\n    <defs>\n     <path d=\"M 0 3 \nC 0.795609 3 1.55874 2.683901 2.12132 2.12132 \nC 2.683901 1.55874 3 0.795609 3 -0 \nC 3 -0.795609 2.683901 -1.55874 2.12132 -2.12132 \nC 1.55874 -2.683901 0.795609 -3 0 -3 \nC -0.795609 -3 -1.55874 -2.683901 -2.12132 -2.12132 \nC -2.683901 -1.55874 -3 -0.795609 -3 0 \nC -3 0.795609 -2.683901 1.55874 -2.12132 2.12132 \nC -1.55874 2.683901 -0.795609 3 0 3 \nz\n\" id=\"C1_0_8babaed82b\"/>\n    </defs>\n    <g clip-path=\"url(#p2ddc9018f1)\">\n     <use style=\"fill:#ff0000;stroke:#ff0000;\" x=\"430.418701\" xlink:href=\"#C1_0_8babaed82b\" y=\"54.181883\"/>\n    </g>\n    <g clip-path=\"url(#p2ddc9018f1)\">\n     <use style=\"fill:#d4dd80;stroke:#d4dd80;\" x=\"553.298978\" xlink:href=\"#C1_0_8babaed82b\" y=\"121.469002\"/>\n    </g>\n    <g clip-path=\"url(#p2ddc9018f1)\">\n     <use style=\"fill:#8000ff;stroke:#8000ff;\" x=\"490.899297\" xlink:href=\"#C1_0_8babaed82b\" y=\"147.850166\"/>\n    </g>\n    <g clip-path=\"url(#p2ddc9018f1)\">\n     <use style=\"fill:#d4dd80;stroke:#d4dd80;\" x=\"516.308681\" xlink:href=\"#C1_0_8babaed82b\" y=\"62.056255\"/>\n    </g>\n    <g clip-path=\"url(#p2ddc9018f1)\">\n     <use style=\"fill:#d4dd80;stroke:#d4dd80;\" x=\"545.569017\" xlink:href=\"#C1_0_8babaed82b\" y=\"94.139835\"/>\n    </g>\n    <g clip-path=\"url(#p2ddc9018f1)\">\n     <use style=\"fill:#2adddd;stroke:#2adddd;\" x=\"385.952577\" xlink:href=\"#C1_0_8babaed82b\" y=\"275.579009\"/>\n    </g>\n    <g clip-path=\"url(#p2ddc9018f1)\">\n     <use style=\"fill:#d4dd80;stroke:#d4dd80;\" x=\"514.982343\" xlink:href=\"#C1_0_8babaed82b\" y=\"59.282476\"/>\n    </g>\n    <g clip-path=\"url(#p2ddc9018f1)\">\n     <use style=\"fill:#8000ff;stroke:#8000ff;\" x=\"477.490872\" xlink:href=\"#C1_0_8babaed82b\" y=\"173.052364\"/>\n    </g>\n    <g clip-path=\"url(#p2ddc9018f1)\">\n     <use style=\"fill:#d4dd80;stroke:#d4dd80;\" x=\"506.339598\" xlink:href=\"#C1_0_8babaed82b\" y=\"80.000825\"/>\n    </g>\n    <g clip-path=\"url(#p2ddc9018f1)\">\n     <use style=\"fill:#8000ff;stroke:#8000ff;\" x=\"481.149378\" xlink:href=\"#C1_0_8babaed82b\" y=\"149.645746\"/>\n    </g>\n    <g clip-path=\"url(#p2ddc9018f1)\">\n     <use style=\"fill:#ff0000;stroke:#ff0000;\" x=\"432.850411\" xlink:href=\"#C1_0_8babaed82b\" y=\"60.54352\"/>\n    </g>\n    <g clip-path=\"url(#p2ddc9018f1)\">\n     <use style=\"fill:#8000ff;stroke:#8000ff;\" x=\"482.681079\" xlink:href=\"#C1_0_8babaed82b\" y=\"158.20459\"/>\n    </g>\n    <g clip-path=\"url(#p2ddc9018f1)\">\n     <use style=\"fill:#d4dd80;stroke:#d4dd80;\" x=\"523.664767\" xlink:href=\"#C1_0_8babaed82b\" y=\"84.537379\"/>\n    </g>\n    <g clip-path=\"url(#p2ddc9018f1)\">\n     <use style=\"fill:#d4dd80;stroke:#d4dd80;\" x=\"518.564023\" xlink:href=\"#C1_0_8babaed82b\" y=\"119.008587\"/>\n    </g>\n    <g clip-path=\"url(#p2ddc9018f1)\">\n     <use style=\"fill:#ff0000;stroke:#ff0000;\" x=\"441.943693\" xlink:href=\"#C1_0_8babaed82b\" y=\"61.02977\"/>\n    </g>\n    <g clip-path=\"url(#p2ddc9018f1)\">\n     <use style=\"fill:#8000ff;stroke:#8000ff;\" x=\"488.993716\" xlink:href=\"#C1_0_8babaed82b\" y=\"191.549256\"/>\n    </g>\n    <g clip-path=\"url(#p2ddc9018f1)\">\n     <use style=\"fill:#d4dd80;stroke:#d4dd80;\" x=\"554.345044\" xlink:href=\"#C1_0_8babaed82b\" y=\"112.334642\"/>\n    </g>\n    <g clip-path=\"url(#p2ddc9018f1)\">\n     <use style=\"fill:#8000ff;stroke:#8000ff;\" x=\"471.539819\" xlink:href=\"#C1_0_8babaed82b\" y=\"185.175334\"/>\n    </g>\n    <g clip-path=\"url(#p2ddc9018f1)\">\n     <use style=\"fill:#2adddd;stroke:#2adddd;\" x=\"393.390957\" xlink:href=\"#C1_0_8babaed82b\" y=\"239.04967\"/>\n    </g>\n    <g clip-path=\"url(#p2ddc9018f1)\">\n     <use style=\"fill:#ff0000;stroke:#ff0000;\" x=\"449.284275\" xlink:href=\"#C1_0_8babaed82b\" y=\"37.14358\"/>\n    </g>\n    <g clip-path=\"url(#p2ddc9018f1)\">\n     <use style=\"fill:#2adddd;stroke:#2adddd;\" x=\"390.582051\" xlink:href=\"#C1_0_8babaed82b\" y=\"269.616869\"/>\n    </g>\n    <g clip-path=\"url(#p2ddc9018f1)\">\n     <use style=\"fill:#8000ff;stroke:#8000ff;\" x=\"501.300323\" xlink:href=\"#C1_0_8babaed82b\" y=\"191.028883\"/>\n    </g>\n    <g clip-path=\"url(#p2ddc9018f1)\">\n     <use style=\"fill:#8000ff;stroke:#8000ff;\" x=\"515.787214\" xlink:href=\"#C1_0_8babaed82b\" y=\"143.830583\"/>\n    </g>\n    <g clip-path=\"url(#p2ddc9018f1)\">\n     <use style=\"fill:#2adddd;stroke:#2adddd;\" x=\"382.953555\" xlink:href=\"#C1_0_8babaed82b\" y=\"319.119178\"/>\n    </g>\n    <g clip-path=\"url(#p2ddc9018f1)\">\n     <use style=\"fill:#ff0000;stroke:#ff0000;\" x=\"428.338892\" xlink:href=\"#C1_0_8babaed82b\" y=\"105.217154\"/>\n    </g>\n    <g clip-path=\"url(#p2ddc9018f1)\">\n     <use style=\"fill:#2adddd;stroke:#2adddd;\" x=\"417.974523\" xlink:href=\"#C1_0_8babaed82b\" y=\"291.314019\"/>\n    </g>\n    <g clip-path=\"url(#p2ddc9018f1)\">\n     <use style=\"fill:#2adddd;stroke:#2adddd;\" x=\"414.852309\" xlink:href=\"#C1_0_8babaed82b\" y=\"322.679216\"/>\n    </g>\n    <g clip-path=\"url(#p2ddc9018f1)\">\n     <use style=\"fill:#8000ff;stroke:#8000ff;\" x=\"507.445978\" xlink:href=\"#C1_0_8babaed82b\" y=\"187.502172\"/>\n    </g>\n    <g clip-path=\"url(#p2ddc9018f1)\">\n     <use style=\"fill:#d4dd80;stroke:#d4dd80;\" x=\"530.078151\" xlink:href=\"#C1_0_8babaed82b\" y=\"84.226187\"/>\n    </g>\n    <g clip-path=\"url(#p2ddc9018f1)\">\n     <use style=\"fill:#d4dd80;stroke:#d4dd80;\" x=\"535.020327\" xlink:href=\"#C1_0_8babaed82b\" y=\"125.724141\"/>\n    </g>\n    <g clip-path=\"url(#p2ddc9018f1)\">\n     <use style=\"fill:#ff0000;stroke:#ff0000;\" x=\"465.867837\" xlink:href=\"#C1_0_8babaed82b\" y=\"67.965127\"/>\n    </g>\n    <g clip-path=\"url(#p2ddc9018f1)\">\n     <use style=\"fill:#2adddd;stroke:#2adddd;\" x=\"403.626815\" xlink:href=\"#C1_0_8babaed82b\" y=\"297.163079\"/>\n    </g>\n    <g clip-path=\"url(#p2ddc9018f1)\">\n     <use style=\"fill:#d4dd80;stroke:#d4dd80;\" x=\"547.217004\" xlink:href=\"#C1_0_8babaed82b\" y=\"127.748605\"/>\n    </g>\n    <g clip-path=\"url(#p2ddc9018f1)\">\n     <use style=\"fill:#8000ff;stroke:#8000ff;\" x=\"515.22757\" xlink:href=\"#C1_0_8babaed82b\" y=\"225.558532\"/>\n    </g>\n    <g clip-path=\"url(#p2ddc9018f1)\">\n     <use style=\"fill:#8000ff;stroke:#8000ff;\" x=\"477.541726\" xlink:href=\"#C1_0_8babaed82b\" y=\"158.093954\"/>\n    </g>\n    <g clip-path=\"url(#p2ddc9018f1)\">\n     <use style=\"fill:#ff0000;stroke:#ff0000;\" x=\"440.642981\" xlink:href=\"#C1_0_8babaed82b\" y=\"90.533637\"/>\n    </g>\n    <g clip-path=\"url(#p2ddc9018f1)\">\n     <use style=\"fill:#2adddd;stroke:#2adddd;\" x=\"382.748812\" xlink:href=\"#C1_0_8babaed82b\" y=\"227.083208\"/>\n    </g>\n    <g clip-path=\"url(#p2ddc9018f1)\">\n     <use style=\"fill:#2adddd;stroke:#2adddd;\" x=\"380.991651\" xlink:href=\"#C1_0_8babaed82b\" y=\"259.670833\"/>\n    </g>\n    <g clip-path=\"url(#p2ddc9018f1)\">\n     <use style=\"fill:#2adddd;stroke:#2adddd;\" x=\"376.926596\" xlink:href=\"#C1_0_8babaed82b\" y=\"321.830597\"/>\n    </g>\n    <g clip-path=\"url(#p2ddc9018f1)\">\n     <use style=\"fill:#d4dd80;stroke:#d4dd80;\" x=\"512.125545\" xlink:href=\"#C1_0_8babaed82b\" y=\"164.308531\"/>\n    </g>\n    <g clip-path=\"url(#p2ddc9018f1)\">\n     <use style=\"fill:#2adddd;stroke:#2adddd;\" x=\"404.687754\" xlink:href=\"#C1_0_8babaed82b\" y=\"276.872738\"/>\n    </g>\n    <g clip-path=\"url(#p2ddc9018f1)\">\n     <use style=\"fill:#ff0000;stroke:#ff0000;\" x=\"466.023149\" xlink:href=\"#C1_0_8babaed82b\" y=\"89.756454\"/>\n    </g>\n    <g clip-path=\"url(#p2ddc9018f1)\">\n     <use style=\"fill:#ff0000;stroke:#ff0000;\" x=\"480.394277\" xlink:href=\"#C1_0_8babaed82b\" y=\"78.780114\"/>\n    </g>\n    <g clip-path=\"url(#p2ddc9018f1)\">\n     <use style=\"fill:#ff0000;stroke:#ff0000;\" x=\"463.588145\" xlink:href=\"#C1_0_8babaed82b\" y=\"53.868209\"/>\n    </g>\n    <g clip-path=\"url(#p2ddc9018f1)\">\n     <use style=\"fill:#8000ff;stroke:#8000ff;\" x=\"497.366696\" xlink:href=\"#C1_0_8babaed82b\" y=\"157.129241\"/>\n    </g>\n    <g clip-path=\"url(#p2ddc9018f1)\">\n     <use style=\"fill:#ff0000;stroke:#ff0000;\" x=\"502.866712\" xlink:href=\"#C1_0_8babaed82b\" y=\"100.103842\"/>\n    </g>\n    <g clip-path=\"url(#p2ddc9018f1)\">\n     <use style=\"fill:#ff0000;stroke:#ff0000;\" x=\"453.539702\" xlink:href=\"#C1_0_8babaed82b\" y=\"82.988643\"/>\n    </g>\n    <g clip-path=\"url(#p2ddc9018f1)\">\n     <use style=\"fill:#8000ff;stroke:#8000ff;\" x=\"510.186985\" xlink:href=\"#C1_0_8babaed82b\" y=\"147.682665\"/>\n    </g>\n    <g clip-path=\"url(#p2ddc9018f1)\">\n     <use style=\"fill:#2adddd;stroke:#2adddd;\" x=\"378.201236\" xlink:href=\"#C1_0_8babaed82b\" y=\"301.370836\"/>\n    </g>\n    <g clip-path=\"url(#p2ddc9018f1)\">\n     <use style=\"fill:#d4dd80;stroke:#d4dd80;\" x=\"482.465942\" xlink:href=\"#C1_0_8babaed82b\" y=\"125.506782\"/>\n    </g>\n    <g clip-path=\"url(#p2ddc9018f1)\">\n     <use style=\"fill:#8000ff;stroke:#8000ff;\" x=\"526.834395\" xlink:href=\"#C1_0_8babaed82b\" y=\"200.415773\"/>\n    </g>\n    <g clip-path=\"url(#p2ddc9018f1)\">\n     <use style=\"fill:#ff0000;stroke:#ff0000;\" x=\"440.653915\" xlink:href=\"#C1_0_8babaed82b\" y=\"94.242766\"/>\n    </g>\n    <g clip-path=\"url(#p2ddc9018f1)\">\n     <use style=\"fill:#d4dd80;stroke:#d4dd80;\" x=\"554.890495\" xlink:href=\"#C1_0_8babaed82b\" y=\"137.597995\"/>\n    </g>\n    <g clip-path=\"url(#p2ddc9018f1)\">\n     <use style=\"fill:#8000ff;stroke:#8000ff;\" x=\"498.680385\" xlink:href=\"#C1_0_8babaed82b\" y=\"183.139402\"/>\n    </g>\n    <g clip-path=\"url(#p2ddc9018f1)\">\n     <use style=\"fill:#2adddd;stroke:#2adddd;\" x=\"420.816027\" xlink:href=\"#C1_0_8babaed82b\" y=\"268.845554\"/>\n    </g>\n    <g clip-path=\"url(#p2ddc9018f1)\">\n     <use style=\"fill:#ff0000;stroke:#ff0000;\" x=\"478.616109\" xlink:href=\"#C1_0_8babaed82b\" y=\"110.788457\"/>\n    </g>\n    <g clip-path=\"url(#p2ddc9018f1)\">\n     <use style=\"fill:#8000ff;stroke:#8000ff;\" x=\"503.378455\" xlink:href=\"#C1_0_8babaed82b\" y=\"131.535489\"/>\n    </g>\n    <g clip-path=\"url(#p2ddc9018f1)\">\n     <use style=\"fill:#8000ff;stroke:#8000ff;\" x=\"504.994027\" xlink:href=\"#C1_0_8babaed82b\" y=\"167.63095\"/>\n    </g>\n    <g clip-path=\"url(#p2ddc9018f1)\">\n     <use style=\"fill:#ff0000;stroke:#ff0000;\" x=\"455.793208\" xlink:href=\"#C1_0_8babaed82b\" y=\"120.222383\"/>\n    </g>\n    <g clip-path=\"url(#p2ddc9018f1)\">\n     <use style=\"fill:#d4dd80;stroke:#d4dd80;\" x=\"526.316585\" xlink:href=\"#C1_0_8babaed82b\" y=\"100.638816\"/>\n    </g>\n    <g clip-path=\"url(#p2ddc9018f1)\">\n     <use style=\"fill:#2adddd;stroke:#2adddd;\" x=\"413.988833\" xlink:href=\"#C1_0_8babaed82b\" y=\"300.723885\"/>\n    </g>\n    <g clip-path=\"url(#p2ddc9018f1)\">\n     <use style=\"fill:#d4dd80;stroke:#d4dd80;\" x=\"503.811733\" xlink:href=\"#C1_0_8babaed82b\" y=\"90.681977\"/>\n    </g>\n    <g clip-path=\"url(#p2ddc9018f1)\">\n     <use style=\"fill:#2adddd;stroke:#2adddd;\" x=\"420.74975\" xlink:href=\"#C1_0_8babaed82b\" y=\"259.783649\"/>\n    </g>\n    <g clip-path=\"url(#p2ddc9018f1)\">\n     <use style=\"fill:#ff0000;stroke:#ff0000;\" x=\"477.507466\" xlink:href=\"#C1_0_8babaed82b\" y=\"76.734098\"/>\n    </g>\n    <g clip-path=\"url(#p2ddc9018f1)\">\n     <use style=\"fill:#d4dd80;stroke:#d4dd80;\" x=\"521.776168\" xlink:href=\"#C1_0_8babaed82b\" y=\"78.2567\"/>\n    </g>\n    <g clip-path=\"url(#p2ddc9018f1)\">\n     <use style=\"fill:#8000ff;stroke:#8000ff;\" x=\"473.017116\" xlink:href=\"#C1_0_8babaed82b\" y=\"205.661296\"/>\n    </g>\n    <g clip-path=\"url(#p2ddc9018f1)\">\n     <use style=\"fill:#2adddd;stroke:#2adddd;\" x=\"375.275338\" xlink:href=\"#C1_0_8babaed82b\" y=\"287.172326\"/>\n    </g>\n    <g clip-path=\"url(#p2ddc9018f1)\">\n     <use style=\"fill:#d4dd80;stroke:#d4dd80;\" x=\"543.573623\" xlink:href=\"#C1_0_8babaed82b\" y=\"109.51568\"/>\n    </g>\n    <g clip-path=\"url(#p2ddc9018f1)\">\n     <use style=\"fill:#d4dd80;stroke:#d4dd80;\" x=\"523.253182\" xlink:href=\"#C1_0_8babaed82b\" y=\"80.265859\"/>\n    </g>\n    <g clip-path=\"url(#p2ddc9018f1)\">\n     <use style=\"fill:#2adddd;stroke:#2adddd;\" x=\"403.188885\" xlink:href=\"#C1_0_8babaed82b\" y=\"277.685303\"/>\n    </g>\n    <g clip-path=\"url(#p2ddc9018f1)\">\n     <use style=\"fill:#d4dd80;stroke:#d4dd80;\" x=\"514.989491\" xlink:href=\"#C1_0_8babaed82b\" y=\"80.589322\"/>\n    </g>\n    <g clip-path=\"url(#p2ddc9018f1)\">\n     <use style=\"fill:#8000ff;stroke:#8000ff;\" x=\"502.217659\" xlink:href=\"#C1_0_8babaed82b\" y=\"124.108416\"/>\n    </g>\n    <g clip-path=\"url(#p2ddc9018f1)\">\n     <use style=\"fill:#2adddd;stroke:#2adddd;\" x=\"406.321775\" xlink:href=\"#C1_0_8babaed82b\" y=\"265.258681\"/>\n    </g>\n    <g clip-path=\"url(#p2ddc9018f1)\">\n     <use style=\"fill:#ff0000;stroke:#ff0000;\" x=\"464.415788\" xlink:href=\"#C1_0_8babaed82b\" y=\"139.18205\"/>\n    </g>\n    <g clip-path=\"url(#p2ddc9018f1)\">\n     <use style=\"fill:#2adddd;stroke:#2adddd;\" x=\"405.922246\" xlink:href=\"#C1_0_8babaed82b\" y=\"275.833266\"/>\n    </g>\n    <g clip-path=\"url(#p2ddc9018f1)\">\n     <use style=\"fill:#d4dd80;stroke:#d4dd80;\" x=\"546.691071\" xlink:href=\"#C1_0_8babaed82b\" y=\"104.796331\"/>\n    </g>\n    <g clip-path=\"url(#p2ddc9018f1)\">\n     <use style=\"fill:#d4dd80;stroke:#d4dd80;\" x=\"526.553624\" xlink:href=\"#C1_0_8babaed82b\" y=\"50.098488\"/>\n    </g>\n    <g clip-path=\"url(#p2ddc9018f1)\">\n     <use style=\"fill:#8000ff;stroke:#8000ff;\" x=\"495.011315\" xlink:href=\"#C1_0_8babaed82b\" y=\"161.150531\"/>\n    </g>\n    <g clip-path=\"url(#p2ddc9018f1)\">\n     <use style=\"fill:#ff0000;stroke:#ff0000;\" x=\"425.235032\" xlink:href=\"#C1_0_8babaed82b\" y=\"51.985842\"/>\n    </g>\n    <g clip-path=\"url(#p2ddc9018f1)\">\n     <use style=\"fill:#8000ff;stroke:#8000ff;\" x=\"461.635693\" xlink:href=\"#C1_0_8babaed82b\" y=\"154.915403\"/>\n    </g>\n    <g clip-path=\"url(#p2ddc9018f1)\">\n     <use style=\"fill:#8000ff;stroke:#8000ff;\" x=\"487.708117\" xlink:href=\"#C1_0_8babaed82b\" y=\"138.556926\"/>\n    </g>\n    <g clip-path=\"url(#p2ddc9018f1)\">\n     <use style=\"fill:#2adddd;stroke:#2adddd;\" x=\"411.376097\" xlink:href=\"#C1_0_8babaed82b\" y=\"274.771772\"/>\n    </g>\n    <g clip-path=\"url(#p2ddc9018f1)\">\n     <use style=\"fill:#d4dd80;stroke:#d4dd80;\" x=\"549.743343\" xlink:href=\"#C1_0_8babaed82b\" y=\"76.05329\"/>\n    </g>\n    <g clip-path=\"url(#p2ddc9018f1)\">\n     <use style=\"fill:#2adddd;stroke:#2adddd;\" x=\"431.937043\" xlink:href=\"#C1_0_8babaed82b\" y=\"264.742304\"/>\n    </g>\n    <g clip-path=\"url(#p2ddc9018f1)\">\n     <use style=\"fill:#8000ff;stroke:#8000ff;\" x=\"501.328576\" xlink:href=\"#C1_0_8babaed82b\" y=\"191.666998\"/>\n    </g>\n    <g clip-path=\"url(#p2ddc9018f1)\">\n     <use style=\"fill:#8000ff;stroke:#8000ff;\" x=\"484.34932\" xlink:href=\"#C1_0_8babaed82b\" y=\"181.554666\"/>\n    </g>\n    <g clip-path=\"url(#p2ddc9018f1)\">\n     <use style=\"fill:#8000ff;stroke:#8000ff;\" x=\"479.855283\" xlink:href=\"#C1_0_8babaed82b\" y=\"191.248181\"/>\n    </g>\n    <g clip-path=\"url(#p2ddc9018f1)\">\n     <use style=\"fill:#ff0000;stroke:#ff0000;\" x=\"441.131168\" xlink:href=\"#C1_0_8babaed82b\" y=\"97.195805\"/>\n    </g>\n    <g clip-path=\"url(#p2ddc9018f1)\">\n     <use style=\"fill:#d4dd80;stroke:#d4dd80;\" x=\"513.166198\" xlink:href=\"#C1_0_8babaed82b\" y=\"138.738946\"/>\n    </g>\n    <g clip-path=\"url(#p2ddc9018f1)\">\n     <use style=\"fill:#2adddd;stroke:#2adddd;\" x=\"390.848054\" xlink:href=\"#C1_0_8babaed82b\" y=\"229.873983\"/>\n    </g>\n    <g clip-path=\"url(#p2ddc9018f1)\">\n     <use style=\"fill:#2adddd;stroke:#2adddd;\" x=\"410.980223\" xlink:href=\"#C1_0_8babaed82b\" y=\"321.546778\"/>\n    </g>\n    <g clip-path=\"url(#p2ddc9018f1)\">\n     <use style=\"fill:#2adddd;stroke:#2adddd;\" x=\"412.611344\" xlink:href=\"#C1_0_8babaed82b\" y=\"281.155333\"/>\n    </g>\n    <g clip-path=\"url(#p2ddc9018f1)\">\n     <use style=\"fill:#2adddd;stroke:#2adddd;\" x=\"396.723723\" xlink:href=\"#C1_0_8babaed82b\" y=\"220.648958\"/>\n    </g>\n    <g clip-path=\"url(#p2ddc9018f1)\">\n     <use style=\"fill:#ff0000;stroke:#ff0000;\" x=\"488.437355\" xlink:href=\"#C1_0_8babaed82b\" y=\"117.273493\"/>\n    </g>\n    <g clip-path=\"url(#p2ddc9018f1)\">\n     <use style=\"fill:#8000ff;stroke:#8000ff;\" x=\"497.374226\" xlink:href=\"#C1_0_8babaed82b\" y=\"125.499049\"/>\n    </g>\n    <g clip-path=\"url(#p2ddc9018f1)\">\n     <use style=\"fill:#2adddd;stroke:#2adddd;\" x=\"407.501952\" xlink:href=\"#C1_0_8babaed82b\" y=\"297.253824\"/>\n    </g>\n    <g clip-path=\"url(#p2ddc9018f1)\">\n     <use style=\"fill:#d4dd80;stroke:#d4dd80;\" x=\"548.240946\" xlink:href=\"#C1_0_8babaed82b\" y=\"68.275806\"/>\n    </g>\n    <g clip-path=\"url(#p2ddc9018f1)\">\n     <use style=\"fill:#ff0000;stroke:#ff0000;\" x=\"455.159591\" xlink:href=\"#C1_0_8babaed82b\" y=\"95.85192\"/>\n    </g>\n    <g clip-path=\"url(#p2ddc9018f1)\">\n     <use style=\"fill:#2adddd;stroke:#2adddd;\" x=\"412.100765\" xlink:href=\"#C1_0_8babaed82b\" y=\"272.995049\"/>\n    </g>\n    <g clip-path=\"url(#p2ddc9018f1)\">\n     <use style=\"fill:#d4dd80;stroke:#d4dd80;\" x=\"570.631776\" xlink:href=\"#C1_0_8babaed82b\" y=\"132.42286\"/>\n    </g>\n    <g clip-path=\"url(#p2ddc9018f1)\">\n     <use style=\"fill:#8000ff;stroke:#8000ff;\" x=\"479.107194\" xlink:href=\"#C1_0_8babaed82b\" y=\"141.365987\"/>\n    </g>\n    <g clip-path=\"url(#p2ddc9018f1)\">\n     <use style=\"fill:#2adddd;stroke:#2adddd;\" x=\"386.551927\" xlink:href=\"#C1_0_8babaed82b\" y=\"279.086744\"/>\n    </g>\n    <g clip-path=\"url(#p2ddc9018f1)\">\n     <use style=\"fill:#8000ff;stroke:#8000ff;\" x=\"507.984768\" xlink:href=\"#C1_0_8babaed82b\" y=\"147.935558\"/>\n    </g>\n    <g clip-path=\"url(#p2ddc9018f1)\">\n     <use style=\"fill:#8000ff;stroke:#8000ff;\" x=\"462.455197\" xlink:href=\"#C1_0_8babaed82b\" y=\"194.315207\"/>\n    </g>\n    <g clip-path=\"url(#p2ddc9018f1)\">\n     <use style=\"fill:#d4dd80;stroke:#d4dd80;\" x=\"494.766667\" xlink:href=\"#C1_0_8babaed82b\" y=\"105.439039\"/>\n    </g>\n    <g clip-path=\"url(#p2ddc9018f1)\">\n     <use style=\"fill:#8000ff;stroke:#8000ff;\" x=\"482.553035\" xlink:href=\"#C1_0_8babaed82b\" y=\"135.255591\"/>\n    </g>\n    <g clip-path=\"url(#p2ddc9018f1)\">\n     <use style=\"fill:#2adddd;stroke:#2adddd;\" x=\"399.805834\" xlink:href=\"#C1_0_8babaed82b\" y=\"264.917318\"/>\n    </g>\n    <g clip-path=\"url(#p2ddc9018f1)\">\n     <use style=\"fill:#d4dd80;stroke:#d4dd80;\" x=\"581.775762\" xlink:href=\"#C1_0_8babaed82b\" y=\"63.994733\"/>\n    </g>\n    <g clip-path=\"url(#p2ddc9018f1)\">\n     <use style=\"fill:#2adddd;stroke:#2adddd;\" x=\"401.891413\" xlink:href=\"#C1_0_8babaed82b\" y=\"291.974825\"/>\n    </g>\n    <g clip-path=\"url(#p2ddc9018f1)\">\n     <use style=\"fill:#2adddd;stroke:#2adddd;\" x=\"399.603583\" xlink:href=\"#C1_0_8babaed82b\" y=\"281.490843\"/>\n    </g>\n    <g clip-path=\"url(#p2ddc9018f1)\">\n     <use style=\"fill:#8000ff;stroke:#8000ff;\" x=\"544.805886\" xlink:href=\"#C1_0_8babaed82b\" y=\"156.303416\"/>\n    </g>\n    <g clip-path=\"url(#p2ddc9018f1)\">\n     <use style=\"fill:#ff0000;stroke:#ff0000;\" x=\"467.683951\" xlink:href=\"#C1_0_8babaed82b\" y=\"92.382915\"/>\n    </g>\n    <g clip-path=\"url(#p2ddc9018f1)\">\n     <use style=\"fill:#ff0000;stroke:#ff0000;\" x=\"452.560602\" xlink:href=\"#C1_0_8babaed82b\" y=\"101.073938\"/>\n    </g>\n    <g clip-path=\"url(#p2ddc9018f1)\">\n     <use style=\"fill:#d4dd80;stroke:#d4dd80;\" x=\"517.908182\" xlink:href=\"#C1_0_8babaed82b\" y=\"77.760118\"/>\n    </g>\n    <g clip-path=\"url(#p2ddc9018f1)\">\n     <use style=\"fill:#2adddd;stroke:#2adddd;\" x=\"401.390286\" xlink:href=\"#C1_0_8babaed82b\" y=\"333.65267\"/>\n    </g>\n    <g clip-path=\"url(#p2ddc9018f1)\">\n     <use style=\"fill:#d4dd80;stroke:#d4dd80;\" x=\"535.537521\" xlink:href=\"#C1_0_8babaed82b\" y=\"107.249996\"/>\n    </g>\n    <g clip-path=\"url(#p2ddc9018f1)\">\n     <use style=\"fill:#ff0000;stroke:#ff0000;\" x=\"460.246279\" xlink:href=\"#C1_0_8babaed82b\" y=\"81.275284\"/>\n    </g>\n    <g clip-path=\"url(#p2ddc9018f1)\">\n     <use style=\"fill:#ff0000;stroke:#ff0000;\" x=\"429.082644\" xlink:href=\"#C1_0_8babaed82b\" y=\"59.137325\"/>\n    </g>\n    <g clip-path=\"url(#p2ddc9018f1)\">\n     <use style=\"fill:#d4dd80;stroke:#d4dd80;\" x=\"506.656272\" xlink:href=\"#C1_0_8babaed82b\" y=\"97.737292\"/>\n    </g>\n    <g clip-path=\"url(#p2ddc9018f1)\">\n     <use style=\"fill:#ff0000;stroke:#ff0000;\" x=\"483.235002\" xlink:href=\"#C1_0_8babaed82b\" y=\"80.8028\"/>\n    </g>\n    <g clip-path=\"url(#p2ddc9018f1)\">\n     <use style=\"fill:#8000ff;stroke:#8000ff;\" x=\"504.877864\" xlink:href=\"#C1_0_8babaed82b\" y=\"121.966414\"/>\n    </g>\n    <g clip-path=\"url(#p2ddc9018f1)\">\n     <use style=\"fill:#ff0000;stroke:#ff0000;\" x=\"450.532326\" xlink:href=\"#C1_0_8babaed82b\" y=\"105.730966\"/>\n    </g>\n    <g clip-path=\"url(#p2ddc9018f1)\">\n     <use style=\"fill:#8000ff;stroke:#8000ff;\" x=\"480.069739\" xlink:href=\"#C1_0_8babaed82b\" y=\"168.236316\"/>\n    </g>\n    <g clip-path=\"url(#p2ddc9018f1)\">\n     <use style=\"fill:#ff0000;stroke:#ff0000;\" x=\"434.592542\" xlink:href=\"#C1_0_8babaed82b\" y=\"88.646305\"/>\n    </g>\n    <g clip-path=\"url(#p2ddc9018f1)\">\n     <use style=\"fill:#8000ff;stroke:#8000ff;\" x=\"491.162577\" xlink:href=\"#C1_0_8babaed82b\" y=\"167.414076\"/>\n    </g>\n    <g clip-path=\"url(#p2ddc9018f1)\">\n     <use style=\"fill:#d4dd80;stroke:#d4dd80;\" x=\"547.922604\" xlink:href=\"#C1_0_8babaed82b\" y=\"114.541483\"/>\n    </g>\n    <g clip-path=\"url(#p2ddc9018f1)\">\n     <use style=\"fill:#ff0000;stroke:#ff0000;\" x=\"433.034569\" xlink:href=\"#C1_0_8babaed82b\" y=\"53.783327\"/>\n    </g>\n    <g clip-path=\"url(#p2ddc9018f1)\">\n     <use style=\"fill:#8000ff;stroke:#8000ff;\" x=\"467.248839\" xlink:href=\"#C1_0_8babaed82b\" y=\"201.480065\"/>\n    </g>\n    <g clip-path=\"url(#p2ddc9018f1)\">\n     <use style=\"fill:#2adddd;stroke:#2adddd;\" x=\"395.89448\" xlink:href=\"#C1_0_8babaed82b\" y=\"295.969441\"/>\n    </g>\n    <g clip-path=\"url(#p2ddc9018f1)\">\n     <use style=\"fill:#ff0000;stroke:#ff0000;\" x=\"471.614152\" xlink:href=\"#C1_0_8babaed82b\" y=\"102.903464\"/>\n    </g>\n    <g clip-path=\"url(#p2ddc9018f1)\">\n     <use style=\"fill:#ff0000;stroke:#ff0000;\" x=\"452.808792\" xlink:href=\"#C1_0_8babaed82b\" y=\"99.875425\"/>\n    </g>\n    <g clip-path=\"url(#p2ddc9018f1)\">\n     <use style=\"fill:#ff0000;stroke:#ff0000;\" x=\"458.348323\" xlink:href=\"#C1_0_8babaed82b\" y=\"73.659357\"/>\n    </g>\n    <g clip-path=\"url(#p2ddc9018f1)\">\n     <use style=\"fill:#8000ff;stroke:#8000ff;\" x=\"500.936646\" xlink:href=\"#C1_0_8babaed82b\" y=\"168.537823\"/>\n    </g>\n    <g clip-path=\"url(#p2ddc9018f1)\">\n     <use style=\"fill:#2adddd;stroke:#2adddd;\" x=\"406.376109\" xlink:href=\"#C1_0_8babaed82b\" y=\"307.858681\"/>\n    </g>\n    <g clip-path=\"url(#p2ddc9018f1)\">\n     <use style=\"fill:#2adddd;stroke:#2adddd;\" x=\"351.197249\" xlink:href=\"#C1_0_8babaed82b\" y=\"244.465951\"/>\n    </g>\n    <g clip-path=\"url(#p2ddc9018f1)\">\n     <use style=\"fill:#ff0000;stroke:#ff0000;\" x=\"453.637793\" xlink:href=\"#C1_0_8babaed82b\" y=\"102.509378\"/>\n    </g>\n    <g clip-path=\"url(#p2ddc9018f1)\">\n     <use style=\"fill:#d4dd80;stroke:#d4dd80;\" x=\"529.311804\" xlink:href=\"#C1_0_8babaed82b\" y=\"134.086411\"/>\n    </g>\n    <g clip-path=\"url(#p2ddc9018f1)\">\n     <use style=\"fill:#ff0000;stroke:#ff0000;\" x=\"456.323693\" xlink:href=\"#C1_0_8babaed82b\" y=\"137.957293\"/>\n    </g>\n    <g clip-path=\"url(#p2ddc9018f1)\">\n     <use style=\"fill:#d4dd80;stroke:#d4dd80;\" x=\"533.315599\" xlink:href=\"#C1_0_8babaed82b\" y=\"68.94813\"/>\n    </g>\n    <g clip-path=\"url(#p2ddc9018f1)\">\n     <use style=\"fill:#8000ff;stroke:#8000ff;\" x=\"509.919172\" xlink:href=\"#C1_0_8babaed82b\" y=\"186.257519\"/>\n    </g>\n    <g clip-path=\"url(#p2ddc9018f1)\">\n     <use style=\"fill:#2adddd;stroke:#2adddd;\" x=\"393.531804\" xlink:href=\"#C1_0_8babaed82b\" y=\"291.830843\"/>\n    </g>\n    <g clip-path=\"url(#p2ddc9018f1)\">\n     <use style=\"fill:#d4dd80;stroke:#d4dd80;\" x=\"547.674486\" xlink:href=\"#C1_0_8babaed82b\" y=\"146.44738\"/>\n    </g>\n    <g clip-path=\"url(#p2ddc9018f1)\">\n     <use style=\"fill:#2adddd;stroke:#2adddd;\" x=\"397.294526\" xlink:href=\"#C1_0_8babaed82b\" y=\"262.668295\"/>\n    </g>\n    <g clip-path=\"url(#p2ddc9018f1)\">\n     <use style=\"fill:#ff0000;stroke:#ff0000;\" x=\"489.444168\" xlink:href=\"#C1_0_8babaed82b\" y=\"72.771671\"/>\n    </g>\n    <g clip-path=\"url(#p2ddc9018f1)\">\n     <use style=\"fill:#ff0000;stroke:#ff0000;\" x=\"481.39038\" xlink:href=\"#C1_0_8babaed82b\" y=\"83.590744\"/>\n    </g>\n    <g clip-path=\"url(#p2ddc9018f1)\">\n     <use style=\"fill:#d4dd80;stroke:#d4dd80;\" x=\"517.24426\" xlink:href=\"#C1_0_8babaed82b\" y=\"107.567974\"/>\n    </g>\n    <g clip-path=\"url(#p2ddc9018f1)\">\n     <use style=\"fill:#8000ff;stroke:#8000ff;\" x=\"481.281809\" xlink:href=\"#C1_0_8babaed82b\" y=\"127.388568\"/>\n    </g>\n    <g clip-path=\"url(#p2ddc9018f1)\">\n     <use style=\"fill:#2adddd;stroke:#2adddd;\" x=\"413.537423\" xlink:href=\"#C1_0_8babaed82b\" y=\"302.956219\"/>\n    </g>\n    <g clip-path=\"url(#p2ddc9018f1)\">\n     <use style=\"fill:#ff0000;stroke:#ff0000;\" x=\"456.684692\" xlink:href=\"#C1_0_8babaed82b\" y=\"90.484545\"/>\n    </g>\n    <g clip-path=\"url(#p2ddc9018f1)\">\n     <use style=\"fill:#ff0000;stroke:#ff0000;\" x=\"441.387569\" xlink:href=\"#C1_0_8babaed82b\" y=\"82.087434\"/>\n    </g>\n    <g clip-path=\"url(#p2ddc9018f1)\">\n     <use style=\"fill:#ff0000;stroke:#ff0000;\" x=\"469.673391\" xlink:href=\"#C1_0_8babaed82b\" y=\"41.980838\"/>\n    </g>\n    <g clip-path=\"url(#p2ddc9018f1)\">\n     <use style=\"fill:#ff0000;stroke:#ff0000;\" x=\"472.989635\" xlink:href=\"#C1_0_8babaed82b\" y=\"66.790114\"/>\n    </g>\n    <g clip-path=\"url(#p2ddc9018f1)\">\n     <use style=\"fill:#8000ff;stroke:#8000ff;\" x=\"495.509422\" xlink:href=\"#C1_0_8babaed82b\" y=\"163.48658\"/>\n    </g>\n    <g clip-path=\"url(#p2ddc9018f1)\">\n     <use style=\"fill:#d4dd80;stroke:#d4dd80;\" x=\"528.891476\" xlink:href=\"#C1_0_8babaed82b\" y=\"126.195115\"/>\n    </g>\n    <g clip-path=\"url(#p2ddc9018f1)\">\n     <use style=\"fill:#8000ff;stroke:#8000ff;\" x=\"510.898844\" xlink:href=\"#C1_0_8babaed82b\" y=\"203.048269\"/>\n    </g>\n    <g clip-path=\"url(#p2ddc9018f1)\">\n     <use style=\"fill:#ff0000;stroke:#ff0000;\" x=\"410.168113\" xlink:href=\"#C1_0_8babaed82b\" y=\"85.868366\"/>\n    </g>\n    <g clip-path=\"url(#p2ddc9018f1)\">\n     <use style=\"fill:#d4dd80;stroke:#d4dd80;\" x=\"514.141545\" xlink:href=\"#C1_0_8babaed82b\" y=\"127.215597\"/>\n    </g>\n    <g clip-path=\"url(#p2ddc9018f1)\">\n     <use style=\"fill:#d4dd80;stroke:#d4dd80;\" x=\"521.245452\" xlink:href=\"#C1_0_8babaed82b\" y=\"71.71096\"/>\n    </g>\n    <g clip-path=\"url(#p2ddc9018f1)\">\n     <use style=\"fill:#d4dd80;stroke:#d4dd80;\" x=\"527.729469\" xlink:href=\"#C1_0_8babaed82b\" y=\"94.174686\"/>\n    </g>\n    <g clip-path=\"url(#p2ddc9018f1)\">\n     <use style=\"fill:#8000ff;stroke:#8000ff;\" x=\"509.478264\" xlink:href=\"#C1_0_8babaed82b\" y=\"195.25214\"/>\n    </g>\n    <g clip-path=\"url(#p2ddc9018f1)\">\n     <use style=\"fill:#d4dd80;stroke:#d4dd80;\" x=\"536.472306\" xlink:href=\"#C1_0_8babaed82b\" y=\"91.237856\"/>\n    </g>\n    <g clip-path=\"url(#p2ddc9018f1)\">\n     <use style=\"fill:#8000ff;stroke:#8000ff;\" x=\"512.462166\" xlink:href=\"#C1_0_8babaed82b\" y=\"171.27256\"/>\n    </g>\n    <g clip-path=\"url(#p2ddc9018f1)\">\n     <use style=\"fill:#8000ff;stroke:#8000ff;\" x=\"473.061334\" xlink:href=\"#C1_0_8babaed82b\" y=\"136.714258\"/>\n    </g>\n    <g clip-path=\"url(#p2ddc9018f1)\">\n     <use style=\"fill:#ff0000;stroke:#ff0000;\" x=\"427.317678\" xlink:href=\"#C1_0_8babaed82b\" y=\"135.808302\"/>\n    </g>\n    <g clip-path=\"url(#p2ddc9018f1)\">\n     <use style=\"fill:#2adddd;stroke:#2adddd;\" x=\"370.239337\" xlink:href=\"#C1_0_8babaed82b\" y=\"273.607187\"/>\n    </g>\n    <g clip-path=\"url(#p2ddc9018f1)\">\n     <use style=\"fill:#ff0000;stroke:#ff0000;\" x=\"433.884642\" xlink:href=\"#C1_0_8babaed82b\" y=\"108.26746\"/>\n    </g>\n    <g clip-path=\"url(#p2ddc9018f1)\">\n     <use style=\"fill:#8000ff;stroke:#8000ff;\" x=\"480.966474\" xlink:href=\"#C1_0_8babaed82b\" y=\"161.176448\"/>\n    </g>\n    <g clip-path=\"url(#p2ddc9018f1)\">\n     <use style=\"fill:#d4dd80;stroke:#d4dd80;\" x=\"549.802121\" xlink:href=\"#C1_0_8babaed82b\" y=\"93.26782\"/>\n    </g>\n    <g clip-path=\"url(#p2ddc9018f1)\">\n     <use style=\"fill:#ff0000;stroke:#ff0000;\" x=\"464.342325\" xlink:href=\"#C1_0_8babaed82b\" y=\"70.730286\"/>\n    </g>\n    <g clip-path=\"url(#p2ddc9018f1)\">\n     <use style=\"fill:#8000ff;stroke:#8000ff;\" x=\"536.691979\" xlink:href=\"#C1_0_8babaed82b\" y=\"188.023373\"/>\n    </g>\n    <g clip-path=\"url(#p2ddc9018f1)\">\n     <use style=\"fill:#d4dd80;stroke:#d4dd80;\" x=\"535.822652\" xlink:href=\"#C1_0_8babaed82b\" y=\"86.185342\"/>\n    </g>\n    <g clip-path=\"url(#p2ddc9018f1)\">\n     <use style=\"fill:#8000ff;stroke:#8000ff;\" x=\"509.423973\" xlink:href=\"#C1_0_8babaed82b\" y=\"164.979244\"/>\n    </g>\n    <g clip-path=\"url(#p2ddc9018f1)\">\n     <use style=\"fill:#ff0000;stroke:#ff0000;\" x=\"447.178893\" xlink:href=\"#C1_0_8babaed82b\" y=\"83.325976\"/>\n    </g>\n    <g clip-path=\"url(#p2ddc9018f1)\">\n     <use style=\"fill:#ff0000;stroke:#ff0000;\" x=\"493.583648\" xlink:href=\"#C1_0_8babaed82b\" y=\"92.240335\"/>\n    </g>\n    <g clip-path=\"url(#p2ddc9018f1)\">\n     <use style=\"fill:#8000ff;stroke:#8000ff;\" x=\"495.834385\" xlink:href=\"#C1_0_8babaed82b\" y=\"126.435066\"/>\n    </g>\n    <g clip-path=\"url(#p2ddc9018f1)\">\n     <use style=\"fill:#ff0000;stroke:#ff0000;\" x=\"422.198148\" xlink:href=\"#C1_0_8babaed82b\" y=\"117.305084\"/>\n    </g>\n    <g clip-path=\"url(#p2ddc9018f1)\">\n     <use style=\"fill:#d4dd80;stroke:#d4dd80;\" x=\"533.827236\" xlink:href=\"#C1_0_8babaed82b\" y=\"85.031632\"/>\n    </g>\n    <g clip-path=\"url(#p2ddc9018f1)\">\n     <use style=\"fill:#d4dd80;stroke:#d4dd80;\" x=\"506.126934\" xlink:href=\"#C1_0_8babaed82b\" y=\"93.467002\"/>\n    </g>\n    <g clip-path=\"url(#p2ddc9018f1)\">\n     <use style=\"fill:#2adddd;stroke:#2adddd;\" x=\"436.928722\" xlink:href=\"#C1_0_8babaed82b\" y=\"307.449472\"/>\n    </g>\n    <g clip-path=\"url(#p2ddc9018f1)\">\n     <use style=\"fill:#d4dd80;stroke:#d4dd80;\" x=\"512.239174\" xlink:href=\"#C1_0_8babaed82b\" y=\"101.361995\"/>\n    </g>\n    <g clip-path=\"url(#p2ddc9018f1)\">\n     <use style=\"fill:#ff0000;stroke:#ff0000;\" x=\"461.603091\" xlink:href=\"#C1_0_8babaed82b\" y=\"72.09311\"/>\n    </g>\n    <g clip-path=\"url(#p2ddc9018f1)\">\n     <use style=\"fill:#2adddd;stroke:#2adddd;\" x=\"415.968086\" xlink:href=\"#C1_0_8babaed82b\" y=\"320.065519\"/>\n    </g>\n    <g clip-path=\"url(#p2ddc9018f1)\">\n     <use style=\"fill:#2adddd;stroke:#2adddd;\" x=\"414.513931\" xlink:href=\"#C1_0_8babaed82b\" y=\"299.177151\"/>\n    </g>\n    <g clip-path=\"url(#p2ddc9018f1)\">\n     <use style=\"fill:#ff0000;stroke:#ff0000;\" x=\"486.099539\" xlink:href=\"#C1_0_8babaed82b\" y=\"48.796068\"/>\n    </g>\n    <g clip-path=\"url(#p2ddc9018f1)\">\n     <use style=\"fill:#2adddd;stroke:#2adddd;\" x=\"403.334939\" xlink:href=\"#C1_0_8babaed82b\" y=\"261.371574\"/>\n    </g>\n    <g clip-path=\"url(#p2ddc9018f1)\">\n     <use style=\"fill:#2adddd;stroke:#2adddd;\" x=\"393.588543\" xlink:href=\"#C1_0_8babaed82b\" y=\"322.642989\"/>\n    </g>\n    <g clip-path=\"url(#p2ddc9018f1)\">\n     <use style=\"fill:#2adddd;stroke:#2adddd;\" x=\"403.977812\" xlink:href=\"#C1_0_8babaed82b\" y=\"225.331873\"/>\n    </g>\n    <g clip-path=\"url(#p2ddc9018f1)\">\n     <use style=\"fill:#2adddd;stroke:#2adddd;\" x=\"398.170013\" xlink:href=\"#C1_0_8babaed82b\" y=\"304.978836\"/>\n    </g>\n    <g clip-path=\"url(#p2ddc9018f1)\">\n     <use style=\"fill:#2adddd;stroke:#2adddd;\" x=\"380.681902\" xlink:href=\"#C1_0_8babaed82b\" y=\"328.57499\"/>\n    </g>\n    <g clip-path=\"url(#p2ddc9018f1)\">\n     <use style=\"fill:#8000ff;stroke:#8000ff;\" x=\"500.579121\" xlink:href=\"#C1_0_8babaed82b\" y=\"184.816218\"/>\n    </g>\n    <g clip-path=\"url(#p2ddc9018f1)\">\n     <use style=\"fill:#2adddd;stroke:#2adddd;\" x=\"395.397825\" xlink:href=\"#C1_0_8babaed82b\" y=\"255.740367\"/>\n    </g>\n    <g clip-path=\"url(#p2ddc9018f1)\">\n     <use style=\"fill:#d4dd80;stroke:#d4dd80;\" x=\"549.468456\" xlink:href=\"#C1_0_8babaed82b\" y=\"88.755396\"/>\n    </g>\n    <g clip-path=\"url(#p2ddc9018f1)\">\n     <use style=\"fill:#d4dd80;stroke:#d4dd80;\" x=\"539.015175\" xlink:href=\"#C1_0_8babaed82b\" y=\"81.547004\"/>\n    </g>\n    <g clip-path=\"url(#p2ddc9018f1)\">\n     <use style=\"fill:#ff0000;stroke:#ff0000;\" x=\"458.141395\" xlink:href=\"#C1_0_8babaed82b\" y=\"94.11999\"/>\n    </g>\n    <g clip-path=\"url(#p2ddc9018f1)\">\n     <use style=\"fill:#2adddd;stroke:#2adddd;\" x=\"406.604057\" xlink:href=\"#C1_0_8babaed82b\" y=\"276.983194\"/>\n    </g>\n    <g clip-path=\"url(#p2ddc9018f1)\">\n     <use style=\"fill:#8000ff;stroke:#8000ff;\" x=\"501.366329\" xlink:href=\"#C1_0_8babaed82b\" y=\"124.547156\"/>\n    </g>\n    <g clip-path=\"url(#p2ddc9018f1)\">\n     <use style=\"fill:#d4dd80;stroke:#d4dd80;\" x=\"560.206872\" xlink:href=\"#C1_0_8babaed82b\" y=\"78.560402\"/>\n    </g>\n    <g clip-path=\"url(#p2ddc9018f1)\">\n     <use style=\"fill:#d4dd80;stroke:#d4dd80;\" x=\"545.967562\" xlink:href=\"#C1_0_8babaed82b\" y=\"68.016547\"/>\n    </g>\n    <g clip-path=\"url(#p2ddc9018f1)\">\n     <use style=\"fill:#2adddd;stroke:#2adddd;\" x=\"402.109128\" xlink:href=\"#C1_0_8babaed82b\" y=\"251.373745\"/>\n    </g>\n    <g clip-path=\"url(#p2ddc9018f1)\">\n     <use style=\"fill:#8000ff;stroke:#8000ff;\" x=\"516.388142\" xlink:href=\"#C1_0_8babaed82b\" y=\"176.900739\"/>\n    </g>\n   </g>\n   <g id=\"matplotlib.axis_3\">\n    <g id=\"xtick_6\">\n     <g id=\"line2d_11\">\n      <g>\n       <use style=\"stroke:#000000;stroke-width:0.8;\" x=\"344.773269\" xlink:href=\"#ma26b4f570f\" y=\"348.478125\"/>\n      </g>\n     </g>\n     <g id=\"text_12\">\n      <!-- −15 -->\n      <g transform=\"translate(334.220926 363.076563)scale(0.1 -0.1)\">\n       <use xlink:href=\"#DejaVuSans-8722\"/>\n       <use x=\"83.789062\" xlink:href=\"#DejaVuSans-49\"/>\n       <use x=\"147.412109\" xlink:href=\"#DejaVuSans-53\"/>\n      </g>\n     </g>\n    </g>\n    <g id=\"xtick_7\">\n     <g id=\"line2d_12\">\n      <g>\n       <use style=\"stroke:#000000;stroke-width:0.8;\" x=\"394.734675\" xlink:href=\"#ma26b4f570f\" y=\"348.478125\"/>\n      </g>\n     </g>\n     <g id=\"text_13\">\n      <!-- −10 -->\n      <g transform=\"translate(384.182332 363.076563)scale(0.1 -0.1)\">\n       <use xlink:href=\"#DejaVuSans-8722\"/>\n       <use x=\"83.789062\" xlink:href=\"#DejaVuSans-49\"/>\n       <use x=\"147.412109\" xlink:href=\"#DejaVuSans-48\"/>\n      </g>\n     </g>\n    </g>\n    <g id=\"xtick_8\">\n     <g id=\"line2d_13\">\n      <g>\n       <use style=\"stroke:#000000;stroke-width:0.8;\" x=\"444.696082\" xlink:href=\"#ma26b4f570f\" y=\"348.478125\"/>\n      </g>\n     </g>\n     <g id=\"text_14\">\n      <!-- −5 -->\n      <g transform=\"translate(437.324988 363.076563)scale(0.1 -0.1)\">\n       <use xlink:href=\"#DejaVuSans-8722\"/>\n       <use x=\"83.789062\" xlink:href=\"#DejaVuSans-53\"/>\n      </g>\n     </g>\n    </g>\n    <g id=\"xtick_9\">\n     <g id=\"line2d_14\">\n      <g>\n       <use style=\"stroke:#000000;stroke-width:0.8;\" x=\"494.657488\" xlink:href=\"#ma26b4f570f\" y=\"348.478125\"/>\n      </g>\n     </g>\n     <g id=\"text_15\">\n      <!-- 0 -->\n      <g transform=\"translate(491.476238 363.076563)scale(0.1 -0.1)\">\n       <use xlink:href=\"#DejaVuSans-48\"/>\n      </g>\n     </g>\n    </g>\n    <g id=\"xtick_10\">\n     <g id=\"line2d_15\">\n      <g>\n       <use style=\"stroke:#000000;stroke-width:0.8;\" x=\"544.618894\" xlink:href=\"#ma26b4f570f\" y=\"348.478125\"/>\n      </g>\n     </g>\n     <g id=\"text_16\">\n      <!-- 5 -->\n      <g transform=\"translate(541.437644 363.076563)scale(0.1 -0.1)\">\n       <use xlink:href=\"#DejaVuSans-53\"/>\n      </g>\n     </g>\n    </g>\n   </g>\n   <g id=\"matplotlib.axis_4\">\n    <g id=\"ytick_6\">\n     <g id=\"line2d_16\">\n      <g>\n       <use style=\"stroke:#000000;stroke-width:0.8;\" x=\"339.668324\" xlink:href=\"#m1dca56c01d\" y=\"328.520742\"/>\n      </g>\n     </g>\n    </g>\n    <g id=\"ytick_7\">\n     <g id=\"line2d_17\">\n      <g>\n       <use style=\"stroke:#000000;stroke-width:0.8;\" x=\"339.668324\" xlink:href=\"#m1dca56c01d\" y=\"260.416561\"/>\n      </g>\n     </g>\n    </g>\n    <g id=\"ytick_8\">\n     <g id=\"line2d_18\">\n      <g>\n       <use style=\"stroke:#000000;stroke-width:0.8;\" x=\"339.668324\" xlink:href=\"#m1dca56c01d\" y=\"192.312381\"/>\n      </g>\n     </g>\n    </g>\n    <g id=\"ytick_9\">\n     <g id=\"line2d_19\">\n      <g>\n       <use style=\"stroke:#000000;stroke-width:0.8;\" x=\"339.668324\" xlink:href=\"#m1dca56c01d\" y=\"124.208201\"/>\n      </g>\n     </g>\n    </g>\n    <g id=\"ytick_10\">\n     <g id=\"line2d_20\">\n      <g>\n       <use style=\"stroke:#000000;stroke-width:0.8;\" x=\"339.668324\" xlink:href=\"#m1dca56c01d\" y=\"56.10402\"/>\n      </g>\n     </g>\n    </g>\n   </g>\n   <g id=\"patch_8\">\n    <path d=\"M 339.668324 348.478125 \nL 339.668324 22.318125 \n\" style=\"fill:none;stroke:#000000;stroke-linecap:square;stroke-linejoin:miter;stroke-width:0.8;\"/>\n   </g>\n   <g id=\"patch_9\">\n    <path d=\"M 593.304687 348.478125 \nL 593.304687 22.318125 \n\" style=\"fill:none;stroke:#000000;stroke-linecap:square;stroke-linejoin:miter;stroke-width:0.8;\"/>\n   </g>\n   <g id=\"patch_10\">\n    <path d=\"M 339.668324 348.478125 \nL 593.304687 348.478125 \n\" style=\"fill:none;stroke:#000000;stroke-linecap:square;stroke-linejoin:miter;stroke-width:0.8;\"/>\n   </g>\n   <g id=\"patch_11\">\n    <path d=\"M 339.668324 22.318125 \nL 593.304687 22.318125 \n\" style=\"fill:none;stroke:#000000;stroke-linecap:square;stroke-linejoin:miter;stroke-width:0.8;\"/>\n   </g>\n   <g id=\"text_17\">\n    <!-- Original -->\n    <g transform=\"translate(443.007756 16.318125)scale(0.12 -0.12)\">\n     <defs>\n      <path d=\"M 39.40625 66.21875 \nQ 28.65625 66.21875 22.328125 58.203125 \nQ 16.015625 50.203125 16.015625 36.375 \nQ 16.015625 22.609375 22.328125 14.59375 \nQ 28.65625 6.59375 39.40625 6.59375 \nQ 50.140625 6.59375 56.421875 14.59375 \nQ 62.703125 22.609375 62.703125 36.375 \nQ 62.703125 50.203125 56.421875 58.203125 \nQ 50.140625 66.21875 39.40625 66.21875 \nz\nM 39.40625 74.21875 \nQ 54.734375 74.21875 63.90625 63.9375 \nQ 73.09375 53.65625 73.09375 36.375 \nQ 73.09375 19.140625 63.90625 8.859375 \nQ 54.734375 -1.421875 39.40625 -1.421875 \nQ 24.03125 -1.421875 14.8125 8.828125 \nQ 5.609375 19.09375 5.609375 36.375 \nQ 5.609375 53.65625 14.8125 63.9375 \nQ 24.03125 74.21875 39.40625 74.21875 \nz\n\" id=\"DejaVuSans-79\"/>\n      <path d=\"M 41.109375 46.296875 \nQ 39.59375 47.171875 37.8125 47.578125 \nQ 36.03125 48 33.890625 48 \nQ 26.265625 48 22.1875 43.046875 \nQ 18.109375 38.09375 18.109375 28.8125 \nL 18.109375 0 \nL 9.078125 0 \nL 9.078125 54.6875 \nL 18.109375 54.6875 \nL 18.109375 46.1875 \nQ 20.953125 51.171875 25.484375 53.578125 \nQ 30.03125 56 36.53125 56 \nQ 37.453125 56 38.578125 55.875 \nQ 39.703125 55.765625 41.0625 55.515625 \nz\n\" id=\"DejaVuSans-114\"/>\n      <path d=\"M 9.421875 54.6875 \nL 18.40625 54.6875 \nL 18.40625 0 \nL 9.421875 0 \nz\nM 9.421875 75.984375 \nL 18.40625 75.984375 \nL 18.40625 64.59375 \nL 9.421875 64.59375 \nz\n\" id=\"DejaVuSans-105\"/>\n      <path d=\"M 45.40625 27.984375 \nQ 45.40625 37.75 41.375 43.109375 \nQ 37.359375 48.484375 30.078125 48.484375 \nQ 22.859375 48.484375 18.828125 43.109375 \nQ 14.796875 37.75 14.796875 27.984375 \nQ 14.796875 18.265625 18.828125 12.890625 \nQ 22.859375 7.515625 30.078125 7.515625 \nQ 37.359375 7.515625 41.375 12.890625 \nQ 45.40625 18.265625 45.40625 27.984375 \nz\nM 54.390625 6.78125 \nQ 54.390625 -7.171875 48.1875 -13.984375 \nQ 42 -20.796875 29.203125 -20.796875 \nQ 24.46875 -20.796875 20.265625 -20.09375 \nQ 16.0625 -19.390625 12.109375 -17.921875 \nL 12.109375 -9.1875 \nQ 16.0625 -11.328125 19.921875 -12.34375 \nQ 23.78125 -13.375 27.78125 -13.375 \nQ 36.625 -13.375 41.015625 -8.765625 \nQ 45.40625 -4.15625 45.40625 5.171875 \nL 45.40625 9.625 \nQ 42.625 4.78125 38.28125 2.390625 \nQ 33.9375 0 27.875 0 \nQ 17.828125 0 11.671875 7.65625 \nQ 5.515625 15.328125 5.515625 27.984375 \nQ 5.515625 40.671875 11.671875 48.328125 \nQ 17.828125 56 27.875 56 \nQ 33.9375 56 38.28125 53.609375 \nQ 42.625 51.21875 45.40625 46.390625 \nL 45.40625 54.6875 \nL 54.390625 54.6875 \nz\n\" id=\"DejaVuSans-103\"/>\n      <path d=\"M 9.421875 75.984375 \nL 18.40625 75.984375 \nL 18.40625 0 \nL 9.421875 0 \nz\n\" id=\"DejaVuSans-108\"/>\n     </defs>\n     <use xlink:href=\"#DejaVuSans-79\"/>\n     <use x=\"78.710938\" xlink:href=\"#DejaVuSans-114\"/>\n     <use x=\"119.824219\" xlink:href=\"#DejaVuSans-105\"/>\n     <use x=\"147.607422\" xlink:href=\"#DejaVuSans-103\"/>\n     <use x=\"211.083984\" xlink:href=\"#DejaVuSans-105\"/>\n     <use x=\"238.867188\" xlink:href=\"#DejaVuSans-110\"/>\n     <use x=\"302.246094\" xlink:href=\"#DejaVuSans-97\"/>\n     <use x=\"363.525391\" xlink:href=\"#DejaVuSans-108\"/>\n    </g>\n   </g>\n  </g>\n </g>\n <defs>\n  <clipPath id=\"pef30aa0050\">\n   <rect height=\"326.16\" width=\"253.636364\" x=\"35.304688\" y=\"22.318125\"/>\n  </clipPath>\n  <clipPath id=\"p2ddc9018f1\">\n   <rect height=\"326.16\" width=\"253.636364\" x=\"339.668324\" y=\"22.318125\"/>\n  </clipPath>\n </defs>\n</svg>\n",
      "text/plain": [
       "<Figure size 720x432 with 2 Axes>"
      ]
     },
     "metadata": {
      "needs_background": "light"
     },
     "output_type": "display_data"
    }
   ],
   "source": [
    "from sklearn.cluster import KMeans\n",
    "kmeans = KMeans(n_clusters=8)\n",
    "kmeans.fit(data[0]) #train with the features \n",
    "\n",
    "#plot the data with 'subplots of 1 row and 2 columns':\n",
    "f, (ax1, ax2) = plt.subplots(1, 2, sharey=True,figsize=(10,6))\n",
    "ax1.set_title('K Means')\n",
    "ax1.scatter(data[0][:,0],data[0][:,1],c=kmeans.labels_,cmap='rainbow')\n",
    "ax2.set_title(\"Original\")\n",
    "ax2.scatter(data[0][:,0],data[0][:,1],c=data[1],cmap='rainbow')"
   ]
  },
  {
   "cell_type": "code",
   "execution_count": null,
   "metadata": {},
   "outputs": [],
   "source": []
  },
  {
   "cell_type": "code",
   "execution_count": null,
   "metadata": {
    "tags": []
   },
   "outputs": [
    {
     "name": "stdout",
     "output_type": "stream",
     "text": [
      "The version_information extension is already loaded. To reload it, use:\n",
      "  %reload_ext version_information\n"
     ]
    }
   ],
   "source": [
    "%load_ext version_information"
   ]
  },
  {
   "cell_type": "code",
   "execution_count": null,
   "metadata": {
    "tags": []
   },
   "outputs": [
    {
     "data": {
      "application/json": {
       "Software versions": [
        {
         "module": "Python",
         "version": "3.7.8 64bit [Clang 10.0.1 ]"
        },
        {
         "module": "IPython",
         "version": "7.17.0"
        },
        {
         "module": "OS",
         "version": "Darwin 19.6.0 x86_64 i386 64bit"
        }
       ]
      },
      "text/html": [
       "<table><tr><th>Software</th><th>Version</th></tr><tr><td>Python</td><td>3.7.8 64bit [Clang 10.0.1 ]</td></tr><tr><td>IPython</td><td>7.17.0</td></tr><tr><td>OS</td><td>Darwin 19.6.0 x86_64 i386 64bit</td></tr><tr><td colspan='2'>Sun Aug 02 14:44:00 2020 EEST</td></tr></table>"
      ],
      "text/latex": [
       "\\begin{tabular}{|l|l|}\\hline\n",
       "{\\bf Software} & {\\bf Version} \\\\ \\hline\\hline\n",
       "Python & 3.7.8 64bit [Clang 10.0.1 ] \\\\ \\hline\n",
       "IPython & 7.17.0 \\\\ \\hline\n",
       "OS & Darwin 19.6.0 x86\\_64 i386 64bit \\\\ \\hline\n",
       "\\hline \\multicolumn{2}{|l|}{Sun Aug 02 14:44:00 2020 EEST} \\\\ \\hline\n",
       "\\end{tabular}\n"
      ],
      "text/plain": [
       "Software versions\n",
       "Python 3.7.8 64bit [Clang 10.0.1 ]\n",
       "IPython 7.17.0\n",
       "OS Darwin 19.6.0 x86_64 i386 64bit\n",
       "Sun Aug 02 14:44:00 2020 EEST"
      ]
     },
     "execution_count": 99,
     "metadata": {},
     "output_type": "execute_result"
    }
   ],
   "source": [
    "%version_information"
   ]
  },
  {
   "cell_type": "code",
   "execution_count": null,
   "metadata": {},
   "outputs": [],
   "source": []
  }
 ],
 "metadata": {
  "kernelspec": {
   "display_name": "Python 3.9.7 ('elements1.0')",
   "language": "python",
   "name": "python3"
  },
  "language_info": {
   "codemirror_mode": {
    "name": "ipython",
    "version": 3
   },
   "file_extension": ".py",
   "mimetype": "text/x-python",
   "name": "python",
   "nbconvert_exporter": "python",
   "pygments_lexer": "ipython3",
   "version": "3.9.7"
  },
  "vscode": {
   "interpreter": {
    "hash": "cb94994c54d9e5373ae65d029a8533d8956a2f0b946fc7c98bab47c30d75eaca"
   }
  }
 },
 "nbformat": 4,
 "nbformat_minor": 4
}
