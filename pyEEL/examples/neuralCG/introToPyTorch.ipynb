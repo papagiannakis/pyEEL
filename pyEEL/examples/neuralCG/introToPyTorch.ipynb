{
 "cells": [
  {
   "cell_type": "markdown",
   "metadata": {},
   "source": [
    "# This is an introductory Pytorch and Pytorch-Geometric Jupyter *notebook*\n"
   ]
  },
  {
   "cell_type": "markdown",
   "metadata": {},
   "source": [
    "## Copyright 2022 Dr. George Papagiannakis, papagian@csd.uoc.gr\n",
    "### All Rights Reserved\n",
    "\n",
    "### University of Crete & Foundation for Research & Technology - Hellas (FORTH)\n"
   ]
  },
  {
   "cell_type": "code",
   "execution_count": null,
   "metadata": {},
   "outputs": [],
   "source": [
    "import pandas as pd\n",
    "import numpy as np\n",
    "import matplotlib.pyplot as plt\n",
    "import seaborn as sns\n",
    "import sklearn as sk\n",
    "import sys\n",
    "%matplotlib inline\n",
    "import torch; torch.backends.mps.is_available()"
   ]
  },
  {
   "attachments": {},
   "cell_type": "markdown",
   "metadata": {},
   "source": [
    "# Installation instructions of pytorch and pytorch geometric\n",
    "- https://pytorch-geometric.readthedocs.io/en/latest/notes/installation.html\n",
    "- for M1 macOS: https://github.com/rusty1s/pytorch_scatter/issues/241 and for torch-sparse:\n",
    "    - `pip install git+https://github.com/rusty1s/pytorch_sparse.git `\n",
    "    - `python -c \"import torch; print(torch.__version__)\"`"
   ]
  },
  {
   "cell_type": "markdown",
   "metadata": {},
   "source": [
    "# Train and create our own GNN layer\n",
    "## https://github.com/pyg-team/pytorch_geometric "
   ]
  },
  {
   "cell_type": "code",
   "execution_count": null,
   "metadata": {},
   "outputs": [],
   "source": [
    "import torch\n",
    "from torch import Tensor\n",
    "from torch_geometric.nn import GCNConv\n",
    "from torch_geometric.datasets import Planetoid\n",
    "\n",
    "dataset = Planetoid(root='.', name='Cora')\n",
    "\n",
    "class GCN(torch.nn.Module):\n",
    "    def __init__(self, in_channels, hidden_channels, out_channels):\n",
    "        super().__init__()\n",
    "        self.conv1 = GCNConv(in_channels, hidden_channels)\n",
    "        self.conv2 = GCNConv(hidden_channels, out_channels)\n",
    "\n",
    "    def forward(self, x: Tensor, edge_index: Tensor) -> Tensor:\n",
    "        # x: Node feature matrix of shape [num_nodes, in_channels]\n",
    "        # edge_index: Graph connectivity matrix of shape [2, num_edges]\n",
    "        x = self.conv1(x, edge_index).relu()\n",
    "        x = self.conv2(x, edge_index)\n",
    "        return x\n",
    "\n",
    "model = GCN(dataset.num_features, 16, dataset.num_classes)"
   ]
  },
  {
   "cell_type": "code",
   "execution_count": null,
   "metadata": {},
   "outputs": [],
   "source": [
    "import torch\n",
    "from torch import Tensor\n",
    "from torch.nn import Sequential, Linear, ReLU\n",
    "from torch_geometric.nn import MessagePassing\n",
    "\n",
    "class EdgeConv(MessagePassing):\n",
    "    def __init__(self, in_channels, out_channels):\n",
    "        super().__init__(aggr=\"max\")  # \"Max\" aggregation.\n",
    "        self.mlp = Sequential(\n",
    "            Linear(2 * in_channels, out_channels),\n",
    "            ReLU(),\n",
    "            Linear(out_channels, out_channels),\n",
    "        )\n",
    "\n",
    "    def forward(self, x: Tensor, edge_index: Tensor) -> Tensor:\n",
    "        # x: Node feature matrix of shape [num_nodes, in_channels]\n",
    "        # edge_index: Graph connectivity matrix of shape [2, num_edges]\n",
    "        return self.propagate(edge_index, x=x)  # shape [num_nodes, out_channels]\n",
    "\n",
    "    def message(self, x_j: Tensor, x_i: Tensor) -> Tensor:\n",
    "        # x_j: Source node features of shape [num_edges, in_channels]\n",
    "        # x_i: Target node features of shape [num_edges, in_channels]\n",
    "        edge_features = torch.cat([x_i, x_j - x_i], dim=-1)\n",
    "        return self.mlp(edge_features)  # shape [num_edges, out_channels]"
   ]
  },
  {
   "cell_type": "markdown",
   "metadata": {},
   "source": []
  },
  {
   "cell_type": "code",
   "execution_count": 6,
   "metadata": {},
   "outputs": [],
   "source": [
    "#pytorch-geometric example\n",
    "import matplotlib.pyplot as plt\n",
    "import seaborn as sns\n",
    "%matplotlib inline\n",
    "import torch\n",
    "from torch_geometric.data import Data\n",
    "\n",
    "edge_index = torch.tensor([[0, 1, 1, 2],\n",
    "                           [1, 0, 2, 1]], dtype=torch.long)\n",
    "x = torch.tensor([[-1], [0], [1]], dtype=torch.float)\n",
    "\n",
    "data = Data(x=x, edge_index=edge_index)"
   ]
  },
  {
   "cell_type": "code",
   "execution_count": 7,
   "metadata": {},
   "outputs": [
    {
     "data": {
      "text/plain": [
       "Data(x=[2], edge_index=[2])"
      ]
     },
     "execution_count": 7,
     "metadata": {},
     "output_type": "execute_result"
    }
   ],
   "source": [
    "Data(edge_index=[2, 4], x=[3, 1])"
   ]
  },
  {
   "attachments": {},
   "cell_type": "markdown",
   "metadata": {},
   "source": [
    "### Load several networkx graphs in pytorch geometric and train a graph neural network in python to predict new graph embedding"
   ]
  },
  {
   "attachments": {},
   "cell_type": "markdown",
   "metadata": {},
   "source": [
    "To load several NetworkX graphs in PyTorch Geometric, you'll first need to convert them to PyTorch Geometric's data structure, which is called a Data object. This can be done by using the from_networkx method provided by PyTorch Geometric.\n",
    "\n",
    "Here's an example of how you might load a list of NetworkX graphs and convert them to PyTorch Geometric's data structure:"
   ]
  },
  {
   "cell_type": "code",
   "execution_count": null,
   "metadata": {},
   "outputs": [],
   "source": [
    "mport networkx as nx\n",
    "from torch_geometric.data import Data\n",
    "import torch_geometric.utils as tgu\n",
    "\n",
    "graphs = [nx.barabasi_albert_graph(100, 5), nx.erdos_renyi_graph(100, 0.1)]\n",
    "\n",
    "data_list = [tgu.from_networkx(G) for G in graphs]"
   ]
  },
  {
   "attachments": {},
   "cell_type": "markdown",
   "metadata": {},
   "source": [
    "To train a graph neural network on these graphs, you'll need to use a PyTorch Geometric model that is designed for this task. For example, you can use the GCN (Graph Convolutional Network) model, which is a simple and commonly used model for graph classification tasks.\n",
    "\n",
    "Here's an example of how you might use the GCN model to train a graph neural network on the list of graphs:"
   ]
  },
  {
   "cell_type": "code",
   "execution_count": null,
   "metadata": {},
   "outputs": [],
   "source": [
    "import torch\n",
    "from torch_geometric.nn import GCNConv\n",
    "from torch.nn import Linear\n",
    "\n",
    "class GCN(torch.nn.Module):\n",
    "    def __init__(self, input_dim, hidden_dim, output_dim):\n",
    "        super(GCN, self).__init__()\n",
    "        self.conv1 = GCNConv(input_dim, hidden_dim)\n",
    "        self.conv2 = GCNConv(hidden_dim, output_dim)\n",
    "        self.linear = Linear(output_dim, output_dim)\n",
    "\n",
    "    def forward(self, data):\n",
    "        x, edge_index = data.x, data.edge_index\n",
    "\n",
    "        x = self.conv1(x, edge_index)\n",
    "        x = torch.relu(x)\n",
    "        x = self.conv2(x, edge_index)\n",
    "        x = torch.relu(x)\n",
    "\n",
    "        x = self.linear(x)\n",
    "        return x\n",
    "\n",
    "model = GCN(input_dim=100, hidden_dim=128, output_dim=100)"
   ]
  },
  {
   "attachments": {},
   "cell_type": "markdown",
   "metadata": {},
   "source": [
    "Once we've defined your model, we can train it using the data_list you created earlier and the PyTorch optimizers like Adam, Adagrad and so on. The last layer of the model produces the new graph embedding as the output."
   ]
  },
  {
   "cell_type": "code",
   "execution_count": null,
   "metadata": {},
   "outputs": [],
   "source": [
    "optimizer = torch.optim.Adam(model.parameters(), lr=0.01)\n",
    "\n",
    "for epoch in range(100):\n",
    "    for i, data in enumerate(data_list):\n",
    "        optimizer.zero_grad()\n",
    "        output = model(data)\n",
    "        loss = torch.nn.functional.mse_loss(output, data.x)\n",
    "        loss.backward()\n",
    "        optimizer.step()"
   ]
  }
 ],
 "metadata": {
  "kernelspec": {
   "display_name": "Python 3.8.15 ('Elements38')",
   "language": "python",
   "name": "python3"
  },
  "language_info": {
   "codemirror_mode": {
    "name": "ipython",
    "version": 3
   },
   "file_extension": ".py",
   "mimetype": "text/x-python",
   "name": "python",
   "nbconvert_exporter": "python",
   "pygments_lexer": "ipython3",
   "version": "3.8.15 (default, Nov 24 2022, 08:57:44) \n[Clang 14.0.6 ]"
  },
  "vscode": {
   "interpreter": {
    "hash": "023f89a57ec52ee161c3841477c0520c4b3b92d88c8b1ec7ec66cd30cab64c59"
   }
  }
 },
 "nbformat": 4,
 "nbformat_minor": 4
}
