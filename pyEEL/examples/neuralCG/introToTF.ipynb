{
 "cells": [
  {
   "cell_type": "markdown",
   "metadata": {},
   "source": [
    "# This is an introductory Tensorflow and Tensorflow-graphics Jupyter *notebook*\n"
   ]
  },
  {
   "cell_type": "markdown",
   "metadata": {},
   "source": [
    "## Copyright 2022 Dr. George Papagiannakis, papagian@csd.uoc.gr\n",
    "### All Rights Reserved\n",
    "\n",
    "### University of Crete & Foundation for Research & Technology - Hellas (FORTH)\n"
   ]
  },
  {
   "cell_type": "code",
   "execution_count": 3,
   "metadata": {},
   "outputs": [],
   "source": [
    "import pandas as pd\n",
    "import numpy as np\n",
    "import matplotlib.pyplot as plt\n",
    "import seaborn as sns\n",
    "%matplotlib inline"
   ]
  },
  {
   "cell_type": "markdown",
   "metadata": {},
   "source": [
    "# Installation instructions of tensorflow 2\n",
    "### make sure you install tensorflow via pip and not conda! \n",
    "- for windows and macOS Intel: https://365datascience.com/tutorials/machine-learning-tutorials/install-tensorflow-2-anaconda/ \n",
    "- for M1 macOS: https://caffeinedev.medium.com/how-to-install-tensorflow-on-m1-mac-8e9b91d93706 "
   ]
  },
  {
   "cell_type": "code",
   "execution_count": 5,
   "metadata": {},
   "outputs": [
    {
     "name": "stdout",
     "output_type": "stream",
     "text": [
      "TensorFlow version: 2.10.0\n",
      "Num GPUs Available:  1\n"
     ]
    }
   ],
   "source": [
    "import tensorflow as tf\n",
    "import tensorflow_datasets as tfds\n",
    "\n",
    "print(\"TensorFlow version:\", tf.__version__)\n",
    "print(\"Num GPUs Available: \", len(tf.config.experimental.list_physical_devices('GPU')))"
   ]
  },
  {
   "cell_type": "code",
   "execution_count": 10,
   "metadata": {},
   "outputs": [
    {
     "name": "stdout",
     "output_type": "stream",
     "text": [
      "CPU times: user 1 µs, sys: 1e+03 ns, total: 2 µs\n",
      "Wall time: 4.77 µs\n",
      "TensorFlow version: 2.10.0\n",
      "Num GPUs Available:  1\n",
      "CPU times: user 2 µs, sys: 1 µs, total: 3 µs\n",
      "Wall time: 5.01 µs\n"
     ]
    }
   ],
   "source": [
    "# test tensorflow installation\n",
    "%time\n",
    "\n",
    "print(\"TensorFlow version:\", tf.__version__)\n",
    "print(\"Num GPUs Available: \", len(tf.config.experimental.list_physical_devices('GPU')))\n",
    "\n",
    "%time"
   ]
  },
  {
   "cell_type": "markdown",
   "metadata": {},
   "source": [
    "## install tensorflow-graphics\n",
    "\n",
    "You can try with pip, but if you have problems then you can follow the workarounds below:\n",
    "- get from github the source of tensorflow-graphics\n",
    "- comment from requirements.txt OpenEXR\n",
    "- install OpenEXR via macports or Homebrew\n",
    "- manually install tensorflow-graphics from the github source:\n",
    "  - `python setup.py sdist bdist_wheel`\n",
    "  - `pip install --upgrade dist/*.whl`"
   ]
  },
  {
   "cell_type": "code",
   "execution_count": 11,
   "metadata": {},
   "outputs": [],
   "source": [
    "# check here tensorflow-graphics\n",
    "\n",
    "###########\n",
    "# Imports #\n",
    "###########\n",
    "import math\n",
    "\n",
    "import matplotlib.pyplot as plt\n",
    "import numpy as np\n",
    "import tensorflow as tf\n",
    "\n",
    "from tensorflow_graphics.geometry.representation import grid\n",
    "from tensorflow_graphics.geometry.representation import ray\n",
    "from tensorflow_graphics.geometry.representation import vector\n",
    "from tensorflow_graphics.rendering.camera import orthographic\n",
    "from tensorflow_graphics.math import spherical_harmonics\n",
    "from tensorflow_graphics.math import math_helpers as tf_math\n",
    "\n",
    "tf.compat.v1.enable_eager_execution()\n"
   ]
  }
 ],
 "metadata": {
  "kernelspec": {
   "display_name": "Python 3.9.7 ('elements1.0')",
   "language": "python",
   "name": "python3"
  },
  "language_info": {
   "codemirror_mode": {
    "name": "ipython",
    "version": 3
   },
   "file_extension": ".py",
   "mimetype": "text/x-python",
   "name": "python",
   "nbconvert_exporter": "python",
   "pygments_lexer": "ipython3",
   "version": "3.9.7"
  },
  "vscode": {
   "interpreter": {
    "hash": "cb94994c54d9e5373ae65d029a8533d8956a2f0b946fc7c98bab47c30d75eaca"
   }
  }
 },
 "nbformat": 4,
 "nbformat_minor": 4
}
