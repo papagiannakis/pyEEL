{
 "cells": [
  {
   "cell_type": "markdown",
   "metadata": {},
   "source": [
    "# This is an introductory Tensorflow, Tenforflow-geometric and Tensorflow-graphics Jupyter *notebook*\n"
   ]
  },
  {
   "cell_type": "markdown",
   "metadata": {},
   "source": [
    "## Copyright 2022 Dr. George Papagiannakis, papagian@csd.uoc.gr\n",
    "### All Rights Reserved\n",
    "\n",
    "### University of Crete & Foundation for Research & Technology - Hellas (FORTH)\n"
   ]
  },
  {
   "cell_type": "code",
   "execution_count": null,
   "metadata": {},
   "outputs": [],
   "source": [
    "import pandas as pd\n",
    "import numpy as np\n",
    "import matplotlib.pyplot as plt\n",
    "import seaborn as sns\n",
    "import sklearn as sk\n",
    "import sys\n",
    "%matplotlib inline"
   ]
  },
  {
   "cell_type": "markdown",
   "metadata": {},
   "source": [
    "# Installation instructions of tensorflow 2\n",
    "### make sure you install tensorflow via pip and not conda! \n",
    "- for windows and macOS Intel: https://365datascience.com/tutorials/machine-learning-tutorials/install-tensorflow-2-anaconda/ \n",
    "- for M1 macOS: https://caffeinedev.medium.com/how-to-install-tensorflow-on-m1-mac-8e9b91d93706 "
   ]
  },
  {
   "cell_type": "code",
   "execution_count": null,
   "metadata": {},
   "outputs": [],
   "source": [
    "import platform\n",
    "import sys\n",
    "import numpy as np\n",
    "import pandas as pd\n",
    "import scipy as sp\n",
    "import sklearn as sk\n",
    "import tensorflow as tf\n",
    "import tensorflow.keras\n",
    "\n",
    "print(f\"Python Platform: {platform.platform()}\")\n",
    "print(f\"Tensor Flow Version: {tf.__version__}\")\n",
    "print(f\"Keras Version: {tensorflow.keras.__version__}\")\n",
    "print()\n",
    "print(f\"Python {sys.version}\")\n",
    "print(f\"numpy {np.__version__}\")\n",
    "print(f\"Pandas {pd.__version__}\")\n",
    "print(f\"Scikit-Learn {sk.__version__}\")\n",
    "print(f\"SciPy {sp.__version__}\")\n",
    "gpu = len(tf.config.list_physical_devices('GPU'))>0\n",
    "print(\"GPU is\", \"available\" if gpu else \"NOT AVAILABLE\")"
   ]
  },
  {
   "cell_type": "code",
   "execution_count": null,
   "metadata": {},
   "outputs": [],
   "source": [
    "import tensorflow as tf\n",
    "import keras\n",
    "import tensorflow_datasets as tfds\n",
    "import platform\n",
    "\n",
    "print(f\"Python Platform: {platform.platform()}\")\n",
    "print(\"TensorFlow version:\", tf.__version__)\n",
    "print(f\"Keras version: {keras.__version__}\")\n",
    "print(f\"Python version: {sys.version}\")\n",
    "print(f\"Pandas version: {pd.__version__}\")\n",
    "print(f\"Scikit-Learn version: {sk.__version__}\")\n",
    "print(\"Num GPUs Available: \", len(tf.config.experimental.list_physical_devices('GPU')))"
   ]
  },
  {
   "attachments": {},
   "cell_type": "markdown",
   "metadata": {},
   "source": [
    "## install tensorflow-geometric\n",
    "### https://tf-geometric.readthedocs.io/en/latest/wiki/installation.html "
   ]
  },
  {
   "cell_type": "code",
   "execution_count": null,
   "metadata": {},
   "outputs": [],
   "source": [
    "# coding=utf-8\n",
    "import numpy as np\n",
    "import tf_geometric as tfg\n",
    "import tensorflow as tf\n",
    "\n",
    "graph = tfg.Graph(\n",
    "    x=np.random.randn(5, 20),  # 5 nodes, 20 features,\n",
    "    edge_index=[[0, 0, 1, 3],\n",
    "                [1, 2, 2, 1]]  # 4 undirected edges\n",
    ")\n",
    "\n",
    "print(\"Graph Desc: \\n\", graph)\n",
    "\n",
    "graph.convert_edge_to_directed()  # pre-process edges\n",
    "print(\"Processed Graph Desc: \\n\", graph)\n",
    "print(\"Processed Edge Index:\\n\", graph.edge_index)\n",
    "\n",
    "# Multi-head Graph Attention Network (GAT)\n",
    "gat_layer = tfg.layers.GAT(units=4, num_heads=4, activation=tf.nn.relu)\n",
    "output = gat_layer([graph.x, graph.edge_index])\n",
    "print(\"Output of GAT: \\n\", output)"
   ]
  },
  {
   "cell_type": "markdown",
   "metadata": {},
   "source": [
    "## install tensorflow-graphics\n",
    "\n",
    "You can try with pip, but if you have problems then you can follow the workarounds below:\n",
    "- get from github the source of tensorflow-graphics\n",
    "- comment from requirements.txt OpenEXR\n",
    "- install OpenEXR via macports or Homebrew\n",
    "- manually install tensorflow-graphics from the github source:\n",
    "  - `python setup.py sdist bdist_wheel`\n",
    "  - `pip install --upgrade dist/*.whl`"
   ]
  },
  {
   "cell_type": "code",
   "execution_count": null,
   "metadata": {},
   "outputs": [],
   "source": [
    "# check here tensorflow-graphics\n",
    "\n",
    "###########\n",
    "# Imports #\n",
    "###########\n",
    "import math\n",
    "\n",
    "import matplotlib.pyplot as plt\n",
    "import numpy as np\n",
    "import tensorflow as tf\n",
    "\n",
    "from tensorflow_graphics.geometry.representation import grid\n",
    "from tensorflow_graphics.geometry.representation import ray\n",
    "from tensorflow_graphics.geometry.representation import vector\n",
    "from tensorflow_graphics.rendering.camera import orthographic\n",
    "from tensorflow_graphics.math import spherical_harmonics\n",
    "from tensorflow_graphics.math import math_helpers as tf_math\n",
    "\n",
    "tf.compat.v1.enable_eager_execution()\n"
   ]
  },
  {
   "cell_type": "markdown",
   "metadata": {},
   "source": [
    "## Approximation of lighting with Spherical Harmonics"
   ]
  },
  {
   "cell_type": "code",
   "execution_count": null,
   "metadata": {},
   "outputs": [],
   "source": [
    "%time\n",
    "#@title Controls { vertical-output: false, run: \"auto\" }\n",
    "max_band = 3  #@param { type: \"slider\", min: 0, max: 10 , step: 1 }\n",
    "\n",
    "#########################################################################\n",
    "# This cell creates a lighting function which we approximate with an SH #\n",
    "#########################################################################\n",
    "\n",
    "def image_to_spherical_coordinates(image_width, image_height):\n",
    "  pixel_grid_start = np.array((0, 0), dtype=type)\n",
    "  pixel_grid_end = np.array((image_width - 1, image_height - 1), dtype=type)\n",
    "  pixel_nb = np.array((image_width, image_height))\n",
    "  pixels = grid.generate(pixel_grid_start, pixel_grid_end, pixel_nb)\n",
    "  normalized_pixels = pixels / (image_width - 1, image_height - 1)\n",
    "  spherical_coordinates = tf_math.square_to_spherical_coordinates(\n",
    "      normalized_pixels)\n",
    "  return spherical_coordinates\n",
    "\n",
    "\n",
    "def light_function(theta, phi):\n",
    "  theta = tf.convert_to_tensor(theta)\n",
    "  phi = tf.convert_to_tensor(phi)\n",
    "  zero = tf.zeros_like(theta)\n",
    "  return tf.maximum(zero,\n",
    "                    -4.0 * tf.sin(theta - np.pi) * tf.cos(phi - 2.5) - 3.0)\n",
    "\n",
    "\n",
    "light_image_width = 30\n",
    "light_image_height = 30\n",
    "type = np.float64\n",
    "\n",
    "# Builds the pixels grid and compute corresponding spherical coordinates.\n",
    "spherical_coordinates = image_to_spherical_coordinates(light_image_width,\n",
    "                                                       light_image_height)\n",
    "theta = spherical_coordinates[:, :, 1]\n",
    "phi = spherical_coordinates[:, :, 2]\n",
    "\n",
    "# Samples the light function.\n",
    "sampled_light_function = light_function(theta, phi)\n",
    "ones_normal = tf.ones_like(theta)\n",
    "spherical_coordinates_3d = tf.stack((ones_normal, theta, phi), axis=-1)\n",
    "samples_direction_to_light = tf_math.spherical_to_cartesian_coordinates(\n",
    "    spherical_coordinates_3d)\n",
    "\n",
    "# Samples the SH.\n",
    "l, m = spherical_harmonics.generate_l_m_permutations(max_band)\n",
    "l = tf.convert_to_tensor(l)\n",
    "m = tf.convert_to_tensor(m)\n",
    "l_broadcasted = tf.broadcast_to(l, [light_image_width, light_image_height] +\n",
    "                                l.shape.as_list())\n",
    "m_broadcasted = tf.broadcast_to(m, [light_image_width, light_image_height] +\n",
    "                                l.shape.as_list())\n",
    "theta = tf.expand_dims(theta, axis=-1)\n",
    "theta_broadcasted = tf.broadcast_to(\n",
    "    theta, [light_image_width, light_image_height, 1])\n",
    "phi = tf.expand_dims(phi, axis=-1)\n",
    "phi_broadcasted = tf.broadcast_to(phi, [light_image_width, light_image_height, 1])\n",
    "sh_coefficients = spherical_harmonics.evaluate_spherical_harmonics(\n",
    "    l_broadcasted, m_broadcasted, theta_broadcasted, phi_broadcasted)\n",
    "sampled_light_function_broadcasted = tf.expand_dims(\n",
    "    sampled_light_function, axis=-1)\n",
    "sampled_light_function_broadcasted = tf.broadcast_to(\n",
    "    sampled_light_function_broadcasted,\n",
    "    [light_image_width, light_image_height] + l.shape.as_list())\n",
    "\n",
    "# Integrates the light function times SH over the sphere.\n",
    "projection = sh_coefficients * sampled_light_function_broadcasted * 4.0 * math.pi / (\n",
    "    light_image_width * light_image_height)\n",
    "light_coeffs = tf.reduce_sum(projection, (0, 1))\n",
    "\n",
    "# Reconstructs the image.\n",
    "reconstructed_light_function = tf.squeeze(\n",
    "    vector.dot(sh_coefficients, light_coeffs))\n",
    "\n",
    "print(\n",
    "    \"average l2 reconstruction error \",\n",
    "    np.linalg.norm(sampled_light_function - reconstructed_light_function) /\n",
    "    (light_image_width * light_image_height))\n",
    "\n",
    "vmin = np.minimum(\n",
    "    np.amin(np.minimum(sampled_light_function, reconstructed_light_function)),\n",
    "    0.0)\n",
    "vmax = np.maximum(\n",
    "    np.amax(np.maximum(sampled_light_function, reconstructed_light_function)),\n",
    "    1.0)\n",
    "# Plots results.\n",
    "plt.figure(figsize=(10, 10))\n",
    "ax = plt.subplot(131)\n",
    "ax.axes.get_xaxis().set_visible(False)\n",
    "ax.axes.get_yaxis().set_visible(False)\n",
    "ax.grid(False)\n",
    "ax.set_title(\"Original lighting function\")\n",
    "_ = ax.imshow(sampled_light_function, vmin=vmin, vmax=vmax)\n",
    "ax = plt.subplot(132)\n",
    "ax.axes.get_xaxis().set_visible(False)\n",
    "ax.axes.get_yaxis().set_visible(False)\n",
    "ax.grid(False)\n",
    "ax.set_title(\"Spherical Harmonics approximation\")\n",
    "_ = ax.imshow(reconstructed_light_function, vmin=vmin, vmax=vmax)\n",
    "ax = plt.subplot(133)\n",
    "ax.axes.get_xaxis().set_visible(False)\n",
    "ax.axes.get_yaxis().set_visible(False)\n",
    "ax.grid(False)\n",
    "ax.set_title(\"Difference\")\n",
    "_ = ax.imshow(\n",
    "    np.abs(reconstructed_light_function - sampled_light_function),\n",
    "    vmin=vmin,\n",
    "    vmax=vmax)\n",
    "\n",
    "%time"
   ]
  },
  {
   "cell_type": "code",
   "execution_count": null,
   "metadata": {},
   "outputs": [],
   "source": []
  },
  {
   "cell_type": "markdown",
   "metadata": {},
   "source": []
  }
 ],
 "metadata": {
  "kernelspec": {
   "display_name": "Python 3.8.15 ('Elements38')",
   "language": "python",
   "name": "python3"
  },
  "language_info": {
   "codemirror_mode": {
    "name": "ipython",
    "version": 3
   },
   "file_extension": ".py",
   "mimetype": "text/x-python",
   "name": "python",
   "nbconvert_exporter": "python",
   "pygments_lexer": "ipython3",
   "version": "3.8.15"
  },
  "vscode": {
   "interpreter": {
    "hash": "023f89a57ec52ee161c3841477c0520c4b3b92d88c8b1ec7ec66cd30cab64c59"
   }
  }
 },
 "nbformat": 4,
 "nbformat_minor": 4
}
